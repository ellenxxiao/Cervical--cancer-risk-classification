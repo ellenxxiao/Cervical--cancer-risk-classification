{
 "cells": [
  {
   "cell_type": "code",
   "execution_count": 84,
   "metadata": {},
   "outputs": [
    {
     "data": {
      "text/plain": [
       "Renderers configuration\n",
       "-----------------------\n",
       "    Default renderer: 'plotly_mimetype+notebook'\n",
       "    Available renderers:\n",
       "        ['plotly_mimetype', 'jupyterlab', 'nteract', 'vscode',\n",
       "         'notebook', 'notebook_connected', 'kaggle', 'azure', 'colab',\n",
       "         'cocalc', 'databricks', 'json', 'png', 'jpeg', 'jpg', 'svg',\n",
       "         'pdf', 'browser', 'firefox', 'chrome', 'chromium', 'iframe',\n",
       "         'iframe_connected', 'sphinx_gallery', 'sphinx_gallery_png']"
      ]
     },
     "execution_count": 84,
     "metadata": {},
     "output_type": "execute_result"
    }
   ],
   "source": [
    "import pandas as pd\n",
    "from datetime import datetime\n",
    "import numpy as np\n",
    "import matplotlib.pyplot as plt\n",
    "import plotly.express as px\n",
    "from plotly.subplots import make_subplots\n",
    "import plotly.graph_objects as go\n",
    "import plotly as ply\n",
    "import seaborn as sns\n",
    "from sklearn.model_selection import train_test_split\n",
    "import plotly.io as pio\n",
    "\n",
    "pio.renderers"
   ]
  },
  {
   "cell_type": "code",
   "execution_count": 54,
   "metadata": {},
   "outputs": [
    {
     "data": {
      "text/html": [
       "<div>\n",
       "<style scoped>\n",
       "    .dataframe tbody tr th:only-of-type {\n",
       "        vertical-align: middle;\n",
       "    }\n",
       "\n",
       "    .dataframe tbody tr th {\n",
       "        vertical-align: top;\n",
       "    }\n",
       "\n",
       "    .dataframe thead th {\n",
       "        text-align: right;\n",
       "    }\n",
       "</style>\n",
       "<table border=\"1\" class=\"dataframe\">\n",
       "  <thead>\n",
       "    <tr style=\"text-align: right;\">\n",
       "      <th></th>\n",
       "      <th>Age</th>\n",
       "      <th>Number of sexual partners</th>\n",
       "      <th>First sexual intercourse</th>\n",
       "      <th>Num of pregnancies</th>\n",
       "      <th>Smokes</th>\n",
       "      <th>Smokes (years)</th>\n",
       "      <th>Smokes (packs/year)</th>\n",
       "      <th>Hormonal Contraceptives</th>\n",
       "      <th>Hormonal Contraceptives (years)</th>\n",
       "      <th>IUD</th>\n",
       "      <th>...</th>\n",
       "      <th>STDs: Time since first diagnosis</th>\n",
       "      <th>STDs: Time since last diagnosis</th>\n",
       "      <th>Dx:Cancer</th>\n",
       "      <th>Dx:CIN</th>\n",
       "      <th>Dx:HPV</th>\n",
       "      <th>Dx</th>\n",
       "      <th>Hinselmann</th>\n",
       "      <th>Schiller</th>\n",
       "      <th>Citology</th>\n",
       "      <th>Biopsy</th>\n",
       "    </tr>\n",
       "  </thead>\n",
       "  <tbody>\n",
       "    <tr>\n",
       "      <th>0</th>\n",
       "      <td>18</td>\n",
       "      <td>4.0</td>\n",
       "      <td>15.0</td>\n",
       "      <td>1.0</td>\n",
       "      <td>0.0</td>\n",
       "      <td>0.0</td>\n",
       "      <td>0.0</td>\n",
       "      <td>0.0</td>\n",
       "      <td>0.0</td>\n",
       "      <td>0.0</td>\n",
       "      <td>...</td>\n",
       "      <td>?</td>\n",
       "      <td>?</td>\n",
       "      <td>0</td>\n",
       "      <td>0</td>\n",
       "      <td>0</td>\n",
       "      <td>0</td>\n",
       "      <td>0</td>\n",
       "      <td>0</td>\n",
       "      <td>0</td>\n",
       "      <td>0</td>\n",
       "    </tr>\n",
       "    <tr>\n",
       "      <th>1</th>\n",
       "      <td>15</td>\n",
       "      <td>1.0</td>\n",
       "      <td>14.0</td>\n",
       "      <td>1.0</td>\n",
       "      <td>0.0</td>\n",
       "      <td>0.0</td>\n",
       "      <td>0.0</td>\n",
       "      <td>0.0</td>\n",
       "      <td>0.0</td>\n",
       "      <td>0.0</td>\n",
       "      <td>...</td>\n",
       "      <td>?</td>\n",
       "      <td>?</td>\n",
       "      <td>0</td>\n",
       "      <td>0</td>\n",
       "      <td>0</td>\n",
       "      <td>0</td>\n",
       "      <td>0</td>\n",
       "      <td>0</td>\n",
       "      <td>0</td>\n",
       "      <td>0</td>\n",
       "    </tr>\n",
       "    <tr>\n",
       "      <th>2</th>\n",
       "      <td>34</td>\n",
       "      <td>1.0</td>\n",
       "      <td>?</td>\n",
       "      <td>1.0</td>\n",
       "      <td>0.0</td>\n",
       "      <td>0.0</td>\n",
       "      <td>0.0</td>\n",
       "      <td>0.0</td>\n",
       "      <td>0.0</td>\n",
       "      <td>0.0</td>\n",
       "      <td>...</td>\n",
       "      <td>?</td>\n",
       "      <td>?</td>\n",
       "      <td>0</td>\n",
       "      <td>0</td>\n",
       "      <td>0</td>\n",
       "      <td>0</td>\n",
       "      <td>0</td>\n",
       "      <td>0</td>\n",
       "      <td>0</td>\n",
       "      <td>0</td>\n",
       "    </tr>\n",
       "    <tr>\n",
       "      <th>3</th>\n",
       "      <td>52</td>\n",
       "      <td>5.0</td>\n",
       "      <td>16.0</td>\n",
       "      <td>4.0</td>\n",
       "      <td>1.0</td>\n",
       "      <td>37.0</td>\n",
       "      <td>37.0</td>\n",
       "      <td>1.0</td>\n",
       "      <td>3.0</td>\n",
       "      <td>0.0</td>\n",
       "      <td>...</td>\n",
       "      <td>?</td>\n",
       "      <td>?</td>\n",
       "      <td>1</td>\n",
       "      <td>0</td>\n",
       "      <td>1</td>\n",
       "      <td>0</td>\n",
       "      <td>0</td>\n",
       "      <td>0</td>\n",
       "      <td>0</td>\n",
       "      <td>0</td>\n",
       "    </tr>\n",
       "    <tr>\n",
       "      <th>4</th>\n",
       "      <td>46</td>\n",
       "      <td>3.0</td>\n",
       "      <td>21.0</td>\n",
       "      <td>4.0</td>\n",
       "      <td>0.0</td>\n",
       "      <td>0.0</td>\n",
       "      <td>0.0</td>\n",
       "      <td>1.0</td>\n",
       "      <td>15.0</td>\n",
       "      <td>0.0</td>\n",
       "      <td>...</td>\n",
       "      <td>?</td>\n",
       "      <td>?</td>\n",
       "      <td>0</td>\n",
       "      <td>0</td>\n",
       "      <td>0</td>\n",
       "      <td>0</td>\n",
       "      <td>0</td>\n",
       "      <td>0</td>\n",
       "      <td>0</td>\n",
       "      <td>0</td>\n",
       "    </tr>\n",
       "  </tbody>\n",
       "</table>\n",
       "<p>5 rows × 36 columns</p>\n",
       "</div>"
      ],
      "text/plain": [
       "   Age Number of sexual partners First sexual intercourse Num of pregnancies  \\\n",
       "0   18                       4.0                     15.0                1.0   \n",
       "1   15                       1.0                     14.0                1.0   \n",
       "2   34                       1.0                        ?                1.0   \n",
       "3   52                       5.0                     16.0                4.0   \n",
       "4   46                       3.0                     21.0                4.0   \n",
       "\n",
       "  Smokes Smokes (years) Smokes (packs/year) Hormonal Contraceptives  \\\n",
       "0    0.0            0.0                 0.0                     0.0   \n",
       "1    0.0            0.0                 0.0                     0.0   \n",
       "2    0.0            0.0                 0.0                     0.0   \n",
       "3    1.0           37.0                37.0                     1.0   \n",
       "4    0.0            0.0                 0.0                     1.0   \n",
       "\n",
       "  Hormonal Contraceptives (years)  IUD  ... STDs: Time since first diagnosis  \\\n",
       "0                             0.0  0.0  ...                                ?   \n",
       "1                             0.0  0.0  ...                                ?   \n",
       "2                             0.0  0.0  ...                                ?   \n",
       "3                             3.0  0.0  ...                                ?   \n",
       "4                            15.0  0.0  ...                                ?   \n",
       "\n",
       "  STDs: Time since last diagnosis Dx:Cancer Dx:CIN Dx:HPV Dx Hinselmann  \\\n",
       "0                               ?         0      0      0  0          0   \n",
       "1                               ?         0      0      0  0          0   \n",
       "2                               ?         0      0      0  0          0   \n",
       "3                               ?         1      0      1  0          0   \n",
       "4                               ?         0      0      0  0          0   \n",
       "\n",
       "  Schiller Citology Biopsy  \n",
       "0        0        0      0  \n",
       "1        0        0      0  \n",
       "2        0        0      0  \n",
       "3        0        0      0  \n",
       "4        0        0      0  \n",
       "\n",
       "[5 rows x 36 columns]"
      ]
     },
     "execution_count": 54,
     "metadata": {},
     "output_type": "execute_result"
    }
   ],
   "source": [
    "file_name = \"/Users/risk_factors_cervical_cancer.csv\"\n",
    "df = pd.read_csv(file_name, encoding=\"ISO-8859-1\")\n",
    "df.head()"
   ]
  },
  {
   "cell_type": "markdown",
   "metadata": {},
   "source": [
    "## I. Data Preprocessing"
   ]
  },
  {
   "cell_type": "code",
   "execution_count": 55,
   "metadata": {},
   "outputs": [
    {
     "name": "stdout",
     "output_type": "stream",
     "text": [
      "<class 'pandas.core.frame.DataFrame'>\n",
      "RangeIndex: 858 entries, 0 to 857\n",
      "Data columns (total 36 columns):\n",
      " #   Column                              Non-Null Count  Dtype \n",
      "---  ------                              --------------  ----- \n",
      " 0   Age                                 858 non-null    int64 \n",
      " 1   Number of sexual partners           858 non-null    object\n",
      " 2   First sexual intercourse            858 non-null    object\n",
      " 3   Num of pregnancies                  858 non-null    object\n",
      " 4   Smokes                              858 non-null    object\n",
      " 5   Smokes (years)                      858 non-null    object\n",
      " 6   Smokes (packs/year)                 858 non-null    object\n",
      " 7   Hormonal Contraceptives             858 non-null    object\n",
      " 8   Hormonal Contraceptives (years)     858 non-null    object\n",
      " 9   IUD                                 858 non-null    object\n",
      " 10  IUD (years)                         858 non-null    object\n",
      " 11  STDs                                858 non-null    object\n",
      " 12  STDs (number)                       858 non-null    object\n",
      " 13  STDs:condylomatosis                 858 non-null    object\n",
      " 14  STDs:cervical condylomatosis        858 non-null    object\n",
      " 15  STDs:vaginal condylomatosis         858 non-null    object\n",
      " 16  STDs:vulvo-perineal condylomatosis  858 non-null    object\n",
      " 17  STDs:syphilis                       858 non-null    object\n",
      " 18  STDs:pelvic inflammatory disease    858 non-null    object\n",
      " 19  STDs:genital herpes                 858 non-null    object\n",
      " 20  STDs:molluscum contagiosum          858 non-null    object\n",
      " 21  STDs:AIDS                           858 non-null    object\n",
      " 22  STDs:HIV                            858 non-null    object\n",
      " 23  STDs:Hepatitis B                    858 non-null    object\n",
      " 24  STDs:HPV                            858 non-null    object\n",
      " 25  STDs: Number of diagnosis           858 non-null    int64 \n",
      " 26  STDs: Time since first diagnosis    858 non-null    object\n",
      " 27  STDs: Time since last diagnosis     858 non-null    object\n",
      " 28  Dx:Cancer                           858 non-null    int64 \n",
      " 29  Dx:CIN                              858 non-null    int64 \n",
      " 30  Dx:HPV                              858 non-null    int64 \n",
      " 31  Dx                                  858 non-null    int64 \n",
      " 32  Hinselmann                          858 non-null    int64 \n",
      " 33  Schiller                            858 non-null    int64 \n",
      " 34  Citology                            858 non-null    int64 \n",
      " 35  Biopsy                              858 non-null    int64 \n",
      "dtypes: int64(10), object(26)\n",
      "memory usage: 241.4+ KB\n"
     ]
    }
   ],
   "source": [
    "df.info()"
   ]
  },
  {
   "cell_type": "code",
   "execution_count": 56,
   "metadata": {},
   "outputs": [
    {
     "name": "stdout",
     "output_type": "stream",
     "text": [
      "Number of Rows:  858\n",
      "Number of Columns:  36\n",
      "Features: \n",
      " ['Age', 'Number of sexual partners', 'First sexual intercourse', 'Num of pregnancies', 'Smokes', 'Smokes (years)', 'Smokes (packs/year)', 'Hormonal Contraceptives', 'Hormonal Contraceptives (years)', 'IUD', 'IUD (years)', 'STDs', 'STDs (number)', 'STDs:condylomatosis', 'STDs:cervical condylomatosis', 'STDs:vaginal condylomatosis', 'STDs:vulvo-perineal condylomatosis', 'STDs:syphilis', 'STDs:pelvic inflammatory disease', 'STDs:genital herpes', 'STDs:molluscum contagiosum', 'STDs:AIDS', 'STDs:HIV', 'STDs:Hepatitis B', 'STDs:HPV', 'STDs: Number of diagnosis', 'STDs: Time since first diagnosis', 'STDs: Time since last diagnosis', 'Dx:Cancer', 'Dx:CIN', 'Dx:HPV', 'Dx', 'Hinselmann', 'Schiller', 'Citology', 'Biopsy']\n",
      "Unique values: \n",
      " Age                                   44\n",
      "Number of sexual partners             13\n",
      "First sexual intercourse              22\n",
      "Num of pregnancies                    12\n",
      "Smokes                                 3\n",
      "Smokes (years)                        31\n",
      "Smokes (packs/year)                   63\n",
      "Hormonal Contraceptives                3\n",
      "Hormonal Contraceptives (years)       41\n",
      "IUD                                    3\n",
      "IUD (years)                           27\n",
      "STDs                                   3\n",
      "STDs (number)                          6\n",
      "STDs:condylomatosis                    3\n",
      "STDs:cervical condylomatosis           2\n",
      "STDs:vaginal condylomatosis            3\n",
      "STDs:vulvo-perineal condylomatosis     3\n",
      "STDs:syphilis                          3\n",
      "STDs:pelvic inflammatory disease       3\n",
      "STDs:genital herpes                    3\n",
      "STDs:molluscum contagiosum             3\n",
      "STDs:AIDS                              2\n",
      "STDs:HIV                               3\n",
      "STDs:Hepatitis B                       3\n",
      "STDs:HPV                               3\n",
      "STDs: Number of diagnosis              4\n",
      "STDs: Time since first diagnosis      19\n",
      "STDs: Time since last diagnosis       19\n",
      "Dx:Cancer                              2\n",
      "Dx:CIN                                 2\n",
      "Dx:HPV                                 2\n",
      "Dx                                     2\n",
      "Hinselmann                             2\n",
      "Schiller                               2\n",
      "Citology                               2\n",
      "Biopsy                                 2\n",
      "dtype: int64\n"
     ]
    }
   ],
   "source": [
    "print('Number of Rows: ',df.shape[0])\n",
    "print('Number of Columns: ', df.shape[1])\n",
    "print('Features: \\n', df.columns.tolist())\n",
    "print('Unique values: \\n', df.nunique())"
   ]
  },
  {
   "cell_type": "code",
   "execution_count": 57,
   "metadata": {},
   "outputs": [
    {
     "data": {
      "text/html": [
       "<div>\n",
       "<style scoped>\n",
       "    .dataframe tbody tr th:only-of-type {\n",
       "        vertical-align: middle;\n",
       "    }\n",
       "\n",
       "    .dataframe tbody tr th {\n",
       "        vertical-align: top;\n",
       "    }\n",
       "\n",
       "    .dataframe thead th {\n",
       "        text-align: right;\n",
       "    }\n",
       "</style>\n",
       "<table border=\"1\" class=\"dataframe\">\n",
       "  <thead>\n",
       "    <tr style=\"text-align: right;\">\n",
       "      <th></th>\n",
       "      <th>Age</th>\n",
       "      <th>STDs: Number of diagnosis</th>\n",
       "      <th>Dx:Cancer</th>\n",
       "      <th>Dx:CIN</th>\n",
       "      <th>Dx:HPV</th>\n",
       "      <th>Dx</th>\n",
       "      <th>Hinselmann</th>\n",
       "      <th>Schiller</th>\n",
       "      <th>Citology</th>\n",
       "      <th>Biopsy</th>\n",
       "    </tr>\n",
       "  </thead>\n",
       "  <tbody>\n",
       "    <tr>\n",
       "      <th>count</th>\n",
       "      <td>858.000000</td>\n",
       "      <td>858.000000</td>\n",
       "      <td>858.000000</td>\n",
       "      <td>858.000000</td>\n",
       "      <td>858.000000</td>\n",
       "      <td>858.000000</td>\n",
       "      <td>858.000000</td>\n",
       "      <td>858.000000</td>\n",
       "      <td>858.000000</td>\n",
       "      <td>858.000000</td>\n",
       "    </tr>\n",
       "    <tr>\n",
       "      <th>mean</th>\n",
       "      <td>26.820513</td>\n",
       "      <td>0.087413</td>\n",
       "      <td>0.020979</td>\n",
       "      <td>0.010490</td>\n",
       "      <td>0.020979</td>\n",
       "      <td>0.027972</td>\n",
       "      <td>0.040793</td>\n",
       "      <td>0.086247</td>\n",
       "      <td>0.051282</td>\n",
       "      <td>0.064103</td>\n",
       "    </tr>\n",
       "    <tr>\n",
       "      <th>std</th>\n",
       "      <td>8.497948</td>\n",
       "      <td>0.302545</td>\n",
       "      <td>0.143398</td>\n",
       "      <td>0.101939</td>\n",
       "      <td>0.143398</td>\n",
       "      <td>0.164989</td>\n",
       "      <td>0.197925</td>\n",
       "      <td>0.280892</td>\n",
       "      <td>0.220701</td>\n",
       "      <td>0.245078</td>\n",
       "    </tr>\n",
       "    <tr>\n",
       "      <th>min</th>\n",
       "      <td>13.000000</td>\n",
       "      <td>0.000000</td>\n",
       "      <td>0.000000</td>\n",
       "      <td>0.000000</td>\n",
       "      <td>0.000000</td>\n",
       "      <td>0.000000</td>\n",
       "      <td>0.000000</td>\n",
       "      <td>0.000000</td>\n",
       "      <td>0.000000</td>\n",
       "      <td>0.000000</td>\n",
       "    </tr>\n",
       "    <tr>\n",
       "      <th>25%</th>\n",
       "      <td>20.000000</td>\n",
       "      <td>0.000000</td>\n",
       "      <td>0.000000</td>\n",
       "      <td>0.000000</td>\n",
       "      <td>0.000000</td>\n",
       "      <td>0.000000</td>\n",
       "      <td>0.000000</td>\n",
       "      <td>0.000000</td>\n",
       "      <td>0.000000</td>\n",
       "      <td>0.000000</td>\n",
       "    </tr>\n",
       "    <tr>\n",
       "      <th>50%</th>\n",
       "      <td>25.000000</td>\n",
       "      <td>0.000000</td>\n",
       "      <td>0.000000</td>\n",
       "      <td>0.000000</td>\n",
       "      <td>0.000000</td>\n",
       "      <td>0.000000</td>\n",
       "      <td>0.000000</td>\n",
       "      <td>0.000000</td>\n",
       "      <td>0.000000</td>\n",
       "      <td>0.000000</td>\n",
       "    </tr>\n",
       "    <tr>\n",
       "      <th>75%</th>\n",
       "      <td>32.000000</td>\n",
       "      <td>0.000000</td>\n",
       "      <td>0.000000</td>\n",
       "      <td>0.000000</td>\n",
       "      <td>0.000000</td>\n",
       "      <td>0.000000</td>\n",
       "      <td>0.000000</td>\n",
       "      <td>0.000000</td>\n",
       "      <td>0.000000</td>\n",
       "      <td>0.000000</td>\n",
       "    </tr>\n",
       "    <tr>\n",
       "      <th>max</th>\n",
       "      <td>84.000000</td>\n",
       "      <td>3.000000</td>\n",
       "      <td>1.000000</td>\n",
       "      <td>1.000000</td>\n",
       "      <td>1.000000</td>\n",
       "      <td>1.000000</td>\n",
       "      <td>1.000000</td>\n",
       "      <td>1.000000</td>\n",
       "      <td>1.000000</td>\n",
       "      <td>1.000000</td>\n",
       "    </tr>\n",
       "  </tbody>\n",
       "</table>\n",
       "</div>"
      ],
      "text/plain": [
       "              Age  STDs: Number of diagnosis   Dx:Cancer      Dx:CIN  \\\n",
       "count  858.000000                 858.000000  858.000000  858.000000   \n",
       "mean    26.820513                   0.087413    0.020979    0.010490   \n",
       "std      8.497948                   0.302545    0.143398    0.101939   \n",
       "min     13.000000                   0.000000    0.000000    0.000000   \n",
       "25%     20.000000                   0.000000    0.000000    0.000000   \n",
       "50%     25.000000                   0.000000    0.000000    0.000000   \n",
       "75%     32.000000                   0.000000    0.000000    0.000000   \n",
       "max     84.000000                   3.000000    1.000000    1.000000   \n",
       "\n",
       "           Dx:HPV          Dx  Hinselmann    Schiller    Citology      Biopsy  \n",
       "count  858.000000  858.000000  858.000000  858.000000  858.000000  858.000000  \n",
       "mean     0.020979    0.027972    0.040793    0.086247    0.051282    0.064103  \n",
       "std      0.143398    0.164989    0.197925    0.280892    0.220701    0.245078  \n",
       "min      0.000000    0.000000    0.000000    0.000000    0.000000    0.000000  \n",
       "25%      0.000000    0.000000    0.000000    0.000000    0.000000    0.000000  \n",
       "50%      0.000000    0.000000    0.000000    0.000000    0.000000    0.000000  \n",
       "75%      0.000000    0.000000    0.000000    0.000000    0.000000    0.000000  \n",
       "max      1.000000    1.000000    1.000000    1.000000    1.000000    1.000000  "
      ]
     },
     "execution_count": 57,
     "metadata": {},
     "output_type": "execute_result"
    }
   ],
   "source": [
    "df.describe()"
   ]
  },
  {
   "cell_type": "markdown",
   "metadata": {},
   "source": [
    "### 1. Missing values"
   ]
  },
  {
   "cell_type": "code",
   "execution_count": 58,
   "metadata": {},
   "outputs": [
    {
     "name": "stderr",
     "output_type": "stream",
     "text": [
      "/opt/anaconda3/lib/python3.7/site-packages/pandas/core/ops/array_ops.py:253: FutureWarning:\n",
      "\n",
      "elementwise comparison failed; returning scalar instead, but in the future will perform elementwise comparison\n",
      "\n"
     ]
    },
    {
     "data": {
      "text/plain": [
       "Age                                     0\n",
       "Number of sexual partners              26\n",
       "First sexual intercourse                7\n",
       "Num of pregnancies                     56\n",
       "Smokes                                 13\n",
       "Smokes (years)                         13\n",
       "Smokes (packs/year)                    13\n",
       "Hormonal Contraceptives               108\n",
       "Hormonal Contraceptives (years)       108\n",
       "IUD                                   117\n",
       "IUD (years)                           117\n",
       "STDs                                  105\n",
       "STDs (number)                         105\n",
       "STDs:condylomatosis                   105\n",
       "STDs:cervical condylomatosis          105\n",
       "STDs:vaginal condylomatosis           105\n",
       "STDs:vulvo-perineal condylomatosis    105\n",
       "STDs:syphilis                         105\n",
       "STDs:pelvic inflammatory disease      105\n",
       "STDs:genital herpes                   105\n",
       "STDs:molluscum contagiosum            105\n",
       "STDs:AIDS                             105\n",
       "STDs:HIV                              105\n",
       "STDs:Hepatitis B                      105\n",
       "STDs:HPV                              105\n",
       "STDs: Number of diagnosis               0\n",
       "STDs: Time since first diagnosis      787\n",
       "STDs: Time since last diagnosis       787\n",
       "Dx:Cancer                               0\n",
       "Dx:CIN                                  0\n",
       "Dx:HPV                                  0\n",
       "Dx                                      0\n",
       "Hinselmann                              0\n",
       "Schiller                                0\n",
       "Citology                                0\n",
       "Biopsy                                  0\n",
       "dtype: int64"
      ]
     },
     "execution_count": 58,
     "metadata": {},
     "output_type": "execute_result"
    }
   ],
   "source": [
    "df[df=='?'].count()"
   ]
  },
  {
   "cell_type": "markdown",
   "metadata": {},
   "source": [
    "There are 787 missing values in STDs: Time since first diagnosis and STDs: Time since last diagnosis. I have to drop it. "
   ]
  },
  {
   "cell_type": "code",
   "execution_count": 59,
   "metadata": {},
   "outputs": [],
   "source": [
    "df.drop(['STDs: Time since first diagnosis','STDs: Time since last diagnosis'],inplace=True,axis=1)"
   ]
  },
  {
   "cell_type": "markdown",
   "metadata": {},
   "source": [
    "#### 1.1 Handle size less than 100 NaN values\n",
    "I will fill features that have less than 100 NaN values with median values. Median values won't change characteristic of features."
   ]
  },
  {
   "cell_type": "code",
   "execution_count": 60,
   "metadata": {},
   "outputs": [],
   "source": [
    "df = df.replace('?',np.NaN)\n",
    "df = df.apply(pd.to_numeric,axis=0) #convert to numerical"
   ]
  },
  {
   "cell_type": "code",
   "execution_count": 61,
   "metadata": {},
   "outputs": [],
   "source": [
    "def fill_val(feature):\n",
    "    df[feature].fillna(df[feature].median(),inplace=True)\n",
    "fill_val('First sexual intercourse')\n",
    "fill_val('Num of pregnancies')\n",
    "fill_val('Number of sexual partners')"
   ]
  },
  {
   "cell_type": "code",
   "execution_count": 62,
   "metadata": {},
   "outputs": [],
   "source": [
    "def smoke(feature):\n",
    "    if feature == 'Smokes':\n",
    "        df[feature].fillna(0,inplace=True)\n",
    "    else:\n",
    "        smokes = (df['Smokes']==1)\n",
    "        df.loc[smokes,feature] = df.loc[smokes,feature].fillna(df.loc[smokes,feature].median())\n",
    "        nosmokes = (df['Smokes']==0)\n",
    "        df.loc[nosmokes,feature] = df.loc[nosmokes,feature].fillna(0)\n",
    "smoke('Smokes')\n",
    "smoke('Smokes (years)')\n",
    "smoke('Smokes (packs/year)')"
   ]
  },
  {
   "cell_type": "markdown",
   "metadata": {},
   "source": [
    "#### 1.2 Hormonal Contraceptives\n",
    "There are 108 missing values in HC. We can fill NaN values with correlated features."
   ]
  },
  {
   "cell_type": "code",
   "execution_count": 63,
   "metadata": {},
   "outputs": [],
   "source": [
    "df_data = df.drop(['Hinselmann','Schiller','Citology','Biopsy'], axis = 1)"
   ]
  },
  {
   "cell_type": "code",
   "execution_count": 64,
   "metadata": {},
   "outputs": [],
   "source": [
    "df_corr = df_data.drop(['STDs:condylomatosis', 'STDs:cervical condylomatosis', \n",
    "                   'STDs:vaginal condylomatosis', 'STDs:vulvo-perineal condylomatosis', 'STDs:syphilis', \n",
    "                   'STDs:pelvic inflammatory disease', 'STDs:genital herpes', 'STDs:molluscum contagiosum', \n",
    "                   'STDs:AIDS', 'STDs:HIV', 'STDs:Hepatitis B', 'STDs:HPV'],axis=1)"
   ]
  },
  {
   "cell_type": "code",
   "execution_count": 65,
   "metadata": {},
   "outputs": [],
   "source": [
    "df_corr = df_corr.dropna()"
   ]
  },
  {
   "cell_type": "code",
   "execution_count": 66,
   "metadata": {},
   "outputs": [],
   "source": [
    "df_corr = df_corr.corr()"
   ]
  },
  {
   "cell_type": "code",
   "execution_count": 96,
   "metadata": {},
   "outputs": [
    {
     "data": {
      "image/svg+xml": [
       "<svg class=\"main-svg\" xmlns=\"http://www.w3.org/2000/svg\" xmlns:xlink=\"http://www.w3.org/1999/xlink\" width=\"700\" height=\"450\" style=\"\" viewBox=\"0 0 700 450\"><rect x=\"0\" y=\"0\" width=\"700\" height=\"450\" style=\"fill: rgb(255, 255, 255); fill-opacity: 1;\"/><defs id=\"defs-5ebf41\"><g class=\"clips\"><clipPath id=\"clip5ebf41xyplot\" class=\"plotclip\"><rect width=\"397\" height=\"131\"/></clipPath><clipPath class=\"axesclip\" id=\"clip5ebf41x\"><rect x=\"213\" y=\"0\" width=\"397\" height=\"450\"/></clipPath><clipPath class=\"axesclip\" id=\"clip5ebf41y\"><rect x=\"0\" y=\"100\" width=\"700\" height=\"131\"/></clipPath><clipPath class=\"axesclip\" id=\"clip5ebf41xy\"><rect x=\"213\" y=\"100\" width=\"397\" height=\"131\"/></clipPath></g><g class=\"gradients\"><linearGradient x1=\"0\" x2=\"0\" y1=\"1\" y2=\"0\" id=\"g5ebf41-cb3b5690\"><stop offset=\"0%\" stop-color=\"rgb(68, 1, 84)\" stop-opacity=\"1\"/><stop offset=\"11.11111111111111%\" stop-color=\"rgb(72, 40, 120)\" stop-opacity=\"1\"/><stop offset=\"22.22222222222222%\" stop-color=\"rgb(62, 73, 137)\" stop-opacity=\"1\"/><stop offset=\"33.33333333333333%\" stop-color=\"rgb(49, 104, 142)\" stop-opacity=\"1\"/><stop offset=\"44.44444444444444%\" stop-color=\"rgb(38, 130, 142)\" stop-opacity=\"1\"/><stop offset=\"55.55555555555556%\" stop-color=\"rgb(31, 158, 137)\" stop-opacity=\"1\"/><stop offset=\"66.66666666666666%\" stop-color=\"rgb(53, 183, 121)\" stop-opacity=\"1\"/><stop offset=\"77.77777777777779%\" stop-color=\"rgb(110, 206, 88)\" stop-opacity=\"1\"/><stop offset=\"88.88888888888889%\" stop-color=\"rgb(181, 222, 43)\" stop-opacity=\"1\"/><stop offset=\"100%\" stop-color=\"rgb(253, 231, 37)\" stop-opacity=\"1\"/></linearGradient></g></defs><g class=\"bglayer\"><rect class=\"bg\" x=\"213\" y=\"100\" width=\"397\" height=\"131\" style=\"fill: rgb(229, 236, 246); fill-opacity: 1; stroke-width: 0;\"/></g><g class=\"layer-below\"><g class=\"imagelayer\"/><g class=\"shapelayer\"/></g><g class=\"cartesianlayer\"><g class=\"subplot xy\"><g class=\"layer-subplot\"><g class=\"shapelayer\"/><g class=\"imagelayer\"/></g><g class=\"gridlayer\"><g class=\"x\"><path class=\"xgrid crisp\" transform=\"translate(224.03,0)\" d=\"M0,100v131\" style=\"stroke: rgb(255, 255, 255); stroke-opacity: 1; stroke-width: 1px;\"/><path class=\"xgrid crisp\" transform=\"translate(246.07999999999998,0)\" d=\"M0,100v131\" style=\"stroke: rgb(255, 255, 255); stroke-opacity: 1; stroke-width: 1px;\"/><path class=\"xgrid crisp\" transform=\"translate(268.14,0)\" d=\"M0,100v131\" style=\"stroke: rgb(255, 255, 255); stroke-opacity: 1; stroke-width: 1px;\"/><path class=\"xgrid crisp\" transform=\"translate(290.19,0)\" d=\"M0,100v131\" style=\"stroke: rgb(255, 255, 255); stroke-opacity: 1; stroke-width: 1px;\"/><path class=\"xgrid crisp\" transform=\"translate(312.25,0)\" d=\"M0,100v131\" style=\"stroke: rgb(255, 255, 255); stroke-opacity: 1; stroke-width: 1px;\"/><path class=\"xgrid crisp\" transform=\"translate(334.31,0)\" d=\"M0,100v131\" style=\"stroke: rgb(255, 255, 255); stroke-opacity: 1; stroke-width: 1px;\"/><path class=\"xgrid crisp\" transform=\"translate(356.36,0)\" d=\"M0,100v131\" style=\"stroke: rgb(255, 255, 255); stroke-opacity: 1; stroke-width: 1px;\"/><path class=\"xgrid crisp\" transform=\"translate(378.41999999999996,0)\" d=\"M0,100v131\" style=\"stroke: rgb(255, 255, 255); stroke-opacity: 1; stroke-width: 1px;\"/><path class=\"xgrid crisp\" transform=\"translate(400.47,0)\" d=\"M0,100v131\" style=\"stroke: rgb(255, 255, 255); stroke-opacity: 1; stroke-width: 1px;\"/><path class=\"xgrid crisp\" transform=\"translate(422.53,0)\" d=\"M0,100v131\" style=\"stroke: rgb(255, 255, 255); stroke-opacity: 1; stroke-width: 1px;\"/><path class=\"xgrid crisp\" transform=\"translate(444.58000000000004,0)\" d=\"M0,100v131\" style=\"stroke: rgb(255, 255, 255); stroke-opacity: 1; stroke-width: 1px;\"/><path class=\"xgrid crisp\" transform=\"translate(466.64,0)\" d=\"M0,100v131\" style=\"stroke: rgb(255, 255, 255); stroke-opacity: 1; stroke-width: 1px;\"/><path class=\"xgrid crisp\" transform=\"translate(488.69,0)\" d=\"M0,100v131\" style=\"stroke: rgb(255, 255, 255); stroke-opacity: 1; stroke-width: 1px;\"/><path class=\"xgrid crisp\" transform=\"translate(510.75,0)\" d=\"M0,100v131\" style=\"stroke: rgb(255, 255, 255); stroke-opacity: 1; stroke-width: 1px;\"/><path class=\"xgrid crisp\" transform=\"translate(532.81,0)\" d=\"M0,100v131\" style=\"stroke: rgb(255, 255, 255); stroke-opacity: 1; stroke-width: 1px;\"/><path class=\"xgrid crisp\" transform=\"translate(554.86,0)\" d=\"M0,100v131\" style=\"stroke: rgb(255, 255, 255); stroke-opacity: 1; stroke-width: 1px;\"/><path class=\"xgrid crisp\" transform=\"translate(576.9200000000001,0)\" d=\"M0,100v131\" style=\"stroke: rgb(255, 255, 255); stroke-opacity: 1; stroke-width: 1px;\"/><path class=\"xgrid crisp\" transform=\"translate(598.97,0)\" d=\"M0,100v131\" style=\"stroke: rgb(255, 255, 255); stroke-opacity: 1; stroke-width: 1px;\"/></g><g class=\"y\"><path class=\"ygrid crisp\" transform=\"translate(0,227.36)\" d=\"M213,0h397\" style=\"stroke: rgb(255, 255, 255); stroke-opacity: 1; stroke-width: 1px;\"/><path class=\"ygrid crisp\" transform=\"translate(0,212.81)\" d=\"M213,0h397\" style=\"stroke: rgb(255, 255, 255); stroke-opacity: 1; stroke-width: 1px;\"/><path class=\"ygrid crisp\" transform=\"translate(0,198.25)\" d=\"M213,0h397\" style=\"stroke: rgb(255, 255, 255); stroke-opacity: 1; stroke-width: 1px;\"/><path class=\"ygrid crisp\" transform=\"translate(0,183.69)\" d=\"M213,0h397\" style=\"stroke: rgb(255, 255, 255); stroke-opacity: 1; stroke-width: 1px;\"/><path class=\"ygrid crisp\" transform=\"translate(0,169.14)\" d=\"M213,0h397\" style=\"stroke: rgb(255, 255, 255); stroke-opacity: 1; stroke-width: 1px;\"/><path class=\"ygrid crisp\" transform=\"translate(0,154.57999999999998)\" d=\"M213,0h397\" style=\"stroke: rgb(255, 255, 255); stroke-opacity: 1; stroke-width: 1px;\"/><path class=\"ygrid crisp\" transform=\"translate(0,140.03)\" d=\"M213,0h397\" style=\"stroke: rgb(255, 255, 255); stroke-opacity: 1; stroke-width: 1px;\"/><path class=\"ygrid crisp\" transform=\"translate(0,125.47)\" d=\"M213,0h397\" style=\"stroke: rgb(255, 255, 255); stroke-opacity: 1; stroke-width: 1px;\"/><path class=\"ygrid crisp\" transform=\"translate(0,110.92)\" d=\"M213,0h397\" style=\"stroke: rgb(255, 255, 255); stroke-opacity: 1; stroke-width: 1px;\"/></g></g><g class=\"zerolinelayer\"/><path class=\"xlines-below\"/><path class=\"ylines-below\"/><g class=\"overlines-below\"/><g class=\"xaxislayer-below\"/><g class=\"yaxislayer-below\"/><g class=\"overaxes-below\"/><g class=\"plot\" transform=\"translate(213, 100)\" clip-path=\"url('#clip5ebf41xyplot')\"><g class=\"heatmaplayer mlayer\"><g class=\"hm\"><image xmlns=\"http://www.w3.org/2000/svg\" preserveAspectRatio=\"none\" height=\"131\" width=\"397\" x=\"0\" y=\"0\" xlink:href=\"data:image/png;base64,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\" style=\"opacity: 1;\"/></g></g></g><g class=\"overplot\"/><path class=\"xlines-above crisp\" style=\"fill: none;\" d=\"M0,0\"/><path class=\"ylines-above crisp\" style=\"fill: none;\" d=\"M0,0\"/><g class=\"overlines-above\"/><g class=\"xaxislayer-above\"><g class=\"xtick\"><text text-anchor=\"start\" x=\"0\" y=\"244\" transform=\"translate(224.03,0) rotate(90,0,238)\" style=\"font-family: 'Open Sans', verdana, arial, sans-serif; font-size: 12px; fill: rgb(42, 63, 95); fill-opacity: 1; white-space: pre;\">Age</text></g><g class=\"xtick\"><text text-anchor=\"start\" x=\"0\" y=\"244\" transform=\"translate(246.07999999999998,0) rotate(90,0,238)\" style=\"font-family: 'Open Sans', verdana, arial, sans-serif; font-size: 12px; fill: rgb(42, 63, 95); fill-opacity: 1; white-space: pre;\">Number of sexual partners</text></g><g class=\"xtick\"><text text-anchor=\"start\" x=\"0\" y=\"244\" transform=\"translate(268.14,0) rotate(90,0,238)\" style=\"font-family: 'Open Sans', verdana, arial, sans-serif; font-size: 12px; fill: rgb(42, 63, 95); fill-opacity: 1; white-space: pre;\">First sexual intercourse</text></g><g class=\"xtick\"><text text-anchor=\"start\" x=\"0\" y=\"244\" transform=\"translate(290.19,0) rotate(90,0,238)\" style=\"font-family: 'Open Sans', verdana, arial, sans-serif; font-size: 12px; fill: rgb(42, 63, 95); fill-opacity: 1; white-space: pre;\">Num of pregnancies</text></g><g class=\"xtick\"><text text-anchor=\"start\" x=\"0\" y=\"244\" transform=\"translate(312.25,0) rotate(90,0,238)\" style=\"font-family: 'Open Sans', verdana, arial, sans-serif; font-size: 12px; fill: rgb(42, 63, 95); fill-opacity: 1; white-space: pre;\">Smokes</text></g><g class=\"xtick\"><text text-anchor=\"start\" x=\"0\" y=\"244\" transform=\"translate(334.31,0) rotate(90,0,238)\" style=\"font-family: 'Open Sans', verdana, arial, sans-serif; font-size: 12px; fill: rgb(42, 63, 95); fill-opacity: 1; white-space: pre;\">Smokes (years)</text></g><g class=\"xtick\"><text text-anchor=\"start\" x=\"0\" y=\"244\" transform=\"translate(356.36,0) rotate(90,0,238)\" style=\"font-family: 'Open Sans', verdana, arial, sans-serif; font-size: 12px; fill: rgb(42, 63, 95); fill-opacity: 1; white-space: pre;\">Smokes (packs/year)</text></g><g class=\"xtick\"><text text-anchor=\"start\" x=\"0\" y=\"244\" transform=\"translate(378.41999999999996,0) rotate(90,0,238)\" style=\"font-family: 'Open Sans', verdana, arial, sans-serif; font-size: 12px; fill: rgb(42, 63, 95); fill-opacity: 1; white-space: pre;\">Hormonal Contraceptives</text></g><g class=\"xtick\"><text text-anchor=\"start\" x=\"0\" y=\"244\" transform=\"translate(400.47,0) rotate(90,0,238)\" style=\"font-family: 'Open Sans', verdana, arial, sans-serif; font-size: 12px; fill: rgb(42, 63, 95); fill-opacity: 1; white-space: pre;\">Hormonal Contraceptives (years)</text></g><g class=\"xtick\"><text text-anchor=\"start\" x=\"0\" y=\"244\" transform=\"translate(422.53,0) rotate(90,0,238)\" style=\"font-family: 'Open Sans', verdana, arial, sans-serif; font-size: 12px; fill: rgb(42, 63, 95); fill-opacity: 1; white-space: pre;\">IUD</text></g><g class=\"xtick\"><text text-anchor=\"start\" x=\"0\" y=\"244\" transform=\"translate(444.58000000000004,0) rotate(90,0,238)\" style=\"font-family: 'Open Sans', verdana, arial, sans-serif; font-size: 12px; fill: rgb(42, 63, 95); fill-opacity: 1; white-space: pre;\">IUD (years)</text></g><g class=\"xtick\"><text text-anchor=\"start\" x=\"0\" y=\"244\" transform=\"translate(466.64,0) rotate(90,0,238)\" style=\"font-family: 'Open Sans', verdana, arial, sans-serif; font-size: 12px; fill: rgb(42, 63, 95); fill-opacity: 1; white-space: pre;\">STDs</text></g><g class=\"xtick\"><text text-anchor=\"start\" x=\"0\" y=\"244\" transform=\"translate(488.69,0) rotate(90,0,238)\" style=\"font-family: 'Open Sans', verdana, arial, sans-serif; font-size: 12px; fill: rgb(42, 63, 95); fill-opacity: 1; white-space: pre;\">STDs (number)</text></g><g class=\"xtick\"><text text-anchor=\"start\" x=\"0\" y=\"244\" transform=\"translate(510.75,0) rotate(90,0,238)\" style=\"font-family: 'Open Sans', verdana, arial, sans-serif; font-size: 12px; fill: rgb(42, 63, 95); fill-opacity: 1; white-space: pre;\">STDs: Number of diagnosis</text></g><g class=\"xtick\"><text text-anchor=\"start\" x=\"0\" y=\"244\" transform=\"translate(532.81,0) rotate(90,0,238)\" style=\"font-family: 'Open Sans', verdana, arial, sans-serif; font-size: 12px; fill: rgb(42, 63, 95); fill-opacity: 1; white-space: pre;\">Dx:Cancer</text></g><g class=\"xtick\"><text text-anchor=\"start\" x=\"0\" y=\"244\" transform=\"translate(554.86,0) rotate(90,0,238)\" style=\"font-family: 'Open Sans', verdana, arial, sans-serif; font-size: 12px; fill: rgb(42, 63, 95); fill-opacity: 1; white-space: pre;\">Dx:CIN</text></g><g class=\"xtick\"><text text-anchor=\"start\" x=\"0\" y=\"244\" transform=\"translate(576.9200000000001,0) rotate(90,0,238)\" style=\"font-family: 'Open Sans', verdana, arial, sans-serif; font-size: 12px; fill: rgb(42, 63, 95); fill-opacity: 1; white-space: pre;\">Dx:HPV</text></g><g class=\"xtick\"><text text-anchor=\"start\" x=\"0\" y=\"244\" transform=\"translate(598.97,0) rotate(90,0,238)\" style=\"font-family: 'Open Sans', verdana, arial, sans-serif; font-size: 12px; fill: rgb(42, 63, 95); fill-opacity: 1; white-space: pre;\">Dx</text></g></g><g class=\"yaxislayer-above\"><g class=\"ytick\"><text text-anchor=\"end\" x=\"212\" y=\"4.199999999999999\" transform=\"translate(0,227.36)\" style=\"font-family: 'Open Sans', verdana, arial, sans-serif; font-size: 12px; fill: rgb(42, 63, 95); fill-opacity: 1; white-space: pre;\">Age</text></g><g class=\"ytick\"><text text-anchor=\"end\" x=\"212\" y=\"4.199999999999999\" transform=\"translate(0,212.81)\" style=\"font-family: 'Open Sans', verdana, arial, sans-serif; font-size: 12px; fill: rgb(42, 63, 95); fill-opacity: 1; white-space: pre;\">First sexual intercourse</text></g><g class=\"ytick\"><text text-anchor=\"end\" x=\"212\" y=\"4.199999999999999\" transform=\"translate(0,198.25)\" style=\"font-family: 'Open Sans', verdana, arial, sans-serif; font-size: 12px; fill: rgb(42, 63, 95); fill-opacity: 1; white-space: pre;\">Smokes</text></g><g class=\"ytick\"><text text-anchor=\"end\" x=\"212\" y=\"4.199999999999999\" transform=\"translate(0,183.69)\" style=\"font-family: 'Open Sans', verdana, arial, sans-serif; font-size: 12px; fill: rgb(42, 63, 95); fill-opacity: 1; white-space: pre;\">Smokes (packs/year)</text></g><g class=\"ytick\"><text text-anchor=\"end\" x=\"212\" y=\"4.199999999999999\" transform=\"translate(0,169.14)\" style=\"font-family: 'Open Sans', verdana, arial, sans-serif; font-size: 12px; fill: rgb(42, 63, 95); fill-opacity: 1; white-space: pre;\">Hormonal Contraceptives (years)</text></g><g class=\"ytick\"><text text-anchor=\"end\" x=\"212\" y=\"4.199999999999999\" transform=\"translate(0,154.57999999999998)\" style=\"font-family: 'Open Sans', verdana, arial, sans-serif; font-size: 12px; fill: rgb(42, 63, 95); fill-opacity: 1; white-space: pre;\">IUD (years)</text></g><g class=\"ytick\"><text text-anchor=\"end\" x=\"212\" y=\"4.199999999999999\" transform=\"translate(0,140.03)\" style=\"font-family: 'Open Sans', verdana, arial, sans-serif; font-size: 12px; fill: rgb(42, 63, 95); fill-opacity: 1; white-space: pre;\">STDs (number)</text></g><g class=\"ytick\"><text text-anchor=\"end\" x=\"212\" y=\"4.199999999999999\" transform=\"translate(0,125.47)\" style=\"font-family: 'Open Sans', verdana, arial, sans-serif; font-size: 12px; fill: rgb(42, 63, 95); fill-opacity: 1; white-space: pre;\">Dx:Cancer</text></g><g class=\"ytick\"><text text-anchor=\"end\" x=\"212\" y=\"4.199999999999999\" transform=\"translate(0,110.92)\" style=\"font-family: 'Open Sans', verdana, arial, sans-serif; font-size: 12px; fill: rgb(42, 63, 95); fill-opacity: 1; white-space: pre;\">Dx:HPV</text></g></g><g class=\"overaxes-above\"/></g></g><g class=\"polarlayer\"/><g class=\"ternarylayer\"/><g class=\"geolayer\"/><g class=\"funnelarealayer\"/><g class=\"pielayer\"/><g class=\"treemaplayer\"/><g class=\"sunburstlayer\"/><g class=\"glimages\"/><defs id=\"topdefs-5ebf41\"><g class=\"clips\"/></defs><g class=\"layer-above\"><g class=\"imagelayer\"/><g class=\"shapelayer\"/></g><g class=\"infolayer\"><g class=\"cb3b5690 colorbar\" transform=\"translate(213,100)\"><rect class=\"cbbg\" x=\"405\" y=\"0\" width=\"69.640625\" height=\"131\" style=\"fill: rgb(0, 0, 0); fill-opacity: 0; stroke: rgb(68, 68, 68); stroke-opacity: 1; stroke-width: 0;\"/><g class=\"cbfills\" transform=\"translate(0,10)\"><rect class=\"cbfill\" x=\"415\" width=\"30\" y=\"0\" height=\"111\" style=\"stroke: none; fill: url('#g5ebf41-cb3b5690');\"/></g><g class=\"cblines\" transform=\"translate(0,10)\"/><g class=\"cbaxis crisp\" transform=\"translate(0,-100)\"><g class=\"ycb3b5690tick\"><text text-anchor=\"start\" x=\"447.9\" y=\"4.199999999999999\" transform=\"translate(0,206.95999999999998)\" style=\"font-family: 'Open Sans', verdana, arial, sans-serif; font-size: 12px; fill: rgb(42, 63, 95); fill-opacity: 1; white-space: pre;\">0</text></g><g class=\"ycb3b5690tick\"><text text-anchor=\"start\" x=\"447.9\" y=\"4.199999999999999\" transform=\"translate(0,158.48)\" style=\"font-family: 'Open Sans', verdana, arial, sans-serif; font-size: 12px; fill: rgb(42, 63, 95); fill-opacity: 1; white-space: pre;\">0.5</text></g><g class=\"ycb3b5690tick\"><text text-anchor=\"start\" x=\"447.9\" y=\"4.199999999999999\" transform=\"translate(0,110)\" style=\"font-family: 'Open Sans', verdana, arial, sans-serif; font-size: 12px; fill: rgb(42, 63, 95); fill-opacity: 1; white-space: pre;\">1</text></g></g><g class=\"cbtitleunshift\" transform=\"translate(-213,-100)\"><g class=\"cbtitle\"/></g><rect class=\"cboutline\" x=\"415\" y=\"10\" width=\"30\" height=\"111\" style=\"stroke: rgb(68, 68, 68); stroke-opacity: 1; fill: none; stroke-width: 0;\"/></g><g class=\"g-gtitle\"/><g class=\"g-xtitle\"/><g class=\"g-ytitle\"/></g></svg>"
      ]
     },
     "metadata": {},
     "output_type": "display_data"
    }
   ],
   "source": [
    "corr = go.Heatmap(x=df_corr.columns,y=df_corr.columns,z=df_corr,type='heatmap',colorscale='Viridis')\n",
    "data = [corr]\n",
    "fig = go.Figure(data=data)\n",
    "fig.show(renderer='svg')"
   ]
  },
  {
   "cell_type": "markdown",
   "metadata": {},
   "source": [
    "From the correlation heatmap above, taking HC has a slightly relationship with the number of pregnancies. "
   ]
  },
  {
   "cell_type": "code",
   "execution_count": 68,
   "metadata": {},
   "outputs": [],
   "source": [
    "preg = (df['Num of pregnancies']<df['Num of pregnancies'].mean())\n",
    "df.loc[preg,'Hormonal Contraceptives'] = df.loc[preg,'Hormonal Contraceptives'].fillna(1)\n",
    "df['Hormonal Contraceptives'].fillna(0,inplace=True)\n",
    "hc = (df['Hormonal Contraceptives']==1)\n",
    "df.loc[hc,'Hormonal Contraceptives (years)'] = df.loc[hc,'Hormonal Contraceptives (years)'].fillna(df['Hormonal Contraceptives (years)'].median())\n",
    "hc = (df['Hormonal Contraceptives']==0)\n",
    "df.loc[hc,'Hormonal Contraceptives (years)'] = df.loc[hc,'Hormonal Contraceptives (years)'].fillna(0)"
   ]
  },
  {
   "cell_type": "markdown",
   "metadata": {},
   "source": [
    "#### 1.3 IUD"
   ]
  },
  {
   "cell_type": "markdown",
   "metadata": {},
   "source": [
    "The above heatmap shows that age and number of pregnancies have relationships with IUD"
   ]
  },
  {
   "cell_type": "code",
   "execution_count": 69,
   "metadata": {},
   "outputs": [],
   "source": [
    "age = (df['Age']>df['Age'].mean())\n",
    "df.loc[age,'IUD'] = df.loc[age,'IUD'].fillna(1)\n",
    "df.loc[preg,'IUD'] = df.loc[preg,'IUD'].fillna(1)\n",
    "df['IUD'].fillna(0,inplace=True)\n",
    "iud = (df['IUD']==1)\n",
    "df.loc[iud,'IUD (years)'] = df.loc[iud,'IUD (years)'].fillna(df['IUD (years)'].median())\n",
    "iud = (df['IUD']==0)\n",
    "df.loc[iud,'IUD (years)'] = df.loc[iud,'IUD (years)'].fillna(0)"
   ]
  },
  {
   "cell_type": "markdown",
   "metadata": {},
   "source": [
    "#### 1.4 STDs\n",
    "The above heatmap shows that smoke and IUD somehow have something to do with STDs. However, I could not find a significant patterns between smoke, IUD and STDs. Since over 100 missing values or wrong values can affect data, I would rather drop them."
   ]
  },
  {
   "cell_type": "code",
   "execution_count": 70,
   "metadata": {},
   "outputs": [],
   "source": [
    "df.dropna(inplace=True)"
   ]
  },
  {
   "cell_type": "markdown",
   "metadata": {},
   "source": [
    "#### 1.5 Dx\n",
    "Dx is not clearly explained in the dataset discription."
   ]
  },
  {
   "cell_type": "code",
   "execution_count": 71,
   "metadata": {},
   "outputs": [],
   "source": [
    "df.drop(['Dx:Cancer','Dx:CIN','Dx:HPV'],axis=1,inplace=True)"
   ]
  },
  {
   "cell_type": "markdown",
   "metadata": {},
   "source": [
    "#### 1.6 Target\n",
    "I will combine all four results to one, i.e., the results based on whatever methods the patients take."
   ]
  },
  {
   "cell_type": "code",
   "execution_count": 72,
   "metadata": {},
   "outputs": [],
   "source": [
    "df['target'] = df.apply(lambda row: 1 if (row['Hinselmann']+row['Schiller']+row['Citology']+row['Biopsy'])>=1 else 0, axis=1)"
   ]
  },
  {
   "cell_type": "code",
   "execution_count": 73,
   "metadata": {},
   "outputs": [
    {
     "data": {
      "text/html": [
       "<div>\n",
       "<style scoped>\n",
       "    .dataframe tbody tr th:only-of-type {\n",
       "        vertical-align: middle;\n",
       "    }\n",
       "\n",
       "    .dataframe tbody tr th {\n",
       "        vertical-align: top;\n",
       "    }\n",
       "\n",
       "    .dataframe thead th {\n",
       "        text-align: right;\n",
       "    }\n",
       "</style>\n",
       "<table border=\"1\" class=\"dataframe\">\n",
       "  <thead>\n",
       "    <tr style=\"text-align: right;\">\n",
       "      <th></th>\n",
       "      <th>Age</th>\n",
       "      <th>Number of sexual partners</th>\n",
       "      <th>First sexual intercourse</th>\n",
       "      <th>Num of pregnancies</th>\n",
       "      <th>Smokes</th>\n",
       "      <th>Smokes (years)</th>\n",
       "      <th>Smokes (packs/year)</th>\n",
       "      <th>Hormonal Contraceptives</th>\n",
       "      <th>Hormonal Contraceptives (years)</th>\n",
       "      <th>IUD</th>\n",
       "      <th>...</th>\n",
       "      <th>STDs:pelvic inflammatory disease</th>\n",
       "      <th>STDs:genital herpes</th>\n",
       "      <th>STDs:molluscum contagiosum</th>\n",
       "      <th>STDs:AIDS</th>\n",
       "      <th>STDs:HIV</th>\n",
       "      <th>STDs:Hepatitis B</th>\n",
       "      <th>STDs:HPV</th>\n",
       "      <th>STDs: Number of diagnosis</th>\n",
       "      <th>Dx</th>\n",
       "      <th>target</th>\n",
       "    </tr>\n",
       "  </thead>\n",
       "  <tbody>\n",
       "    <tr>\n",
       "      <th>0</th>\n",
       "      <td>18</td>\n",
       "      <td>4.0</td>\n",
       "      <td>15.0</td>\n",
       "      <td>1.0</td>\n",
       "      <td>0.0</td>\n",
       "      <td>0.0</td>\n",
       "      <td>0.0</td>\n",
       "      <td>0.0</td>\n",
       "      <td>0.0</td>\n",
       "      <td>0.0</td>\n",
       "      <td>...</td>\n",
       "      <td>0.0</td>\n",
       "      <td>0.0</td>\n",
       "      <td>0.0</td>\n",
       "      <td>0.0</td>\n",
       "      <td>0.0</td>\n",
       "      <td>0.0</td>\n",
       "      <td>0.0</td>\n",
       "      <td>0</td>\n",
       "      <td>0</td>\n",
       "      <td>0</td>\n",
       "    </tr>\n",
       "    <tr>\n",
       "      <th>1</th>\n",
       "      <td>15</td>\n",
       "      <td>1.0</td>\n",
       "      <td>14.0</td>\n",
       "      <td>1.0</td>\n",
       "      <td>0.0</td>\n",
       "      <td>0.0</td>\n",
       "      <td>0.0</td>\n",
       "      <td>0.0</td>\n",
       "      <td>0.0</td>\n",
       "      <td>0.0</td>\n",
       "      <td>...</td>\n",
       "      <td>0.0</td>\n",
       "      <td>0.0</td>\n",
       "      <td>0.0</td>\n",
       "      <td>0.0</td>\n",
       "      <td>0.0</td>\n",
       "      <td>0.0</td>\n",
       "      <td>0.0</td>\n",
       "      <td>0</td>\n",
       "      <td>0</td>\n",
       "      <td>0</td>\n",
       "    </tr>\n",
       "    <tr>\n",
       "      <th>2</th>\n",
       "      <td>34</td>\n",
       "      <td>1.0</td>\n",
       "      <td>17.0</td>\n",
       "      <td>1.0</td>\n",
       "      <td>0.0</td>\n",
       "      <td>0.0</td>\n",
       "      <td>0.0</td>\n",
       "      <td>0.0</td>\n",
       "      <td>0.0</td>\n",
       "      <td>0.0</td>\n",
       "      <td>...</td>\n",
       "      <td>0.0</td>\n",
       "      <td>0.0</td>\n",
       "      <td>0.0</td>\n",
       "      <td>0.0</td>\n",
       "      <td>0.0</td>\n",
       "      <td>0.0</td>\n",
       "      <td>0.0</td>\n",
       "      <td>0</td>\n",
       "      <td>0</td>\n",
       "      <td>0</td>\n",
       "    </tr>\n",
       "    <tr>\n",
       "      <th>3</th>\n",
       "      <td>52</td>\n",
       "      <td>5.0</td>\n",
       "      <td>16.0</td>\n",
       "      <td>4.0</td>\n",
       "      <td>1.0</td>\n",
       "      <td>37.0</td>\n",
       "      <td>37.0</td>\n",
       "      <td>1.0</td>\n",
       "      <td>3.0</td>\n",
       "      <td>0.0</td>\n",
       "      <td>...</td>\n",
       "      <td>0.0</td>\n",
       "      <td>0.0</td>\n",
       "      <td>0.0</td>\n",
       "      <td>0.0</td>\n",
       "      <td>0.0</td>\n",
       "      <td>0.0</td>\n",
       "      <td>0.0</td>\n",
       "      <td>0</td>\n",
       "      <td>0</td>\n",
       "      <td>0</td>\n",
       "    </tr>\n",
       "    <tr>\n",
       "      <th>4</th>\n",
       "      <td>46</td>\n",
       "      <td>3.0</td>\n",
       "      <td>21.0</td>\n",
       "      <td>4.0</td>\n",
       "      <td>0.0</td>\n",
       "      <td>0.0</td>\n",
       "      <td>0.0</td>\n",
       "      <td>1.0</td>\n",
       "      <td>15.0</td>\n",
       "      <td>0.0</td>\n",
       "      <td>...</td>\n",
       "      <td>0.0</td>\n",
       "      <td>0.0</td>\n",
       "      <td>0.0</td>\n",
       "      <td>0.0</td>\n",
       "      <td>0.0</td>\n",
       "      <td>0.0</td>\n",
       "      <td>0.0</td>\n",
       "      <td>0</td>\n",
       "      <td>0</td>\n",
       "      <td>0</td>\n",
       "    </tr>\n",
       "  </tbody>\n",
       "</table>\n",
       "<p>5 rows × 28 columns</p>\n",
       "</div>"
      ],
      "text/plain": [
       "   Age  Number of sexual partners  First sexual intercourse  \\\n",
       "0   18                        4.0                      15.0   \n",
       "1   15                        1.0                      14.0   \n",
       "2   34                        1.0                      17.0   \n",
       "3   52                        5.0                      16.0   \n",
       "4   46                        3.0                      21.0   \n",
       "\n",
       "   Num of pregnancies  Smokes  Smokes (years)  Smokes (packs/year)  \\\n",
       "0                 1.0     0.0             0.0                  0.0   \n",
       "1                 1.0     0.0             0.0                  0.0   \n",
       "2                 1.0     0.0             0.0                  0.0   \n",
       "3                 4.0     1.0            37.0                 37.0   \n",
       "4                 4.0     0.0             0.0                  0.0   \n",
       "\n",
       "   Hormonal Contraceptives  Hormonal Contraceptives (years)  IUD  ...  \\\n",
       "0                      0.0                              0.0  0.0  ...   \n",
       "1                      0.0                              0.0  0.0  ...   \n",
       "2                      0.0                              0.0  0.0  ...   \n",
       "3                      1.0                              3.0  0.0  ...   \n",
       "4                      1.0                             15.0  0.0  ...   \n",
       "\n",
       "   STDs:pelvic inflammatory disease  STDs:genital herpes  \\\n",
       "0                               0.0                  0.0   \n",
       "1                               0.0                  0.0   \n",
       "2                               0.0                  0.0   \n",
       "3                               0.0                  0.0   \n",
       "4                               0.0                  0.0   \n",
       "\n",
       "   STDs:molluscum contagiosum  STDs:AIDS  STDs:HIV  STDs:Hepatitis B  \\\n",
       "0                         0.0        0.0       0.0               0.0   \n",
       "1                         0.0        0.0       0.0               0.0   \n",
       "2                         0.0        0.0       0.0               0.0   \n",
       "3                         0.0        0.0       0.0               0.0   \n",
       "4                         0.0        0.0       0.0               0.0   \n",
       "\n",
       "   STDs:HPV  STDs: Number of diagnosis  Dx  target  \n",
       "0       0.0                          0   0       0  \n",
       "1       0.0                          0   0       0  \n",
       "2       0.0                          0   0       0  \n",
       "3       0.0                          0   0       0  \n",
       "4       0.0                          0   0       0  \n",
       "\n",
       "[5 rows x 28 columns]"
      ]
     },
     "execution_count": 73,
     "metadata": {},
     "output_type": "execute_result"
    }
   ],
   "source": [
    "df_copy = df.copy()\n",
    "df.drop(['Hinselmann','Schiller','Citology','Biopsy'],axis=1,inplace=True)\n",
    "df.head()"
   ]
  },
  {
   "cell_type": "markdown",
   "metadata": {},
   "source": [
    "### 2. Create Features\n",
    "I create some features that may have insights and can interpret better"
   ]
  },
  {
   "cell_type": "code",
   "execution_count": 74,
   "metadata": {},
   "outputs": [],
   "source": [
    "# percentage of smoke year\n",
    "df['Smokes (year/age)'] = round(df['Smokes (years)']/df['Age'],3)\n",
    "# percentage Hormonal Contraceptive of years after first sexual intercourse\n",
    "df['Hormonal Contraceptives (year/after first intercourse)'] = round(df['Hormonal Contraceptives (years)']/(df['Age']-df['First sexual intercourse']),3)\n",
    "# percentage IUD of years after first sexual intercourse\n",
    "df['IUD (year/after first intercourse)'] = round(df['IUD (years)']/(df['Age']-df['First sexual intercourse']),3)\n",
    "# total packs smokes\n",
    "df['Smokes (packs)'] = df['Smokes (packs/year)']*df['Smokes (years)']"
   ]
  },
  {
   "cell_type": "code",
   "execution_count": 75,
   "metadata": {},
   "outputs": [],
   "source": [
    "pd.set_option('use_inf_as_na', True)"
   ]
  },
  {
   "cell_type": "code",
   "execution_count": 76,
   "metadata": {},
   "outputs": [],
   "source": [
    "# Because we have Age = First Sexual Intercourse\n",
    "df['Hormonal Contraceptives (year/after first intercourse)']=df['Hormonal Contraceptives (year/after first intercourse)'].fillna(0.000)\n",
    "df['IUD (year/after first intercourse)']=df['IUD (year/after first intercourse)'].fillna(0.000)"
   ]
  },
  {
   "cell_type": "code",
   "execution_count": 77,
   "metadata": {},
   "outputs": [
    {
     "data": {
      "text/html": [
       "<div>\n",
       "<style scoped>\n",
       "    .dataframe tbody tr th:only-of-type {\n",
       "        vertical-align: middle;\n",
       "    }\n",
       "\n",
       "    .dataframe tbody tr th {\n",
       "        vertical-align: top;\n",
       "    }\n",
       "\n",
       "    .dataframe thead th {\n",
       "        text-align: right;\n",
       "    }\n",
       "</style>\n",
       "<table border=\"1\" class=\"dataframe\">\n",
       "  <thead>\n",
       "    <tr style=\"text-align: right;\">\n",
       "      <th></th>\n",
       "      <th>Age</th>\n",
       "      <th>Number of sexual partners</th>\n",
       "      <th>First sexual intercourse</th>\n",
       "      <th>Num of pregnancies</th>\n",
       "      <th>Smokes</th>\n",
       "      <th>Smokes (years)</th>\n",
       "      <th>Smokes (packs/year)</th>\n",
       "      <th>Hormonal Contraceptives</th>\n",
       "      <th>Hormonal Contraceptives (years)</th>\n",
       "      <th>IUD</th>\n",
       "      <th>...</th>\n",
       "      <th>STDs:HIV</th>\n",
       "      <th>STDs:Hepatitis B</th>\n",
       "      <th>STDs:HPV</th>\n",
       "      <th>STDs: Number of diagnosis</th>\n",
       "      <th>Dx</th>\n",
       "      <th>target</th>\n",
       "      <th>Smokes (year/age)</th>\n",
       "      <th>Hormonal Contraceptives (year/after first intercourse)</th>\n",
       "      <th>IUD (year/after first intercourse)</th>\n",
       "      <th>Smokes (packs)</th>\n",
       "    </tr>\n",
       "  </thead>\n",
       "  <tbody>\n",
       "    <tr>\n",
       "      <th>0</th>\n",
       "      <td>18</td>\n",
       "      <td>4</td>\n",
       "      <td>15</td>\n",
       "      <td>1</td>\n",
       "      <td>0</td>\n",
       "      <td>0</td>\n",
       "      <td>0</td>\n",
       "      <td>0</td>\n",
       "      <td>0</td>\n",
       "      <td>0</td>\n",
       "      <td>...</td>\n",
       "      <td>0</td>\n",
       "      <td>0</td>\n",
       "      <td>0</td>\n",
       "      <td>0</td>\n",
       "      <td>0</td>\n",
       "      <td>0</td>\n",
       "      <td>0.000</td>\n",
       "      <td>0.000</td>\n",
       "      <td>0.0</td>\n",
       "      <td>0</td>\n",
       "    </tr>\n",
       "    <tr>\n",
       "      <th>1</th>\n",
       "      <td>15</td>\n",
       "      <td>1</td>\n",
       "      <td>14</td>\n",
       "      <td>1</td>\n",
       "      <td>0</td>\n",
       "      <td>0</td>\n",
       "      <td>0</td>\n",
       "      <td>0</td>\n",
       "      <td>0</td>\n",
       "      <td>0</td>\n",
       "      <td>...</td>\n",
       "      <td>0</td>\n",
       "      <td>0</td>\n",
       "      <td>0</td>\n",
       "      <td>0</td>\n",
       "      <td>0</td>\n",
       "      <td>0</td>\n",
       "      <td>0.000</td>\n",
       "      <td>0.000</td>\n",
       "      <td>0.0</td>\n",
       "      <td>0</td>\n",
       "    </tr>\n",
       "    <tr>\n",
       "      <th>2</th>\n",
       "      <td>34</td>\n",
       "      <td>1</td>\n",
       "      <td>17</td>\n",
       "      <td>1</td>\n",
       "      <td>0</td>\n",
       "      <td>0</td>\n",
       "      <td>0</td>\n",
       "      <td>0</td>\n",
       "      <td>0</td>\n",
       "      <td>0</td>\n",
       "      <td>...</td>\n",
       "      <td>0</td>\n",
       "      <td>0</td>\n",
       "      <td>0</td>\n",
       "      <td>0</td>\n",
       "      <td>0</td>\n",
       "      <td>0</td>\n",
       "      <td>0.000</td>\n",
       "      <td>0.000</td>\n",
       "      <td>0.0</td>\n",
       "      <td>0</td>\n",
       "    </tr>\n",
       "    <tr>\n",
       "      <th>3</th>\n",
       "      <td>52</td>\n",
       "      <td>5</td>\n",
       "      <td>16</td>\n",
       "      <td>4</td>\n",
       "      <td>1</td>\n",
       "      <td>37</td>\n",
       "      <td>37</td>\n",
       "      <td>1</td>\n",
       "      <td>3</td>\n",
       "      <td>0</td>\n",
       "      <td>...</td>\n",
       "      <td>0</td>\n",
       "      <td>0</td>\n",
       "      <td>0</td>\n",
       "      <td>0</td>\n",
       "      <td>0</td>\n",
       "      <td>0</td>\n",
       "      <td>0.712</td>\n",
       "      <td>0.083</td>\n",
       "      <td>0.0</td>\n",
       "      <td>1369</td>\n",
       "    </tr>\n",
       "    <tr>\n",
       "      <th>4</th>\n",
       "      <td>46</td>\n",
       "      <td>3</td>\n",
       "      <td>21</td>\n",
       "      <td>4</td>\n",
       "      <td>0</td>\n",
       "      <td>0</td>\n",
       "      <td>0</td>\n",
       "      <td>1</td>\n",
       "      <td>15</td>\n",
       "      <td>0</td>\n",
       "      <td>...</td>\n",
       "      <td>0</td>\n",
       "      <td>0</td>\n",
       "      <td>0</td>\n",
       "      <td>0</td>\n",
       "      <td>0</td>\n",
       "      <td>0</td>\n",
       "      <td>0.000</td>\n",
       "      <td>0.600</td>\n",
       "      <td>0.0</td>\n",
       "      <td>0</td>\n",
       "    </tr>\n",
       "  </tbody>\n",
       "</table>\n",
       "<p>5 rows × 32 columns</p>\n",
       "</div>"
      ],
      "text/plain": [
       "   Age  Number of sexual partners  First sexual intercourse  \\\n",
       "0   18                          4                        15   \n",
       "1   15                          1                        14   \n",
       "2   34                          1                        17   \n",
       "3   52                          5                        16   \n",
       "4   46                          3                        21   \n",
       "\n",
       "   Num of pregnancies  Smokes  Smokes (years)  Smokes (packs/year)  \\\n",
       "0                   1       0               0                    0   \n",
       "1                   1       0               0                    0   \n",
       "2                   1       0               0                    0   \n",
       "3                   4       1              37                   37   \n",
       "4                   4       0               0                    0   \n",
       "\n",
       "   Hormonal Contraceptives  Hormonal Contraceptives (years)  IUD  ...  \\\n",
       "0                        0                                0    0  ...   \n",
       "1                        0                                0    0  ...   \n",
       "2                        0                                0    0  ...   \n",
       "3                        1                                3    0  ...   \n",
       "4                        1                               15    0  ...   \n",
       "\n",
       "   STDs:HIV  STDs:Hepatitis B  STDs:HPV  STDs: Number of diagnosis  Dx  \\\n",
       "0         0                 0         0                          0   0   \n",
       "1         0                 0         0                          0   0   \n",
       "2         0                 0         0                          0   0   \n",
       "3         0                 0         0                          0   0   \n",
       "4         0                 0         0                          0   0   \n",
       "\n",
       "   target  Smokes (year/age)  \\\n",
       "0       0              0.000   \n",
       "1       0              0.000   \n",
       "2       0              0.000   \n",
       "3       0              0.712   \n",
       "4       0              0.000   \n",
       "\n",
       "   Hormonal Contraceptives (year/after first intercourse)  \\\n",
       "0                                              0.000        \n",
       "1                                              0.000        \n",
       "2                                              0.000        \n",
       "3                                              0.083        \n",
       "4                                              0.600        \n",
       "\n",
       "   IUD (year/after first intercourse)  Smokes (packs)  \n",
       "0                                 0.0               0  \n",
       "1                                 0.0               0  \n",
       "2                                 0.0               0  \n",
       "3                                 0.0            1369  \n",
       "4                                 0.0               0  \n",
       "\n",
       "[5 rows x 32 columns]"
      ]
     },
     "execution_count": 77,
     "metadata": {},
     "output_type": "execute_result"
    }
   ],
   "source": [
    "# convert float to int\n",
    "for col in df.columns:\n",
    "    if col not in ['Smokes (year/age)','Hormonal Contraceptives (year/after first intercourse)','IUD (year/after first intercourse)']:\n",
    "        df[col] = df[col].astype(int)\n",
    "df.head()"
   ]
  },
  {
   "cell_type": "markdown",
   "metadata": {},
   "source": [
    "## II. Data Visualization"
   ]
  },
  {
   "cell_type": "code",
   "execution_count": 78,
   "metadata": {},
   "outputs": [
    {
     "name": "stdout",
     "output_type": "stream",
     "text": [
      "<class 'pandas.core.frame.DataFrame'>\n",
      "Int64Index: 753 entries, 0 to 857\n",
      "Data columns (total 32 columns):\n",
      " #   Column                                                  Non-Null Count  Dtype  \n",
      "---  ------                                                  --------------  -----  \n",
      " 0   Age                                                     753 non-null    int64  \n",
      " 1   Number of sexual partners                               753 non-null    int64  \n",
      " 2   First sexual intercourse                                753 non-null    int64  \n",
      " 3   Num of pregnancies                                      753 non-null    int64  \n",
      " 4   Smokes                                                  753 non-null    int64  \n",
      " 5   Smokes (years)                                          753 non-null    int64  \n",
      " 6   Smokes (packs/year)                                     753 non-null    int64  \n",
      " 7   Hormonal Contraceptives                                 753 non-null    int64  \n",
      " 8   Hormonal Contraceptives (years)                         753 non-null    int64  \n",
      " 9   IUD                                                     753 non-null    int64  \n",
      " 10  IUD (years)                                             753 non-null    int64  \n",
      " 11  STDs                                                    753 non-null    int64  \n",
      " 12  STDs (number)                                           753 non-null    int64  \n",
      " 13  STDs:condylomatosis                                     753 non-null    int64  \n",
      " 14  STDs:cervical condylomatosis                            753 non-null    int64  \n",
      " 15  STDs:vaginal condylomatosis                             753 non-null    int64  \n",
      " 16  STDs:vulvo-perineal condylomatosis                      753 non-null    int64  \n",
      " 17  STDs:syphilis                                           753 non-null    int64  \n",
      " 18  STDs:pelvic inflammatory disease                        753 non-null    int64  \n",
      " 19  STDs:genital herpes                                     753 non-null    int64  \n",
      " 20  STDs:molluscum contagiosum                              753 non-null    int64  \n",
      " 21  STDs:AIDS                                               753 non-null    int64  \n",
      " 22  STDs:HIV                                                753 non-null    int64  \n",
      " 23  STDs:Hepatitis B                                        753 non-null    int64  \n",
      " 24  STDs:HPV                                                753 non-null    int64  \n",
      " 25  STDs: Number of diagnosis                               753 non-null    int64  \n",
      " 26  Dx                                                      753 non-null    int64  \n",
      " 27  target                                                  753 non-null    int64  \n",
      " 28  Smokes (year/age)                                       753 non-null    float64\n",
      " 29  Hormonal Contraceptives (year/after first intercourse)  753 non-null    float64\n",
      " 30  IUD (year/after first intercourse)                      753 non-null    float64\n",
      " 31  Smokes (packs)                                          753 non-null    int64  \n",
      "dtypes: float64(3), int64(29)\n",
      "memory usage: 194.1 KB\n"
     ]
    }
   ],
   "source": [
    "df.info()"
   ]
  },
  {
   "cell_type": "code",
   "execution_count": 79,
   "metadata": {},
   "outputs": [],
   "source": [
    "# add_trace function\n",
    "def add_bar(feature,row,col):\n",
    "    \n",
    "    sub_df = pd.DataFrame(df.groupby(by=['target',feature],as_index=False)['Dx'].count())\n",
    "    fig.add_trace(go.Bar(x=sub_df.loc[sub_df['target']==0][feature],\n",
    "                     y=sub_df.loc[sub_df['target']==0]['Dx'],\n",
    "                     name='No Disease',marker_color='lightblue'),row=row, col=col)\n",
    "    fig.add_trace(go.Bar(x=sub_df.loc[sub_df['target']==1][feature],\n",
    "                     y=sub_df.loc[sub_df['target']==1]['Dx'],\n",
    "                     name='Diseae',marker_color='lightpink'),row=row, col=col)"
   ]
  },
  {
   "cell_type": "code",
   "execution_count": 95,
   "metadata": {},
   "outputs": [
    {
     "data": {
      "image/svg+xml": [
       "<svg class=\"main-svg\" xmlns=\"http://www.w3.org/2000/svg\" xmlns:xlink=\"http://www.w3.org/1999/xlink\" width=\"700\" height=\"450\" style=\"\" viewBox=\"0 0 700 450\"><rect x=\"0\" y=\"0\" width=\"700\" height=\"450\" style=\"fill: rgb(255, 255, 255); fill-opacity: 1;\"/><defs id=\"defs-11f908\"><g class=\"clips\"><clipPath id=\"clip11f908xyplot\" class=\"plotclip\"><rect width=\"218.25\" height=\"101.25\"/></clipPath><clipPath id=\"clip11f908x2y2plot\" class=\"plotclip\"><rect width=\"218.24999999999997\" height=\"101.25\"/></clipPath><clipPath id=\"clip11f908x3y3plot\" class=\"plotclip\"><rect width=\"218.25\" height=\"101.25\"/></clipPath><clipPath id=\"clip11f908x4y4plot\" class=\"plotclip\"><rect width=\"218.24999999999997\" height=\"101.25\"/></clipPath><clipPath class=\"axesclip\" id=\"clip11f908x\"><rect x=\"80\" y=\"0\" width=\"218.25\" height=\"450\"/></clipPath><clipPath class=\"axesclip\" id=\"clip11f908y\"><rect x=\"0\" y=\"100\" width=\"700\" height=\"101.25\"/></clipPath><clipPath class=\"axesclip\" id=\"clip11f908xy\"><rect x=\"80\" y=\"100\" width=\"218.25\" height=\"101.25\"/></clipPath><clipPath class=\"axesclip\" id=\"clip11f908y2\"><rect x=\"0\" y=\"100\" width=\"700\" height=\"101.25\"/></clipPath><clipPath class=\"axesclip\" id=\"clip11f908xy2\"><rect x=\"80\" y=\"100\" width=\"218.25\" height=\"101.25\"/></clipPath><clipPath class=\"axesclip\" id=\"clip11f908y3\"><rect x=\"0\" y=\"268.75\" width=\"700\" height=\"101.25\"/></clipPath><clipPath class=\"axesclip\" id=\"clip11f908xy3\"><rect x=\"80\" y=\"268.75\" width=\"218.25\" height=\"101.25\"/></clipPath><clipPath class=\"axesclip\" id=\"clip11f908y4\"><rect x=\"0\" y=\"268.75\" width=\"700\" height=\"101.25\"/></clipPath><clipPath class=\"axesclip\" id=\"clip11f908xy4\"><rect x=\"80\" y=\"268.75\" width=\"218.25\" height=\"101.25\"/></clipPath><clipPath class=\"axesclip\" id=\"clip11f908x2\"><rect x=\"346.75\" y=\"0\" width=\"218.24999999999997\" height=\"450\"/></clipPath><clipPath class=\"axesclip\" id=\"clip11f908x2y\"><rect x=\"346.75\" y=\"100\" width=\"218.24999999999997\" height=\"101.25\"/></clipPath><clipPath class=\"axesclip\" id=\"clip11f908x2y2\"><rect x=\"346.75\" y=\"100\" width=\"218.24999999999997\" height=\"101.25\"/></clipPath><clipPath class=\"axesclip\" id=\"clip11f908x2y3\"><rect x=\"346.75\" y=\"268.75\" width=\"218.24999999999997\" height=\"101.25\"/></clipPath><clipPath class=\"axesclip\" id=\"clip11f908x2y4\"><rect x=\"346.75\" y=\"268.75\" width=\"218.24999999999997\" height=\"101.25\"/></clipPath><clipPath class=\"axesclip\" id=\"clip11f908x3\"><rect x=\"80\" y=\"0\" width=\"218.25\" height=\"450\"/></clipPath><clipPath class=\"axesclip\" id=\"clip11f908x3y\"><rect x=\"80\" y=\"100\" width=\"218.25\" height=\"101.25\"/></clipPath><clipPath class=\"axesclip\" id=\"clip11f908x3y2\"><rect x=\"80\" y=\"100\" width=\"218.25\" height=\"101.25\"/></clipPath><clipPath class=\"axesclip\" id=\"clip11f908x3y3\"><rect x=\"80\" y=\"268.75\" width=\"218.25\" height=\"101.25\"/></clipPath><clipPath class=\"axesclip\" id=\"clip11f908x3y4\"><rect x=\"80\" y=\"268.75\" width=\"218.25\" height=\"101.25\"/></clipPath><clipPath class=\"axesclip\" id=\"clip11f908x4\"><rect x=\"346.75\" y=\"0\" width=\"218.24999999999997\" height=\"450\"/></clipPath><clipPath class=\"axesclip\" id=\"clip11f908x4y\"><rect x=\"346.75\" y=\"100\" width=\"218.24999999999997\" height=\"101.25\"/></clipPath><clipPath class=\"axesclip\" id=\"clip11f908x4y2\"><rect x=\"346.75\" y=\"100\" width=\"218.24999999999997\" height=\"101.25\"/></clipPath><clipPath class=\"axesclip\" id=\"clip11f908x4y3\"><rect x=\"346.75\" y=\"268.75\" width=\"218.24999999999997\" height=\"101.25\"/></clipPath><clipPath class=\"axesclip\" id=\"clip11f908x4y4\"><rect x=\"346.75\" y=\"268.75\" width=\"218.24999999999997\" height=\"101.25\"/></clipPath></g><g class=\"gradients\"/></defs><g class=\"bglayer\"><rect class=\"bg\" x=\"80\" y=\"100\" width=\"218.25\" height=\"101.25\" style=\"fill: rgb(229, 236, 246); fill-opacity: 1; stroke-width: 0;\"/><rect class=\"bg\" x=\"346.75\" y=\"100\" width=\"218.24999999999997\" height=\"101.25\" style=\"fill: rgb(229, 236, 246); fill-opacity: 1; stroke-width: 0;\"/><rect class=\"bg\" x=\"80\" y=\"268.75\" width=\"218.25\" height=\"101.25\" style=\"fill: rgb(229, 236, 246); fill-opacity: 1; stroke-width: 0;\"/><rect class=\"bg\" x=\"346.75\" y=\"268.75\" width=\"218.24999999999997\" height=\"101.25\" style=\"fill: rgb(229, 236, 246); fill-opacity: 1; stroke-width: 0;\"/></g><g class=\"layer-below\"><g class=\"imagelayer\"/><g class=\"shapelayer\"/></g><g class=\"cartesianlayer\"><g class=\"subplot xy\"><g class=\"layer-subplot\"><g class=\"shapelayer\"/><g class=\"imagelayer\"/></g><g class=\"gridlayer\"><g class=\"x\"/><g class=\"y\"><path class=\"ygrid crisp\" transform=\"translate(0,167.44)\" d=\"M80,0h218.25\" style=\"stroke: rgb(255, 255, 255); stroke-opacity: 1; stroke-width: 1px;\"/><path class=\"ygrid crisp\" transform=\"translate(0,133.63)\" d=\"M80,0h218.25\" style=\"stroke: rgb(255, 255, 255); stroke-opacity: 1; stroke-width: 1px;\"/></g></g><g class=\"zerolinelayer\"><path class=\"yzl zl crisp\" transform=\"translate(0,201.25)\" d=\"M80,0h218.25\" style=\"stroke: rgb(255, 255, 255); stroke-opacity: 1; stroke-width: 2px;\"/></g><path class=\"xlines-below\"/><path class=\"ylines-below\"/><g class=\"overlines-below\"/><g class=\"xaxislayer-below\"/><g class=\"yaxislayer-below\"/><g class=\"overaxes-below\"/><g class=\"plot\" transform=\"translate(80, 100)\" clip-path=\"url('#clip11f908xyplot')\"><g class=\"barlayer mlayer\"><g class=\"trace bars\" style=\"opacity: 1;\"><g class=\"points\"><g class=\"point\"><path d=\"M10.91,101.25V5.06H54.56V101.25Z\" style=\"vector-effect: non-scaling-stroke; opacity: 1; stroke-width: 0.5px; fill: rgb(173, 216, 230); fill-opacity: 1; stroke: rgb(229, 236, 246); stroke-opacity: 1;\"/></g><g class=\"point\"><path d=\"M120.04,101.25V86.54H163.69V101.25Z\" style=\"vector-effect: non-scaling-stroke; opacity: 1; stroke-width: 0.5px; fill: rgb(173, 216, 230); fill-opacity: 1; stroke: rgb(229, 236, 246); stroke-opacity: 1;\"/></g></g></g><g class=\"trace bars\" style=\"opacity: 1;\"><g class=\"points\"><g class=\"point\"><path d=\"M54.56,101.25V88.23H98.21V101.25Z\" style=\"vector-effect: non-scaling-stroke; opacity: 1; stroke-width: 0.5px; fill: rgb(255, 182, 193); fill-opacity: 1; stroke: rgb(229, 236, 246); stroke-opacity: 1;\"/></g><g class=\"point\"><path d=\"M163.69,101.25V97.87H207.34V101.25Z\" style=\"vector-effect: non-scaling-stroke; opacity: 1; stroke-width: 0.5px; fill: rgb(255, 182, 193); fill-opacity: 1; stroke: rgb(229, 236, 246); stroke-opacity: 1;\"/></g></g></g></g></g><g class=\"overplot\"/><path class=\"xlines-above crisp\" style=\"fill: none;\" d=\"M0,0\"/><path class=\"ylines-above crisp\" style=\"fill: none;\" d=\"M0,0\"/><g class=\"overlines-above\"/><g class=\"xaxislayer-above\"><g class=\"xtick\"><text text-anchor=\"middle\" x=\"0\" y=\"214.25\" transform=\"translate(134.56,0)\" style=\"font-family: 'Open Sans', verdana, arial, sans-serif; font-size: 12px; fill: rgb(42, 63, 95); fill-opacity: 1; white-space: pre;\">0</text></g><g class=\"xtick\"><text text-anchor=\"middle\" x=\"0\" y=\"214.25\" transform=\"translate(243.69,0)\" style=\"font-family: 'Open Sans', verdana, arial, sans-serif; font-size: 12px; fill: rgb(42, 63, 95); fill-opacity: 1; white-space: pre;\">1</text></g></g><g class=\"yaxislayer-above\"><g class=\"ytick\"><text text-anchor=\"end\" x=\"79\" y=\"4.199999999999999\" transform=\"translate(0,201.25)\" style=\"font-family: 'Open Sans', verdana, arial, sans-serif; font-size: 12px; fill: rgb(42, 63, 95); fill-opacity: 1; white-space: pre;\">0</text></g><g class=\"ytick\"><text text-anchor=\"end\" x=\"79\" y=\"4.199999999999999\" transform=\"translate(0,167.44)\" style=\"font-family: 'Open Sans', verdana, arial, sans-serif; font-size: 12px; fill: rgb(42, 63, 95); fill-opacity: 1; white-space: pre;\">200</text></g><g class=\"ytick\"><text text-anchor=\"end\" x=\"79\" y=\"4.199999999999999\" transform=\"translate(0,133.63)\" style=\"font-family: 'Open Sans', verdana, arial, sans-serif; font-size: 12px; fill: rgb(42, 63, 95); fill-opacity: 1; white-space: pre;\">400</text></g></g><g class=\"overaxes-above\"/></g><g class=\"subplot x2y2\"><g class=\"layer-subplot\"><g class=\"shapelayer\"/><g class=\"imagelayer\"/></g><g class=\"gridlayer\"><g class=\"x2\"/><g class=\"y2\"><path class=\"y2grid crisp\" transform=\"translate(0,178.35)\" d=\"M346.75,0h218.24999999999997\" style=\"stroke: rgb(255, 255, 255); stroke-opacity: 1; stroke-width: 1px;\"/><path class=\"y2grid crisp\" transform=\"translate(0,155.45)\" d=\"M346.75,0h218.24999999999997\" style=\"stroke: rgb(255, 255, 255); stroke-opacity: 1; stroke-width: 1px;\"/><path class=\"y2grid crisp\" transform=\"translate(0,132.54)\" d=\"M346.75,0h218.24999999999997\" style=\"stroke: rgb(255, 255, 255); stroke-opacity: 1; stroke-width: 1px;\"/><path class=\"y2grid crisp\" transform=\"translate(0,109.64)\" d=\"M346.75,0h218.24999999999997\" style=\"stroke: rgb(255, 255, 255); stroke-opacity: 1; stroke-width: 1px;\"/></g></g><g class=\"zerolinelayer\"><path class=\"y2zl zl crisp\" transform=\"translate(0,201.25)\" d=\"M346.75,0h218.24999999999997\" style=\"stroke: rgb(255, 255, 255); stroke-opacity: 1; stroke-width: 2px;\"/></g><path class=\"xlines-below\"/><path class=\"ylines-below\"/><g class=\"overlines-below\"/><g class=\"xaxislayer-below\"/><g class=\"yaxislayer-below\"/><g class=\"overaxes-below\"/><g class=\"plot\" transform=\"translate(346.75, 100)\" clip-path=\"url('#clip11f908x2y2plot')\"><g class=\"barlayer mlayer\"><g class=\"trace bars\" style=\"opacity: 1;\"><g class=\"points\"><g class=\"point\"><path d=\"M10.91,101.25V47.2H54.56V101.25Z\" style=\"vector-effect: non-scaling-stroke; opacity: 1; stroke-width: 0.5px; fill: rgb(173, 216, 230); fill-opacity: 1; stroke: rgb(229, 236, 246); stroke-opacity: 1;\"/></g><g class=\"point\"><path d=\"M120.04,101.25V5.06H163.69V101.25Z\" style=\"vector-effect: non-scaling-stroke; opacity: 1; stroke-width: 0.5px; fill: rgb(173, 216, 230); fill-opacity: 1; stroke: rgb(229, 236, 246); stroke-opacity: 1;\"/></g></g></g><g class=\"trace bars\" style=\"opacity: 1;\"><g class=\"points\"><g class=\"point\"><path d=\"M54.56,101.25V93.01H98.21V101.25Z\" style=\"vector-effect: non-scaling-stroke; opacity: 1; stroke-width: 0.5px; fill: rgb(255, 182, 193); fill-opacity: 1; stroke: rgb(229, 236, 246); stroke-opacity: 1;\"/></g><g class=\"point\"><path d=\"M163.69,101.25V87.28H207.34V101.25Z\" style=\"vector-effect: non-scaling-stroke; opacity: 1; stroke-width: 0.5px; fill: rgb(255, 182, 193); fill-opacity: 1; stroke: rgb(229, 236, 246); stroke-opacity: 1;\"/></g></g></g></g></g><g class=\"overplot\"/><path class=\"xlines-above crisp\" style=\"fill: none;\" d=\"M0,0\"/><path class=\"ylines-above crisp\" style=\"fill: none;\" d=\"M0,0\"/><g class=\"overlines-above\"/><g class=\"xaxislayer-above\"><g class=\"x2tick\"><text text-anchor=\"middle\" x=\"0\" y=\"214.25\" transform=\"translate(401.31,0)\" style=\"font-family: 'Open Sans', verdana, arial, sans-serif; font-size: 12px; fill: rgb(42, 63, 95); fill-opacity: 1; white-space: pre;\">0</text></g><g class=\"x2tick\"><text text-anchor=\"middle\" x=\"0\" y=\"214.25\" transform=\"translate(510.44,0)\" style=\"font-family: 'Open Sans', verdana, arial, sans-serif; font-size: 12px; fill: rgb(42, 63, 95); fill-opacity: 1; white-space: pre;\">1</text></g></g><g class=\"yaxislayer-above\"><g class=\"y2tick\"><text text-anchor=\"end\" x=\"345.75\" y=\"4.199999999999999\" transform=\"translate(0,201.25)\" style=\"font-family: 'Open Sans', verdana, arial, sans-serif; font-size: 12px; fill: rgb(42, 63, 95); fill-opacity: 1; white-space: pre;\">0</text></g><g class=\"y2tick\"><text text-anchor=\"end\" x=\"345.75\" y=\"4.199999999999999\" transform=\"translate(0,178.35)\" style=\"font-family: 'Open Sans', verdana, arial, sans-serif; font-size: 12px; fill: rgb(42, 63, 95); fill-opacity: 1; white-space: pre;\">100</text></g><g class=\"y2tick\"><text text-anchor=\"end\" x=\"345.75\" y=\"4.199999999999999\" transform=\"translate(0,155.45)\" style=\"font-family: 'Open Sans', verdana, arial, sans-serif; font-size: 12px; fill: rgb(42, 63, 95); fill-opacity: 1; white-space: pre;\">200</text></g><g class=\"y2tick\"><text text-anchor=\"end\" x=\"345.75\" y=\"4.199999999999999\" transform=\"translate(0,132.54)\" style=\"font-family: 'Open Sans', verdana, arial, sans-serif; font-size: 12px; fill: rgb(42, 63, 95); fill-opacity: 1; white-space: pre;\">300</text></g><g class=\"y2tick\"><text text-anchor=\"end\" x=\"345.75\" y=\"4.199999999999999\" transform=\"translate(0,109.64)\" style=\"font-family: 'Open Sans', verdana, arial, sans-serif; font-size: 12px; fill: rgb(42, 63, 95); fill-opacity: 1; white-space: pre;\">400</text></g></g><g class=\"overaxes-above\"/></g><g class=\"subplot x3y3\"><g class=\"layer-subplot\"><g class=\"shapelayer\"/><g class=\"imagelayer\"/></g><g class=\"gridlayer\"><g class=\"x3\"/><g class=\"y3\"><path class=\"y3grid crisp\" transform=\"translate(0,336.72)\" d=\"M80,0h218.25\" style=\"stroke: rgb(255, 255, 255); stroke-opacity: 1; stroke-width: 1px;\"/><path class=\"y3grid crisp\" transform=\"translate(0,303.43)\" d=\"M80,0h218.25\" style=\"stroke: rgb(255, 255, 255); stroke-opacity: 1; stroke-width: 1px;\"/><path class=\"y3grid crisp\" transform=\"translate(0,270.15)\" d=\"M80,0h218.25\" style=\"stroke: rgb(255, 255, 255); stroke-opacity: 1; stroke-width: 1px;\"/></g></g><g class=\"zerolinelayer\"><path class=\"y3zl zl crisp\" transform=\"translate(0,370)\" d=\"M80,0h218.25\" style=\"stroke: rgb(255, 255, 255); stroke-opacity: 1; stroke-width: 2px;\"/></g><path class=\"xlines-below\"/><path class=\"ylines-below\"/><g class=\"overlines-below\"/><g class=\"xaxislayer-below\"/><g class=\"yaxislayer-below\"/><g class=\"overaxes-below\"/><g class=\"plot\" transform=\"translate(80, 268.75)\" clip-path=\"url('#clip11f908x3y3plot')\"><g class=\"barlayer mlayer\"><g class=\"trace bars\" style=\"opacity: 1;\"><g class=\"points\"><g class=\"point\"><path d=\"M10.91,101.25V5.06H54.56V101.25Z\" style=\"vector-effect: non-scaling-stroke; opacity: 1; stroke-width: 0.5px; fill: rgb(173, 216, 230); fill-opacity: 1; stroke: rgb(229, 236, 246); stroke-opacity: 1;\"/></g><g class=\"point\"><path d=\"M120.04,101.25V88.27H163.69V101.25Z\" style=\"vector-effect: non-scaling-stroke; opacity: 1; stroke-width: 0.5px; fill: rgb(173, 216, 230); fill-opacity: 1; stroke: rgb(229, 236, 246); stroke-opacity: 1;\"/></g></g></g><g class=\"trace bars\" style=\"opacity: 1;\"><g class=\"points\"><g class=\"point\"><path d=\"M54.56,101.25V88.27H98.21V101.25Z\" style=\"vector-effect: non-scaling-stroke; opacity: 1; stroke-width: 0.5px; fill: rgb(255, 182, 193); fill-opacity: 1; stroke: rgb(229, 236, 246); stroke-opacity: 1;\"/></g><g class=\"point\"><path d=\"M163.69,101.25V98.09H207.34V101.25Z\" style=\"vector-effect: non-scaling-stroke; opacity: 1; stroke-width: 0.5px; fill: rgb(255, 182, 193); fill-opacity: 1; stroke: rgb(229, 236, 246); stroke-opacity: 1;\"/></g></g></g></g></g><g class=\"overplot\"/><path class=\"xlines-above crisp\" style=\"fill: none;\" d=\"M0,0\"/><path class=\"ylines-above crisp\" style=\"fill: none;\" d=\"M0,0\"/><g class=\"overlines-above\"/><g class=\"xaxislayer-above\"><g class=\"x3tick\"><text text-anchor=\"middle\" x=\"0\" y=\"383\" transform=\"translate(134.56,0)\" style=\"font-family: 'Open Sans', verdana, arial, sans-serif; font-size: 12px; fill: rgb(42, 63, 95); fill-opacity: 1; white-space: pre;\">0</text></g><g class=\"x3tick\"><text text-anchor=\"middle\" x=\"0\" y=\"383\" transform=\"translate(243.69,0)\" style=\"font-family: 'Open Sans', verdana, arial, sans-serif; font-size: 12px; fill: rgb(42, 63, 95); fill-opacity: 1; white-space: pre;\">1</text></g></g><g class=\"yaxislayer-above\"><g class=\"y3tick\"><text text-anchor=\"end\" x=\"79\" y=\"4.199999999999999\" transform=\"translate(0,370)\" style=\"font-family: 'Open Sans', verdana, arial, sans-serif; font-size: 12px; fill: rgb(42, 63, 95); fill-opacity: 1; white-space: pre;\">0</text></g><g class=\"y3tick\"><text text-anchor=\"end\" x=\"79\" y=\"4.199999999999999\" transform=\"translate(0,336.72)\" style=\"font-family: 'Open Sans', verdana, arial, sans-serif; font-size: 12px; fill: rgb(42, 63, 95); fill-opacity: 1; white-space: pre;\">200</text></g><g class=\"y3tick\"><text text-anchor=\"end\" x=\"79\" y=\"4.199999999999999\" transform=\"translate(0,303.43)\" style=\"font-family: 'Open Sans', verdana, arial, sans-serif; font-size: 12px; fill: rgb(42, 63, 95); fill-opacity: 1; white-space: pre;\">400</text></g><g class=\"y3tick\"><text text-anchor=\"end\" x=\"79\" y=\"4.199999999999999\" transform=\"translate(0,270.15)\" style=\"font-family: 'Open Sans', verdana, arial, sans-serif; font-size: 12px; fill: rgb(42, 63, 95); fill-opacity: 1; white-space: pre;\">600</text></g></g><g class=\"overaxes-above\"/></g><g class=\"subplot x4y4\"><g class=\"layer-subplot\"><g class=\"shapelayer\"/><g class=\"imagelayer\"/></g><g class=\"gridlayer\"><g class=\"x4\"/><g class=\"y4\"><path class=\"y4grid crisp\" transform=\"translate(0,337.72)\" d=\"M346.75,0h218.24999999999997\" style=\"stroke: rgb(255, 255, 255); stroke-opacity: 1; stroke-width: 1px;\"/><path class=\"y4grid crisp\" transform=\"translate(0,305.44)\" d=\"M346.75,0h218.24999999999997\" style=\"stroke: rgb(255, 255, 255); stroke-opacity: 1; stroke-width: 1px;\"/><path class=\"y4grid crisp\" transform=\"translate(0,273.17)\" d=\"M346.75,0h218.24999999999997\" style=\"stroke: rgb(255, 255, 255); stroke-opacity: 1; stroke-width: 1px;\"/></g></g><g class=\"zerolinelayer\"><path class=\"y4zl zl crisp\" transform=\"translate(0,370)\" d=\"M346.75,0h218.24999999999997\" style=\"stroke: rgb(255, 255, 255); stroke-opacity: 1; stroke-width: 2px;\"/></g><path class=\"xlines-below\"/><path class=\"ylines-below\"/><g class=\"overlines-below\"/><g class=\"xaxislayer-below\"/><g class=\"yaxislayer-below\"/><g class=\"overaxes-below\"/><g class=\"plot\" transform=\"translate(346.75, 268.75)\" clip-path=\"url('#clip11f908x4y4plot')\"><g class=\"barlayer mlayer\"><g class=\"trace bars\" style=\"opacity: 1;\"><g class=\"points\"><g class=\"point\"><path d=\"M10.91,101.25V5.06H54.56V101.25Z\" style=\"vector-effect: non-scaling-stroke; opacity: 1; stroke-width: 0.5px; fill: rgb(173, 216, 230); fill-opacity: 1; stroke: rgb(229, 236, 246); stroke-opacity: 1;\"/></g><g class=\"point\"><path d=\"M120.04,101.25V91.57H163.69V101.25Z\" style=\"vector-effect: non-scaling-stroke; opacity: 1; stroke-width: 0.5px; fill: rgb(173, 216, 230); fill-opacity: 1; stroke: rgb(229, 236, 246); stroke-opacity: 1;\"/></g></g></g><g class=\"trace bars\" style=\"opacity: 1;\"><g class=\"points\"><g class=\"point\"><path d=\"M54.56,101.25V88.66H98.21V101.25Z\" style=\"vector-effect: non-scaling-stroke; opacity: 1; stroke-width: 0.5px; fill: rgb(255, 182, 193); fill-opacity: 1; stroke: rgb(229, 236, 246); stroke-opacity: 1;\"/></g><g class=\"point\"><path d=\"M163.69,101.25V98.18H207.34V101.25Z\" style=\"vector-effect: non-scaling-stroke; opacity: 1; stroke-width: 0.5px; fill: rgb(255, 182, 193); fill-opacity: 1; stroke: rgb(229, 236, 246); stroke-opacity: 1;\"/></g></g></g></g></g><g class=\"overplot\"/><path class=\"xlines-above crisp\" style=\"fill: none;\" d=\"M0,0\"/><path class=\"ylines-above crisp\" style=\"fill: none;\" d=\"M0,0\"/><g class=\"overlines-above\"/><g class=\"xaxislayer-above\"><g class=\"x4tick\"><text text-anchor=\"middle\" x=\"0\" y=\"383\" transform=\"translate(401.31,0)\" style=\"font-family: 'Open Sans', verdana, arial, sans-serif; font-size: 12px; fill: rgb(42, 63, 95); fill-opacity: 1; white-space: pre;\">0</text></g><g class=\"x4tick\"><text text-anchor=\"middle\" x=\"0\" y=\"383\" transform=\"translate(510.44,0)\" style=\"font-family: 'Open Sans', verdana, arial, sans-serif; font-size: 12px; fill: rgb(42, 63, 95); fill-opacity: 1; white-space: pre;\">1</text></g></g><g class=\"yaxislayer-above\"><g class=\"y4tick\"><text text-anchor=\"end\" x=\"345.75\" y=\"4.199999999999999\" transform=\"translate(0,370)\" style=\"font-family: 'Open Sans', verdana, arial, sans-serif; font-size: 12px; fill: rgb(42, 63, 95); fill-opacity: 1; white-space: pre;\">0</text></g><g class=\"y4tick\"><text text-anchor=\"end\" x=\"345.75\" y=\"4.199999999999999\" transform=\"translate(0,337.72)\" style=\"font-family: 'Open Sans', verdana, arial, sans-serif; font-size: 12px; fill: rgb(42, 63, 95); fill-opacity: 1; white-space: pre;\">200</text></g><g class=\"y4tick\"><text text-anchor=\"end\" x=\"345.75\" y=\"4.199999999999999\" transform=\"translate(0,305.44)\" style=\"font-family: 'Open Sans', verdana, arial, sans-serif; font-size: 12px; fill: rgb(42, 63, 95); fill-opacity: 1; white-space: pre;\">400</text></g><g class=\"y4tick\"><text text-anchor=\"end\" x=\"345.75\" y=\"4.199999999999999\" transform=\"translate(0,273.17)\" style=\"font-family: 'Open Sans', verdana, arial, sans-serif; font-size: 12px; fill: rgb(42, 63, 95); fill-opacity: 1; white-space: pre;\">600</text></g></g><g class=\"overaxes-above\"/></g></g><g class=\"polarlayer\"/><g class=\"ternarylayer\"/><g class=\"geolayer\"/><g class=\"funnelarealayer\"/><g class=\"pielayer\"/><g class=\"treemaplayer\"/><g class=\"sunburstlayer\"/><g class=\"glimages\"/><defs id=\"topdefs-11f908\"><g class=\"clips\"/><clipPath id=\"legend11f908\"><rect width=\"113\" height=\"162\" x=\"0\" y=\"0\"/></clipPath></defs><g class=\"layer-above\"><g class=\"imagelayer\"/><g class=\"shapelayer\"/></g><g class=\"infolayer\"><g class=\"legend\" pointer-events=\"all\" transform=\"translate(574.7, 100)\"><rect class=\"bg\" shape-rendering=\"crispEdges\" style=\"stroke: rgb(68, 68, 68); stroke-opacity: 1; fill: rgb(255, 255, 255); fill-opacity: 1; stroke-width: 0px;\" width=\"113\" height=\"162\" x=\"0\" y=\"0\"/><g class=\"scrollbox\" transform=\"translate(0, 0)\" clip-path=\"url('#legend11f908')\"><g class=\"groups\"><g class=\"traces\" style=\"opacity: 1;\" transform=\"translate(0, 14.5)\"><text class=\"legendtext user-select-none\" text-anchor=\"start\" x=\"40\" y=\"4.680000000000001\" style=\"font-family: 'Open Sans', verdana, arial, sans-serif; font-size: 12px; fill: rgb(42, 63, 95); fill-opacity: 1; white-space: pre;\">No Disease</text><g class=\"layers\" style=\"opacity: 1;\"><g class=\"legendfill\"/><g class=\"legendlines\"/><g class=\"legendsymbols\"><g class=\"legendpoints\"><path class=\"legendundefined\" d=\"M6,6H-6V-6H6Z\" transform=\"translate(20,0)\" style=\"stroke-width: 0.5px; fill: rgb(173, 216, 230); fill-opacity: 1; stroke: rgb(229, 236, 246); stroke-opacity: 1;\"/></g></g></g><rect class=\"legendtoggle\" pointer-events=\"all\" x=\"0\" y=\"-9.5\" width=\"107.03125\" height=\"19\" style=\"cursor: pointer; fill: rgb(0, 0, 0); fill-opacity: 0;\"/></g><g class=\"traces\" style=\"opacity: 1;\" transform=\"translate(0, 33.5)\"><text class=\"legendtext user-select-none\" text-anchor=\"start\" x=\"40\" y=\"4.680000000000001\" style=\"font-family: 'Open Sans', verdana, arial, sans-serif; font-size: 12px; fill: rgb(42, 63, 95); fill-opacity: 1; white-space: pre;\">Diseae</text><g class=\"layers\" style=\"opacity: 1;\"><g class=\"legendfill\"/><g class=\"legendlines\"/><g class=\"legendsymbols\"><g class=\"legendpoints\"><path class=\"legendundefined\" d=\"M6,6H-6V-6H6Z\" transform=\"translate(20,0)\" style=\"stroke-width: 0.5px; fill: rgb(255, 182, 193); fill-opacity: 1; stroke: rgb(229, 236, 246); stroke-opacity: 1;\"/></g></g></g><rect class=\"legendtoggle\" pointer-events=\"all\" x=\"0\" y=\"-9.5\" width=\"107.03125\" height=\"19\" style=\"cursor: pointer; fill: rgb(0, 0, 0); fill-opacity: 0;\"/></g><g class=\"traces\" style=\"opacity: 1;\" transform=\"translate(0, 52.5)\"><text class=\"legendtext user-select-none\" text-anchor=\"start\" x=\"40\" y=\"4.680000000000001\" style=\"font-family: 'Open Sans', verdana, arial, sans-serif; font-size: 12px; fill: rgb(42, 63, 95); fill-opacity: 1; white-space: pre;\">No Disease</text><g class=\"layers\" style=\"opacity: 1;\"><g class=\"legendfill\"/><g class=\"legendlines\"/><g class=\"legendsymbols\"><g class=\"legendpoints\"><path class=\"legendundefined\" d=\"M6,6H-6V-6H6Z\" transform=\"translate(20,0)\" style=\"stroke-width: 0.5px; fill: rgb(173, 216, 230); fill-opacity: 1; stroke: rgb(229, 236, 246); stroke-opacity: 1;\"/></g></g></g><rect class=\"legendtoggle\" pointer-events=\"all\" x=\"0\" y=\"-9.5\" width=\"107.03125\" height=\"19\" style=\"cursor: pointer; fill: rgb(0, 0, 0); fill-opacity: 0;\"/></g><g class=\"traces\" style=\"opacity: 1;\" transform=\"translate(0, 71.5)\"><text class=\"legendtext user-select-none\" text-anchor=\"start\" x=\"40\" y=\"4.680000000000001\" style=\"font-family: 'Open Sans', verdana, arial, sans-serif; font-size: 12px; fill: rgb(42, 63, 95); fill-opacity: 1; white-space: pre;\">Diseae</text><g class=\"layers\" style=\"opacity: 1;\"><g class=\"legendfill\"/><g class=\"legendlines\"/><g class=\"legendsymbols\"><g class=\"legendpoints\"><path class=\"legendundefined\" d=\"M6,6H-6V-6H6Z\" transform=\"translate(20,0)\" style=\"stroke-width: 0.5px; fill: rgb(255, 182, 193); fill-opacity: 1; stroke: rgb(229, 236, 246); stroke-opacity: 1;\"/></g></g></g><rect class=\"legendtoggle\" pointer-events=\"all\" x=\"0\" y=\"-9.5\" width=\"107.03125\" height=\"19\" style=\"cursor: pointer; fill: rgb(0, 0, 0); fill-opacity: 0;\"/></g><g class=\"traces\" style=\"opacity: 1;\" transform=\"translate(0, 90.5)\"><text class=\"legendtext user-select-none\" text-anchor=\"start\" x=\"40\" y=\"4.680000000000001\" style=\"font-family: 'Open Sans', verdana, arial, sans-serif; font-size: 12px; fill: rgb(42, 63, 95); fill-opacity: 1; white-space: pre;\">No Disease</text><g class=\"layers\" style=\"opacity: 1;\"><g class=\"legendfill\"/><g class=\"legendlines\"/><g class=\"legendsymbols\"><g class=\"legendpoints\"><path class=\"legendundefined\" d=\"M6,6H-6V-6H6Z\" transform=\"translate(20,0)\" style=\"stroke-width: 0.5px; fill: rgb(173, 216, 230); fill-opacity: 1; stroke: rgb(229, 236, 246); stroke-opacity: 1;\"/></g></g></g><rect class=\"legendtoggle\" pointer-events=\"all\" x=\"0\" y=\"-9.5\" width=\"107.03125\" height=\"19\" style=\"cursor: pointer; fill: rgb(0, 0, 0); fill-opacity: 0;\"/></g><g class=\"traces\" style=\"opacity: 1;\" transform=\"translate(0, 109.5)\"><text class=\"legendtext user-select-none\" text-anchor=\"start\" x=\"40\" y=\"4.680000000000001\" style=\"font-family: 'Open Sans', verdana, arial, sans-serif; font-size: 12px; fill: rgb(42, 63, 95); fill-opacity: 1; white-space: pre;\">Diseae</text><g class=\"layers\" style=\"opacity: 1;\"><g class=\"legendfill\"/><g class=\"legendlines\"/><g class=\"legendsymbols\"><g class=\"legendpoints\"><path class=\"legendundefined\" d=\"M6,6H-6V-6H6Z\" transform=\"translate(20,0)\" style=\"stroke-width: 0.5px; fill: rgb(255, 182, 193); fill-opacity: 1; stroke: rgb(229, 236, 246); stroke-opacity: 1;\"/></g></g></g><rect class=\"legendtoggle\" pointer-events=\"all\" x=\"0\" y=\"-9.5\" width=\"107.03125\" height=\"19\" style=\"cursor: pointer; fill: rgb(0, 0, 0); fill-opacity: 0;\"/></g><g class=\"traces\" style=\"opacity: 1;\" transform=\"translate(0, 128.5)\"><text class=\"legendtext user-select-none\" text-anchor=\"start\" x=\"40\" y=\"4.680000000000001\" style=\"font-family: 'Open Sans', verdana, arial, sans-serif; font-size: 12px; fill: rgb(42, 63, 95); fill-opacity: 1; white-space: pre;\">No Disease</text><g class=\"layers\" style=\"opacity: 1;\"><g class=\"legendfill\"/><g class=\"legendlines\"/><g class=\"legendsymbols\"><g class=\"legendpoints\"><path class=\"legendundefined\" d=\"M6,6H-6V-6H6Z\" transform=\"translate(20,0)\" style=\"stroke-width: 0.5px; fill: rgb(173, 216, 230); fill-opacity: 1; stroke: rgb(229, 236, 246); stroke-opacity: 1;\"/></g></g></g><rect class=\"legendtoggle\" pointer-events=\"all\" x=\"0\" y=\"-9.5\" width=\"107.03125\" height=\"19\" style=\"cursor: pointer; fill: rgb(0, 0, 0); fill-opacity: 0;\"/></g><g class=\"traces\" style=\"opacity: 1;\" transform=\"translate(0, 147.5)\"><text class=\"legendtext user-select-none\" text-anchor=\"start\" x=\"40\" y=\"4.680000000000001\" style=\"font-family: 'Open Sans', verdana, arial, sans-serif; font-size: 12px; fill: rgb(42, 63, 95); fill-opacity: 1; white-space: pre;\">Diseae</text><g class=\"layers\" style=\"opacity: 1;\"><g class=\"legendfill\"/><g class=\"legendlines\"/><g class=\"legendsymbols\"><g class=\"legendpoints\"><path class=\"legendundefined\" d=\"M6,6H-6V-6H6Z\" transform=\"translate(20,0)\" style=\"stroke-width: 0.5px; fill: rgb(255, 182, 193); fill-opacity: 1; stroke: rgb(229, 236, 246); stroke-opacity: 1;\"/></g></g></g><rect class=\"legendtoggle\" pointer-events=\"all\" x=\"0\" y=\"-9.5\" width=\"107.03125\" height=\"19\" style=\"cursor: pointer; fill: rgb(0, 0, 0); fill-opacity: 0;\"/></g></g></g><rect class=\"scrollbar\" rx=\"20\" ry=\"3\" width=\"0\" height=\"0\" style=\"fill: rgb(128, 139, 164); fill-opacity: 1;\" x=\"0\" y=\"0\"/></g><g class=\"g-gtitle\"/><g class=\"g-xtitle\"/><g class=\"g-x2title\"/><g class=\"g-x3title\"/><g class=\"g-x4title\"/><g class=\"g-ytitle\"/><g class=\"g-y2title\"/><g class=\"g-y3title\"/><g class=\"g-y4title\"/><g class=\"annotation\" data-index=\"0\" style=\"opacity: 1;\"><g class=\"annotation-text-g\" transform=\"rotate(0,189.125,88)\"><g class=\"cursor-pointer\" transform=\"translate(72, 76)\"><rect class=\"bg\" x=\"0.5\" y=\"0.5\" width=\"233\" height=\"23\" style=\"stroke-width: 1px; stroke: rgb(0, 0, 0); stroke-opacity: 0; fill: rgb(0, 0, 0); fill-opacity: 0;\"/><text class=\"annotation-text\" text-anchor=\"middle\" x=\"116.734375\" y=\"18\" style=\"font-family: 'Open Sans', verdana, arial, sans-serif; font-size: 16px; fill: rgb(42, 63, 95); fill-opacity: 1; white-space: pre;\">Smokes and Cervical Cancer</text></g></g></g><g class=\"annotation\" data-index=\"1\" style=\"opacity: 1;\"><g class=\"annotation-text-g\" transform=\"rotate(0,455.875,87.99999999999999)\"><g class=\"cursor-pointer\" transform=\"translate(269, 76)\"><rect class=\"bg\" x=\"0.5\" y=\"0.5\" width=\"372\" height=\"23\" style=\"stroke-width: 1px; stroke: rgb(0, 0, 0); stroke-opacity: 0; fill: rgb(0, 0, 0); fill-opacity: 0;\"/><text class=\"annotation-text\" text-anchor=\"middle\" x=\"186.5625\" y=\"18\" style=\"font-family: 'Open Sans', verdana, arial, sans-serif; font-size: 16px; fill: rgb(42, 63, 95); fill-opacity: 1; white-space: pre;\">Hormonal Contraceptives and Cervical Cancer</text></g></g></g><g class=\"annotation\" data-index=\"2\" style=\"opacity: 1;\"><g class=\"annotation-text-g\" transform=\"rotate(0,189.125,256.75)\"><g class=\"cursor-pointer\" transform=\"translate(89, 245)\"><rect class=\"bg\" x=\"0.5\" y=\"0.5\" width=\"200\" height=\"23\" style=\"stroke-width: 1px; stroke: rgb(0, 0, 0); stroke-opacity: 0; fill: rgb(0, 0, 0); fill-opacity: 0;\"/><text class=\"annotation-text\" text-anchor=\"middle\" x=\"100.34375\" y=\"18\" style=\"font-family: 'Open Sans', verdana, arial, sans-serif; font-size: 16px; fill: rgb(42, 63, 95); fill-opacity: 1; white-space: pre;\">IUD and Cervical Cancer</text></g></g></g><g class=\"annotation\" data-index=\"3\" style=\"opacity: 1;\"><g class=\"annotation-text-g\" transform=\"rotate(0,455.875,256.75)\"><g class=\"cursor-pointer\" transform=\"translate(350, 245)\"><rect class=\"bg\" x=\"0.5\" y=\"0.5\" width=\"210\" height=\"23\" style=\"stroke-width: 1px; stroke: rgb(0, 0, 0); stroke-opacity: 0; fill: rgb(0, 0, 0); fill-opacity: 0;\"/><text class=\"annotation-text\" text-anchor=\"middle\" x=\"105.6875\" y=\"18\" style=\"font-family: 'Open Sans', verdana, arial, sans-serif; font-size: 16px; fill: rgb(42, 63, 95); fill-opacity: 1; white-space: pre;\">STDs and Cervical Cancer</text></g></g></g></g></svg>"
      ]
     },
     "metadata": {},
     "output_type": "display_data"
    }
   ],
   "source": [
    "fig = make_subplots(\n",
    "                    rows=2, cols=2,\n",
    "                    subplot_titles=('Smokes and Cervical Cancer',\n",
    "                                    'Hormonal Contraceptives and Cervical Cancer',\n",
    "                                    'IUD and Cervical Cancer',\n",
    "                                    'STDs and Cervical Cancer'))\n",
    "\n",
    "add_bar('Smokes',1,1)\n",
    "add_bar('Hormonal Contraceptives',1,2)\n",
    "add_bar('IUD',2,1)\n",
    "add_bar('STDs',2,2)\n",
    "\n",
    "fig.update_layout(height=800, width=900, title_text=\"\")\n",
    "fig.show(renderer='svg')"
   ]
  },
  {
   "cell_type": "markdown",
   "metadata": {},
   "source": [
    "From the above graph, Hormonal Contraceptives feature is quite outstanding. Among people have cervical cancer, 2/3 of than took Hormonal Contraceptives. This can be an important key feature. On the other hand, over half of women takes hormonal contraceptives, this is also can make the number of people who has cervical cancer be greater than other features."
   ]
  },
  {
   "cell_type": "code",
   "execution_count": 81,
   "metadata": {},
   "outputs": [],
   "source": [
    "partner_df = pd.DataFrame(df.groupby(by=['target','Number of sexual partners'],as_index=False)['Dx'].count())\n",
    "partner_df_y = partner_df.loc[partner_df['target']==1]\n",
    "\n",
    "preg_df = pd.DataFrame(df.groupby(by=['target','Num of pregnancies'],as_index=False)['Dx'].count())\n",
    "preg_df_y = preg_df.loc[preg_df['target']==1]"
   ]
  },
  {
   "cell_type": "code",
   "execution_count": 82,
   "metadata": {},
   "outputs": [],
   "source": [
    "# add_trace function\n",
    "def add_bar2(feature,row,col,color):\n",
    "    sub_df = pd.DataFrame(df.groupby(by=['target',feature],as_index=False)['Dx'].count())\n",
    "    sub_df_y = sub_df.loc[sub_df['target']==1]\n",
    "    fig.add_trace(go.Bar(x=sub_df_y.loc[sub_df_y['target']==1][feature],\n",
    "                     y=sub_df_y.loc[sub_df_y['target']==1]['Dx'],\n",
    "                     name='Disease',marker_color=color),row=row,col=col)"
   ]
  },
  {
   "cell_type": "code",
   "execution_count": 94,
   "metadata": {},
   "outputs": [
    {
     "data": {
      "image/svg+xml": [
       "<svg class=\"main-svg\" xmlns=\"http://www.w3.org/2000/svg\" xmlns:xlink=\"http://www.w3.org/1999/xlink\" width=\"700\" height=\"450\" style=\"\" viewBox=\"0 0 700 450\"><rect x=\"0\" y=\"0\" width=\"700\" height=\"450\" style=\"fill: rgb(255, 255, 255); fill-opacity: 1;\"/><defs id=\"defs-aaf463\"><g class=\"clips\"><clipPath id=\"clipaaf463xyplot\" class=\"plotclip\"><rect width=\"227.70000000000002\" height=\"60\"/></clipPath><clipPath id=\"clipaaf463x2y2plot\" class=\"plotclip\"><rect width=\"227.7\" height=\"60\"/></clipPath><clipPath id=\"clipaaf463x3y3plot\" class=\"plotclip\"><rect width=\"227.70000000000002\" height=\"60.000000000000014\"/></clipPath><clipPath id=\"clipaaf463x4y4plot\" class=\"plotclip\"><rect width=\"227.7\" height=\"60.000000000000014\"/></clipPath><clipPath id=\"clipaaf463x5y5plot\" class=\"plotclip\"><rect width=\"227.70000000000002\" height=\"60.00000000000001\"/></clipPath><clipPath id=\"clipaaf463x6y6plot\" class=\"plotclip\"><rect width=\"227.7\" height=\"60.00000000000001\"/></clipPath><clipPath class=\"axesclip\" id=\"clipaaf463x\"><rect x=\"80\" y=\"0\" width=\"227.70000000000002\" height=\"450\"/></clipPath><clipPath class=\"axesclip\" id=\"clipaaf463y\"><rect x=\"0\" y=\"100\" width=\"700\" height=\"60\"/></clipPath><clipPath class=\"axesclip\" id=\"clipaaf463xy\"><rect x=\"80\" y=\"100\" width=\"227.70000000000002\" height=\"60\"/></clipPath><clipPath class=\"axesclip\" id=\"clipaaf463y2\"><rect x=\"0\" y=\"100\" width=\"700\" height=\"60\"/></clipPath><clipPath class=\"axesclip\" id=\"clipaaf463xy2\"><rect x=\"80\" y=\"100\" width=\"227.70000000000002\" height=\"60\"/></clipPath><clipPath class=\"axesclip\" id=\"clipaaf463y3\"><rect x=\"0\" y=\"205\" width=\"700\" height=\"60.000000000000014\"/></clipPath><clipPath class=\"axesclip\" id=\"clipaaf463xy3\"><rect x=\"80\" y=\"205\" width=\"227.70000000000002\" height=\"60.000000000000014\"/></clipPath><clipPath class=\"axesclip\" id=\"clipaaf463y4\"><rect x=\"0\" y=\"205\" width=\"700\" height=\"60.000000000000014\"/></clipPath><clipPath class=\"axesclip\" id=\"clipaaf463xy4\"><rect x=\"80\" y=\"205\" width=\"227.70000000000002\" height=\"60.000000000000014\"/></clipPath><clipPath class=\"axesclip\" id=\"clipaaf463y5\"><rect x=\"0\" y=\"310\" width=\"700\" height=\"60.00000000000001\"/></clipPath><clipPath class=\"axesclip\" id=\"clipaaf463xy5\"><rect x=\"80\" y=\"310\" width=\"227.70000000000002\" height=\"60.00000000000001\"/></clipPath><clipPath class=\"axesclip\" id=\"clipaaf463y6\"><rect x=\"0\" y=\"310\" width=\"700\" height=\"60.00000000000001\"/></clipPath><clipPath class=\"axesclip\" id=\"clipaaf463xy6\"><rect x=\"80\" y=\"310\" width=\"227.70000000000002\" height=\"60.00000000000001\"/></clipPath><clipPath class=\"axesclip\" id=\"clipaaf463x2\"><rect x=\"358.3\" y=\"0\" width=\"227.7\" height=\"450\"/></clipPath><clipPath class=\"axesclip\" id=\"clipaaf463x2y\"><rect x=\"358.3\" y=\"100\" width=\"227.7\" height=\"60\"/></clipPath><clipPath class=\"axesclip\" id=\"clipaaf463x2y2\"><rect x=\"358.3\" y=\"100\" width=\"227.7\" height=\"60\"/></clipPath><clipPath class=\"axesclip\" id=\"clipaaf463x2y3\"><rect x=\"358.3\" y=\"205\" width=\"227.7\" height=\"60.000000000000014\"/></clipPath><clipPath class=\"axesclip\" id=\"clipaaf463x2y4\"><rect x=\"358.3\" y=\"205\" width=\"227.7\" height=\"60.000000000000014\"/></clipPath><clipPath class=\"axesclip\" id=\"clipaaf463x2y5\"><rect x=\"358.3\" y=\"310\" width=\"227.7\" height=\"60.00000000000001\"/></clipPath><clipPath class=\"axesclip\" id=\"clipaaf463x2y6\"><rect x=\"358.3\" y=\"310\" width=\"227.7\" height=\"60.00000000000001\"/></clipPath><clipPath class=\"axesclip\" id=\"clipaaf463x3\"><rect x=\"80\" y=\"0\" width=\"227.70000000000002\" height=\"450\"/></clipPath><clipPath class=\"axesclip\" id=\"clipaaf463x3y\"><rect x=\"80\" y=\"100\" width=\"227.70000000000002\" height=\"60\"/></clipPath><clipPath class=\"axesclip\" id=\"clipaaf463x3y2\"><rect x=\"80\" y=\"100\" width=\"227.70000000000002\" height=\"60\"/></clipPath><clipPath class=\"axesclip\" id=\"clipaaf463x3y3\"><rect x=\"80\" y=\"205\" width=\"227.70000000000002\" height=\"60.000000000000014\"/></clipPath><clipPath class=\"axesclip\" id=\"clipaaf463x3y4\"><rect x=\"80\" y=\"205\" width=\"227.70000000000002\" height=\"60.000000000000014\"/></clipPath><clipPath class=\"axesclip\" id=\"clipaaf463x3y5\"><rect x=\"80\" y=\"310\" width=\"227.70000000000002\" height=\"60.00000000000001\"/></clipPath><clipPath class=\"axesclip\" id=\"clipaaf463x3y6\"><rect x=\"80\" y=\"310\" width=\"227.70000000000002\" height=\"60.00000000000001\"/></clipPath><clipPath class=\"axesclip\" id=\"clipaaf463x4\"><rect x=\"358.3\" y=\"0\" width=\"227.7\" height=\"450\"/></clipPath><clipPath class=\"axesclip\" id=\"clipaaf463x4y\"><rect x=\"358.3\" y=\"100\" width=\"227.7\" height=\"60\"/></clipPath><clipPath class=\"axesclip\" id=\"clipaaf463x4y2\"><rect x=\"358.3\" y=\"100\" width=\"227.7\" height=\"60\"/></clipPath><clipPath class=\"axesclip\" id=\"clipaaf463x4y3\"><rect x=\"358.3\" y=\"205\" width=\"227.7\" height=\"60.000000000000014\"/></clipPath><clipPath class=\"axesclip\" id=\"clipaaf463x4y4\"><rect x=\"358.3\" y=\"205\" width=\"227.7\" height=\"60.000000000000014\"/></clipPath><clipPath class=\"axesclip\" id=\"clipaaf463x4y5\"><rect x=\"358.3\" y=\"310\" width=\"227.7\" height=\"60.00000000000001\"/></clipPath><clipPath class=\"axesclip\" id=\"clipaaf463x4y6\"><rect x=\"358.3\" y=\"310\" width=\"227.7\" height=\"60.00000000000001\"/></clipPath><clipPath class=\"axesclip\" id=\"clipaaf463x5\"><rect x=\"80\" y=\"0\" width=\"227.70000000000002\" height=\"450\"/></clipPath><clipPath class=\"axesclip\" id=\"clipaaf463x5y\"><rect x=\"80\" y=\"100\" width=\"227.70000000000002\" height=\"60\"/></clipPath><clipPath class=\"axesclip\" id=\"clipaaf463x5y2\"><rect x=\"80\" y=\"100\" width=\"227.70000000000002\" height=\"60\"/></clipPath><clipPath class=\"axesclip\" id=\"clipaaf463x5y3\"><rect x=\"80\" y=\"205\" width=\"227.70000000000002\" height=\"60.000000000000014\"/></clipPath><clipPath class=\"axesclip\" id=\"clipaaf463x5y4\"><rect x=\"80\" y=\"205\" width=\"227.70000000000002\" height=\"60.000000000000014\"/></clipPath><clipPath class=\"axesclip\" id=\"clipaaf463x5y5\"><rect x=\"80\" y=\"310\" width=\"227.70000000000002\" height=\"60.00000000000001\"/></clipPath><clipPath class=\"axesclip\" id=\"clipaaf463x5y6\"><rect x=\"80\" y=\"310\" width=\"227.70000000000002\" height=\"60.00000000000001\"/></clipPath><clipPath class=\"axesclip\" id=\"clipaaf463x6\"><rect x=\"358.3\" y=\"0\" width=\"227.7\" height=\"450\"/></clipPath><clipPath class=\"axesclip\" id=\"clipaaf463x6y\"><rect x=\"358.3\" y=\"100\" width=\"227.7\" height=\"60\"/></clipPath><clipPath class=\"axesclip\" id=\"clipaaf463x6y2\"><rect x=\"358.3\" y=\"100\" width=\"227.7\" height=\"60\"/></clipPath><clipPath class=\"axesclip\" id=\"clipaaf463x6y3\"><rect x=\"358.3\" y=\"205\" width=\"227.7\" height=\"60.000000000000014\"/></clipPath><clipPath class=\"axesclip\" id=\"clipaaf463x6y4\"><rect x=\"358.3\" y=\"205\" width=\"227.7\" height=\"60.000000000000014\"/></clipPath><clipPath class=\"axesclip\" id=\"clipaaf463x6y5\"><rect x=\"358.3\" y=\"310\" width=\"227.7\" height=\"60.00000000000001\"/></clipPath><clipPath class=\"axesclip\" id=\"clipaaf463x6y6\"><rect x=\"358.3\" y=\"310\" width=\"227.7\" height=\"60.00000000000001\"/></clipPath></g><g class=\"gradients\"/></defs><g class=\"bglayer\"><rect class=\"bg\" x=\"80\" y=\"100\" width=\"227.70000000000002\" height=\"60\" style=\"fill: rgb(229, 236, 246); fill-opacity: 1; stroke-width: 0;\"/><rect class=\"bg\" x=\"358.3\" y=\"100\" width=\"227.7\" height=\"60\" style=\"fill: rgb(229, 236, 246); fill-opacity: 1; stroke-width: 0;\"/><rect class=\"bg\" x=\"80\" y=\"205\" width=\"227.70000000000002\" height=\"60.000000000000014\" style=\"fill: rgb(229, 236, 246); fill-opacity: 1; stroke-width: 0;\"/><rect class=\"bg\" x=\"358.3\" y=\"205\" width=\"227.7\" height=\"60.000000000000014\" style=\"fill: rgb(229, 236, 246); fill-opacity: 1; stroke-width: 0;\"/><rect class=\"bg\" x=\"80\" y=\"310\" width=\"227.70000000000002\" height=\"60.00000000000001\" style=\"fill: rgb(229, 236, 246); fill-opacity: 1; stroke-width: 0;\"/><rect class=\"bg\" x=\"358.3\" y=\"310\" width=\"227.7\" height=\"60.00000000000001\" style=\"fill: rgb(229, 236, 246); fill-opacity: 1; stroke-width: 0;\"/></g><g class=\"layer-below\"><g class=\"imagelayer\"/><g class=\"shapelayer\"/></g><g class=\"cartesianlayer\"><g class=\"subplot xy\"><g class=\"layer-subplot\"><g class=\"shapelayer\"/><g class=\"imagelayer\"/></g><g class=\"gridlayer\"><g class=\"x\"/><g class=\"y\"><path class=\"ygrid crisp\" transform=\"translate(0,142.73)\" d=\"M80,0h227.70000000000002\" style=\"stroke: rgb(255, 255, 255); stroke-opacity: 1; stroke-width: 1px;\"/><path class=\"ygrid crisp\" transform=\"translate(0,125.45)\" d=\"M80,0h227.70000000000002\" style=\"stroke: rgb(255, 255, 255); stroke-opacity: 1; stroke-width: 1px;\"/><path class=\"ygrid crisp\" transform=\"translate(0,108.18)\" d=\"M80,0h227.70000000000002\" style=\"stroke: rgb(255, 255, 255); stroke-opacity: 1; stroke-width: 1px;\"/></g></g><g class=\"zerolinelayer\"><path class=\"yzl zl crisp\" transform=\"translate(0,160)\" d=\"M80,0h227.70000000000002\" style=\"stroke: rgb(255, 255, 255); stroke-opacity: 1; stroke-width: 2px;\"/></g><path class=\"xlines-below\"/><path class=\"ylines-below\"/><g class=\"overlines-below\"/><g class=\"xaxislayer-below\"/><g class=\"yaxislayer-below\"/><g class=\"overaxes-below\"/><g class=\"plot\" transform=\"translate(80, 100)\" clip-path=\"url('#clipaaf463xyplot')\"><g class=\"barlayer mlayer\"><g class=\"trace bars\" style=\"opacity: 1;\"><g class=\"points\"><g class=\"point\"><path d=\"M3.79,60V22H34.16V60Z\" style=\"vector-effect: non-scaling-stroke; opacity: 1; stroke-width: 0.5px; fill: rgb(255, 215, 0); fill-opacity: 1; stroke: rgb(229, 236, 246); stroke-opacity: 1;\"/></g><g class=\"point\"><path d=\"M41.75,60V3H72.11V60Z\" style=\"vector-effect: non-scaling-stroke; opacity: 1; stroke-width: 0.5px; fill: rgb(255, 215, 0); fill-opacity: 1; stroke: rgb(229, 236, 246); stroke-opacity: 1;\"/></g><g class=\"point\"><path d=\"M79.7,60V16.82H110.06V60Z\" style=\"vector-effect: non-scaling-stroke; opacity: 1; stroke-width: 0.5px; fill: rgb(255, 215, 0); fill-opacity: 1; stroke: rgb(229, 236, 246); stroke-opacity: 1;\"/></g><g class=\"point\"><path d=\"M117.65,60V44.45H148.01V60Z\" style=\"vector-effect: non-scaling-stroke; opacity: 1; stroke-width: 0.5px; fill: rgb(255, 215, 0); fill-opacity: 1; stroke: rgb(229, 236, 246); stroke-opacity: 1;\"/></g><g class=\"point\"><path d=\"M155.6,60V47.91H185.96V60Z\" style=\"vector-effect: non-scaling-stroke; opacity: 1; stroke-width: 0.5px; fill: rgb(255, 215, 0); fill-opacity: 1; stroke: rgb(229, 236, 246); stroke-opacity: 1;\"/></g><g class=\"point\"><path d=\"M193.55,60V58.27H223.91V60Z\" style=\"vector-effect: non-scaling-stroke; opacity: 1; stroke-width: 0.5px; fill: rgb(255, 215, 0); fill-opacity: 1; stroke: rgb(229, 236, 246); stroke-opacity: 1;\"/></g></g></g></g></g><g class=\"overplot\"/><path class=\"xlines-above crisp\" d=\"M0,0\" style=\"fill: none;\"/><path class=\"ylines-above crisp\" d=\"M0,0\" style=\"fill: none;\"/><g class=\"overlines-above\"/><g class=\"xaxislayer-above\"><g class=\"xtick\"><text text-anchor=\"middle\" x=\"0\" y=\"173\" transform=\"translate(136.93,0)\" style=\"font-family: 'Open Sans', verdana, arial, sans-serif; font-size: 12px; fill: rgb(42, 63, 95); fill-opacity: 1; white-space: pre;\">2</text></g><g class=\"xtick\"><text text-anchor=\"middle\" x=\"0\" y=\"173\" transform=\"translate(212.83,0)\" style=\"font-family: 'Open Sans', verdana, arial, sans-serif; font-size: 12px; fill: rgb(42, 63, 95); fill-opacity: 1; white-space: pre;\">4</text></g><g class=\"xtick\"><text text-anchor=\"middle\" x=\"0\" y=\"173\" transform=\"translate(288.73,0)\" style=\"font-family: 'Open Sans', verdana, arial, sans-serif; font-size: 12px; fill: rgb(42, 63, 95); fill-opacity: 1; white-space: pre;\">6</text></g></g><g class=\"yaxislayer-above\"><g class=\"ytick\"><text text-anchor=\"end\" x=\"79\" y=\"4.199999999999999\" transform=\"translate(0,160)\" style=\"font-family: 'Open Sans', verdana, arial, sans-serif; font-size: 12px; fill: rgb(42, 63, 95); fill-opacity: 1; white-space: pre;\">0</text></g><g class=\"ytick\"><text text-anchor=\"end\" x=\"79\" y=\"4.199999999999999\" transform=\"translate(0,142.73)\" style=\"font-family: 'Open Sans', verdana, arial, sans-serif; font-size: 12px; fill: rgb(42, 63, 95); fill-opacity: 1; white-space: pre;\">10</text></g><g class=\"ytick\"><text text-anchor=\"end\" x=\"79\" y=\"4.199999999999999\" transform=\"translate(0,125.45)\" style=\"font-family: 'Open Sans', verdana, arial, sans-serif; font-size: 12px; fill: rgb(42, 63, 95); fill-opacity: 1; white-space: pre;\">20</text></g><g class=\"ytick\"><text text-anchor=\"end\" x=\"79\" y=\"4.199999999999999\" transform=\"translate(0,108.18)\" style=\"font-family: 'Open Sans', verdana, arial, sans-serif; font-size: 12px; fill: rgb(42, 63, 95); fill-opacity: 1; white-space: pre;\">30</text></g></g><g class=\"overaxes-above\"/></g><g class=\"subplot x2y2\"><g class=\"layer-subplot\"><g class=\"shapelayer\"/><g class=\"imagelayer\"/></g><g class=\"gridlayer\"><g class=\"x2\"/><g class=\"y2\"><path class=\"y2grid crisp\" transform=\"translate(0,143.24)\" d=\"M358.3,0h227.7\" style=\"stroke: rgb(255, 255, 255); stroke-opacity: 1; stroke-width: 1px;\"/><path class=\"y2grid crisp\" transform=\"translate(0,126.47)\" d=\"M358.3,0h227.7\" style=\"stroke: rgb(255, 255, 255); stroke-opacity: 1; stroke-width: 1px;\"/><path class=\"y2grid crisp\" transform=\"translate(0,109.71000000000001)\" d=\"M358.3,0h227.7\" style=\"stroke: rgb(255, 255, 255); stroke-opacity: 1; stroke-width: 1px;\"/></g></g><g class=\"zerolinelayer\"><path class=\"y2zl zl crisp\" transform=\"translate(0,160)\" d=\"M358.3,0h227.7\" style=\"stroke: rgb(255, 255, 255); stroke-opacity: 1; stroke-width: 2px;\"/></g><path class=\"xlines-below\"/><path class=\"ylines-below\"/><g class=\"overlines-below\"/><g class=\"xaxislayer-below\"/><g class=\"yaxislayer-below\"/><g class=\"overaxes-below\"/><g class=\"plot\" transform=\"translate(358.3, 100)\" clip-path=\"url('#clipaaf463x2y2plot')\"><g class=\"barlayer mlayer\"><g class=\"trace bars\" style=\"opacity: 1;\"><g class=\"points\"><g class=\"point\"><path d=\"M1.9,60V56.65H17.08V60Z\" style=\"vector-effect: non-scaling-stroke; opacity: 1; stroke-width: 0.5px; fill: rgb(221, 160, 221); fill-opacity: 1; stroke: rgb(229, 236, 246); stroke-opacity: 1;\"/></g><g class=\"point\"><path d=\"M20.87,60V19.76H36.05V60Z\" style=\"vector-effect: non-scaling-stroke; opacity: 1; stroke-width: 0.5px; fill: rgb(221, 160, 221); fill-opacity: 1; stroke: rgb(229, 236, 246); stroke-opacity: 1;\"/></g><g class=\"point\"><path d=\"M39.85,60V3H55.03V60Z\" style=\"vector-effect: non-scaling-stroke; opacity: 1; stroke-width: 0.5px; fill: rgb(221, 160, 221); fill-opacity: 1; stroke: rgb(229, 236, 246); stroke-opacity: 1;\"/></g><g class=\"point\"><path d=\"M58.82,60V31.5H74V60Z\" style=\"vector-effect: non-scaling-stroke; opacity: 1; stroke-width: 0.5px; fill: rgb(221, 160, 221); fill-opacity: 1; stroke: rgb(229, 236, 246); stroke-opacity: 1;\"/></g><g class=\"point\"><path d=\"M77.8,60V36.53H92.98V60Z\" style=\"vector-effect: non-scaling-stroke; opacity: 1; stroke-width: 0.5px; fill: rgb(221, 160, 221); fill-opacity: 1; stroke: rgb(229, 236, 246); stroke-opacity: 1;\"/></g><g class=\"point\"><path d=\"M96.77,60V58.32H111.95V60Z\" style=\"vector-effect: non-scaling-stroke; opacity: 1; stroke-width: 0.5px; fill: rgb(221, 160, 221); fill-opacity: 1; stroke: rgb(229, 236, 246); stroke-opacity: 1;\"/></g><g class=\"point\"><path d=\"M115.75,60V53.29H130.93V60Z\" style=\"vector-effect: non-scaling-stroke; opacity: 1; stroke-width: 0.5px; fill: rgb(221, 160, 221); fill-opacity: 1; stroke: rgb(229, 236, 246); stroke-opacity: 1;\"/></g><g class=\"point\"><path d=\"M210.62,60V58.32H225.8V60Z\" style=\"vector-effect: non-scaling-stroke; opacity: 1; stroke-width: 0.5px; fill: rgb(221, 160, 221); fill-opacity: 1; stroke: rgb(229, 236, 246); stroke-opacity: 1;\"/></g></g></g></g></g><g class=\"overplot\"/><path class=\"xlines-above crisp\" d=\"M0,0\" style=\"fill: none;\"/><path class=\"ylines-above crisp\" d=\"M0,0\" style=\"fill: none;\"/><g class=\"overlines-above\"/><g class=\"xaxislayer-above\"><g class=\"x2tick\"><text text-anchor=\"middle\" x=\"0\" y=\"173\" transform=\"translate(367.79,0)\" style=\"font-family: 'Open Sans', verdana, arial, sans-serif; font-size: 12px; fill: rgb(42, 63, 95); fill-opacity: 1; white-space: pre;\">0</text></g><g class=\"x2tick\"><text text-anchor=\"middle\" x=\"0\" y=\"173\" transform=\"translate(462.66,0)\" style=\"font-family: 'Open Sans', verdana, arial, sans-serif; font-size: 12px; fill: rgb(42, 63, 95); fill-opacity: 1; white-space: pre;\">5</text></g><g class=\"x2tick\"><text text-anchor=\"middle\" x=\"0\" y=\"173\" transform=\"translate(557.54,0)\" style=\"font-family: 'Open Sans', verdana, arial, sans-serif; font-size: 12px; fill: rgb(42, 63, 95); fill-opacity: 1; white-space: pre;\">10</text></g></g><g class=\"yaxislayer-above\"><g class=\"y2tick\"><text text-anchor=\"end\" x=\"357.3\" y=\"4.199999999999999\" transform=\"translate(0,160)\" style=\"font-family: 'Open Sans', verdana, arial, sans-serif; font-size: 12px; fill: rgb(42, 63, 95); fill-opacity: 1; white-space: pre;\">0</text></g><g class=\"y2tick\"><text text-anchor=\"end\" x=\"357.3\" y=\"4.199999999999999\" transform=\"translate(0,143.24)\" style=\"font-family: 'Open Sans', verdana, arial, sans-serif; font-size: 12px; fill: rgb(42, 63, 95); fill-opacity: 1; white-space: pre;\">10</text></g><g class=\"y2tick\"><text text-anchor=\"end\" x=\"357.3\" y=\"4.199999999999999\" transform=\"translate(0,126.47)\" style=\"font-family: 'Open Sans', verdana, arial, sans-serif; font-size: 12px; fill: rgb(42, 63, 95); fill-opacity: 1; white-space: pre;\">20</text></g><g class=\"y2tick\"><text text-anchor=\"end\" x=\"357.3\" y=\"4.199999999999999\" transform=\"translate(0,109.71000000000001)\" style=\"font-family: 'Open Sans', verdana, arial, sans-serif; font-size: 12px; fill: rgb(42, 63, 95); fill-opacity: 1; white-space: pre;\">30</text></g></g><g class=\"overaxes-above\"/></g><g class=\"subplot x3y3\"><g class=\"layer-subplot\"><g class=\"shapelayer\"/><g class=\"imagelayer\"/></g><g class=\"gridlayer\"><g class=\"x3\"/><g class=\"y3\"><path class=\"y3grid crisp\" transform=\"translate(0,250.38)\" d=\"M80,0h227.70000000000002\" style=\"stroke: rgb(255, 255, 255); stroke-opacity: 1; stroke-width: 1px;\"/><path class=\"y3grid crisp\" transform=\"translate(0,235.77)\" d=\"M80,0h227.70000000000002\" style=\"stroke: rgb(255, 255, 255); stroke-opacity: 1; stroke-width: 1px;\"/><path class=\"y3grid crisp\" transform=\"translate(0,221.15)\" d=\"M80,0h227.70000000000002\" style=\"stroke: rgb(255, 255, 255); stroke-opacity: 1; stroke-width: 1px;\"/><path class=\"y3grid crisp\" transform=\"translate(0,206.54)\" d=\"M80,0h227.70000000000002\" style=\"stroke: rgb(255, 255, 255); stroke-opacity: 1; stroke-width: 1px;\"/></g></g><g class=\"zerolinelayer\"><path class=\"y3zl zl crisp\" transform=\"translate(0,265)\" d=\"M80,0h227.70000000000002\" style=\"stroke: rgb(255, 255, 255); stroke-opacity: 1; stroke-width: 2px;\"/></g><path class=\"xlines-below\"/><path class=\"ylines-below\"/><g class=\"overlines-below\"/><g class=\"xaxislayer-below\"/><g class=\"yaxislayer-below\"/><g class=\"overaxes-below\"/><g class=\"plot\" transform=\"translate(80, 205)\" clip-path=\"url('#clipaaf463x3y3plot')\"><g class=\"barlayer mlayer\"><g class=\"trace bars\" style=\"opacity: 1;\"><g class=\"points\"><g class=\"point\"><path d=\"M0.65,60V3H5.86V60Z\" style=\"vector-effect: non-scaling-stroke; opacity: 1; stroke-width: 0.5px; fill: rgb(255, 160, 122); fill-opacity: 1; stroke: rgb(229, 236, 246); stroke-opacity: 1;\"/></g><g class=\"point\"><path d=\"M7.16,60V58.54H12.36V60Z\" style=\"vector-effect: non-scaling-stroke; opacity: 1; stroke-width: 0.5px; fill: rgb(255, 160, 122); fill-opacity: 1; stroke: rgb(229, 236, 246); stroke-opacity: 1;\"/></g><g class=\"point\"><path d=\"M13.66,60V59.27H18.87V60Z\" style=\"vector-effect: non-scaling-stroke; opacity: 1; stroke-width: 0.5px; fill: rgb(255, 160, 122); fill-opacity: 1; stroke: rgb(229, 236, 246); stroke-opacity: 1;\"/></g><g class=\"point\"><path d=\"M20.17,60V59.27H25.37V60Z\" style=\"vector-effect: non-scaling-stroke; opacity: 1; stroke-width: 0.5px; fill: rgb(255, 160, 122); fill-opacity: 1; stroke: rgb(229, 236, 246); stroke-opacity: 1;\"/></g><g class=\"point\"><path d=\"M33.18,60V58.54H38.38V60Z\" style=\"vector-effect: non-scaling-stroke; opacity: 1; stroke-width: 0.5px; fill: rgb(255, 160, 122); fill-opacity: 1; stroke: rgb(229, 236, 246); stroke-opacity: 1;\"/></g><g class=\"point\"><path d=\"M46.19,60V57.81H51.4V60Z\" style=\"vector-effect: non-scaling-stroke; opacity: 1; stroke-width: 0.5px; fill: rgb(255, 160, 122); fill-opacity: 1; stroke: rgb(229, 236, 246); stroke-opacity: 1;\"/></g><g class=\"point\"><path d=\"M59.2,60V58.54H64.41V60Z\" style=\"vector-effect: non-scaling-stroke; opacity: 1; stroke-width: 0.5px; fill: rgb(255, 160, 122); fill-opacity: 1; stroke: rgb(229, 236, 246); stroke-opacity: 1;\"/></g><g class=\"point\"><path d=\"M65.71,60V59.27H70.91V60Z\" style=\"vector-effect: non-scaling-stroke; opacity: 1; stroke-width: 0.5px; fill: rgb(255, 160, 122); fill-opacity: 1; stroke: rgb(229, 236, 246); stroke-opacity: 1;\"/></g><g class=\"point\"><path d=\"M78.72,60V59.27H83.92V60Z\" style=\"vector-effect: non-scaling-stroke; opacity: 1; stroke-width: 0.5px; fill: rgb(255, 160, 122); fill-opacity: 1; stroke: rgb(229, 236, 246); stroke-opacity: 1;\"/></g><g class=\"point\"><path d=\"M85.22,60V59.27H90.43V60Z\" style=\"vector-effect: non-scaling-stroke; opacity: 1; stroke-width: 0.5px; fill: rgb(255, 160, 122); fill-opacity: 1; stroke: rgb(229, 236, 246); stroke-opacity: 1;\"/></g><g class=\"point\"><path d=\"M91.73,60V59.27H96.94V60Z\" style=\"vector-effect: non-scaling-stroke; opacity: 1; stroke-width: 0.5px; fill: rgb(255, 160, 122); fill-opacity: 1; stroke: rgb(229, 236, 246); stroke-opacity: 1;\"/></g><g class=\"point\"><path d=\"M98.24,60V59.27H103.44V60Z\" style=\"vector-effect: non-scaling-stroke; opacity: 1; stroke-width: 0.5px; fill: rgb(255, 160, 122); fill-opacity: 1; stroke: rgb(229, 236, 246); stroke-opacity: 1;\"/></g><g class=\"point\"><path d=\"M143.78,60V59.27H148.98V60Z\" style=\"vector-effect: non-scaling-stroke; opacity: 1; stroke-width: 0.5px; fill: rgb(255, 160, 122); fill-opacity: 1; stroke: rgb(229, 236, 246); stroke-opacity: 1;\"/></g><g class=\"point\"><path d=\"M156.79,60V59.27H161.99V60Z\" style=\"vector-effect: non-scaling-stroke; opacity: 1; stroke-width: 0.5px; fill: rgb(255, 160, 122); fill-opacity: 1; stroke: rgb(229, 236, 246); stroke-opacity: 1;\"/></g><g class=\"point\"><path d=\"M221.84,60V59.27H227.05V60Z\" style=\"vector-effect: non-scaling-stroke; opacity: 1; stroke-width: 0.5px; fill: rgb(255, 160, 122); fill-opacity: 1; stroke: rgb(229, 236, 246); stroke-opacity: 1;\"/></g></g></g></g></g><g class=\"overplot\"/><path class=\"xlines-above crisp\" d=\"M0,0\" style=\"fill: none;\"/><path class=\"ylines-above crisp\" d=\"M0,0\" style=\"fill: none;\"/><g class=\"overlines-above\"/><g class=\"xaxislayer-above\"><g class=\"x3tick\"><text text-anchor=\"middle\" x=\"0\" y=\"278\" transform=\"translate(83.25,0)\" style=\"font-family: 'Open Sans', verdana, arial, sans-serif; font-size: 12px; fill: rgb(42, 63, 95); fill-opacity: 1; white-space: pre;\">0</text></g><g class=\"x3tick\"><text text-anchor=\"middle\" x=\"0\" y=\"278\" transform=\"translate(148.31,0)\" style=\"font-family: 'Open Sans', verdana, arial, sans-serif; font-size: 12px; fill: rgb(42, 63, 95); fill-opacity: 1; white-space: pre;\">10</text></g><g class=\"x3tick\"><text text-anchor=\"middle\" x=\"0\" y=\"278\" transform=\"translate(213.37,0)\" style=\"font-family: 'Open Sans', verdana, arial, sans-serif; font-size: 12px; fill: rgb(42, 63, 95); fill-opacity: 1; white-space: pre;\">20</text></g><g class=\"x3tick\"><text text-anchor=\"middle\" x=\"0\" y=\"278\" transform=\"translate(278.41999999999996,0)\" style=\"font-family: 'Open Sans', verdana, arial, sans-serif; font-size: 12px; fill: rgb(42, 63, 95); fill-opacity: 1; white-space: pre;\">30</text></g></g><g class=\"yaxislayer-above\"><g class=\"y3tick\"><text text-anchor=\"end\" x=\"79\" y=\"4.199999999999999\" transform=\"translate(0,265)\" style=\"font-family: 'Open Sans', verdana, arial, sans-serif; font-size: 12px; fill: rgb(42, 63, 95); fill-opacity: 1; white-space: pre;\">0</text></g><g class=\"y3tick\"><text text-anchor=\"end\" x=\"79\" y=\"4.199999999999999\" transform=\"translate(0,250.38)\" style=\"font-family: 'Open Sans', verdana, arial, sans-serif; font-size: 12px; fill: rgb(42, 63, 95); fill-opacity: 1; white-space: pre;\">20</text></g><g class=\"y3tick\"><text text-anchor=\"end\" x=\"79\" y=\"4.199999999999999\" transform=\"translate(0,235.77)\" style=\"font-family: 'Open Sans', verdana, arial, sans-serif; font-size: 12px; fill: rgb(42, 63, 95); fill-opacity: 1; white-space: pre;\">40</text></g><g class=\"y3tick\"><text text-anchor=\"end\" x=\"79\" y=\"4.199999999999999\" transform=\"translate(0,221.15)\" style=\"font-family: 'Open Sans', verdana, arial, sans-serif; font-size: 12px; fill: rgb(42, 63, 95); fill-opacity: 1; white-space: pre;\">60</text></g><g class=\"y3tick\"><text text-anchor=\"end\" x=\"79\" y=\"4.199999999999999\" transform=\"translate(0,206.54)\" style=\"font-family: 'Open Sans', verdana, arial, sans-serif; font-size: 12px; fill: rgb(42, 63, 95); fill-opacity: 1; white-space: pre;\">80</text></g></g><g class=\"overaxes-above\"/></g><g class=\"subplot x4y4\"><g class=\"layer-subplot\"><g class=\"shapelayer\"/><g class=\"imagelayer\"/></g><g class=\"gridlayer\"><g class=\"x4\"/><g class=\"y4\"><path class=\"y4grid crisp\" transform=\"translate(0,251.43)\" d=\"M358.3,0h227.7\" style=\"stroke: rgb(255, 255, 255); stroke-opacity: 1; stroke-width: 1px;\"/><path class=\"y4grid crisp\" transform=\"translate(0,237.86)\" d=\"M358.3,0h227.7\" style=\"stroke: rgb(255, 255, 255); stroke-opacity: 1; stroke-width: 1px;\"/><path class=\"y4grid crisp\" transform=\"translate(0,224.29)\" d=\"M358.3,0h227.7\" style=\"stroke: rgb(255, 255, 255); stroke-opacity: 1; stroke-width: 1px;\"/><path class=\"y4grid crisp\" transform=\"translate(0,210.71)\" d=\"M358.3,0h227.7\" style=\"stroke: rgb(255, 255, 255); stroke-opacity: 1; stroke-width: 1px;\"/></g></g><g class=\"zerolinelayer\"><path class=\"y4zl zl crisp\" transform=\"translate(0,265)\" d=\"M358.3,0h227.7\" style=\"stroke: rgb(255, 255, 255); stroke-opacity: 1; stroke-width: 2px;\"/></g><path class=\"xlines-below\"/><path class=\"ylines-below\"/><g class=\"overlines-below\"/><g class=\"xaxislayer-below\"/><g class=\"yaxislayer-below\"/><g class=\"overaxes-below\"/><g class=\"plot\" transform=\"translate(358.3, 205)\" clip-path=\"url('#clipaaf463x4y4plot')\"><g class=\"barlayer mlayer\"><g class=\"trace bars\" style=\"opacity: 1;\"><g class=\"points\"><g class=\"point\"><path d=\"M1.42,60V3H12.81V60Z\" style=\"vector-effect: non-scaling-stroke; opacity: 1; stroke-width: 0.5px; fill: rgb(216, 191, 216); fill-opacity: 1; stroke: rgb(229, 236, 246); stroke-opacity: 1;\"/></g><g class=\"point\"><path d=\"M15.65,60V57.29H27.04V60Z\" style=\"vector-effect: non-scaling-stroke; opacity: 1; stroke-width: 0.5px; fill: rgb(216, 191, 216); fill-opacity: 1; stroke: rgb(229, 236, 246); stroke-opacity: 1;\"/></g><g class=\"point\"><path d=\"M29.89,60V57.96H41.27V60Z\" style=\"vector-effect: non-scaling-stroke; opacity: 1; stroke-width: 0.5px; fill: rgb(216, 191, 216); fill-opacity: 1; stroke: rgb(229, 236, 246); stroke-opacity: 1;\"/></g><g class=\"point\"><path d=\"M44.12,60V57.29H55.5V60Z\" style=\"vector-effect: non-scaling-stroke; opacity: 1; stroke-width: 0.5px; fill: rgb(216, 191, 216); fill-opacity: 1; stroke: rgb(229, 236, 246); stroke-opacity: 1;\"/></g><g class=\"point\"><path d=\"M86.81,60V59.32H98.2V60Z\" style=\"vector-effect: non-scaling-stroke; opacity: 1; stroke-width: 0.5px; fill: rgb(216, 191, 216); fill-opacity: 1; stroke: rgb(229, 236, 246); stroke-opacity: 1;\"/></g><g class=\"point\"><path d=\"M214.89,60V59.32H226.28V60Z\" style=\"vector-effect: non-scaling-stroke; opacity: 1; stroke-width: 0.5px; fill: rgb(216, 191, 216); fill-opacity: 1; stroke: rgb(229, 236, 246); stroke-opacity: 1;\"/></g></g></g></g></g><g class=\"overplot\"/><path class=\"xlines-above crisp\" d=\"M0,0\" style=\"fill: none;\"/><path class=\"ylines-above crisp\" d=\"M0,0\" style=\"fill: none;\"/><g class=\"overlines-above\"/><g class=\"xaxislayer-above\"><g class=\"x4tick\"><text text-anchor=\"middle\" x=\"0\" y=\"278\" transform=\"translate(365.42,0)\" style=\"font-family: 'Open Sans', verdana, arial, sans-serif; font-size: 12px; fill: rgb(42, 63, 95); fill-opacity: 1; white-space: pre;\">0</text></g><g class=\"x4tick\"><text text-anchor=\"middle\" x=\"0\" y=\"278\" transform=\"translate(436.57,0)\" style=\"font-family: 'Open Sans', verdana, arial, sans-serif; font-size: 12px; fill: rgb(42, 63, 95); fill-opacity: 1; white-space: pre;\">5</text></g><g class=\"x4tick\"><text text-anchor=\"middle\" x=\"0\" y=\"278\" transform=\"translate(507.73,0)\" style=\"font-family: 'Open Sans', verdana, arial, sans-serif; font-size: 12px; fill: rgb(42, 63, 95); fill-opacity: 1; white-space: pre;\">10</text></g><g class=\"x4tick\"><text text-anchor=\"middle\" x=\"0\" y=\"278\" transform=\"translate(578.88,0)\" style=\"font-family: 'Open Sans', verdana, arial, sans-serif; font-size: 12px; fill: rgb(42, 63, 95); fill-opacity: 1; white-space: pre;\">15</text></g></g><g class=\"yaxislayer-above\"><g class=\"y4tick\"><text text-anchor=\"end\" x=\"357.3\" y=\"4.199999999999999\" transform=\"translate(0,265)\" style=\"font-family: 'Open Sans', verdana, arial, sans-serif; font-size: 12px; fill: rgb(42, 63, 95); fill-opacity: 1; white-space: pre;\">0</text></g><g class=\"y4tick\"><text text-anchor=\"end\" x=\"357.3\" y=\"4.199999999999999\" transform=\"translate(0,251.43)\" style=\"font-family: 'Open Sans', verdana, arial, sans-serif; font-size: 12px; fill: rgb(42, 63, 95); fill-opacity: 1; white-space: pre;\">20</text></g><g class=\"y4tick\"><text text-anchor=\"end\" x=\"357.3\" y=\"4.199999999999999\" transform=\"translate(0,237.86)\" style=\"font-family: 'Open Sans', verdana, arial, sans-serif; font-size: 12px; fill: rgb(42, 63, 95); fill-opacity: 1; white-space: pre;\">40</text></g><g class=\"y4tick\"><text text-anchor=\"end\" x=\"357.3\" y=\"4.199999999999999\" transform=\"translate(0,224.29)\" style=\"font-family: 'Open Sans', verdana, arial, sans-serif; font-size: 12px; fill: rgb(42, 63, 95); fill-opacity: 1; white-space: pre;\">60</text></g><g class=\"y4tick\"><text text-anchor=\"end\" x=\"357.3\" y=\"4.199999999999999\" transform=\"translate(0,210.71)\" style=\"font-family: 'Open Sans', verdana, arial, sans-serif; font-size: 12px; fill: rgb(42, 63, 95); fill-opacity: 1; white-space: pre;\">80</text></g></g><g class=\"overaxes-above\"/></g><g class=\"subplot x5y5\"><g class=\"layer-subplot\"><g class=\"shapelayer\"/><g class=\"imagelayer\"/></g><g class=\"gridlayer\"><g class=\"x5\"/><g class=\"y5\"><path class=\"y5grid crisp\" transform=\"translate(0,349.64)\" d=\"M80,0h227.70000000000002\" style=\"stroke: rgb(255, 255, 255); stroke-opacity: 1; stroke-width: 1px;\"/><path class=\"y5grid crisp\" transform=\"translate(0,329.29)\" d=\"M80,0h227.70000000000002\" style=\"stroke: rgb(255, 255, 255); stroke-opacity: 1; stroke-width: 1px;\"/></g></g><g class=\"zerolinelayer\"><path class=\"y5zl zl crisp\" transform=\"translate(0,370)\" d=\"M80,0h227.70000000000002\" style=\"stroke: rgb(255, 255, 255); stroke-opacity: 1; stroke-width: 2px;\"/></g><path class=\"xlines-below\"/><path class=\"ylines-below\"/><g class=\"overlines-below\"/><g class=\"xaxislayer-below\"/><g class=\"yaxislayer-below\"/><g class=\"overaxes-below\"/><g class=\"plot\" transform=\"translate(80, 310)\" clip-path=\"url('#clipaaf463x5y5plot')\"><g class=\"barlayer mlayer\"><g class=\"trace bars\" style=\"opacity: 1;\"><g class=\"points\"><g class=\"point\"><path d=\"M1.08,60V3H9.76V60Z\" style=\"vector-effect: non-scaling-stroke; opacity: 1; stroke-width: 0.5px; fill: rgb(240, 128, 128); fill-opacity: 1; stroke: rgb(229, 236, 246); stroke-opacity: 1;\"/></g><g class=\"point\"><path d=\"M11.93,60V49.82H20.6V60Z\" style=\"vector-effect: non-scaling-stroke; opacity: 1; stroke-width: 0.5px; fill: rgb(240, 128, 128); fill-opacity: 1; stroke: rgb(229, 236, 246); stroke-opacity: 1;\"/></g><g class=\"point\"><path d=\"M22.77,60V57.96H31.44V60Z\" style=\"vector-effect: non-scaling-stroke; opacity: 1; stroke-width: 0.5px; fill: rgb(240, 128, 128); fill-opacity: 1; stroke: rgb(229, 236, 246); stroke-opacity: 1;\"/></g><g class=\"point\"><path d=\"M33.61,60V53.89H42.29V60Z\" style=\"vector-effect: non-scaling-stroke; opacity: 1; stroke-width: 0.5px; fill: rgb(240, 128, 128); fill-opacity: 1; stroke: rgb(229, 236, 246); stroke-opacity: 1;\"/></g><g class=\"point\"><path d=\"M44.46,60V58.98H53.13V60Z\" style=\"vector-effect: non-scaling-stroke; opacity: 1; stroke-width: 0.5px; fill: rgb(240, 128, 128); fill-opacity: 1; stroke: rgb(229, 236, 246); stroke-opacity: 1;\"/></g><g class=\"point\"><path d=\"M55.3,60V57.96H63.97V60Z\" style=\"vector-effect: non-scaling-stroke; opacity: 1; stroke-width: 0.5px; fill: rgb(240, 128, 128); fill-opacity: 1; stroke: rgb(229, 236, 246); stroke-opacity: 1;\"/></g><g class=\"point\"><path d=\"M66.14,60V56.95H74.82V60Z\" style=\"vector-effect: non-scaling-stroke; opacity: 1; stroke-width: 0.5px; fill: rgb(240, 128, 128); fill-opacity: 1; stroke: rgb(229, 236, 246); stroke-opacity: 1;\"/></g><g class=\"point\"><path d=\"M76.98,60V58.98H85.66V60Z\" style=\"vector-effect: non-scaling-stroke; opacity: 1; stroke-width: 0.5px; fill: rgb(240, 128, 128); fill-opacity: 1; stroke: rgb(229, 236, 246); stroke-opacity: 1;\"/></g><g class=\"point\"><path d=\"M87.83,60V58.98H96.5V60Z\" style=\"vector-effect: non-scaling-stroke; opacity: 1; stroke-width: 0.5px; fill: rgb(240, 128, 128); fill-opacity: 1; stroke: rgb(229, 236, 246); stroke-opacity: 1;\"/></g><g class=\"point\"><path d=\"M98.67,60V56.95H107.34V60Z\" style=\"vector-effect: non-scaling-stroke; opacity: 1; stroke-width: 0.5px; fill: rgb(240, 128, 128); fill-opacity: 1; stroke: rgb(229, 236, 246); stroke-opacity: 1;\"/></g><g class=\"point\"><path d=\"M109.51,60V56.95H118.19V60Z\" style=\"vector-effect: non-scaling-stroke; opacity: 1; stroke-width: 0.5px; fill: rgb(240, 128, 128); fill-opacity: 1; stroke: rgb(229, 236, 246); stroke-opacity: 1;\"/></g><g class=\"point\"><path d=\"M131.2,60V58.98H139.87V60Z\" style=\"vector-effect: non-scaling-stroke; opacity: 1; stroke-width: 0.5px; fill: rgb(240, 128, 128); fill-opacity: 1; stroke: rgb(229, 236, 246); stroke-opacity: 1;\"/></g><g class=\"point\"><path d=\"M142.04,60V58.98H150.72V60Z\" style=\"vector-effect: non-scaling-stroke; opacity: 1; stroke-width: 0.5px; fill: rgb(240, 128, 128); fill-opacity: 1; stroke: rgb(229, 236, 246); stroke-opacity: 1;\"/></g><g class=\"point\"><path d=\"M152.88,60V57.96H161.56V60Z\" style=\"vector-effect: non-scaling-stroke; opacity: 1; stroke-width: 0.5px; fill: rgb(240, 128, 128); fill-opacity: 1; stroke: rgb(229, 236, 246); stroke-opacity: 1;\"/></g><g class=\"point\"><path d=\"M163.73,60V58.98H172.4V60Z\" style=\"vector-effect: non-scaling-stroke; opacity: 1; stroke-width: 0.5px; fill: rgb(240, 128, 128); fill-opacity: 1; stroke: rgb(229, 236, 246); stroke-opacity: 1;\"/></g><g class=\"point\"><path d=\"M174.57,60V57.96H183.24V60Z\" style=\"vector-effect: non-scaling-stroke; opacity: 1; stroke-width: 0.5px; fill: rgb(240, 128, 128); fill-opacity: 1; stroke: rgb(229, 236, 246); stroke-opacity: 1;\"/></g><g class=\"point\"><path d=\"M207.1,60V58.98H215.77V60Z\" style=\"vector-effect: non-scaling-stroke; opacity: 1; stroke-width: 0.5px; fill: rgb(240, 128, 128); fill-opacity: 1; stroke: rgb(229, 236, 246); stroke-opacity: 1;\"/></g><g class=\"point\"><path d=\"M217.94,60V58.98H226.62V60Z\" style=\"vector-effect: non-scaling-stroke; opacity: 1; stroke-width: 0.5px; fill: rgb(240, 128, 128); fill-opacity: 1; stroke: rgb(229, 236, 246); stroke-opacity: 1;\"/></g></g></g></g></g><g class=\"overplot\"/><path class=\"xlines-above crisp\" d=\"M0,0\" style=\"fill: none;\"/><path class=\"ylines-above crisp\" d=\"M0,0\" style=\"fill: none;\"/><g class=\"overlines-above\"/><g class=\"xaxislayer-above\"><g class=\"x5tick\"><text text-anchor=\"middle\" x=\"0\" y=\"383\" transform=\"translate(85.42,0)\" style=\"font-family: 'Open Sans', verdana, arial, sans-serif; font-size: 12px; fill: rgb(42, 63, 95); fill-opacity: 1; white-space: pre;\">0</text></g><g class=\"x5tick\"><text text-anchor=\"middle\" x=\"0\" y=\"383\" transform=\"translate(139.64,0)\" style=\"font-family: 'Open Sans', verdana, arial, sans-serif; font-size: 12px; fill: rgb(42, 63, 95); fill-opacity: 1; white-space: pre;\">5</text></g><g class=\"x5tick\"><text text-anchor=\"middle\" x=\"0\" y=\"383\" transform=\"translate(193.85,0)\" style=\"font-family: 'Open Sans', verdana, arial, sans-serif; font-size: 12px; fill: rgb(42, 63, 95); fill-opacity: 1; white-space: pre;\">10</text></g><g class=\"x5tick\"><text text-anchor=\"middle\" x=\"0\" y=\"383\" transform=\"translate(248.06,0)\" style=\"font-family: 'Open Sans', verdana, arial, sans-serif; font-size: 12px; fill: rgb(42, 63, 95); fill-opacity: 1; white-space: pre;\">15</text></g><g class=\"x5tick\"><text text-anchor=\"middle\" x=\"0\" y=\"383\" transform=\"translate(302.28,0)\" style=\"font-family: 'Open Sans', verdana, arial, sans-serif; font-size: 12px; fill: rgb(42, 63, 95); fill-opacity: 1; white-space: pre;\">20</text></g></g><g class=\"yaxislayer-above\"><g class=\"y5tick\"><text text-anchor=\"end\" x=\"79\" y=\"4.199999999999999\" transform=\"translate(0,370)\" style=\"font-family: 'Open Sans', verdana, arial, sans-serif; font-size: 12px; fill: rgb(42, 63, 95); fill-opacity: 1; white-space: pre;\">0</text></g><g class=\"y5tick\"><text text-anchor=\"end\" x=\"79\" y=\"4.199999999999999\" transform=\"translate(0,349.64)\" style=\"font-family: 'Open Sans', verdana, arial, sans-serif; font-size: 12px; fill: rgb(42, 63, 95); fill-opacity: 1; white-space: pre;\">20</text></g><g class=\"y5tick\"><text text-anchor=\"end\" x=\"79\" y=\"4.199999999999999\" transform=\"translate(0,329.29)\" style=\"font-family: 'Open Sans', verdana, arial, sans-serif; font-size: 12px; fill: rgb(42, 63, 95); fill-opacity: 1; white-space: pre;\">40</text></g></g><g class=\"overaxes-above\"/></g><g class=\"subplot x6y6\"><g class=\"layer-subplot\"><g class=\"shapelayer\"/><g class=\"imagelayer\"/></g><g class=\"gridlayer\"><g class=\"x6\"/><g class=\"y6\"><path class=\"y6grid crisp\" transform=\"translate(0,355.93)\" d=\"M358.3,0h227.7\" style=\"stroke: rgb(255, 255, 255); stroke-opacity: 1; stroke-width: 1px;\"/><path class=\"y6grid crisp\" transform=\"translate(0,341.85)\" d=\"M358.3,0h227.7\" style=\"stroke: rgb(255, 255, 255); stroke-opacity: 1; stroke-width: 1px;\"/><path class=\"y6grid crisp\" transform=\"translate(0,327.78)\" d=\"M358.3,0h227.7\" style=\"stroke: rgb(255, 255, 255); stroke-opacity: 1; stroke-width: 1px;\"/><path class=\"y6grid crisp\" transform=\"translate(0,313.7)\" d=\"M358.3,0h227.7\" style=\"stroke: rgb(255, 255, 255); stroke-opacity: 1; stroke-width: 1px;\"/></g></g><g class=\"zerolinelayer\"><path class=\"y6zl zl crisp\" transform=\"translate(0,370)\" d=\"M358.3,0h227.7\" style=\"stroke: rgb(255, 255, 255); stroke-opacity: 1; stroke-width: 2px;\"/></g><path class=\"xlines-below\"/><path class=\"ylines-below\"/><g class=\"overlines-below\"/><g class=\"xaxislayer-below\"/><g class=\"yaxislayer-below\"/><g class=\"overaxes-below\"/><g class=\"plot\" transform=\"translate(358.3, 310)\" clip-path=\"url('#clipaaf463x6y6plot')\"><g class=\"barlayer mlayer\"><g class=\"trace bars\" style=\"opacity: 1;\"><g class=\"points\"><g class=\"point\"><path d=\"M1.14,60V3H10.25V60Z\" style=\"vector-effect: non-scaling-stroke; opacity: 1; stroke-width: 0.5px; fill: rgb(255, 182, 193); fill-opacity: 1; stroke: rgb(229, 236, 246); stroke-opacity: 1;\"/></g><g class=\"point\"><path d=\"M12.52,60V59.3H21.63V60Z\" style=\"vector-effect: non-scaling-stroke; opacity: 1; stroke-width: 0.5px; fill: rgb(255, 182, 193); fill-opacity: 1; stroke: rgb(229, 236, 246); stroke-opacity: 1;\"/></g><g class=\"point\"><path d=\"M23.91,60V58.59H33.02V60Z\" style=\"vector-effect: non-scaling-stroke; opacity: 1; stroke-width: 0.5px; fill: rgb(255, 182, 193); fill-opacity: 1; stroke: rgb(229, 236, 246); stroke-opacity: 1;\"/></g><g class=\"point\"><path d=\"M35.29,60V55.78H44.4V60Z\" style=\"vector-effect: non-scaling-stroke; opacity: 1; stroke-width: 0.5px; fill: rgb(255, 182, 193); fill-opacity: 1; stroke: rgb(229, 236, 246); stroke-opacity: 1;\"/></g><g class=\"point\"><path d=\"M69.45,60V58.59H78.56V60Z\" style=\"vector-effect: non-scaling-stroke; opacity: 1; stroke-width: 0.5px; fill: rgb(255, 182, 193); fill-opacity: 1; stroke: rgb(229, 236, 246); stroke-opacity: 1;\"/></g><g class=\"point\"><path d=\"M80.83,60V58.59H89.94V60Z\" style=\"vector-effect: non-scaling-stroke; opacity: 1; stroke-width: 0.5px; fill: rgb(255, 182, 193); fill-opacity: 1; stroke: rgb(229, 236, 246); stroke-opacity: 1;\"/></g><g class=\"point\"><path d=\"M92.22,60V59.3H101.33V60Z\" style=\"vector-effect: non-scaling-stroke; opacity: 1; stroke-width: 0.5px; fill: rgb(255, 182, 193); fill-opacity: 1; stroke: rgb(229, 236, 246); stroke-opacity: 1;\"/></g><g class=\"point\"><path d=\"M126.37,60V59.3H135.48V60Z\" style=\"vector-effect: non-scaling-stroke; opacity: 1; stroke-width: 0.5px; fill: rgb(255, 182, 193); fill-opacity: 1; stroke: rgb(229, 236, 246); stroke-opacity: 1;\"/></g><g class=\"point\"><path d=\"M217.45,60V59.3H226.56V60Z\" style=\"vector-effect: non-scaling-stroke; opacity: 1; stroke-width: 0.5px; fill: rgb(255, 182, 193); fill-opacity: 1; stroke: rgb(229, 236, 246); stroke-opacity: 1;\"/></g></g></g></g></g><g class=\"overplot\"/><path class=\"xlines-above crisp\" d=\"M0,0\" style=\"fill: none;\"/><path class=\"ylines-above crisp\" d=\"M0,0\" style=\"fill: none;\"/><g class=\"overlines-above\"/><g class=\"xaxislayer-above\"><g class=\"x6tick\"><text text-anchor=\"middle\" x=\"0\" y=\"383\" transform=\"translate(363.99,0)\" style=\"font-family: 'Open Sans', verdana, arial, sans-serif; font-size: 12px; fill: rgb(42, 63, 95); fill-opacity: 1; white-space: pre;\">0</text></g><g class=\"x6tick\"><text text-anchor=\"middle\" x=\"0\" y=\"383\" transform=\"translate(420.92,0)\" style=\"font-family: 'Open Sans', verdana, arial, sans-serif; font-size: 12px; fill: rgb(42, 63, 95); fill-opacity: 1; white-space: pre;\">5</text></g><g class=\"x6tick\"><text text-anchor=\"middle\" x=\"0\" y=\"383\" transform=\"translate(477.84000000000003,0)\" style=\"font-family: 'Open Sans', verdana, arial, sans-serif; font-size: 12px; fill: rgb(42, 63, 95); fill-opacity: 1; white-space: pre;\">10</text></g><g class=\"x6tick\"><text text-anchor=\"middle\" x=\"0\" y=\"383\" transform=\"translate(534.77,0)\" style=\"font-family: 'Open Sans', verdana, arial, sans-serif; font-size: 12px; fill: rgb(42, 63, 95); fill-opacity: 1; white-space: pre;\">15</text></g></g><g class=\"yaxislayer-above\"><g class=\"y6tick\"><text text-anchor=\"end\" x=\"357.3\" y=\"4.199999999999999\" transform=\"translate(0,370)\" style=\"font-family: 'Open Sans', verdana, arial, sans-serif; font-size: 12px; fill: rgb(42, 63, 95); fill-opacity: 1; white-space: pre;\">0</text></g><g class=\"y6tick\"><text text-anchor=\"end\" x=\"357.3\" y=\"4.199999999999999\" transform=\"translate(0,355.93)\" style=\"font-family: 'Open Sans', verdana, arial, sans-serif; font-size: 12px; fill: rgb(42, 63, 95); fill-opacity: 1; white-space: pre;\">20</text></g><g class=\"y6tick\"><text text-anchor=\"end\" x=\"357.3\" y=\"4.199999999999999\" transform=\"translate(0,341.85)\" style=\"font-family: 'Open Sans', verdana, arial, sans-serif; font-size: 12px; fill: rgb(42, 63, 95); fill-opacity: 1; white-space: pre;\">40</text></g><g class=\"y6tick\"><text text-anchor=\"end\" x=\"357.3\" y=\"4.199999999999999\" transform=\"translate(0,327.78)\" style=\"font-family: 'Open Sans', verdana, arial, sans-serif; font-size: 12px; fill: rgb(42, 63, 95); fill-opacity: 1; white-space: pre;\">60</text></g><g class=\"y6tick\"><text text-anchor=\"end\" x=\"357.3\" y=\"4.199999999999999\" transform=\"translate(0,313.7)\" style=\"font-family: 'Open Sans', verdana, arial, sans-serif; font-size: 12px; fill: rgb(42, 63, 95); fill-opacity: 1; white-space: pre;\">80</text></g></g><g class=\"overaxes-above\"/></g></g><g class=\"polarlayer\"/><g class=\"ternarylayer\"/><g class=\"geolayer\"/><g class=\"funnelarealayer\"/><g class=\"pielayer\"/><g class=\"treemaplayer\"/><g class=\"sunburstlayer\"/><g class=\"glimages\"/><defs id=\"topdefs-aaf463\"><g class=\"clips\"/><clipPath id=\"legendaaf463\"><rect width=\"92\" height=\"124\" x=\"0\" y=\"0\"/></clipPath></defs><g class=\"layer-above\"><g class=\"imagelayer\"/><g class=\"shapelayer\"/></g><g class=\"infolayer\"><g class=\"legend\" pointer-events=\"all\" transform=\"translate(596.12, 100)\"><rect class=\"bg\" shape-rendering=\"crispEdges\" width=\"92\" height=\"124\" x=\"0\" y=\"0\" style=\"stroke: rgb(68, 68, 68); stroke-opacity: 1; fill: rgb(255, 255, 255); fill-opacity: 1; stroke-width: 0px;\"/><g class=\"scrollbox\" transform=\"translate(0, 0)\" clip-path=\"url('#legendaaf463')\"><g class=\"groups\"><g class=\"traces\" transform=\"translate(0, 14.5)\" style=\"opacity: 1;\"><text class=\"legendtext user-select-none\" text-anchor=\"start\" x=\"40\" y=\"4.680000000000001\" style=\"font-family: 'Open Sans', verdana, arial, sans-serif; font-size: 12px; fill: rgb(42, 63, 95); fill-opacity: 1; white-space: pre;\">Disease</text><g class=\"layers\" style=\"opacity: 1;\"><g class=\"legendfill\"/><g class=\"legendlines\"/><g class=\"legendsymbols\"><g class=\"legendpoints\"><path class=\"legendundefined\" d=\"M6,6H-6V-6H6Z\" transform=\"translate(20,0)\" style=\"stroke-width: 0.5px; fill: rgb(255, 215, 0); fill-opacity: 1; stroke: rgb(229, 236, 246); stroke-opacity: 1;\"/></g></g></g><rect class=\"legendtoggle\" pointer-events=\"all\" x=\"0\" y=\"-9.5\" width=\"86.546875\" height=\"19\" style=\"cursor: pointer; fill: rgb(0, 0, 0); fill-opacity: 0;\"/></g><g class=\"traces\" transform=\"translate(0, 33.5)\" style=\"opacity: 1;\"><text class=\"legendtext user-select-none\" text-anchor=\"start\" x=\"40\" y=\"4.680000000000001\" style=\"font-family: 'Open Sans', verdana, arial, sans-serif; font-size: 12px; fill: rgb(42, 63, 95); fill-opacity: 1; white-space: pre;\">Disease</text><g class=\"layers\" style=\"opacity: 1;\"><g class=\"legendfill\"/><g class=\"legendlines\"/><g class=\"legendsymbols\"><g class=\"legendpoints\"><path class=\"legendundefined\" d=\"M6,6H-6V-6H6Z\" transform=\"translate(20,0)\" style=\"stroke-width: 0.5px; fill: rgb(221, 160, 221); fill-opacity: 1; stroke: rgb(229, 236, 246); stroke-opacity: 1;\"/></g></g></g><rect class=\"legendtoggle\" pointer-events=\"all\" x=\"0\" y=\"-9.5\" width=\"86.546875\" height=\"19\" style=\"cursor: pointer; fill: rgb(0, 0, 0); fill-opacity: 0;\"/></g><g class=\"traces\" transform=\"translate(0, 52.5)\" style=\"opacity: 1;\"><text class=\"legendtext user-select-none\" text-anchor=\"start\" x=\"40\" y=\"4.680000000000001\" style=\"font-family: 'Open Sans', verdana, arial, sans-serif; font-size: 12px; fill: rgb(42, 63, 95); fill-opacity: 1; white-space: pre;\">Disease</text><g class=\"layers\" style=\"opacity: 1;\"><g class=\"legendfill\"/><g class=\"legendlines\"/><g class=\"legendsymbols\"><g class=\"legendpoints\"><path class=\"legendundefined\" d=\"M6,6H-6V-6H6Z\" transform=\"translate(20,0)\" style=\"stroke-width: 0.5px; fill: rgb(255, 160, 122); fill-opacity: 1; stroke: rgb(229, 236, 246); stroke-opacity: 1;\"/></g></g></g><rect class=\"legendtoggle\" pointer-events=\"all\" x=\"0\" y=\"-9.5\" width=\"86.546875\" height=\"19\" style=\"cursor: pointer; fill: rgb(0, 0, 0); fill-opacity: 0;\"/></g><g class=\"traces\" transform=\"translate(0, 71.5)\" style=\"opacity: 1;\"><text class=\"legendtext user-select-none\" text-anchor=\"start\" x=\"40\" y=\"4.680000000000001\" style=\"font-family: 'Open Sans', verdana, arial, sans-serif; font-size: 12px; fill: rgb(42, 63, 95); fill-opacity: 1; white-space: pre;\">Disease</text><g class=\"layers\" style=\"opacity: 1;\"><g class=\"legendfill\"/><g class=\"legendlines\"/><g class=\"legendsymbols\"><g class=\"legendpoints\"><path class=\"legendundefined\" d=\"M6,6H-6V-6H6Z\" transform=\"translate(20,0)\" style=\"stroke-width: 0.5px; fill: rgb(216, 191, 216); fill-opacity: 1; stroke: rgb(229, 236, 246); stroke-opacity: 1;\"/></g></g></g><rect class=\"legendtoggle\" pointer-events=\"all\" x=\"0\" y=\"-9.5\" width=\"86.546875\" height=\"19\" style=\"cursor: pointer; fill: rgb(0, 0, 0); fill-opacity: 0;\"/></g><g class=\"traces\" transform=\"translate(0, 90.5)\" style=\"opacity: 1;\"><text class=\"legendtext user-select-none\" text-anchor=\"start\" x=\"40\" y=\"4.680000000000001\" style=\"font-family: 'Open Sans', verdana, arial, sans-serif; font-size: 12px; fill: rgb(42, 63, 95); fill-opacity: 1; white-space: pre;\">Disease</text><g class=\"layers\" style=\"opacity: 1;\"><g class=\"legendfill\"/><g class=\"legendlines\"/><g class=\"legendsymbols\"><g class=\"legendpoints\"><path class=\"legendundefined\" d=\"M6,6H-6V-6H6Z\" transform=\"translate(20,0)\" style=\"stroke-width: 0.5px; fill: rgb(240, 128, 128); fill-opacity: 1; stroke: rgb(229, 236, 246); stroke-opacity: 1;\"/></g></g></g><rect class=\"legendtoggle\" pointer-events=\"all\" x=\"0\" y=\"-9.5\" width=\"86.546875\" height=\"19\" style=\"cursor: pointer; fill: rgb(0, 0, 0); fill-opacity: 0;\"/></g><g class=\"traces\" transform=\"translate(0, 109.5)\" style=\"opacity: 1;\"><text class=\"legendtext user-select-none\" text-anchor=\"start\" x=\"40\" y=\"4.680000000000001\" style=\"font-family: 'Open Sans', verdana, arial, sans-serif; font-size: 12px; fill: rgb(42, 63, 95); fill-opacity: 1; white-space: pre;\">Disease</text><g class=\"layers\" style=\"opacity: 1;\"><g class=\"legendfill\"/><g class=\"legendlines\"/><g class=\"legendsymbols\"><g class=\"legendpoints\"><path class=\"legendundefined\" d=\"M6,6H-6V-6H6Z\" transform=\"translate(20,0)\" style=\"stroke-width: 0.5px; fill: rgb(255, 182, 193); fill-opacity: 1; stroke: rgb(229, 236, 246); stroke-opacity: 1;\"/></g></g></g><rect class=\"legendtoggle\" pointer-events=\"all\" x=\"0\" y=\"-9.5\" width=\"86.546875\" height=\"19\" style=\"cursor: pointer; fill: rgb(0, 0, 0); fill-opacity: 0;\"/></g></g></g><rect class=\"scrollbar\" rx=\"20\" ry=\"3\" width=\"0\" height=\"0\" x=\"0\" y=\"0\" style=\"fill: rgb(128, 139, 164); fill-opacity: 1;\"/></g><g class=\"g-gtitle\"/><g class=\"g-xtitle\"/><g class=\"g-x2title\"/><g class=\"g-x3title\"/><g class=\"g-x4title\"/><g class=\"g-x5title\"/><g class=\"g-x6title\"/><g class=\"g-ytitle\"/><g class=\"g-y2title\"/><g class=\"g-y3title\"/><g class=\"g-y4title\"/><g class=\"g-y5title\"/><g class=\"g-y6title\"/><g class=\"annotation\" data-index=\"0\" style=\"opacity: 1;\"><g class=\"annotation-text-g\" transform=\"rotate(0,193.85000000000002,88)\"><g class=\"cursor-pointer\" transform=\"translate(84, 76)\"><rect class=\"bg\" x=\"0.5\" y=\"0.5\" width=\"218\" height=\"23\" style=\"stroke-width: 1px; stroke: rgb(0, 0, 0); stroke-opacity: 0; fill: rgb(0, 0, 0); fill-opacity: 0;\"/><text class=\"annotation-text\" text-anchor=\"middle\" x=\"109.59375\" y=\"18\" style=\"font-family: 'Open Sans', verdana, arial, sans-serif; font-size: 16px; fill: rgb(42, 63, 95); fill-opacity: 1; white-space: pre;\">Number of sexual partners</text></g></g></g><g class=\"annotation\" data-index=\"1\" style=\"opacity: 1;\"><g class=\"annotation-text-g\" transform=\"rotate(0,472.15000000000003,88)\"><g class=\"cursor-pointer\" transform=\"translate(377, 76)\"><rect class=\"bg\" x=\"0.5\" y=\"0.5\" width=\"190\" height=\"23\" style=\"stroke-width: 1px; stroke: rgb(0, 0, 0); stroke-opacity: 0; fill: rgb(0, 0, 0); fill-opacity: 0;\"/><text class=\"annotation-text\" text-anchor=\"middle\" x=\"95.671875\" y=\"18\" style=\"font-family: 'Open Sans', verdana, arial, sans-serif; font-size: 16px; fill: rgb(42, 63, 95); fill-opacity: 1; white-space: pre;\">Number of pregnancies</text></g></g></g><g class=\"annotation\" data-index=\"2\" style=\"opacity: 1;\"><g class=\"annotation-text-g\" transform=\"rotate(0,193.85000000000002,193)\"><g class=\"cursor-pointer\" transform=\"translate(128, 181)\"><rect class=\"bg\" x=\"0.5\" y=\"0.5\" width=\"131\" height=\"23\" style=\"stroke-width: 1px; stroke: rgb(0, 0, 0); stroke-opacity: 0; fill: rgb(0, 0, 0); fill-opacity: 0;\"/><text class=\"annotation-text\" text-anchor=\"middle\" x=\"65.75\" y=\"18\" style=\"font-family: 'Open Sans', verdana, arial, sans-serif; font-size: 16px; fill: rgb(42, 63, 95); fill-opacity: 1; white-space: pre;\">Smokes (years)</text></g></g></g><g class=\"annotation\" data-index=\"3\" style=\"opacity: 1;\"><g class=\"annotation-text-g\" transform=\"rotate(0,472.15000000000003,193)\"><g class=\"cursor-pointer\" transform=\"translate(388, 181)\"><rect class=\"bg\" x=\"0.5\" y=\"0.5\" width=\"167\" height=\"23\" style=\"stroke-width: 1px; stroke: rgb(0, 0, 0); stroke-opacity: 0; fill: rgb(0, 0, 0); fill-opacity: 0;\"/><text class=\"annotation-text\" text-anchor=\"middle\" x=\"83.90625\" y=\"18\" style=\"font-family: 'Open Sans', verdana, arial, sans-serif; font-size: 16px; fill: rgb(42, 63, 95); fill-opacity: 1; white-space: pre;\">Smokes (pack/year)</text></g></g></g><g class=\"annotation\" data-index=\"4\" style=\"opacity: 1;\"><g class=\"annotation-text-g\" transform=\"rotate(0,193.85000000000002,298)\"><g class=\"cursor-pointer\" transform=\"translate(58, 286)\"><rect class=\"bg\" x=\"0.5\" y=\"0.5\" width=\"270\" height=\"23\" style=\"stroke-width: 1px; stroke: rgb(0, 0, 0); stroke-opacity: 0; fill: rgb(0, 0, 0); fill-opacity: 0;\"/><text class=\"annotation-text\" text-anchor=\"middle\" x=\"135.578125\" y=\"18\" style=\"font-family: 'Open Sans', verdana, arial, sans-serif; font-size: 16px; fill: rgb(42, 63, 95); fill-opacity: 1; white-space: pre;\">Hormonal Contraceptives (years)</text></g></g></g><g class=\"annotation\" data-index=\"5\" style=\"opacity: 1;\"><g class=\"annotation-text-g\" transform=\"rotate(0,472.15000000000003,298)\"><g class=\"cursor-pointer\" transform=\"translate(423, 286)\"><rect class=\"bg\" x=\"0.5\" y=\"0.5\" width=\"98\" height=\"23\" style=\"stroke-width: 1px; stroke: rgb(0, 0, 0); stroke-opacity: 0; fill: rgb(0, 0, 0); fill-opacity: 0;\"/><text class=\"annotation-text\" text-anchor=\"middle\" x=\"49.359375\" y=\"18\" style=\"font-family: 'Open Sans', verdana, arial, sans-serif; font-size: 16px; fill: rgb(42, 63, 95); fill-opacity: 1; white-space: pre;\">IUD (years)</text></g></g></g></g></svg>"
      ]
     },
     "metadata": {},
     "output_type": "display_data"
    }
   ],
   "source": [
    "fig = make_subplots(\n",
    "                    rows=3, cols=2,\n",
    "                    subplot_titles=('Number of sexual partners',\n",
    "                                   'Number of pregnancies',\n",
    "                                   'Smokes (years)',\n",
    "                                   'Smokes (pack/year)',\n",
    "                                   'Hormonal Contraceptives (years)',\n",
    "                                   'IUD (years)'))\n",
    "add_bar2('Number of sexual partners',1,1,'gold')\n",
    "add_bar2('Num of pregnancies',1,2,'plum')\n",
    "add_bar2('Smokes (years)',2,1,'lightsalmon')\n",
    "add_bar2('Smokes (packs/year)',2,2,'thistle')\n",
    "add_bar2('Hormonal Contraceptives (years)',3,1,'lightcoral')\n",
    "add_bar2('IUD (years)',3,2,'lightpink')\n",
    "fig.update_layout(height=700, width=700, title_text=\"\")\n",
    "fig.show(renderer='svg')"
   ]
  },
  {
   "cell_type": "markdown",
   "metadata": {},
   "source": [
    "From the above graphs, there are a relative large number of people with cervical cancer don't smoke, take HC or IUD. It is not easy to see the patter of others. Therefore, in order to have a more clear bar charts, I excludes people who don't smoke, take HC or IUD for now in the graphs."
   ]
  },
  {
   "cell_type": "code",
   "execution_count": 32,
   "metadata": {},
   "outputs": [
    {
     "data": {
      "text/html": [
       "<div>\n",
       "<style scoped>\n",
       "    .dataframe tbody tr th:only-of-type {\n",
       "        vertical-align: middle;\n",
       "    }\n",
       "\n",
       "    .dataframe tbody tr th {\n",
       "        vertical-align: top;\n",
       "    }\n",
       "\n",
       "    .dataframe thead th {\n",
       "        text-align: right;\n",
       "    }\n",
       "</style>\n",
       "<table border=\"1\" class=\"dataframe\">\n",
       "  <thead>\n",
       "    <tr style=\"text-align: right;\">\n",
       "      <th></th>\n",
       "      <th>Age</th>\n",
       "      <th>Number of sexual partners</th>\n",
       "      <th>First sexual intercourse</th>\n",
       "      <th>Num of pregnancies</th>\n",
       "      <th>Smokes</th>\n",
       "      <th>Smokes (years)</th>\n",
       "      <th>Smokes (packs/year)</th>\n",
       "      <th>Hormonal Contraceptives</th>\n",
       "      <th>Hormonal Contraceptives (years)</th>\n",
       "      <th>IUD</th>\n",
       "      <th>...</th>\n",
       "      <th>STDs:HIV</th>\n",
       "      <th>STDs:Hepatitis B</th>\n",
       "      <th>STDs:HPV</th>\n",
       "      <th>STDs: Number of diagnosis</th>\n",
       "      <th>Dx</th>\n",
       "      <th>target</th>\n",
       "      <th>Smokes (year/age)</th>\n",
       "      <th>Hormonal Contraceptives (year/after first intercourse)</th>\n",
       "      <th>IUD (year/after first intercourse)</th>\n",
       "      <th>Smokes (packs)</th>\n",
       "    </tr>\n",
       "  </thead>\n",
       "  <tbody>\n",
       "    <tr>\n",
       "      <th>count</th>\n",
       "      <td>753.00000</td>\n",
       "      <td>753.000000</td>\n",
       "      <td>753.000000</td>\n",
       "      <td>753.000000</td>\n",
       "      <td>753.000000</td>\n",
       "      <td>753.000000</td>\n",
       "      <td>753.000000</td>\n",
       "      <td>753.000000</td>\n",
       "      <td>753.000000</td>\n",
       "      <td>753.000000</td>\n",
       "      <td>...</td>\n",
       "      <td>753.000000</td>\n",
       "      <td>753.000000</td>\n",
       "      <td>753.000000</td>\n",
       "      <td>753.000000</td>\n",
       "      <td>753.000000</td>\n",
       "      <td>753.000000</td>\n",
       "      <td>753.000000</td>\n",
       "      <td>753.00000</td>\n",
       "      <td>753.000000</td>\n",
       "      <td>753.000000</td>\n",
       "    </tr>\n",
       "    <tr>\n",
       "      <th>mean</th>\n",
       "      <td>27.22842</td>\n",
       "      <td>2.519256</td>\n",
       "      <td>17.088977</td>\n",
       "      <td>2.297477</td>\n",
       "      <td>0.142098</td>\n",
       "      <td>1.204515</td>\n",
       "      <td>0.418327</td>\n",
       "      <td>0.638778</td>\n",
       "      <td>2.106242</td>\n",
       "      <td>0.128818</td>\n",
       "      <td>...</td>\n",
       "      <td>0.023904</td>\n",
       "      <td>0.001328</td>\n",
       "      <td>0.002656</td>\n",
       "      <td>0.099602</td>\n",
       "      <td>0.030544</td>\n",
       "      <td>0.128818</td>\n",
       "      <td>0.039964</td>\n",
       "      <td>0.22902</td>\n",
       "      <td>0.033533</td>\n",
       "      <td>7.274900</td>\n",
       "    </tr>\n",
       "    <tr>\n",
       "      <th>std</th>\n",
       "      <td>8.68086</td>\n",
       "      <td>1.670286</td>\n",
       "      <td>2.832430</td>\n",
       "      <td>1.426089</td>\n",
       "      <td>0.349383</td>\n",
       "      <td>4.115762</td>\n",
       "      <td>2.271243</td>\n",
       "      <td>0.480674</td>\n",
       "      <td>3.646534</td>\n",
       "      <td>0.335221</td>\n",
       "      <td>...</td>\n",
       "      <td>0.152853</td>\n",
       "      <td>0.036442</td>\n",
       "      <td>0.051503</td>\n",
       "      <td>0.321089</td>\n",
       "      <td>0.172194</td>\n",
       "      <td>0.335221</td>\n",
       "      <td>0.122526</td>\n",
       "      <td>0.39649</td>\n",
       "      <td>0.127881</td>\n",
       "      <td>59.929215</td>\n",
       "    </tr>\n",
       "    <tr>\n",
       "      <th>min</th>\n",
       "      <td>13.00000</td>\n",
       "      <td>1.000000</td>\n",
       "      <td>10.000000</td>\n",
       "      <td>0.000000</td>\n",
       "      <td>0.000000</td>\n",
       "      <td>0.000000</td>\n",
       "      <td>0.000000</td>\n",
       "      <td>0.000000</td>\n",
       "      <td>0.000000</td>\n",
       "      <td>0.000000</td>\n",
       "      <td>...</td>\n",
       "      <td>0.000000</td>\n",
       "      <td>0.000000</td>\n",
       "      <td>0.000000</td>\n",
       "      <td>0.000000</td>\n",
       "      <td>0.000000</td>\n",
       "      <td>0.000000</td>\n",
       "      <td>0.000000</td>\n",
       "      <td>-0.04000</td>\n",
       "      <td>0.000000</td>\n",
       "      <td>0.000000</td>\n",
       "    </tr>\n",
       "    <tr>\n",
       "      <th>25%</th>\n",
       "      <td>21.00000</td>\n",
       "      <td>2.000000</td>\n",
       "      <td>15.000000</td>\n",
       "      <td>1.000000</td>\n",
       "      <td>0.000000</td>\n",
       "      <td>0.000000</td>\n",
       "      <td>0.000000</td>\n",
       "      <td>0.000000</td>\n",
       "      <td>0.000000</td>\n",
       "      <td>0.000000</td>\n",
       "      <td>...</td>\n",
       "      <td>0.000000</td>\n",
       "      <td>0.000000</td>\n",
       "      <td>0.000000</td>\n",
       "      <td>0.000000</td>\n",
       "      <td>0.000000</td>\n",
       "      <td>0.000000</td>\n",
       "      <td>0.000000</td>\n",
       "      <td>0.00000</td>\n",
       "      <td>0.000000</td>\n",
       "      <td>0.000000</td>\n",
       "    </tr>\n",
       "    <tr>\n",
       "      <th>50%</th>\n",
       "      <td>26.00000</td>\n",
       "      <td>2.000000</td>\n",
       "      <td>17.000000</td>\n",
       "      <td>2.000000</td>\n",
       "      <td>0.000000</td>\n",
       "      <td>0.000000</td>\n",
       "      <td>0.000000</td>\n",
       "      <td>1.000000</td>\n",
       "      <td>0.000000</td>\n",
       "      <td>0.000000</td>\n",
       "      <td>...</td>\n",
       "      <td>0.000000</td>\n",
       "      <td>0.000000</td>\n",
       "      <td>0.000000</td>\n",
       "      <td>0.000000</td>\n",
       "      <td>0.000000</td>\n",
       "      <td>0.000000</td>\n",
       "      <td>0.000000</td>\n",
       "      <td>0.05900</td>\n",
       "      <td>0.000000</td>\n",
       "      <td>0.000000</td>\n",
       "    </tr>\n",
       "    <tr>\n",
       "      <th>75%</th>\n",
       "      <td>33.00000</td>\n",
       "      <td>3.000000</td>\n",
       "      <td>18.000000</td>\n",
       "      <td>3.000000</td>\n",
       "      <td>0.000000</td>\n",
       "      <td>0.000000</td>\n",
       "      <td>0.000000</td>\n",
       "      <td>1.000000</td>\n",
       "      <td>3.000000</td>\n",
       "      <td>0.000000</td>\n",
       "      <td>...</td>\n",
       "      <td>0.000000</td>\n",
       "      <td>0.000000</td>\n",
       "      <td>0.000000</td>\n",
       "      <td>0.000000</td>\n",
       "      <td>0.000000</td>\n",
       "      <td>0.000000</td>\n",
       "      <td>0.000000</td>\n",
       "      <td>0.33300</td>\n",
       "      <td>0.000000</td>\n",
       "      <td>0.000000</td>\n",
       "    </tr>\n",
       "    <tr>\n",
       "      <th>max</th>\n",
       "      <td>84.00000</td>\n",
       "      <td>28.000000</td>\n",
       "      <td>32.000000</td>\n",
       "      <td>11.000000</td>\n",
       "      <td>1.000000</td>\n",
       "      <td>37.000000</td>\n",
       "      <td>37.000000</td>\n",
       "      <td>1.000000</td>\n",
       "      <td>22.000000</td>\n",
       "      <td>1.000000</td>\n",
       "      <td>...</td>\n",
       "      <td>1.000000</td>\n",
       "      <td>1.000000</td>\n",
       "      <td>1.000000</td>\n",
       "      <td>3.000000</td>\n",
       "      <td>1.000000</td>\n",
       "      <td>1.000000</td>\n",
       "      <td>0.786000</td>\n",
       "      <td>7.00000</td>\n",
       "      <td>1.000000</td>\n",
       "      <td>1369.000000</td>\n",
       "    </tr>\n",
       "  </tbody>\n",
       "</table>\n",
       "<p>8 rows × 32 columns</p>\n",
       "</div>"
      ],
      "text/plain": [
       "             Age  Number of sexual partners  First sexual intercourse  \\\n",
       "count  753.00000                 753.000000                753.000000   \n",
       "mean    27.22842                   2.519256                 17.088977   \n",
       "std      8.68086                   1.670286                  2.832430   \n",
       "min     13.00000                   1.000000                 10.000000   \n",
       "25%     21.00000                   2.000000                 15.000000   \n",
       "50%     26.00000                   2.000000                 17.000000   \n",
       "75%     33.00000                   3.000000                 18.000000   \n",
       "max     84.00000                  28.000000                 32.000000   \n",
       "\n",
       "       Num of pregnancies      Smokes  Smokes (years)  Smokes (packs/year)  \\\n",
       "count          753.000000  753.000000      753.000000           753.000000   \n",
       "mean             2.297477    0.142098        1.204515             0.418327   \n",
       "std              1.426089    0.349383        4.115762             2.271243   \n",
       "min              0.000000    0.000000        0.000000             0.000000   \n",
       "25%              1.000000    0.000000        0.000000             0.000000   \n",
       "50%              2.000000    0.000000        0.000000             0.000000   \n",
       "75%              3.000000    0.000000        0.000000             0.000000   \n",
       "max             11.000000    1.000000       37.000000            37.000000   \n",
       "\n",
       "       Hormonal Contraceptives  Hormonal Contraceptives (years)         IUD  \\\n",
       "count               753.000000                       753.000000  753.000000   \n",
       "mean                  0.638778                         2.106242    0.128818   \n",
       "std                   0.480674                         3.646534    0.335221   \n",
       "min                   0.000000                         0.000000    0.000000   \n",
       "25%                   0.000000                         0.000000    0.000000   \n",
       "50%                   1.000000                         0.000000    0.000000   \n",
       "75%                   1.000000                         3.000000    0.000000   \n",
       "max                   1.000000                        22.000000    1.000000   \n",
       "\n",
       "       ...    STDs:HIV  STDs:Hepatitis B    STDs:HPV  \\\n",
       "count  ...  753.000000        753.000000  753.000000   \n",
       "mean   ...    0.023904          0.001328    0.002656   \n",
       "std    ...    0.152853          0.036442    0.051503   \n",
       "min    ...    0.000000          0.000000    0.000000   \n",
       "25%    ...    0.000000          0.000000    0.000000   \n",
       "50%    ...    0.000000          0.000000    0.000000   \n",
       "75%    ...    0.000000          0.000000    0.000000   \n",
       "max    ...    1.000000          1.000000    1.000000   \n",
       "\n",
       "       STDs: Number of diagnosis          Dx      target  Smokes (year/age)  \\\n",
       "count                 753.000000  753.000000  753.000000         753.000000   \n",
       "mean                    0.099602    0.030544    0.128818           0.039964   \n",
       "std                     0.321089    0.172194    0.335221           0.122526   \n",
       "min                     0.000000    0.000000    0.000000           0.000000   \n",
       "25%                     0.000000    0.000000    0.000000           0.000000   \n",
       "50%                     0.000000    0.000000    0.000000           0.000000   \n",
       "75%                     0.000000    0.000000    0.000000           0.000000   \n",
       "max                     3.000000    1.000000    1.000000           0.786000   \n",
       "\n",
       "       Hormonal Contraceptives (year/after first intercourse)  \\\n",
       "count                                          753.00000        \n",
       "mean                                             0.22902        \n",
       "std                                              0.39649        \n",
       "min                                             -0.04000        \n",
       "25%                                              0.00000        \n",
       "50%                                              0.05900        \n",
       "75%                                              0.33300        \n",
       "max                                              7.00000        \n",
       "\n",
       "       IUD (year/after first intercourse)  Smokes (packs)  \n",
       "count                          753.000000      753.000000  \n",
       "mean                             0.033533        7.274900  \n",
       "std                              0.127881       59.929215  \n",
       "min                              0.000000        0.000000  \n",
       "25%                              0.000000        0.000000  \n",
       "50%                              0.000000        0.000000  \n",
       "75%                              0.000000        0.000000  \n",
       "max                              1.000000     1369.000000  \n",
       "\n",
       "[8 rows x 32 columns]"
      ]
     },
     "execution_count": 32,
     "metadata": {},
     "output_type": "execute_result"
    }
   ],
   "source": [
    "df.describe()"
   ]
  },
  {
   "cell_type": "code",
   "execution_count": 98,
   "metadata": {},
   "outputs": [
    {
     "data": {
      "image/svg+xml": [
       "<svg class=\"main-svg\" xmlns=\"http://www.w3.org/2000/svg\" xmlns:xlink=\"http://www.w3.org/1999/xlink\" width=\"700\" height=\"450\" style=\"\" viewBox=\"0 0 700 450\"><rect x=\"0\" y=\"0\" width=\"700\" height=\"450\" style=\"fill: rgb(255, 255, 255); fill-opacity: 1;\"/><defs id=\"defs-226288\"><g class=\"clips\"><clipPath id=\"clip226288xyplot\" class=\"plotclip\"><rect width=\"227.70000000000002\" height=\"60\"/></clipPath><clipPath id=\"clip226288x2y2plot\" class=\"plotclip\"><rect width=\"227.7\" height=\"60\"/></clipPath><clipPath id=\"clip226288x3y3plot\" class=\"plotclip\"><rect width=\"227.70000000000002\" height=\"60.000000000000014\"/></clipPath><clipPath id=\"clip226288x4y4plot\" class=\"plotclip\"><rect width=\"227.7\" height=\"60.000000000000014\"/></clipPath><clipPath id=\"clip226288x5y5plot\" class=\"plotclip\"><rect width=\"227.70000000000002\" height=\"60.00000000000001\"/></clipPath><clipPath id=\"clip226288x6y6plot\" class=\"plotclip\"><rect width=\"227.7\" height=\"60.00000000000001\"/></clipPath><clipPath class=\"axesclip\" id=\"clip226288x\"><rect x=\"80\" y=\"0\" width=\"227.70000000000002\" height=\"450\"/></clipPath><clipPath class=\"axesclip\" id=\"clip226288y\"><rect x=\"0\" y=\"100\" width=\"700\" height=\"60\"/></clipPath><clipPath class=\"axesclip\" id=\"clip226288xy\"><rect x=\"80\" y=\"100\" width=\"227.70000000000002\" height=\"60\"/></clipPath><clipPath class=\"axesclip\" id=\"clip226288y2\"><rect x=\"0\" y=\"100\" width=\"700\" height=\"60\"/></clipPath><clipPath class=\"axesclip\" id=\"clip226288xy2\"><rect x=\"80\" y=\"100\" width=\"227.70000000000002\" height=\"60\"/></clipPath><clipPath class=\"axesclip\" id=\"clip226288y3\"><rect x=\"0\" y=\"205\" width=\"700\" height=\"60.000000000000014\"/></clipPath><clipPath class=\"axesclip\" id=\"clip226288xy3\"><rect x=\"80\" y=\"205\" width=\"227.70000000000002\" height=\"60.000000000000014\"/></clipPath><clipPath class=\"axesclip\" id=\"clip226288y4\"><rect x=\"0\" y=\"205\" width=\"700\" height=\"60.000000000000014\"/></clipPath><clipPath class=\"axesclip\" id=\"clip226288xy4\"><rect x=\"80\" y=\"205\" width=\"227.70000000000002\" height=\"60.000000000000014\"/></clipPath><clipPath class=\"axesclip\" id=\"clip226288y5\"><rect x=\"0\" y=\"310\" width=\"700\" height=\"60.00000000000001\"/></clipPath><clipPath class=\"axesclip\" id=\"clip226288xy5\"><rect x=\"80\" y=\"310\" width=\"227.70000000000002\" height=\"60.00000000000001\"/></clipPath><clipPath class=\"axesclip\" id=\"clip226288y6\"><rect x=\"0\" y=\"310\" width=\"700\" height=\"60.00000000000001\"/></clipPath><clipPath class=\"axesclip\" id=\"clip226288xy6\"><rect x=\"80\" y=\"310\" width=\"227.70000000000002\" height=\"60.00000000000001\"/></clipPath><clipPath class=\"axesclip\" id=\"clip226288x2\"><rect x=\"358.3\" y=\"0\" width=\"227.7\" height=\"450\"/></clipPath><clipPath class=\"axesclip\" id=\"clip226288x2y\"><rect x=\"358.3\" y=\"100\" width=\"227.7\" height=\"60\"/></clipPath><clipPath class=\"axesclip\" id=\"clip226288x2y2\"><rect x=\"358.3\" y=\"100\" width=\"227.7\" height=\"60\"/></clipPath><clipPath class=\"axesclip\" id=\"clip226288x2y3\"><rect x=\"358.3\" y=\"205\" width=\"227.7\" height=\"60.000000000000014\"/></clipPath><clipPath class=\"axesclip\" id=\"clip226288x2y4\"><rect x=\"358.3\" y=\"205\" width=\"227.7\" height=\"60.000000000000014\"/></clipPath><clipPath class=\"axesclip\" id=\"clip226288x2y5\"><rect x=\"358.3\" y=\"310\" width=\"227.7\" height=\"60.00000000000001\"/></clipPath><clipPath class=\"axesclip\" id=\"clip226288x2y6\"><rect x=\"358.3\" y=\"310\" width=\"227.7\" height=\"60.00000000000001\"/></clipPath><clipPath class=\"axesclip\" id=\"clip226288x3\"><rect x=\"80\" y=\"0\" width=\"227.70000000000002\" height=\"450\"/></clipPath><clipPath class=\"axesclip\" id=\"clip226288x3y\"><rect x=\"80\" y=\"100\" width=\"227.70000000000002\" height=\"60\"/></clipPath><clipPath class=\"axesclip\" id=\"clip226288x3y2\"><rect x=\"80\" y=\"100\" width=\"227.70000000000002\" height=\"60\"/></clipPath><clipPath class=\"axesclip\" id=\"clip226288x3y3\"><rect x=\"80\" y=\"205\" width=\"227.70000000000002\" height=\"60.000000000000014\"/></clipPath><clipPath class=\"axesclip\" id=\"clip226288x3y4\"><rect x=\"80\" y=\"205\" width=\"227.70000000000002\" height=\"60.000000000000014\"/></clipPath><clipPath class=\"axesclip\" id=\"clip226288x3y5\"><rect x=\"80\" y=\"310\" width=\"227.70000000000002\" height=\"60.00000000000001\"/></clipPath><clipPath class=\"axesclip\" id=\"clip226288x3y6\"><rect x=\"80\" y=\"310\" width=\"227.70000000000002\" height=\"60.00000000000001\"/></clipPath><clipPath class=\"axesclip\" id=\"clip226288x4\"><rect x=\"358.3\" y=\"0\" width=\"227.7\" height=\"450\"/></clipPath><clipPath class=\"axesclip\" id=\"clip226288x4y\"><rect x=\"358.3\" y=\"100\" width=\"227.7\" height=\"60\"/></clipPath><clipPath class=\"axesclip\" id=\"clip226288x4y2\"><rect x=\"358.3\" y=\"100\" width=\"227.7\" height=\"60\"/></clipPath><clipPath class=\"axesclip\" id=\"clip226288x4y3\"><rect x=\"358.3\" y=\"205\" width=\"227.7\" height=\"60.000000000000014\"/></clipPath><clipPath class=\"axesclip\" id=\"clip226288x4y4\"><rect x=\"358.3\" y=\"205\" width=\"227.7\" height=\"60.000000000000014\"/></clipPath><clipPath class=\"axesclip\" id=\"clip226288x4y5\"><rect x=\"358.3\" y=\"310\" width=\"227.7\" height=\"60.00000000000001\"/></clipPath><clipPath class=\"axesclip\" id=\"clip226288x4y6\"><rect x=\"358.3\" y=\"310\" width=\"227.7\" height=\"60.00000000000001\"/></clipPath><clipPath class=\"axesclip\" id=\"clip226288x5\"><rect x=\"80\" y=\"0\" width=\"227.70000000000002\" height=\"450\"/></clipPath><clipPath class=\"axesclip\" id=\"clip226288x5y\"><rect x=\"80\" y=\"100\" width=\"227.70000000000002\" height=\"60\"/></clipPath><clipPath class=\"axesclip\" id=\"clip226288x5y2\"><rect x=\"80\" y=\"100\" width=\"227.70000000000002\" height=\"60\"/></clipPath><clipPath class=\"axesclip\" id=\"clip226288x5y3\"><rect x=\"80\" y=\"205\" width=\"227.70000000000002\" height=\"60.000000000000014\"/></clipPath><clipPath class=\"axesclip\" id=\"clip226288x5y4\"><rect x=\"80\" y=\"205\" width=\"227.70000000000002\" height=\"60.000000000000014\"/></clipPath><clipPath class=\"axesclip\" id=\"clip226288x5y5\"><rect x=\"80\" y=\"310\" width=\"227.70000000000002\" height=\"60.00000000000001\"/></clipPath><clipPath class=\"axesclip\" id=\"clip226288x5y6\"><rect x=\"80\" y=\"310\" width=\"227.70000000000002\" height=\"60.00000000000001\"/></clipPath><clipPath class=\"axesclip\" id=\"clip226288x6\"><rect x=\"358.3\" y=\"0\" width=\"227.7\" height=\"450\"/></clipPath><clipPath class=\"axesclip\" id=\"clip226288x6y\"><rect x=\"358.3\" y=\"100\" width=\"227.7\" height=\"60\"/></clipPath><clipPath class=\"axesclip\" id=\"clip226288x6y2\"><rect x=\"358.3\" y=\"100\" width=\"227.7\" height=\"60\"/></clipPath><clipPath class=\"axesclip\" id=\"clip226288x6y3\"><rect x=\"358.3\" y=\"205\" width=\"227.7\" height=\"60.000000000000014\"/></clipPath><clipPath class=\"axesclip\" id=\"clip226288x6y4\"><rect x=\"358.3\" y=\"205\" width=\"227.7\" height=\"60.000000000000014\"/></clipPath><clipPath class=\"axesclip\" id=\"clip226288x6y5\"><rect x=\"358.3\" y=\"310\" width=\"227.7\" height=\"60.00000000000001\"/></clipPath><clipPath class=\"axesclip\" id=\"clip226288x6y6\"><rect x=\"358.3\" y=\"310\" width=\"227.7\" height=\"60.00000000000001\"/></clipPath></g><g class=\"gradients\"/></defs><g class=\"bglayer\"><rect class=\"bg\" x=\"80\" y=\"100\" width=\"227.70000000000002\" height=\"60\" style=\"fill: rgb(229, 236, 246); fill-opacity: 1; stroke-width: 0;\"/><rect class=\"bg\" x=\"358.3\" y=\"100\" width=\"227.7\" height=\"60\" style=\"fill: rgb(229, 236, 246); fill-opacity: 1; stroke-width: 0;\"/><rect class=\"bg\" x=\"80\" y=\"205\" width=\"227.70000000000002\" height=\"60.000000000000014\" style=\"fill: rgb(229, 236, 246); fill-opacity: 1; stroke-width: 0;\"/><rect class=\"bg\" x=\"358.3\" y=\"205\" width=\"227.7\" height=\"60.000000000000014\" style=\"fill: rgb(229, 236, 246); fill-opacity: 1; stroke-width: 0;\"/><rect class=\"bg\" x=\"80\" y=\"310\" width=\"227.70000000000002\" height=\"60.00000000000001\" style=\"fill: rgb(229, 236, 246); fill-opacity: 1; stroke-width: 0;\"/><rect class=\"bg\" x=\"358.3\" y=\"310\" width=\"227.7\" height=\"60.00000000000001\" style=\"fill: rgb(229, 236, 246); fill-opacity: 1; stroke-width: 0;\"/></g><g class=\"layer-below\"><g class=\"imagelayer\"/><g class=\"shapelayer\"/></g><g class=\"cartesianlayer\"><g class=\"subplot xy\"><g class=\"layer-subplot\"><g class=\"shapelayer\"/><g class=\"imagelayer\"/></g><g class=\"gridlayer\"><g class=\"x\"/><g class=\"y\"><path class=\"ygrid crisp\" transform=\"translate(0,137.2)\" d=\"M80,0h227.70000000000002\" style=\"stroke: rgb(255, 255, 255); stroke-opacity: 1; stroke-width: 1px;\"/><path class=\"ygrid crisp\" transform=\"translate(0,114.4)\" d=\"M80,0h227.70000000000002\" style=\"stroke: rgb(255, 255, 255); stroke-opacity: 1; stroke-width: 1px;\"/></g></g><g class=\"zerolinelayer\"><path class=\"yzl zl crisp\" transform=\"translate(0,160)\" d=\"M80,0h227.70000000000002\" style=\"stroke: rgb(255, 255, 255); stroke-opacity: 1; stroke-width: 2px;\"/></g><path class=\"xlines-below\"/><path class=\"ylines-below\"/><g class=\"overlines-below\"/><g class=\"xaxislayer-below\"/><g class=\"yaxislayer-below\"/><g class=\"overaxes-below\"/><g class=\"plot\" transform=\"translate(80, 100)\" clip-path=\"url('#clip226288xyplot')\"><g class=\"barlayer mlayer\"><g class=\"trace bars\" style=\"opacity: 1;\"><g class=\"points\"><g class=\"point\"><path d=\"M7.59,60V9.84H68.31V60Z\" style=\"vector-effect: non-scaling-stroke; opacity: 1; stroke-width: 0.5px; fill: rgb(255, 215, 0); fill-opacity: 1; stroke: rgb(229, 236, 246); stroke-opacity: 1;\"/></g><g class=\"point\"><path d=\"M83.49,60V3H144.21V60Z\" style=\"vector-effect: non-scaling-stroke; opacity: 1; stroke-width: 0.5px; fill: rgb(255, 215, 0); fill-opacity: 1; stroke: rgb(229, 236, 246); stroke-opacity: 1;\"/></g><g class=\"point\"><path d=\"M159.39,60V44.04H220.11V60Z\" style=\"vector-effect: non-scaling-stroke; opacity: 1; stroke-width: 0.5px; fill: rgb(255, 215, 0); fill-opacity: 1; stroke: rgb(229, 236, 246); stroke-opacity: 1;\"/></g></g></g></g></g><g class=\"overplot\"/><path class=\"xlines-above crisp\" d=\"M0,0\" style=\"fill: none;\"/><path class=\"ylines-above crisp\" d=\"M0,0\" style=\"fill: none;\"/><g class=\"overlines-above\"/><g class=\"xaxislayer-above\"><g class=\"xtick\"><text text-anchor=\"middle\" x=\"0\" y=\"173\" transform=\"translate(80,0)\" style=\"font-family: 'Open Sans', verdana, arial, sans-serif; font-size: 12px; fill: rgb(42, 63, 95); fill-opacity: 1; white-space: pre;\">0</text></g><g class=\"xtick\"><text text-anchor=\"middle\" x=\"0\" y=\"173\" transform=\"translate(155.9,0)\" style=\"font-family: 'Open Sans', verdana, arial, sans-serif; font-size: 12px; fill: rgb(42, 63, 95); fill-opacity: 1; white-space: pre;\">2</text></g><g class=\"xtick\"><text text-anchor=\"middle\" x=\"0\" y=\"173\" transform=\"translate(231.8,0)\" style=\"font-family: 'Open Sans', verdana, arial, sans-serif; font-size: 12px; fill: rgb(42, 63, 95); fill-opacity: 1; white-space: pre;\">4</text></g><g class=\"xtick\"><text text-anchor=\"middle\" x=\"0\" y=\"173\" transform=\"translate(307.7,0)\" style=\"font-family: 'Open Sans', verdana, arial, sans-serif; font-size: 12px; fill: rgb(42, 63, 95); fill-opacity: 1; white-space: pre;\">6</text></g></g><g class=\"yaxislayer-above\"><g class=\"ytick\"><text text-anchor=\"end\" x=\"79\" y=\"4.199999999999999\" transform=\"translate(0,160)\" style=\"font-family: 'Open Sans', verdana, arial, sans-serif; font-size: 12px; fill: rgb(42, 63, 95); fill-opacity: 1; white-space: pre;\">0</text></g><g class=\"ytick\"><text text-anchor=\"end\" x=\"79\" y=\"4.199999999999999\" transform=\"translate(0,137.2)\" style=\"font-family: 'Open Sans', verdana, arial, sans-serif; font-size: 12px; fill: rgb(42, 63, 95); fill-opacity: 1; white-space: pre;\">10</text></g><g class=\"ytick\"><text text-anchor=\"end\" x=\"79\" y=\"4.199999999999999\" transform=\"translate(0,114.4)\" style=\"font-family: 'Open Sans', verdana, arial, sans-serif; font-size: 12px; fill: rgb(42, 63, 95); fill-opacity: 1; white-space: pre;\">20</text></g></g><g class=\"overaxes-above\"/></g><g class=\"subplot x2y2\"><g class=\"layer-subplot\"><g class=\"shapelayer\"/><g class=\"imagelayer\"/></g><g class=\"gridlayer\"><g class=\"x2\"/><g class=\"y2\"><path class=\"y2grid crisp\" transform=\"translate(0,136.25)\" d=\"M358.3,0h227.7\" style=\"stroke: rgb(255, 255, 255); stroke-opacity: 1; stroke-width: 1px;\"/><path class=\"y2grid crisp\" transform=\"translate(0,112.5)\" d=\"M358.3,0h227.7\" style=\"stroke: rgb(255, 255, 255); stroke-opacity: 1; stroke-width: 1px;\"/></g></g><g class=\"zerolinelayer\"><path class=\"y2zl zl crisp\" transform=\"translate(0,160)\" d=\"M358.3,0h227.7\" style=\"stroke: rgb(255, 255, 255); stroke-opacity: 1; stroke-width: 2px;\"/></g><path class=\"xlines-below\"/><path class=\"ylines-below\"/><g class=\"overlines-below\"/><g class=\"xaxislayer-below\"/><g class=\"yaxislayer-below\"/><g class=\"overaxes-below\"/><g class=\"plot\" transform=\"translate(358.3, 100)\" clip-path=\"url('#clip226288x2y2plot')\"><g class=\"barlayer mlayer\"><g class=\"trace bars\" style=\"opacity: 1;\"><g class=\"points\"><g class=\"point\"><path d=\"M3.79,60V3H34.15V60Z\" style=\"vector-effect: non-scaling-stroke; opacity: 1; stroke-width: 0.5px; fill: rgb(221, 160, 221); fill-opacity: 1; stroke: rgb(229, 236, 246); stroke-opacity: 1;\"/></g><g class=\"point\"><path d=\"M41.75,60V19.63H72.11V60Z\" style=\"vector-effect: non-scaling-stroke; opacity: 1; stroke-width: 0.5px; fill: rgb(221, 160, 221); fill-opacity: 1; stroke: rgb(229, 236, 246); stroke-opacity: 1;\"/></g><g class=\"point\"><path d=\"M79.69,60V57.63H110.06V60Z\" style=\"vector-effect: non-scaling-stroke; opacity: 1; stroke-width: 0.5px; fill: rgb(221, 160, 221); fill-opacity: 1; stroke: rgb(229, 236, 246); stroke-opacity: 1;\"/></g><g class=\"point\"><path d=\"M193.54,60V57.63H223.9V60Z\" style=\"vector-effect: non-scaling-stroke; opacity: 1; stroke-width: 0.5px; fill: rgb(221, 160, 221); fill-opacity: 1; stroke: rgb(229, 236, 246); stroke-opacity: 1;\"/></g></g></g></g></g><g class=\"overplot\"/><path class=\"xlines-above crisp\" d=\"M0,0\" style=\"fill: none;\"/><path class=\"ylines-above crisp\" d=\"M0,0\" style=\"fill: none;\"/><g class=\"overlines-above\"/><g class=\"xaxislayer-above\"><g class=\"x2tick\"><text text-anchor=\"middle\" x=\"0\" y=\"173\" transform=\"translate(358.3,0)\" style=\"font-family: 'Open Sans', verdana, arial, sans-serif; font-size: 12px; fill: rgb(42, 63, 95); fill-opacity: 1; white-space: pre;\">0</text></g><g class=\"x2tick\"><text text-anchor=\"middle\" x=\"0\" y=\"173\" transform=\"translate(453.17,0)\" style=\"font-family: 'Open Sans', verdana, arial, sans-serif; font-size: 12px; fill: rgb(42, 63, 95); fill-opacity: 1; white-space: pre;\">5</text></g><g class=\"x2tick\"><text text-anchor=\"middle\" x=\"0\" y=\"173\" transform=\"translate(548.05,0)\" style=\"font-family: 'Open Sans', verdana, arial, sans-serif; font-size: 12px; fill: rgb(42, 63, 95); fill-opacity: 1; white-space: pre;\">10</text></g></g><g class=\"yaxislayer-above\"><g class=\"y2tick\"><text text-anchor=\"end\" x=\"357.3\" y=\"4.199999999999999\" transform=\"translate(0,160)\" style=\"font-family: 'Open Sans', verdana, arial, sans-serif; font-size: 12px; fill: rgb(42, 63, 95); fill-opacity: 1; white-space: pre;\">0</text></g><g class=\"y2tick\"><text text-anchor=\"end\" x=\"357.3\" y=\"4.199999999999999\" transform=\"translate(0,136.25)\" style=\"font-family: 'Open Sans', verdana, arial, sans-serif; font-size: 12px; fill: rgb(42, 63, 95); fill-opacity: 1; white-space: pre;\">10</text></g><g class=\"y2tick\"><text text-anchor=\"end\" x=\"357.3\" y=\"4.199999999999999\" transform=\"translate(0,112.5)\" style=\"font-family: 'Open Sans', verdana, arial, sans-serif; font-size: 12px; fill: rgb(42, 63, 95); fill-opacity: 1; white-space: pre;\">20</text></g></g><g class=\"overaxes-above\"/></g><g class=\"subplot x3y3\"><g class=\"layer-subplot\"><g class=\"shapelayer\"/><g class=\"imagelayer\"/></g><g class=\"gridlayer\"><g class=\"x3\"/><g class=\"y3\"><path class=\"y3grid crisp\" transform=\"translate(0,246)\" d=\"M80,0h227.70000000000002\" style=\"stroke: rgb(255, 255, 255); stroke-opacity: 1; stroke-width: 1px;\"/><path class=\"y3grid crisp\" transform=\"translate(0,227)\" d=\"M80,0h227.70000000000002\" style=\"stroke: rgb(255, 255, 255); stroke-opacity: 1; stroke-width: 1px;\"/><path class=\"y3grid crisp\" transform=\"translate(0,208)\" d=\"M80,0h227.70000000000002\" style=\"stroke: rgb(255, 255, 255); stroke-opacity: 1; stroke-width: 1px;\"/></g></g><g class=\"zerolinelayer\"><path class=\"y3zl zl crisp\" transform=\"translate(0,265)\" d=\"M80,0h227.70000000000002\" style=\"stroke: rgb(255, 255, 255); stroke-opacity: 1; stroke-width: 2px;\"/></g><path class=\"xlines-below\"/><path class=\"ylines-below\"/><g class=\"overlines-below\"/><g class=\"xaxislayer-below\"/><g class=\"yaxislayer-below\"/><g class=\"overaxes-below\"/><g class=\"plot\" transform=\"translate(80, 205)\" clip-path=\"url('#clip226288x3y3plot')\"><g class=\"barlayer mlayer\"><g class=\"trace bars\" style=\"opacity: 1;\"><g class=\"points\"><g class=\"point\"><path d=\"M2.85,60V22H25.62V60Z\" style=\"vector-effect: non-scaling-stroke; opacity: 1; stroke-width: 0.5px; fill: rgb(255, 160, 122); fill-opacity: 1; stroke: rgb(229, 236, 246); stroke-opacity: 1;\"/></g><g class=\"point\"><path d=\"M31.31,60V41H54.08V60Z\" style=\"vector-effect: non-scaling-stroke; opacity: 1; stroke-width: 0.5px; fill: rgb(255, 160, 122); fill-opacity: 1; stroke: rgb(229, 236, 246); stroke-opacity: 1;\"/></g><g class=\"point\"><path d=\"M59.77,60V22H82.54V60Z\" style=\"vector-effect: non-scaling-stroke; opacity: 1; stroke-width: 0.5px; fill: rgb(255, 160, 122); fill-opacity: 1; stroke: rgb(229, 236, 246); stroke-opacity: 1;\"/></g><g class=\"point\"><path d=\"M88.23,60V3H111V60Z\" style=\"vector-effect: non-scaling-stroke; opacity: 1; stroke-width: 0.5px; fill: rgb(255, 160, 122); fill-opacity: 1; stroke: rgb(229, 236, 246); stroke-opacity: 1;\"/></g><g class=\"point\"><path d=\"M116.7,60V22H139.47V60Z\" style=\"vector-effect: non-scaling-stroke; opacity: 1; stroke-width: 0.5px; fill: rgb(255, 160, 122); fill-opacity: 1; stroke: rgb(229, 236, 246); stroke-opacity: 1;\"/></g><g class=\"point\"><path d=\"M173.62,60V41H196.39V60Z\" style=\"vector-effect: non-scaling-stroke; opacity: 1; stroke-width: 0.5px; fill: rgb(255, 160, 122); fill-opacity: 1; stroke: rgb(229, 236, 246); stroke-opacity: 1;\"/></g><g class=\"point\"><path d=\"M202.08,60V41H224.85V60Z\" style=\"vector-effect: non-scaling-stroke; opacity: 1; stroke-width: 0.5px; fill: rgb(255, 160, 122); fill-opacity: 1; stroke: rgb(229, 236, 246); stroke-opacity: 1;\"/></g></g></g></g></g><g class=\"overplot\"/><path class=\"xlines-above crisp\" d=\"M0,0\" style=\"fill: none;\"/><path class=\"ylines-above crisp\" d=\"M0,0\" style=\"fill: none;\"/><g class=\"overlines-above\"/><g class=\"xaxislayer-above\"><g class=\"x3tick\"><text text-anchor=\"middle\" x=\"0\" y=\"278\" transform=\"translate(80,0)\" style=\"font-family: 'Open Sans', verdana, arial, sans-serif; font-size: 12px; fill: rgb(42, 63, 95); fill-opacity: 1; white-space: pre;\">0</text></g><g class=\"x3tick\"><text text-anchor=\"middle\" x=\"0\" y=\"278\" transform=\"translate(151.16,0)\" style=\"font-family: 'Open Sans', verdana, arial, sans-serif; font-size: 12px; fill: rgb(42, 63, 95); fill-opacity: 1; white-space: pre;\">5</text></g><g class=\"x3tick\"><text text-anchor=\"middle\" x=\"0\" y=\"278\" transform=\"translate(222.31,0)\" style=\"font-family: 'Open Sans', verdana, arial, sans-serif; font-size: 12px; fill: rgb(42, 63, 95); fill-opacity: 1; white-space: pre;\">10</text></g><g class=\"x3tick\"><text text-anchor=\"middle\" x=\"0\" y=\"278\" transform=\"translate(293.47,0)\" style=\"font-family: 'Open Sans', verdana, arial, sans-serif; font-size: 12px; fill: rgb(42, 63, 95); fill-opacity: 1; white-space: pre;\">15</text></g></g><g class=\"yaxislayer-above\"><g class=\"y3tick\"><text text-anchor=\"end\" x=\"79\" y=\"4.199999999999999\" transform=\"translate(0,265)\" style=\"font-family: 'Open Sans', verdana, arial, sans-serif; font-size: 12px; fill: rgb(42, 63, 95); fill-opacity: 1; white-space: pre;\">0</text></g><g class=\"y3tick\"><text text-anchor=\"end\" x=\"79\" y=\"4.199999999999999\" transform=\"translate(0,246)\" style=\"font-family: 'Open Sans', verdana, arial, sans-serif; font-size: 12px; fill: rgb(42, 63, 95); fill-opacity: 1; white-space: pre;\">1</text></g><g class=\"y3tick\"><text text-anchor=\"end\" x=\"79\" y=\"4.199999999999999\" transform=\"translate(0,227)\" style=\"font-family: 'Open Sans', verdana, arial, sans-serif; font-size: 12px; fill: rgb(42, 63, 95); fill-opacity: 1; white-space: pre;\">2</text></g><g class=\"y3tick\"><text text-anchor=\"end\" x=\"79\" y=\"4.199999999999999\" transform=\"translate(0,208)\" style=\"font-family: 'Open Sans', verdana, arial, sans-serif; font-size: 12px; fill: rgb(42, 63, 95); fill-opacity: 1; white-space: pre;\">3</text></g></g><g class=\"overaxes-above\"/></g><g class=\"subplot x4y4\"><g class=\"layer-subplot\"><g class=\"shapelayer\"/><g class=\"imagelayer\"/></g><g class=\"gridlayer\"><g class=\"x4\"/><g class=\"y4\"><path class=\"y4grid crisp\" transform=\"translate(0,250.75)\" d=\"M358.3,0h227.7\" style=\"stroke: rgb(255, 255, 255); stroke-opacity: 1; stroke-width: 1px;\"/><path class=\"y4grid crisp\" transform=\"translate(0,236.5)\" d=\"M358.3,0h227.7\" style=\"stroke: rgb(255, 255, 255); stroke-opacity: 1; stroke-width: 1px;\"/><path class=\"y4grid crisp\" transform=\"translate(0,222.25)\" d=\"M358.3,0h227.7\" style=\"stroke: rgb(255, 255, 255); stroke-opacity: 1; stroke-width: 1px;\"/><path class=\"y4grid crisp\" transform=\"translate(0,208)\" d=\"M358.3,0h227.7\" style=\"stroke: rgb(255, 255, 255); stroke-opacity: 1; stroke-width: 1px;\"/></g></g><g class=\"zerolinelayer\"><path class=\"y4zl zl crisp\" transform=\"translate(0,265)\" d=\"M358.3,0h227.7\" style=\"stroke: rgb(255, 255, 255); stroke-opacity: 1; stroke-width: 2px;\"/></g><path class=\"xlines-below\"/><path class=\"ylines-below\"/><g class=\"overlines-below\"/><g class=\"xaxislayer-below\"/><g class=\"yaxislayer-below\"/><g class=\"overaxes-below\"/><g class=\"plot\" transform=\"translate(358.3, 205)\" clip-path=\"url('#clip226288x4y4plot')\"><g class=\"barlayer mlayer\"><g class=\"trace bars\" style=\"opacity: 1;\"><g class=\"points\"><g class=\"point\"><path d=\"M2.85,60V3H25.62V60Z\" style=\"vector-effect: non-scaling-stroke; opacity: 1; stroke-width: 0.5px; fill: rgb(216, 191, 216); fill-opacity: 1; stroke: rgb(229, 236, 246); stroke-opacity: 1;\"/></g><g class=\"point\"><path d=\"M31.31,60V3H54.08V60Z\" style=\"vector-effect: non-scaling-stroke; opacity: 1; stroke-width: 0.5px; fill: rgb(216, 191, 216); fill-opacity: 1; stroke: rgb(229, 236, 246); stroke-opacity: 1;\"/></g><g class=\"point\"><path d=\"M202.08,60V45.75H224.85V60Z\" style=\"vector-effect: non-scaling-stroke; opacity: 1; stroke-width: 0.5px; fill: rgb(216, 191, 216); fill-opacity: 1; stroke: rgb(229, 236, 246); stroke-opacity: 1;\"/></g></g></g></g></g><g class=\"overplot\"/><path class=\"xlines-above crisp\" d=\"M0,0\" style=\"fill: none;\"/><path class=\"ylines-above crisp\" d=\"M0,0\" style=\"fill: none;\"/><g class=\"overlines-above\"/><g class=\"xaxislayer-above\"><g class=\"x4tick\"><text text-anchor=\"middle\" x=\"0\" y=\"278\" transform=\"translate(358.3,0)\" style=\"font-family: 'Open Sans', verdana, arial, sans-serif; font-size: 12px; fill: rgb(42, 63, 95); fill-opacity: 1; white-space: pre;\">0</text></g><g class=\"x4tick\"><text text-anchor=\"middle\" x=\"0\" y=\"278\" transform=\"translate(429.46000000000004,0)\" style=\"font-family: 'Open Sans', verdana, arial, sans-serif; font-size: 12px; fill: rgb(42, 63, 95); fill-opacity: 1; white-space: pre;\">5</text></g><g class=\"x4tick\"><text text-anchor=\"middle\" x=\"0\" y=\"278\" transform=\"translate(500.61,0)\" style=\"font-family: 'Open Sans', verdana, arial, sans-serif; font-size: 12px; fill: rgb(42, 63, 95); fill-opacity: 1; white-space: pre;\">10</text></g><g class=\"x4tick\"><text text-anchor=\"middle\" x=\"0\" y=\"278\" transform=\"translate(571.77,0)\" style=\"font-family: 'Open Sans', verdana, arial, sans-serif; font-size: 12px; fill: rgb(42, 63, 95); fill-opacity: 1; white-space: pre;\">15</text></g></g><g class=\"yaxislayer-above\"><g class=\"y4tick\"><text text-anchor=\"end\" x=\"357.3\" y=\"4.199999999999999\" transform=\"translate(0,265)\" style=\"font-family: 'Open Sans', verdana, arial, sans-serif; font-size: 12px; fill: rgb(42, 63, 95); fill-opacity: 1; white-space: pre;\">0</text></g><g class=\"y4tick\"><text text-anchor=\"end\" x=\"357.3\" y=\"4.199999999999999\" transform=\"translate(0,250.75)\" style=\"font-family: 'Open Sans', verdana, arial, sans-serif; font-size: 12px; fill: rgb(42, 63, 95); fill-opacity: 1; white-space: pre;\">1</text></g><g class=\"y4tick\"><text text-anchor=\"end\" x=\"357.3\" y=\"4.199999999999999\" transform=\"translate(0,236.5)\" style=\"font-family: 'Open Sans', verdana, arial, sans-serif; font-size: 12px; fill: rgb(42, 63, 95); fill-opacity: 1; white-space: pre;\">2</text></g><g class=\"y4tick\"><text text-anchor=\"end\" x=\"357.3\" y=\"4.199999999999999\" transform=\"translate(0,222.25)\" style=\"font-family: 'Open Sans', verdana, arial, sans-serif; font-size: 12px; fill: rgb(42, 63, 95); fill-opacity: 1; white-space: pre;\">3</text></g><g class=\"y4tick\"><text text-anchor=\"end\" x=\"357.3\" y=\"4.199999999999999\" transform=\"translate(0,208)\" style=\"font-family: 'Open Sans', verdana, arial, sans-serif; font-size: 12px; fill: rgb(42, 63, 95); fill-opacity: 1; white-space: pre;\">4</text></g></g><g class=\"overaxes-above\"/></g><g class=\"subplot x5y5\"><g class=\"layer-subplot\"><g class=\"shapelayer\"/><g class=\"imagelayer\"/></g><g class=\"gridlayer\"><g class=\"x5\"/><g class=\"y5\"><path class=\"y5grid crisp\" transform=\"translate(0,341.5)\" d=\"M80,0h227.70000000000002\" style=\"stroke: rgb(255, 255, 255); stroke-opacity: 1; stroke-width: 1px;\"/><path class=\"y5grid crisp\" transform=\"translate(0,313)\" d=\"M80,0h227.70000000000002\" style=\"stroke: rgb(255, 255, 255); stroke-opacity: 1; stroke-width: 1px;\"/></g></g><g class=\"zerolinelayer\"><path class=\"y5zl zl crisp\" transform=\"translate(0,370)\" d=\"M80,0h227.70000000000002\" style=\"stroke: rgb(255, 255, 255); stroke-opacity: 1; stroke-width: 2px;\"/></g><path class=\"xlines-below\"/><path class=\"ylines-below\"/><g class=\"overlines-below\"/><g class=\"xaxislayer-below\"/><g class=\"yaxislayer-below\"/><g class=\"overaxes-below\"/><g class=\"plot\" transform=\"translate(80, 310)\" clip-path=\"url('#clip226288x5y5plot')\"><g class=\"barlayer mlayer\"><g class=\"trace bars\" style=\"opacity: 1;\"><g class=\"points\"><g class=\"point\"><path d=\"M2.28,60V3H20.49V60Z\" style=\"vector-effect: non-scaling-stroke; opacity: 1; stroke-width: 0.5px; fill: rgb(240, 128, 128); fill-opacity: 1; stroke: rgb(229, 236, 246); stroke-opacity: 1;\"/></g><g class=\"point\"><path d=\"M25.05,60V25.8H43.26V60Z\" style=\"vector-effect: non-scaling-stroke; opacity: 1; stroke-width: 0.5px; fill: rgb(240, 128, 128); fill-opacity: 1; stroke: rgb(229, 236, 246); stroke-opacity: 1;\"/></g><g class=\"point\"><path d=\"M47.82,60V48.6H66.03V60Z\" style=\"vector-effect: non-scaling-stroke; opacity: 1; stroke-width: 0.5px; fill: rgb(240, 128, 128); fill-opacity: 1; stroke: rgb(229, 236, 246); stroke-opacity: 1;\"/></g><g class=\"point\"><path d=\"M70.59,60V54.3H88.8V60Z\" style=\"vector-effect: non-scaling-stroke; opacity: 1; stroke-width: 0.5px; fill: rgb(240, 128, 128); fill-opacity: 1; stroke: rgb(229, 236, 246); stroke-opacity: 1;\"/></g><g class=\"point\"><path d=\"M93.36,60V42.9H111.57V60Z\" style=\"vector-effect: non-scaling-stroke; opacity: 1; stroke-width: 0.5px; fill: rgb(240, 128, 128); fill-opacity: 1; stroke: rgb(229, 236, 246); stroke-opacity: 1;\"/></g><g class=\"point\"><path d=\"M138.9,60V54.3H157.11V60Z\" style=\"vector-effect: non-scaling-stroke; opacity: 1; stroke-width: 0.5px; fill: rgb(240, 128, 128); fill-opacity: 1; stroke: rgb(229, 236, 246); stroke-opacity: 1;\"/></g><g class=\"point\"><path d=\"M161.67,60V54.3H179.88V60Z\" style=\"vector-effect: non-scaling-stroke; opacity: 1; stroke-width: 0.5px; fill: rgb(240, 128, 128); fill-opacity: 1; stroke: rgb(229, 236, 246); stroke-opacity: 1;\"/></g><g class=\"point\"><path d=\"M207.21,60V54.3H225.42V60Z\" style=\"vector-effect: non-scaling-stroke; opacity: 1; stroke-width: 0.5px; fill: rgb(240, 128, 128); fill-opacity: 1; stroke: rgb(229, 236, 246); stroke-opacity: 1;\"/></g></g></g></g></g><g class=\"overplot\"/><path class=\"xlines-above crisp\" d=\"M0,0\" style=\"fill: none;\"/><path class=\"ylines-above crisp\" d=\"M0,0\" style=\"fill: none;\"/><g class=\"overlines-above\"/><g class=\"xaxislayer-above\"><g class=\"x5tick\"><text text-anchor=\"middle\" x=\"0\" y=\"383\" transform=\"translate(80,0)\" style=\"font-family: 'Open Sans', verdana, arial, sans-serif; font-size: 12px; fill: rgb(42, 63, 95); fill-opacity: 1; white-space: pre;\">0</text></g><g class=\"x5tick\"><text text-anchor=\"middle\" x=\"0\" y=\"383\" transform=\"translate(136.93,0)\" style=\"font-family: 'Open Sans', verdana, arial, sans-serif; font-size: 12px; fill: rgb(42, 63, 95); fill-opacity: 1; white-space: pre;\">5</text></g><g class=\"x5tick\"><text text-anchor=\"middle\" x=\"0\" y=\"383\" transform=\"translate(193.85,0)\" style=\"font-family: 'Open Sans', verdana, arial, sans-serif; font-size: 12px; fill: rgb(42, 63, 95); fill-opacity: 1; white-space: pre;\">10</text></g><g class=\"x5tick\"><text text-anchor=\"middle\" x=\"0\" y=\"383\" transform=\"translate(250.78,0)\" style=\"font-family: 'Open Sans', verdana, arial, sans-serif; font-size: 12px; fill: rgb(42, 63, 95); fill-opacity: 1; white-space: pre;\">15</text></g><g class=\"x5tick\"><text text-anchor=\"middle\" x=\"0\" y=\"383\" transform=\"translate(307.7,0)\" style=\"font-family: 'Open Sans', verdana, arial, sans-serif; font-size: 12px; fill: rgb(42, 63, 95); fill-opacity: 1; white-space: pre;\">20</text></g></g><g class=\"yaxislayer-above\"><g class=\"y5tick\"><text text-anchor=\"end\" x=\"79\" y=\"4.199999999999999\" transform=\"translate(0,370)\" style=\"font-family: 'Open Sans', verdana, arial, sans-serif; font-size: 12px; fill: rgb(42, 63, 95); fill-opacity: 1; white-space: pre;\">0</text></g><g class=\"y5tick\"><text text-anchor=\"end\" x=\"79\" y=\"4.199999999999999\" transform=\"translate(0,341.5)\" style=\"font-family: 'Open Sans', verdana, arial, sans-serif; font-size: 12px; fill: rgb(42, 63, 95); fill-opacity: 1; white-space: pre;\">5</text></g><g class=\"y5tick\"><text text-anchor=\"end\" x=\"79\" y=\"4.199999999999999\" transform=\"translate(0,313)\" style=\"font-family: 'Open Sans', verdana, arial, sans-serif; font-size: 12px; fill: rgb(42, 63, 95); fill-opacity: 1; white-space: pre;\">10</text></g></g><g class=\"overaxes-above\"/></g><g class=\"subplot x6y6\"><g class=\"layer-subplot\"><g class=\"shapelayer\"/><g class=\"imagelayer\"/></g><g class=\"gridlayer\"><g class=\"x6\"/><g class=\"y6\"><path class=\"y6grid crisp\" transform=\"translate(0,351)\" d=\"M358.3,0h227.7\" style=\"stroke: rgb(255, 255, 255); stroke-opacity: 1; stroke-width: 1px;\"/><path class=\"y6grid crisp\" transform=\"translate(0,332)\" d=\"M358.3,0h227.7\" style=\"stroke: rgb(255, 255, 255); stroke-opacity: 1; stroke-width: 1px;\"/><path class=\"y6grid crisp\" transform=\"translate(0,313)\" d=\"M358.3,0h227.7\" style=\"stroke: rgb(255, 255, 255); stroke-opacity: 1; stroke-width: 1px;\"/></g></g><g class=\"zerolinelayer\"><path class=\"y6zl zl crisp\" transform=\"translate(0,370)\" d=\"M358.3,0h227.7\" style=\"stroke: rgb(255, 255, 255); stroke-opacity: 1; stroke-width: 2px;\"/></g><path class=\"xlines-below\"/><path class=\"ylines-below\"/><g class=\"overlines-below\"/><g class=\"xaxislayer-below\"/><g class=\"yaxislayer-below\"/><g class=\"overaxes-below\"/><g class=\"plot\" transform=\"translate(358.3, 310)\" clip-path=\"url('#clip226288x6y6plot')\"><g class=\"barlayer mlayer\"><g class=\"trace bars\" style=\"opacity: 1;\"><g class=\"points\"><g class=\"point\"><path d=\"M2.28,60V50.5H20.49V60Z\" style=\"vector-effect: non-scaling-stroke; opacity: 1; stroke-width: 0.5px; fill: rgb(255, 182, 193); fill-opacity: 1; stroke: rgb(229, 236, 246); stroke-opacity: 1;\"/></g><g class=\"point\"><path d=\"M25.05,60V3H43.26V60Z\" style=\"vector-effect: non-scaling-stroke; opacity: 1; stroke-width: 0.5px; fill: rgb(255, 182, 193); fill-opacity: 1; stroke: rgb(229, 236, 246); stroke-opacity: 1;\"/></g><g class=\"point\"><path d=\"M70.59,60V41H88.8V60Z\" style=\"vector-effect: non-scaling-stroke; opacity: 1; stroke-width: 0.5px; fill: rgb(255, 182, 193); fill-opacity: 1; stroke: rgb(229, 236, 246); stroke-opacity: 1;\"/></g><g class=\"point\"><path d=\"M116.13,60V50.5H134.34V60Z\" style=\"vector-effect: non-scaling-stroke; opacity: 1; stroke-width: 0.5px; fill: rgb(255, 182, 193); fill-opacity: 1; stroke: rgb(229, 236, 246); stroke-opacity: 1;\"/></g><g class=\"point\"><path d=\"M207.21,60V50.5H225.42V60Z\" style=\"vector-effect: non-scaling-stroke; opacity: 1; stroke-width: 0.5px; fill: rgb(255, 182, 193); fill-opacity: 1; stroke: rgb(229, 236, 246); stroke-opacity: 1;\"/></g></g></g></g></g><g class=\"overplot\"/><path class=\"xlines-above crisp\" d=\"M0,0\" style=\"fill: none;\"/><path class=\"ylines-above crisp\" d=\"M0,0\" style=\"fill: none;\"/><g class=\"overlines-above\"/><g class=\"xaxislayer-above\"><g class=\"x6tick\"><text text-anchor=\"middle\" x=\"0\" y=\"383\" transform=\"translate(358.3,0)\" style=\"font-family: 'Open Sans', verdana, arial, sans-serif; font-size: 12px; fill: rgb(42, 63, 95); fill-opacity: 1; white-space: pre;\">0</text></g><g class=\"x6tick\"><text text-anchor=\"middle\" x=\"0\" y=\"383\" transform=\"translate(415.23,0)\" style=\"font-family: 'Open Sans', verdana, arial, sans-serif; font-size: 12px; fill: rgb(42, 63, 95); fill-opacity: 1; white-space: pre;\">5</text></g><g class=\"x6tick\"><text text-anchor=\"middle\" x=\"0\" y=\"383\" transform=\"translate(472.15,0)\" style=\"font-family: 'Open Sans', verdana, arial, sans-serif; font-size: 12px; fill: rgb(42, 63, 95); fill-opacity: 1; white-space: pre;\">10</text></g><g class=\"x6tick\"><text text-anchor=\"middle\" x=\"0\" y=\"383\" transform=\"translate(529.08,0)\" style=\"font-family: 'Open Sans', verdana, arial, sans-serif; font-size: 12px; fill: rgb(42, 63, 95); fill-opacity: 1; white-space: pre;\">15</text></g><g class=\"x6tick\"><text text-anchor=\"middle\" x=\"0\" y=\"383\" transform=\"translate(586,0)\" style=\"font-family: 'Open Sans', verdana, arial, sans-serif; font-size: 12px; fill: rgb(42, 63, 95); fill-opacity: 1; white-space: pre;\">20</text></g></g><g class=\"yaxislayer-above\"><g class=\"y6tick\"><text text-anchor=\"end\" x=\"357.3\" y=\"4.199999999999999\" transform=\"translate(0,370)\" style=\"font-family: 'Open Sans', verdana, arial, sans-serif; font-size: 12px; fill: rgb(42, 63, 95); fill-opacity: 1; white-space: pre;\">0</text></g><g class=\"y6tick\"><text text-anchor=\"end\" x=\"357.3\" y=\"4.199999999999999\" transform=\"translate(0,351)\" style=\"font-family: 'Open Sans', verdana, arial, sans-serif; font-size: 12px; fill: rgb(42, 63, 95); fill-opacity: 1; white-space: pre;\">2</text></g><g class=\"y6tick\"><text text-anchor=\"end\" x=\"357.3\" y=\"4.199999999999999\" transform=\"translate(0,332)\" style=\"font-family: 'Open Sans', verdana, arial, sans-serif; font-size: 12px; fill: rgb(42, 63, 95); fill-opacity: 1; white-space: pre;\">4</text></g><g class=\"y6tick\"><text text-anchor=\"end\" x=\"357.3\" y=\"4.199999999999999\" transform=\"translate(0,313)\" style=\"font-family: 'Open Sans', verdana, arial, sans-serif; font-size: 12px; fill: rgb(42, 63, 95); fill-opacity: 1; white-space: pre;\">6</text></g></g><g class=\"overaxes-above\"/></g></g><g class=\"polarlayer\"/><g class=\"ternarylayer\"/><g class=\"geolayer\"/><g class=\"funnelarealayer\"/><g class=\"pielayer\"/><g class=\"treemaplayer\"/><g class=\"sunburstlayer\"/><g class=\"glimages\"/><defs id=\"topdefs-226288\"><g class=\"clips\"/><clipPath id=\"legend226288\"><rect width=\"92\" height=\"124\" x=\"0\" y=\"0\"/></clipPath></defs><g class=\"layer-above\"><g class=\"imagelayer\"/><g class=\"shapelayer\"/></g><g class=\"infolayer\"><g class=\"legend\" pointer-events=\"all\" transform=\"translate(596.12, 100)\"><rect class=\"bg\" shape-rendering=\"crispEdges\" width=\"92\" height=\"124\" x=\"0\" y=\"0\" style=\"stroke: rgb(68, 68, 68); stroke-opacity: 1; fill: rgb(255, 255, 255); fill-opacity: 1; stroke-width: 0px;\"/><g class=\"scrollbox\" transform=\"translate(0, 0)\" clip-path=\"url('#legend226288')\"><g class=\"groups\"><g class=\"traces\" transform=\"translate(0, 14.5)\" style=\"opacity: 1;\"><text class=\"legendtext user-select-none\" text-anchor=\"start\" x=\"40\" y=\"4.680000000000001\" style=\"font-family: 'Open Sans', verdana, arial, sans-serif; font-size: 12px; fill: rgb(42, 63, 95); fill-opacity: 1; white-space: pre;\">Disease</text><g class=\"layers\" style=\"opacity: 1;\"><g class=\"legendfill\"/><g class=\"legendlines\"/><g class=\"legendsymbols\"><g class=\"legendpoints\"><path class=\"legendundefined\" d=\"M6,6H-6V-6H6Z\" transform=\"translate(20,0)\" style=\"stroke-width: 0.5px; fill: rgb(255, 215, 0); fill-opacity: 1; stroke: rgb(229, 236, 246); stroke-opacity: 1;\"/></g></g></g><rect class=\"legendtoggle\" pointer-events=\"all\" x=\"0\" y=\"-9.5\" width=\"86.546875\" height=\"19\" style=\"cursor: pointer; fill: rgb(0, 0, 0); fill-opacity: 0;\"/></g><g class=\"traces\" transform=\"translate(0, 33.5)\" style=\"opacity: 1;\"><text class=\"legendtext user-select-none\" text-anchor=\"start\" x=\"40\" y=\"4.680000000000001\" style=\"font-family: 'Open Sans', verdana, arial, sans-serif; font-size: 12px; fill: rgb(42, 63, 95); fill-opacity: 1; white-space: pre;\">Disease</text><g class=\"layers\" style=\"opacity: 1;\"><g class=\"legendfill\"/><g class=\"legendlines\"/><g class=\"legendsymbols\"><g class=\"legendpoints\"><path class=\"legendundefined\" d=\"M6,6H-6V-6H6Z\" transform=\"translate(20,0)\" style=\"stroke-width: 0.5px; fill: rgb(221, 160, 221); fill-opacity: 1; stroke: rgb(229, 236, 246); stroke-opacity: 1;\"/></g></g></g><rect class=\"legendtoggle\" pointer-events=\"all\" x=\"0\" y=\"-9.5\" width=\"86.546875\" height=\"19\" style=\"cursor: pointer; fill: rgb(0, 0, 0); fill-opacity: 0;\"/></g><g class=\"traces\" transform=\"translate(0, 52.5)\" style=\"opacity: 1;\"><text class=\"legendtext user-select-none\" text-anchor=\"start\" x=\"40\" y=\"4.680000000000001\" style=\"font-family: 'Open Sans', verdana, arial, sans-serif; font-size: 12px; fill: rgb(42, 63, 95); fill-opacity: 1; white-space: pre;\">Disease</text><g class=\"layers\" style=\"opacity: 1;\"><g class=\"legendfill\"/><g class=\"legendlines\"/><g class=\"legendsymbols\"><g class=\"legendpoints\"><path class=\"legendundefined\" d=\"M6,6H-6V-6H6Z\" transform=\"translate(20,0)\" style=\"stroke-width: 0.5px; fill: rgb(255, 160, 122); fill-opacity: 1; stroke: rgb(229, 236, 246); stroke-opacity: 1;\"/></g></g></g><rect class=\"legendtoggle\" pointer-events=\"all\" x=\"0\" y=\"-9.5\" width=\"86.546875\" height=\"19\" style=\"cursor: pointer; fill: rgb(0, 0, 0); fill-opacity: 0;\"/></g><g class=\"traces\" transform=\"translate(0, 71.5)\" style=\"opacity: 1;\"><text class=\"legendtext user-select-none\" text-anchor=\"start\" x=\"40\" y=\"4.680000000000001\" style=\"font-family: 'Open Sans', verdana, arial, sans-serif; font-size: 12px; fill: rgb(42, 63, 95); fill-opacity: 1; white-space: pre;\">Disease</text><g class=\"layers\" style=\"opacity: 1;\"><g class=\"legendfill\"/><g class=\"legendlines\"/><g class=\"legendsymbols\"><g class=\"legendpoints\"><path class=\"legendundefined\" d=\"M6,6H-6V-6H6Z\" transform=\"translate(20,0)\" style=\"stroke-width: 0.5px; fill: rgb(216, 191, 216); fill-opacity: 1; stroke: rgb(229, 236, 246); stroke-opacity: 1;\"/></g></g></g><rect class=\"legendtoggle\" pointer-events=\"all\" x=\"0\" y=\"-9.5\" width=\"86.546875\" height=\"19\" style=\"cursor: pointer; fill: rgb(0, 0, 0); fill-opacity: 0;\"/></g><g class=\"traces\" transform=\"translate(0, 90.5)\" style=\"opacity: 1;\"><text class=\"legendtext user-select-none\" text-anchor=\"start\" x=\"40\" y=\"4.680000000000001\" style=\"font-family: 'Open Sans', verdana, arial, sans-serif; font-size: 12px; fill: rgb(42, 63, 95); fill-opacity: 1; white-space: pre;\">Disease</text><g class=\"layers\" style=\"opacity: 1;\"><g class=\"legendfill\"/><g class=\"legendlines\"/><g class=\"legendsymbols\"><g class=\"legendpoints\"><path class=\"legendundefined\" d=\"M6,6H-6V-6H6Z\" transform=\"translate(20,0)\" style=\"stroke-width: 0.5px; fill: rgb(240, 128, 128); fill-opacity: 1; stroke: rgb(229, 236, 246); stroke-opacity: 1;\"/></g></g></g><rect class=\"legendtoggle\" pointer-events=\"all\" x=\"0\" y=\"-9.5\" width=\"86.546875\" height=\"19\" style=\"cursor: pointer; fill: rgb(0, 0, 0); fill-opacity: 0;\"/></g><g class=\"traces\" transform=\"translate(0, 109.5)\" style=\"opacity: 1;\"><text class=\"legendtext user-select-none\" text-anchor=\"start\" x=\"40\" y=\"4.680000000000001\" style=\"font-family: 'Open Sans', verdana, arial, sans-serif; font-size: 12px; fill: rgb(42, 63, 95); fill-opacity: 1; white-space: pre;\">Disease</text><g class=\"layers\" style=\"opacity: 1;\"><g class=\"legendfill\"/><g class=\"legendlines\"/><g class=\"legendsymbols\"><g class=\"legendpoints\"><path class=\"legendundefined\" d=\"M6,6H-6V-6H6Z\" transform=\"translate(20,0)\" style=\"stroke-width: 0.5px; fill: rgb(255, 182, 193); fill-opacity: 1; stroke: rgb(229, 236, 246); stroke-opacity: 1;\"/></g></g></g><rect class=\"legendtoggle\" pointer-events=\"all\" x=\"0\" y=\"-9.5\" width=\"86.546875\" height=\"19\" style=\"cursor: pointer; fill: rgb(0, 0, 0); fill-opacity: 0;\"/></g></g></g><rect class=\"scrollbar\" rx=\"20\" ry=\"3\" width=\"0\" height=\"0\" x=\"0\" y=\"0\" style=\"fill: rgb(128, 139, 164); fill-opacity: 1;\"/></g><g class=\"g-gtitle\"/><g class=\"g-xtitle\"/><g class=\"g-x2title\"/><g class=\"g-x3title\"/><g class=\"g-x4title\"/><g class=\"g-x5title\"/><g class=\"g-x6title\"/><g class=\"g-ytitle\"/><g class=\"g-y2title\"/><g class=\"g-y3title\"/><g class=\"g-y4title\"/><g class=\"g-y5title\"/><g class=\"g-y6title\"/><g class=\"annotation\" data-index=\"0\" style=\"opacity: 1;\"><g class=\"annotation-text-g\" transform=\"rotate(0,193.85000000000002,88)\"><g class=\"cursor-pointer\" transform=\"translate(84, 76)\"><rect class=\"bg\" x=\"0.5\" y=\"0.5\" width=\"218\" height=\"23\" style=\"stroke-width: 1px; stroke: rgb(0, 0, 0); stroke-opacity: 0; fill: rgb(0, 0, 0); fill-opacity: 0;\"/><text class=\"annotation-text\" text-anchor=\"middle\" x=\"109.59375\" y=\"18\" style=\"font-family: 'Open Sans', verdana, arial, sans-serif; font-size: 16px; fill: rgb(42, 63, 95); fill-opacity: 1; white-space: pre;\">Number of sexual partners</text></g></g></g><g class=\"annotation\" data-index=\"1\" style=\"opacity: 1;\"><g class=\"annotation-text-g\" transform=\"rotate(0,472.15000000000003,88)\"><g class=\"cursor-pointer\" transform=\"translate(377, 76)\"><rect class=\"bg\" x=\"0.5\" y=\"0.5\" width=\"190\" height=\"23\" style=\"stroke-width: 1px; stroke: rgb(0, 0, 0); stroke-opacity: 0; fill: rgb(0, 0, 0); fill-opacity: 0;\"/><text class=\"annotation-text\" text-anchor=\"middle\" x=\"95.671875\" y=\"18\" style=\"font-family: 'Open Sans', verdana, arial, sans-serif; font-size: 16px; fill: rgb(42, 63, 95); fill-opacity: 1; white-space: pre;\">Number of pregnancies</text></g></g></g><g class=\"annotation\" data-index=\"2\" style=\"opacity: 1;\"><g class=\"annotation-text-g\" transform=\"rotate(0,193.85000000000002,193)\"><g class=\"cursor-pointer\" transform=\"translate(128, 181)\"><rect class=\"bg\" x=\"0.5\" y=\"0.5\" width=\"131\" height=\"23\" style=\"stroke-width: 1px; stroke: rgb(0, 0, 0); stroke-opacity: 0; fill: rgb(0, 0, 0); fill-opacity: 0;\"/><text class=\"annotation-text\" text-anchor=\"middle\" x=\"65.75\" y=\"18\" style=\"font-family: 'Open Sans', verdana, arial, sans-serif; font-size: 16px; fill: rgb(42, 63, 95); fill-opacity: 1; white-space: pre;\">Smokes (years)</text></g></g></g><g class=\"annotation\" data-index=\"3\" style=\"opacity: 1;\"><g class=\"annotation-text-g\" transform=\"rotate(0,472.15000000000003,193)\"><g class=\"cursor-pointer\" transform=\"translate(388, 181)\"><rect class=\"bg\" x=\"0.5\" y=\"0.5\" width=\"167\" height=\"23\" style=\"stroke-width: 1px; stroke: rgb(0, 0, 0); stroke-opacity: 0; fill: rgb(0, 0, 0); fill-opacity: 0;\"/><text class=\"annotation-text\" text-anchor=\"middle\" x=\"83.90625\" y=\"18\" style=\"font-family: 'Open Sans', verdana, arial, sans-serif; font-size: 16px; fill: rgb(42, 63, 95); fill-opacity: 1; white-space: pre;\">Smokes (pack/year)</text></g></g></g><g class=\"annotation\" data-index=\"4\" style=\"opacity: 1;\"><g class=\"annotation-text-g\" transform=\"rotate(0,193.85000000000002,298)\"><g class=\"cursor-pointer\" transform=\"translate(58, 286)\"><rect class=\"bg\" x=\"0.5\" y=\"0.5\" width=\"270\" height=\"23\" style=\"stroke-width: 1px; stroke: rgb(0, 0, 0); stroke-opacity: 0; fill: rgb(0, 0, 0); fill-opacity: 0;\"/><text class=\"annotation-text\" text-anchor=\"middle\" x=\"135.578125\" y=\"18\" style=\"font-family: 'Open Sans', verdana, arial, sans-serif; font-size: 16px; fill: rgb(42, 63, 95); fill-opacity: 1; white-space: pre;\">Hormonal Contraceptives (years)</text></g></g></g><g class=\"annotation\" data-index=\"5\" style=\"opacity: 1;\"><g class=\"annotation-text-g\" transform=\"rotate(0,472.15000000000003,298)\"><g class=\"cursor-pointer\" transform=\"translate(423, 286)\"><rect class=\"bg\" x=\"0.5\" y=\"0.5\" width=\"98\" height=\"23\" style=\"stroke-width: 1px; stroke: rgb(0, 0, 0); stroke-opacity: 0; fill: rgb(0, 0, 0); fill-opacity: 0;\"/><text class=\"annotation-text\" text-anchor=\"middle\" x=\"49.359375\" y=\"18\" style=\"font-family: 'Open Sans', verdana, arial, sans-serif; font-size: 16px; fill: rgb(42, 63, 95); fill-opacity: 1; white-space: pre;\">IUD (years)</text></g></g></g></g></svg>"
      ]
     },
     "metadata": {},
     "output_type": "display_data"
    }
   ],
   "source": [
    "# add_trace function\n",
    "def add_bar2(feature,row,col,color):\n",
    "    sub_df = pd.DataFrame(df.groupby(by=['target',feature],as_index=False)['Dx'].count())\n",
    "    sub_df_y = sub_df.loc[(sub_df['target']==1) & (sub_df[feature])]\n",
    "    fig.add_trace(go.Bar(x=sub_df_y.loc[sub_df_y['target']==1][feature],\n",
    "                     y=sub_df_y.loc[sub_df_y['target']==1]['Dx'],\n",
    "                     name='Disease',marker_color=color),row=row,col=col)\n",
    "fig = make_subplots(\n",
    "                    rows=3, cols=2,\n",
    "                    subplot_titles=('Number of sexual partners',\n",
    "                                   'Number of pregnancies',\n",
    "                                   'Smokes (years)',\n",
    "                                   'Smokes (pack/year)',\n",
    "                                   'Hormonal Contraceptives (years)',\n",
    "                                   'IUD (years)'))\n",
    "add_bar2('Number of sexual partners',1,1,'gold')\n",
    "add_bar2('Num of pregnancies',1,2,'plum')\n",
    "add_bar2('Smokes (years)',2,1,'lightsalmon')\n",
    "add_bar2('Smokes (packs/year)',2,2,'thistle')\n",
    "add_bar2('Hormonal Contraceptives (years)',3,1,'lightcoral')\n",
    "add_bar2('IUD (years)',3,2,'lightpink')\n",
    "fig.update_layout(height=700, width=700, title_text=\"\")\n",
    "fig.show(renderer='svg')"
   ]
  },
  {
   "cell_type": "code",
   "execution_count": 34,
   "metadata": {},
   "outputs": [
    {
     "data": {
      "text/html": [
       "<div>\n",
       "<style scoped>\n",
       "    .dataframe tbody tr th:only-of-type {\n",
       "        vertical-align: middle;\n",
       "    }\n",
       "\n",
       "    .dataframe tbody tr th {\n",
       "        vertical-align: top;\n",
       "    }\n",
       "\n",
       "    .dataframe thead th {\n",
       "        text-align: right;\n",
       "    }\n",
       "</style>\n",
       "<table border=\"1\" class=\"dataframe\">\n",
       "  <thead>\n",
       "    <tr style=\"text-align: right;\">\n",
       "      <th></th>\n",
       "      <th>Age</th>\n",
       "      <th>Number of sexual partners</th>\n",
       "      <th>First sexual intercourse</th>\n",
       "      <th>Num of pregnancies</th>\n",
       "      <th>Smokes</th>\n",
       "      <th>Smokes (years)</th>\n",
       "      <th>Smokes (packs/year)</th>\n",
       "      <th>Hormonal Contraceptives</th>\n",
       "      <th>Hormonal Contraceptives (years)</th>\n",
       "      <th>IUD</th>\n",
       "      <th>...</th>\n",
       "      <th>STDs:HIV</th>\n",
       "      <th>STDs:Hepatitis B</th>\n",
       "      <th>STDs:HPV</th>\n",
       "      <th>STDs: Number of diagnosis</th>\n",
       "      <th>Dx</th>\n",
       "      <th>target</th>\n",
       "      <th>Smokes (year/age)</th>\n",
       "      <th>Hormonal Contraceptives (year/after first intercourse)</th>\n",
       "      <th>IUD (year/after first intercourse)</th>\n",
       "      <th>Smokes (packs)</th>\n",
       "    </tr>\n",
       "  </thead>\n",
       "  <tbody>\n",
       "    <tr>\n",
       "      <th>6</th>\n",
       "      <td>51</td>\n",
       "      <td>3</td>\n",
       "      <td>17</td>\n",
       "      <td>6</td>\n",
       "      <td>1</td>\n",
       "      <td>34</td>\n",
       "      <td>3</td>\n",
       "      <td>0</td>\n",
       "      <td>0</td>\n",
       "      <td>1</td>\n",
       "      <td>...</td>\n",
       "      <td>0</td>\n",
       "      <td>0</td>\n",
       "      <td>0</td>\n",
       "      <td>0</td>\n",
       "      <td>0</td>\n",
       "      <td>1</td>\n",
       "      <td>0.667</td>\n",
       "      <td>0.000</td>\n",
       "      <td>0.206</td>\n",
       "      <td>115</td>\n",
       "    </tr>\n",
       "    <tr>\n",
       "      <th>22</th>\n",
       "      <td>40</td>\n",
       "      <td>1</td>\n",
       "      <td>18</td>\n",
       "      <td>1</td>\n",
       "      <td>0</td>\n",
       "      <td>0</td>\n",
       "      <td>0</td>\n",
       "      <td>1</td>\n",
       "      <td>0</td>\n",
       "      <td>0</td>\n",
       "      <td>...</td>\n",
       "      <td>0</td>\n",
       "      <td>0</td>\n",
       "      <td>0</td>\n",
       "      <td>1</td>\n",
       "      <td>0</td>\n",
       "      <td>1</td>\n",
       "      <td>0.000</td>\n",
       "      <td>0.011</td>\n",
       "      <td>0.000</td>\n",
       "      <td>0</td>\n",
       "    </tr>\n",
       "    <tr>\n",
       "      <th>23</th>\n",
       "      <td>40</td>\n",
       "      <td>1</td>\n",
       "      <td>20</td>\n",
       "      <td>2</td>\n",
       "      <td>0</td>\n",
       "      <td>0</td>\n",
       "      <td>0</td>\n",
       "      <td>1</td>\n",
       "      <td>15</td>\n",
       "      <td>0</td>\n",
       "      <td>...</td>\n",
       "      <td>0</td>\n",
       "      <td>0</td>\n",
       "      <td>0</td>\n",
       "      <td>0</td>\n",
       "      <td>0</td>\n",
       "      <td>1</td>\n",
       "      <td>0.000</td>\n",
       "      <td>0.750</td>\n",
       "      <td>0.000</td>\n",
       "      <td>0</td>\n",
       "    </tr>\n",
       "    <tr>\n",
       "      <th>34</th>\n",
       "      <td>38</td>\n",
       "      <td>2</td>\n",
       "      <td>15</td>\n",
       "      <td>2</td>\n",
       "      <td>0</td>\n",
       "      <td>0</td>\n",
       "      <td>0</td>\n",
       "      <td>1</td>\n",
       "      <td>0</td>\n",
       "      <td>1</td>\n",
       "      <td>...</td>\n",
       "      <td>0</td>\n",
       "      <td>0</td>\n",
       "      <td>0</td>\n",
       "      <td>0</td>\n",
       "      <td>0</td>\n",
       "      <td>1</td>\n",
       "      <td>0.000</td>\n",
       "      <td>0.022</td>\n",
       "      <td>0.826</td>\n",
       "      <td>0</td>\n",
       "    </tr>\n",
       "    <tr>\n",
       "      <th>41</th>\n",
       "      <td>37</td>\n",
       "      <td>2</td>\n",
       "      <td>18</td>\n",
       "      <td>2</td>\n",
       "      <td>0</td>\n",
       "      <td>0</td>\n",
       "      <td>0</td>\n",
       "      <td>0</td>\n",
       "      <td>0</td>\n",
       "      <td>1</td>\n",
       "      <td>...</td>\n",
       "      <td>1</td>\n",
       "      <td>0</td>\n",
       "      <td>0</td>\n",
       "      <td>1</td>\n",
       "      <td>1</td>\n",
       "      <td>1</td>\n",
       "      <td>0.000</td>\n",
       "      <td>0.000</td>\n",
       "      <td>0.000</td>\n",
       "      <td>0</td>\n",
       "    </tr>\n",
       "  </tbody>\n",
       "</table>\n",
       "<p>5 rows × 32 columns</p>\n",
       "</div>"
      ],
      "text/plain": [
       "    Age  Number of sexual partners  First sexual intercourse  \\\n",
       "6    51                          3                        17   \n",
       "22   40                          1                        18   \n",
       "23   40                          1                        20   \n",
       "34   38                          2                        15   \n",
       "41   37                          2                        18   \n",
       "\n",
       "    Num of pregnancies  Smokes  Smokes (years)  Smokes (packs/year)  \\\n",
       "6                    6       1              34                    3   \n",
       "22                   1       0               0                    0   \n",
       "23                   2       0               0                    0   \n",
       "34                   2       0               0                    0   \n",
       "41                   2       0               0                    0   \n",
       "\n",
       "    Hormonal Contraceptives  Hormonal Contraceptives (years)  IUD  ...  \\\n",
       "6                         0                                0    1  ...   \n",
       "22                        1                                0    0  ...   \n",
       "23                        1                               15    0  ...   \n",
       "34                        1                                0    1  ...   \n",
       "41                        0                                0    1  ...   \n",
       "\n",
       "    STDs:HIV  STDs:Hepatitis B  STDs:HPV  STDs: Number of diagnosis  Dx  \\\n",
       "6          0                 0         0                          0   0   \n",
       "22         0                 0         0                          1   0   \n",
       "23         0                 0         0                          0   0   \n",
       "34         0                 0         0                          0   0   \n",
       "41         1                 0         0                          1   1   \n",
       "\n",
       "    target  Smokes (year/age)  \\\n",
       "6        1              0.667   \n",
       "22       1              0.000   \n",
       "23       1              0.000   \n",
       "34       1              0.000   \n",
       "41       1              0.000   \n",
       "\n",
       "    Hormonal Contraceptives (year/after first intercourse)  \\\n",
       "6                                               0.000        \n",
       "22                                              0.011        \n",
       "23                                              0.750        \n",
       "34                                              0.022        \n",
       "41                                              0.000        \n",
       "\n",
       "    IUD (year/after first intercourse)  Smokes (packs)  \n",
       "6                                0.206             115  \n",
       "22                               0.000               0  \n",
       "23                               0.000               0  \n",
       "34                               0.826               0  \n",
       "41                               0.000               0  \n",
       "\n",
       "[5 rows x 32 columns]"
      ]
     },
     "execution_count": 34,
     "metadata": {},
     "output_type": "execute_result"
    }
   ],
   "source": [
    "cancer_df = df.loc[df['target']==1]\n",
    "cancer_df.head()"
   ]
  },
  {
   "cell_type": "code",
   "execution_count": 35,
   "metadata": {},
   "outputs": [],
   "source": [
    "# add_trace function\n",
    "def add_hist(feature,row,col,color):\n",
    "    fig.add_trace(go.Histogram(x=cancer_df[feature],\n",
    "                     marker_color=color),row=row,col=col)"
   ]
  },
  {
   "cell_type": "code",
   "execution_count": 97,
   "metadata": {},
   "outputs": [
    {
     "data": {
      "image/svg+xml": [
       "<svg class=\"main-svg\" xmlns=\"http://www.w3.org/2000/svg\" xmlns:xlink=\"http://www.w3.org/1999/xlink\" width=\"700\" height=\"450\" style=\"\" viewBox=\"0 0 700 450\"><rect x=\"0\" y=\"0\" width=\"700\" height=\"450\" style=\"fill: rgb(255, 255, 255); fill-opacity: 1;\"/><defs id=\"defs-8cb63b\"><g class=\"clips\"><clipPath id=\"clip8cb63bxyplot\" class=\"plotclip\"><rect width=\"147.33333333333334\" height=\"101.25\"/></clipPath><clipPath id=\"clip8cb63bx2y2plot\" class=\"plotclip\"><rect width=\"147.33333333333334\" height=\"101.25\"/></clipPath><clipPath id=\"clip8cb63bx3y3plot\" class=\"plotclip\"><rect width=\"147.33333333333331\" height=\"101.25\"/></clipPath><clipPath id=\"clip8cb63bx4y4plot\" class=\"plotclip\"><rect width=\"147.33333333333334\" height=\"101.25\"/></clipPath><clipPath id=\"clip8cb63bx5y5plot\" class=\"plotclip\"><rect width=\"147.33333333333334\" height=\"101.25\"/></clipPath><clipPath id=\"clip8cb63bx6y6plot\" class=\"plotclip\"><rect width=\"147.33333333333331\" height=\"101.25\"/></clipPath><clipPath class=\"axesclip\" id=\"clip8cb63bx\"><rect x=\"80\" y=\"0\" width=\"147.33333333333334\" height=\"450\"/></clipPath><clipPath class=\"axesclip\" id=\"clip8cb63by\"><rect x=\"0\" y=\"100\" width=\"700\" height=\"101.25\"/></clipPath><clipPath class=\"axesclip\" id=\"clip8cb63bxy\"><rect x=\"80\" y=\"100\" width=\"147.33333333333334\" height=\"101.25\"/></clipPath><clipPath class=\"axesclip\" id=\"clip8cb63by2\"><rect x=\"0\" y=\"100\" width=\"700\" height=\"101.25\"/></clipPath><clipPath class=\"axesclip\" id=\"clip8cb63bxy2\"><rect x=\"80\" y=\"100\" width=\"147.33333333333334\" height=\"101.25\"/></clipPath><clipPath class=\"axesclip\" id=\"clip8cb63by3\"><rect x=\"0\" y=\"100\" width=\"700\" height=\"101.25\"/></clipPath><clipPath class=\"axesclip\" id=\"clip8cb63bxy3\"><rect x=\"80\" y=\"100\" width=\"147.33333333333334\" height=\"101.25\"/></clipPath><clipPath class=\"axesclip\" id=\"clip8cb63by4\"><rect x=\"0\" y=\"268.75\" width=\"700\" height=\"101.25\"/></clipPath><clipPath class=\"axesclip\" id=\"clip8cb63bxy4\"><rect x=\"80\" y=\"268.75\" width=\"147.33333333333334\" height=\"101.25\"/></clipPath><clipPath class=\"axesclip\" id=\"clip8cb63by5\"><rect x=\"0\" y=\"268.75\" width=\"700\" height=\"101.25\"/></clipPath><clipPath class=\"axesclip\" id=\"clip8cb63bxy5\"><rect x=\"80\" y=\"268.75\" width=\"147.33333333333334\" height=\"101.25\"/></clipPath><clipPath class=\"axesclip\" id=\"clip8cb63by6\"><rect x=\"0\" y=\"268.75\" width=\"700\" height=\"101.25\"/></clipPath><clipPath class=\"axesclip\" id=\"clip8cb63bxy6\"><rect x=\"80\" y=\"268.75\" width=\"147.33333333333334\" height=\"101.25\"/></clipPath><clipPath class=\"axesclip\" id=\"clip8cb63bx2\"><rect x=\"261.33333333333337\" y=\"0\" width=\"147.33333333333334\" height=\"450\"/></clipPath><clipPath class=\"axesclip\" id=\"clip8cb63bx2y\"><rect x=\"261.33333333333337\" y=\"100\" width=\"147.33333333333334\" height=\"101.25\"/></clipPath><clipPath class=\"axesclip\" id=\"clip8cb63bx2y2\"><rect x=\"261.33333333333337\" y=\"100\" width=\"147.33333333333334\" height=\"101.25\"/></clipPath><clipPath class=\"axesclip\" id=\"clip8cb63bx2y3\"><rect x=\"261.33333333333337\" y=\"100\" width=\"147.33333333333334\" height=\"101.25\"/></clipPath><clipPath class=\"axesclip\" id=\"clip8cb63bx2y4\"><rect x=\"261.33333333333337\" y=\"268.75\" width=\"147.33333333333334\" height=\"101.25\"/></clipPath><clipPath class=\"axesclip\" id=\"clip8cb63bx2y5\"><rect x=\"261.33333333333337\" y=\"268.75\" width=\"147.33333333333334\" height=\"101.25\"/></clipPath><clipPath class=\"axesclip\" id=\"clip8cb63bx2y6\"><rect x=\"261.33333333333337\" y=\"268.75\" width=\"147.33333333333334\" height=\"101.25\"/></clipPath><clipPath class=\"axesclip\" id=\"clip8cb63bx3\"><rect x=\"442.6666666666667\" y=\"0\" width=\"147.33333333333331\" height=\"450\"/></clipPath><clipPath class=\"axesclip\" id=\"clip8cb63bx3y\"><rect x=\"442.6666666666667\" y=\"100\" width=\"147.33333333333331\" height=\"101.25\"/></clipPath><clipPath class=\"axesclip\" id=\"clip8cb63bx3y2\"><rect x=\"442.6666666666667\" y=\"100\" width=\"147.33333333333331\" height=\"101.25\"/></clipPath><clipPath class=\"axesclip\" id=\"clip8cb63bx3y3\"><rect x=\"442.6666666666667\" y=\"100\" width=\"147.33333333333331\" height=\"101.25\"/></clipPath><clipPath class=\"axesclip\" id=\"clip8cb63bx3y4\"><rect x=\"442.6666666666667\" y=\"268.75\" width=\"147.33333333333331\" height=\"101.25\"/></clipPath><clipPath class=\"axesclip\" id=\"clip8cb63bx3y5\"><rect x=\"442.6666666666667\" y=\"268.75\" width=\"147.33333333333331\" height=\"101.25\"/></clipPath><clipPath class=\"axesclip\" id=\"clip8cb63bx3y6\"><rect x=\"442.6666666666667\" y=\"268.75\" width=\"147.33333333333331\" height=\"101.25\"/></clipPath><clipPath class=\"axesclip\" id=\"clip8cb63bx4\"><rect x=\"80\" y=\"0\" width=\"147.33333333333334\" height=\"450\"/></clipPath><clipPath class=\"axesclip\" id=\"clip8cb63bx4y\"><rect x=\"80\" y=\"100\" width=\"147.33333333333334\" height=\"101.25\"/></clipPath><clipPath class=\"axesclip\" id=\"clip8cb63bx4y2\"><rect x=\"80\" y=\"100\" width=\"147.33333333333334\" height=\"101.25\"/></clipPath><clipPath class=\"axesclip\" id=\"clip8cb63bx4y3\"><rect x=\"80\" y=\"100\" width=\"147.33333333333334\" height=\"101.25\"/></clipPath><clipPath class=\"axesclip\" id=\"clip8cb63bx4y4\"><rect x=\"80\" y=\"268.75\" width=\"147.33333333333334\" height=\"101.25\"/></clipPath><clipPath class=\"axesclip\" id=\"clip8cb63bx4y5\"><rect x=\"80\" y=\"268.75\" width=\"147.33333333333334\" height=\"101.25\"/></clipPath><clipPath class=\"axesclip\" id=\"clip8cb63bx4y6\"><rect x=\"80\" y=\"268.75\" width=\"147.33333333333334\" height=\"101.25\"/></clipPath><clipPath class=\"axesclip\" id=\"clip8cb63bx5\"><rect x=\"261.33333333333337\" y=\"0\" width=\"147.33333333333334\" height=\"450\"/></clipPath><clipPath class=\"axesclip\" id=\"clip8cb63bx5y\"><rect x=\"261.33333333333337\" y=\"100\" width=\"147.33333333333334\" height=\"101.25\"/></clipPath><clipPath class=\"axesclip\" id=\"clip8cb63bx5y2\"><rect x=\"261.33333333333337\" y=\"100\" width=\"147.33333333333334\" height=\"101.25\"/></clipPath><clipPath class=\"axesclip\" id=\"clip8cb63bx5y3\"><rect x=\"261.33333333333337\" y=\"100\" width=\"147.33333333333334\" height=\"101.25\"/></clipPath><clipPath class=\"axesclip\" id=\"clip8cb63bx5y4\"><rect x=\"261.33333333333337\" y=\"268.75\" width=\"147.33333333333334\" height=\"101.25\"/></clipPath><clipPath class=\"axesclip\" id=\"clip8cb63bx5y5\"><rect x=\"261.33333333333337\" y=\"268.75\" width=\"147.33333333333334\" height=\"101.25\"/></clipPath><clipPath class=\"axesclip\" id=\"clip8cb63bx5y6\"><rect x=\"261.33333333333337\" y=\"268.75\" width=\"147.33333333333334\" height=\"101.25\"/></clipPath><clipPath class=\"axesclip\" id=\"clip8cb63bx6\"><rect x=\"442.6666666666667\" y=\"0\" width=\"147.33333333333331\" height=\"450\"/></clipPath><clipPath class=\"axesclip\" id=\"clip8cb63bx6y\"><rect x=\"442.6666666666667\" y=\"100\" width=\"147.33333333333331\" height=\"101.25\"/></clipPath><clipPath class=\"axesclip\" id=\"clip8cb63bx6y2\"><rect x=\"442.6666666666667\" y=\"100\" width=\"147.33333333333331\" height=\"101.25\"/></clipPath><clipPath class=\"axesclip\" id=\"clip8cb63bx6y3\"><rect x=\"442.6666666666667\" y=\"100\" width=\"147.33333333333331\" height=\"101.25\"/></clipPath><clipPath class=\"axesclip\" id=\"clip8cb63bx6y4\"><rect x=\"442.6666666666667\" y=\"268.75\" width=\"147.33333333333331\" height=\"101.25\"/></clipPath><clipPath class=\"axesclip\" id=\"clip8cb63bx6y5\"><rect x=\"442.6666666666667\" y=\"268.75\" width=\"147.33333333333331\" height=\"101.25\"/></clipPath><clipPath class=\"axesclip\" id=\"clip8cb63bx6y6\"><rect x=\"442.6666666666667\" y=\"268.75\" width=\"147.33333333333331\" height=\"101.25\"/></clipPath></g><g class=\"gradients\"/></defs><g class=\"bglayer\"><rect class=\"bg\" x=\"80\" y=\"100\" width=\"147.33333333333334\" height=\"101.25\" style=\"fill: rgb(229, 236, 246); fill-opacity: 1; stroke-width: 0;\"/><rect class=\"bg\" x=\"261.33333333333337\" y=\"100\" width=\"147.33333333333334\" height=\"101.25\" style=\"fill: rgb(229, 236, 246); fill-opacity: 1; stroke-width: 0;\"/><rect class=\"bg\" x=\"442.6666666666667\" y=\"100\" width=\"147.33333333333331\" height=\"101.25\" style=\"fill: rgb(229, 236, 246); fill-opacity: 1; stroke-width: 0;\"/><rect class=\"bg\" x=\"80\" y=\"268.75\" width=\"147.33333333333334\" height=\"101.25\" style=\"fill: rgb(229, 236, 246); fill-opacity: 1; stroke-width: 0;\"/><rect class=\"bg\" x=\"261.33333333333337\" y=\"268.75\" width=\"147.33333333333334\" height=\"101.25\" style=\"fill: rgb(229, 236, 246); fill-opacity: 1; stroke-width: 0;\"/><rect class=\"bg\" x=\"442.6666666666667\" y=\"268.75\" width=\"147.33333333333331\" height=\"101.25\" style=\"fill: rgb(229, 236, 246); fill-opacity: 1; stroke-width: 0;\"/></g><g class=\"layer-below\"><g class=\"imagelayer\"/><g class=\"shapelayer\"/></g><g class=\"cartesianlayer\"><g class=\"subplot xy\"><g class=\"layer-subplot\"><g class=\"shapelayer\"/><g class=\"imagelayer\"/></g><g class=\"gridlayer\"><g class=\"x\"/><g class=\"y\"><path class=\"ygrid crisp\" transform=\"translate(0,161.17000000000002)\" d=\"M80,0h147.33333333333334\" style=\"stroke: rgb(255, 255, 255); stroke-opacity: 1; stroke-width: 1px;\"/><path class=\"ygrid crisp\" transform=\"translate(0,121.09)\" d=\"M80,0h147.33333333333334\" style=\"stroke: rgb(255, 255, 255); stroke-opacity: 1; stroke-width: 1px;\"/></g></g><g class=\"zerolinelayer\"><path class=\"yzl zl crisp\" transform=\"translate(0,201.25)\" d=\"M80,0h147.33333333333334\" style=\"stroke: rgb(255, 255, 255); stroke-opacity: 1; stroke-width: 2px;\"/></g><path class=\"xlines-below\"/><path class=\"ylines-below\"/><g class=\"overlines-below\"/><g class=\"xaxislayer-below\"/><g class=\"yaxislayer-below\"/><g class=\"overaxes-below\"/><g class=\"plot\" transform=\"translate(80, 100)\" clip-path=\"url('#clip8cb63bxyplot')\"><g class=\"barlayer mlayer\"><g class=\"trace bars\" shape-rendering=\"crispEdges\" style=\"opacity: 1;\"><g class=\"points\"><g class=\"point\"><path d=\"M0,101.25V29.11H10.52V101.25Z\" style=\"vector-effect: non-scaling-stroke; opacity: 1; stroke-width: 0px; fill: rgb(135, 206, 250); fill-opacity: 1;\"/></g><g class=\"point\"><path d=\"M10.52,101.25V5.06H21.05V101.25Z\" style=\"vector-effect: non-scaling-stroke; opacity: 1; stroke-width: 0px; fill: rgb(135, 206, 250); fill-opacity: 1;\"/></g><g class=\"point\"><path d=\"M21.05,101.25V25.1H31.57V101.25Z\" style=\"vector-effect: non-scaling-stroke; opacity: 1; stroke-width: 0px; fill: rgb(135, 206, 250); fill-opacity: 1;\"/></g><g class=\"point\"><path d=\"M31.57,101.25V49.15H42.1V101.25Z\" style=\"vector-effect: non-scaling-stroke; opacity: 1; stroke-width: 0px; fill: rgb(135, 206, 250); fill-opacity: 1;\"/></g><g class=\"point\"><path d=\"M42.1,101.25V49.15H52.62V101.25Z\" style=\"vector-effect: non-scaling-stroke; opacity: 1; stroke-width: 0px; fill: rgb(135, 206, 250); fill-opacity: 1;\"/></g><g class=\"point\"><path d=\"M52.62,101.25V85.22H63.14V101.25Z\" style=\"vector-effect: non-scaling-stroke; opacity: 1; stroke-width: 0px; fill: rgb(135, 206, 250); fill-opacity: 1;\"/></g><g class=\"point\"><path d=\"M63.14,101.25V89.23H73.67V101.25Z\" style=\"vector-effect: non-scaling-stroke; opacity: 1; stroke-width: 0px; fill: rgb(135, 206, 250); fill-opacity: 1;\"/></g><g class=\"point\"><path d=\"M73.67,101.25V93.23H84.19V101.25Z\" style=\"vector-effect: non-scaling-stroke; opacity: 1; stroke-width: 0px; fill: rgb(135, 206, 250); fill-opacity: 1;\"/></g><g class=\"point\"><path d=\"M84.19,101.25V101.25H94.71V101.25Z\" style=\"vector-effect: non-scaling-stroke; opacity: 1; stroke-width: 0px; fill: rgb(135, 206, 250); fill-opacity: 1;\"/></g><g class=\"point\"><path d=\"M94.71,101.25V101.25H105.24V101.25Z\" style=\"vector-effect: non-scaling-stroke; opacity: 1; stroke-width: 0px; fill: rgb(135, 206, 250); fill-opacity: 1;\"/></g><g class=\"point\"><path d=\"M105.24,101.25V101.25H115.76V101.25Z\" style=\"vector-effect: non-scaling-stroke; opacity: 1; stroke-width: 0px; fill: rgb(135, 206, 250); fill-opacity: 1;\"/></g><g class=\"point\"><path d=\"M115.76,101.25V101.25H126.29V101.25Z\" style=\"vector-effect: non-scaling-stroke; opacity: 1; stroke-width: 0px; fill: rgb(135, 206, 250); fill-opacity: 1;\"/></g><g class=\"point\"><path d=\"M126.29,101.25V101.25H136.81V101.25Z\" style=\"vector-effect: non-scaling-stroke; opacity: 1; stroke-width: 0px; fill: rgb(135, 206, 250); fill-opacity: 1;\"/></g><g class=\"point\"><path d=\"M136.81,101.25V97.24H147.33V101.25Z\" style=\"vector-effect: non-scaling-stroke; opacity: 1; stroke-width: 0px; fill: rgb(135, 206, 250); fill-opacity: 1;\"/></g></g></g></g></g><g class=\"overplot\"/><path class=\"xlines-above crisp\" style=\"fill: none;\" d=\"M0,0\"/><path class=\"ylines-above crisp\" style=\"fill: none;\" d=\"M0,0\"/><g class=\"overlines-above\"/><g class=\"xaxislayer-above\"><g class=\"xtick\"><text text-anchor=\"middle\" x=\"0\" y=\"214.25\" transform=\"translate(91.58,0)\" style=\"font-family: 'Open Sans', verdana, arial, sans-serif; font-size: 12px; fill: rgb(42, 63, 95); fill-opacity: 1; white-space: pre;\">20</text></g><g class=\"xtick\"><text text-anchor=\"middle\" x=\"0\" y=\"214.25\" transform=\"translate(133.67000000000002,0)\" style=\"font-family: 'Open Sans', verdana, arial, sans-serif; font-size: 12px; fill: rgb(42, 63, 95); fill-opacity: 1; white-space: pre;\">40</text></g><g class=\"xtick\"><text text-anchor=\"middle\" x=\"0\" y=\"214.25\" transform=\"translate(175.76999999999998,0)\" style=\"font-family: 'Open Sans', verdana, arial, sans-serif; font-size: 12px; fill: rgb(42, 63, 95); fill-opacity: 1; white-space: pre;\">60</text></g><g class=\"xtick\"><text text-anchor=\"middle\" x=\"0\" y=\"214.25\" transform=\"translate(217.86,0)\" style=\"font-family: 'Open Sans', verdana, arial, sans-serif; font-size: 12px; fill: rgb(42, 63, 95); fill-opacity: 1; white-space: pre;\">80</text></g></g><g class=\"yaxislayer-above\"><g class=\"ytick\"><text text-anchor=\"end\" x=\"79\" y=\"4.199999999999999\" transform=\"translate(0,201.25)\" style=\"font-family: 'Open Sans', verdana, arial, sans-serif; font-size: 12px; fill: rgb(42, 63, 95); fill-opacity: 1; white-space: pre;\">0</text></g><g class=\"ytick\"><text text-anchor=\"end\" x=\"79\" y=\"4.199999999999999\" transform=\"translate(0,161.17000000000002)\" style=\"font-family: 'Open Sans', verdana, arial, sans-serif; font-size: 12px; fill: rgb(42, 63, 95); fill-opacity: 1; white-space: pre;\">10</text></g><g class=\"ytick\"><text text-anchor=\"end\" x=\"79\" y=\"4.199999999999999\" transform=\"translate(0,121.09)\" style=\"font-family: 'Open Sans', verdana, arial, sans-serif; font-size: 12px; fill: rgb(42, 63, 95); fill-opacity: 1; white-space: pre;\">20</text></g></g><g class=\"overaxes-above\"/></g><g class=\"subplot x2y2\"><g class=\"layer-subplot\"><g class=\"shapelayer\"/><g class=\"imagelayer\"/></g><g class=\"gridlayer\"><g class=\"x2\"/><g class=\"y2\"><path class=\"y2grid crisp\" transform=\"translate(0,162.78)\" d=\"M261.33333333333337,0h147.33333333333334\" style=\"stroke: rgb(255, 255, 255); stroke-opacity: 1; stroke-width: 1px;\"/><path class=\"y2grid crisp\" transform=\"translate(0,124.3)\" d=\"M261.33333333333337,0h147.33333333333334\" style=\"stroke: rgb(255, 255, 255); stroke-opacity: 1; stroke-width: 1px;\"/></g></g><g class=\"zerolinelayer\"><path class=\"y2zl zl crisp\" transform=\"translate(0,201.25)\" d=\"M261.33333333333337,0h147.33333333333334\" style=\"stroke: rgb(255, 255, 255); stroke-opacity: 1; stroke-width: 2px;\"/></g><path class=\"xlines-below\"/><path class=\"ylines-below\"/><g class=\"overlines-below\"/><g class=\"xaxislayer-below\"/><g class=\"yaxislayer-below\"/><g class=\"overaxes-below\"/><g class=\"plot\" transform=\"translate(261.33333333333337, 100)\" clip-path=\"url('#clip8cb63bx2y2plot')\"><g class=\"barlayer mlayer\"><g class=\"trace bars\" shape-rendering=\"crispEdges\" style=\"opacity: 1;\"><g class=\"points\"><g class=\"point\"><path d=\"M0,101.25V97.4H7.75V101.25Z\" style=\"vector-effect: non-scaling-stroke; opacity: 1; stroke-width: 0px; fill: rgb(216, 191, 216); fill-opacity: 1;\"/></g><g class=\"point\"><path d=\"M7.75,101.25V101.25H15.51V101.25Z\" style=\"vector-effect: non-scaling-stroke; opacity: 1; stroke-width: 0px; fill: rgb(216, 191, 216); fill-opacity: 1;\"/></g><g class=\"point\"><path d=\"M15.51,101.25V93.56H23.26V101.25Z\" style=\"vector-effect: non-scaling-stroke; opacity: 1; stroke-width: 0px; fill: rgb(216, 191, 216); fill-opacity: 1;\"/></g><g class=\"point\"><path d=\"M23.26,101.25V62.78H31.02V101.25Z\" style=\"vector-effect: non-scaling-stroke; opacity: 1; stroke-width: 0px; fill: rgb(216, 191, 216); fill-opacity: 1;\"/></g><g class=\"point\"><path d=\"M31.02,101.25V32H38.77V101.25Z\" style=\"vector-effect: non-scaling-stroke; opacity: 1; stroke-width: 0px; fill: rgb(216, 191, 216); fill-opacity: 1;\"/></g><g class=\"point\"><path d=\"M38.77,101.25V74.32H46.53V101.25Z\" style=\"vector-effect: non-scaling-stroke; opacity: 1; stroke-width: 0px; fill: rgb(216, 191, 216); fill-opacity: 1;\"/></g><g class=\"point\"><path d=\"M46.53,101.25V5.06H54.28V101.25Z\" style=\"vector-effect: non-scaling-stroke; opacity: 1; stroke-width: 0px; fill: rgb(216, 191, 216); fill-opacity: 1;\"/></g><g class=\"point\"><path d=\"M54.28,101.25V39.69H62.04V101.25Z\" style=\"vector-effect: non-scaling-stroke; opacity: 1; stroke-width: 0px; fill: rgb(216, 191, 216); fill-opacity: 1;\"/></g><g class=\"point\"><path d=\"M62.04,101.25V58.93H69.79V101.25Z\" style=\"vector-effect: non-scaling-stroke; opacity: 1; stroke-width: 0px; fill: rgb(216, 191, 216); fill-opacity: 1;\"/></g><g class=\"point\"><path d=\"M69.79,101.25V93.56H77.54V101.25Z\" style=\"vector-effect: non-scaling-stroke; opacity: 1; stroke-width: 0px; fill: rgb(216, 191, 216); fill-opacity: 1;\"/></g><g class=\"point\"><path d=\"M77.54,101.25V93.56H85.3V101.25Z\" style=\"vector-effect: non-scaling-stroke; opacity: 1; stroke-width: 0px; fill: rgb(216, 191, 216); fill-opacity: 1;\"/></g><g class=\"point\"><path d=\"M85.3,101.25V97.4H93.05V101.25Z\" style=\"vector-effect: non-scaling-stroke; opacity: 1; stroke-width: 0px; fill: rgb(216, 191, 216); fill-opacity: 1;\"/></g><g class=\"point\"><path d=\"M93.05,101.25V97.4H100.81V101.25Z\" style=\"vector-effect: non-scaling-stroke; opacity: 1; stroke-width: 0px; fill: rgb(216, 191, 216); fill-opacity: 1;\"/></g><g class=\"point\"><path d=\"M100.81,101.25V101.25H108.56V101.25Z\" style=\"vector-effect: non-scaling-stroke; opacity: 1; stroke-width: 0px; fill: rgb(216, 191, 216); fill-opacity: 1;\"/></g><g class=\"point\"><path d=\"M108.56,101.25V101.25H116.32V101.25Z\" style=\"vector-effect: non-scaling-stroke; opacity: 1; stroke-width: 0px; fill: rgb(216, 191, 216); fill-opacity: 1;\"/></g><g class=\"point\"><path d=\"M116.32,101.25V101.25H124.07V101.25Z\" style=\"vector-effect: non-scaling-stroke; opacity: 1; stroke-width: 0px; fill: rgb(216, 191, 216); fill-opacity: 1;\"/></g><g class=\"point\"><path d=\"M124.07,101.25V101.25H131.82V101.25Z\" style=\"vector-effect: non-scaling-stroke; opacity: 1; stroke-width: 0px; fill: rgb(216, 191, 216); fill-opacity: 1;\"/></g><g class=\"point\"><path d=\"M131.82,101.25V101.25H139.58V101.25Z\" style=\"vector-effect: non-scaling-stroke; opacity: 1; stroke-width: 0px; fill: rgb(216, 191, 216); fill-opacity: 1;\"/></g><g class=\"point\"><path d=\"M139.58,101.25V97.4H147.33V101.25Z\" style=\"vector-effect: non-scaling-stroke; opacity: 1; stroke-width: 0px; fill: rgb(216, 191, 216); fill-opacity: 1;\"/></g></g></g></g></g><g class=\"overplot\"/><path class=\"xlines-above crisp\" style=\"fill: none;\" d=\"M0,0\"/><path class=\"ylines-above crisp\" style=\"fill: none;\" d=\"M0,0\"/><g class=\"overlines-above\"/><g class=\"xaxislayer-above\"><g class=\"x2tick\"><text text-anchor=\"middle\" x=\"0\" y=\"214.25\" transform=\"translate(296.22333333333336,0)\" style=\"font-family: 'Open Sans', verdana, arial, sans-serif; font-size: 12px; fill: rgb(42, 63, 95); fill-opacity: 1; white-space: pre;\">15</text></g><g class=\"x2tick\"><text text-anchor=\"middle\" x=\"0\" y=\"214.25\" transform=\"translate(335.0033333333334,0)\" style=\"font-family: 'Open Sans', verdana, arial, sans-serif; font-size: 12px; fill: rgb(42, 63, 95); fill-opacity: 1; white-space: pre;\">20</text></g><g class=\"x2tick\"><text text-anchor=\"middle\" x=\"0\" y=\"214.25\" transform=\"translate(373.77333333333337,0)\" style=\"font-family: 'Open Sans', verdana, arial, sans-serif; font-size: 12px; fill: rgb(42, 63, 95); fill-opacity: 1; white-space: pre;\">25</text></g></g><g class=\"yaxislayer-above\"><g class=\"y2tick\"><text text-anchor=\"end\" x=\"260.33333333333337\" y=\"4.199999999999999\" transform=\"translate(0,201.25)\" style=\"font-family: 'Open Sans', verdana, arial, sans-serif; font-size: 12px; fill: rgb(42, 63, 95); fill-opacity: 1; white-space: pre;\">0</text></g><g class=\"y2tick\"><text text-anchor=\"end\" x=\"260.33333333333337\" y=\"4.199999999999999\" transform=\"translate(0,162.78)\" style=\"font-family: 'Open Sans', verdana, arial, sans-serif; font-size: 12px; fill: rgb(42, 63, 95); fill-opacity: 1; white-space: pre;\">10</text></g><g class=\"y2tick\"><text text-anchor=\"end\" x=\"260.33333333333337\" y=\"4.199999999999999\" transform=\"translate(0,124.3)\" style=\"font-family: 'Open Sans', verdana, arial, sans-serif; font-size: 12px; fill: rgb(42, 63, 95); fill-opacity: 1; white-space: pre;\">20</text></g></g><g class=\"overaxes-above\"/></g><g class=\"subplot x3y3\"><g class=\"layer-subplot\"><g class=\"shapelayer\"/><g class=\"imagelayer\"/></g><g class=\"gridlayer\"><g class=\"x3\"/><g class=\"y3\"><path class=\"y3grid crisp\" transform=\"translate(0,177.2)\" d=\"M442.6666666666667,0h147.33333333333331\" style=\"stroke: rgb(255, 255, 255); stroke-opacity: 1; stroke-width: 1px;\"/><path class=\"y3grid crisp\" transform=\"translate(0,153.16)\" d=\"M442.6666666666667,0h147.33333333333331\" style=\"stroke: rgb(255, 255, 255); stroke-opacity: 1; stroke-width: 1px;\"/><path class=\"y3grid crisp\" transform=\"translate(0,129.11)\" d=\"M442.6666666666667,0h147.33333333333331\" style=\"stroke: rgb(255, 255, 255); stroke-opacity: 1; stroke-width: 1px;\"/><path class=\"y3grid crisp\" transform=\"translate(0,105.06)\" d=\"M442.6666666666667,0h147.33333333333331\" style=\"stroke: rgb(255, 255, 255); stroke-opacity: 1; stroke-width: 1px;\"/></g></g><g class=\"zerolinelayer\"><path class=\"y3zl zl crisp\" transform=\"translate(0,201.25)\" d=\"M442.6666666666667,0h147.33333333333331\" style=\"stroke: rgb(255, 255, 255); stroke-opacity: 1; stroke-width: 2px;\"/></g><path class=\"xlines-below\"/><path class=\"ylines-below\"/><g class=\"overlines-below\"/><g class=\"xaxislayer-below\"/><g class=\"yaxislayer-below\"/><g class=\"overaxes-below\"/><g class=\"plot\" transform=\"translate(442.6666666666667, 100)\" clip-path=\"url('#clip8cb63bx3y3plot')\"><g class=\"barlayer mlayer\"><g class=\"trace bars\" shape-rendering=\"crispEdges\" style=\"opacity: 1;\"><g class=\"points\"><g class=\"point\"><path d=\"M0,101.25V5.06H8.19V101.25Z\" style=\"vector-effect: non-scaling-stroke; opacity: 1; stroke-width: 0px; fill: rgb(30, 144, 255); fill-opacity: 1;\"/></g><g class=\"point\"><path d=\"M8.19,101.25V98.85H16.37V101.25Z\" style=\"vector-effect: non-scaling-stroke; opacity: 1; stroke-width: 0px; fill: rgb(30, 144, 255); fill-opacity: 1;\"/></g><g class=\"point\"><path d=\"M16.37,101.25V98.85H24.56V101.25Z\" style=\"vector-effect: non-scaling-stroke; opacity: 1; stroke-width: 0px; fill: rgb(30, 144, 255); fill-opacity: 1;\"/></g><g class=\"point\"><path d=\"M24.56,101.25V97.64H32.74V101.25Z\" style=\"vector-effect: non-scaling-stroke; opacity: 1; stroke-width: 0px; fill: rgb(30, 144, 255); fill-opacity: 1;\"/></g><g class=\"point\"><path d=\"M32.74,101.25V98.85H40.93V101.25Z\" style=\"vector-effect: non-scaling-stroke; opacity: 1; stroke-width: 0px; fill: rgb(30, 144, 255); fill-opacity: 1;\"/></g><g class=\"point\"><path d=\"M40.93,101.25V100.05H49.11V101.25Z\" style=\"vector-effect: non-scaling-stroke; opacity: 1; stroke-width: 0px; fill: rgb(30, 144, 255); fill-opacity: 1;\"/></g><g class=\"point\"><path d=\"M49.11,101.25V98.85H57.3V101.25Z\" style=\"vector-effect: non-scaling-stroke; opacity: 1; stroke-width: 0px; fill: rgb(30, 144, 255); fill-opacity: 1;\"/></g><g class=\"point\"><path d=\"M57.3,101.25V98.85H65.48V101.25Z\" style=\"vector-effect: non-scaling-stroke; opacity: 1; stroke-width: 0px; fill: rgb(30, 144, 255); fill-opacity: 1;\"/></g><g class=\"point\"><path d=\"M65.48,101.25V101.25H73.67V101.25Z\" style=\"vector-effect: non-scaling-stroke; opacity: 1; stroke-width: 0px; fill: rgb(30, 144, 255); fill-opacity: 1;\"/></g><g class=\"point\"><path d=\"M73.67,101.25V101.25H81.85V101.25Z\" style=\"vector-effect: non-scaling-stroke; opacity: 1; stroke-width: 0px; fill: rgb(30, 144, 255); fill-opacity: 1;\"/></g><g class=\"point\"><path d=\"M81.85,101.25V101.25H90.04V101.25Z\" style=\"vector-effect: non-scaling-stroke; opacity: 1; stroke-width: 0px; fill: rgb(30, 144, 255); fill-opacity: 1;\"/></g><g class=\"point\"><path d=\"M90.04,101.25V100.05H98.22V101.25Z\" style=\"vector-effect: non-scaling-stroke; opacity: 1; stroke-width: 0px; fill: rgb(30, 144, 255); fill-opacity: 1;\"/></g><g class=\"point\"><path d=\"M98.22,101.25V100.05H106.41V101.25Z\" style=\"vector-effect: non-scaling-stroke; opacity: 1; stroke-width: 0px; fill: rgb(30, 144, 255); fill-opacity: 1;\"/></g><g class=\"point\"><path d=\"M106.41,101.25V101.25H114.59V101.25Z\" style=\"vector-effect: non-scaling-stroke; opacity: 1; stroke-width: 0px; fill: rgb(30, 144, 255); fill-opacity: 1;\"/></g><g class=\"point\"><path d=\"M114.59,101.25V101.25H122.78V101.25Z\" style=\"vector-effect: non-scaling-stroke; opacity: 1; stroke-width: 0px; fill: rgb(30, 144, 255); fill-opacity: 1;\"/></g><g class=\"point\"><path d=\"M122.78,101.25V101.25H130.96V101.25Z\" style=\"vector-effect: non-scaling-stroke; opacity: 1; stroke-width: 0px; fill: rgb(30, 144, 255); fill-opacity: 1;\"/></g><g class=\"point\"><path d=\"M130.96,101.25V101.25H139.15V101.25Z\" style=\"vector-effect: non-scaling-stroke; opacity: 1; stroke-width: 0px; fill: rgb(30, 144, 255); fill-opacity: 1;\"/></g><g class=\"point\"><path d=\"M139.15,101.25V100.05H147.33V101.25Z\" style=\"vector-effect: non-scaling-stroke; opacity: 1; stroke-width: 0px; fill: rgb(30, 144, 255); fill-opacity: 1;\"/></g></g></g></g></g><g class=\"overplot\"/><path class=\"xlines-above crisp\" style=\"fill: none;\" d=\"M0,0\"/><path class=\"ylines-above crisp\" style=\"fill: none;\" d=\"M0,0\"/><g class=\"overlines-above\"/><g class=\"xaxislayer-above\"><g class=\"x3tick\"><text text-anchor=\"middle\" x=\"0\" y=\"214.25\" transform=\"translate(444.7166666666667,0)\" style=\"font-family: 'Open Sans', verdana, arial, sans-serif; font-size: 12px; fill: rgb(42, 63, 95); fill-opacity: 1; white-space: pre;\">0</text></g><g class=\"x3tick\"><text text-anchor=\"middle\" x=\"0\" y=\"214.25\" transform=\"translate(485.63666666666666,0)\" style=\"font-family: 'Open Sans', verdana, arial, sans-serif; font-size: 12px; fill: rgb(42, 63, 95); fill-opacity: 1; white-space: pre;\">10</text></g><g class=\"x3tick\"><text text-anchor=\"middle\" x=\"0\" y=\"214.25\" transform=\"translate(526.5666666666667,0)\" style=\"font-family: 'Open Sans', verdana, arial, sans-serif; font-size: 12px; fill: rgb(42, 63, 95); fill-opacity: 1; white-space: pre;\">20</text></g><g class=\"x3tick\"><text text-anchor=\"middle\" x=\"0\" y=\"214.25\" transform=\"translate(567.4866666666667,0)\" style=\"font-family: 'Open Sans', verdana, arial, sans-serif; font-size: 12px; fill: rgb(42, 63, 95); fill-opacity: 1; white-space: pre;\">30</text></g></g><g class=\"yaxislayer-above\"><g class=\"y3tick\"><text text-anchor=\"end\" x=\"441.6666666666667\" y=\"4.199999999999999\" transform=\"translate(0,201.25)\" style=\"font-family: 'Open Sans', verdana, arial, sans-serif; font-size: 12px; fill: rgb(42, 63, 95); fill-opacity: 1; white-space: pre;\">0</text></g><g class=\"y3tick\"><text text-anchor=\"end\" x=\"441.6666666666667\" y=\"4.199999999999999\" transform=\"translate(0,177.2)\" style=\"font-family: 'Open Sans', verdana, arial, sans-serif; font-size: 12px; fill: rgb(42, 63, 95); fill-opacity: 1; white-space: pre;\">20</text></g><g class=\"y3tick\"><text text-anchor=\"end\" x=\"441.6666666666667\" y=\"4.199999999999999\" transform=\"translate(0,153.16)\" style=\"font-family: 'Open Sans', verdana, arial, sans-serif; font-size: 12px; fill: rgb(42, 63, 95); fill-opacity: 1; white-space: pre;\">40</text></g><g class=\"y3tick\"><text text-anchor=\"end\" x=\"441.6666666666667\" y=\"4.199999999999999\" transform=\"translate(0,129.11)\" style=\"font-family: 'Open Sans', verdana, arial, sans-serif; font-size: 12px; fill: rgb(42, 63, 95); fill-opacity: 1; white-space: pre;\">60</text></g><g class=\"y3tick\"><text text-anchor=\"end\" x=\"441.6666666666667\" y=\"4.199999999999999\" transform=\"translate(0,105.06)\" style=\"font-family: 'Open Sans', verdana, arial, sans-serif; font-size: 12px; fill: rgb(42, 63, 95); fill-opacity: 1; white-space: pre;\">80</text></g></g><g class=\"overaxes-above\"/></g><g class=\"subplot x4y4\"><g class=\"layer-subplot\"><g class=\"shapelayer\"/><g class=\"imagelayer\"/></g><g class=\"gridlayer\"><g class=\"x4\"/><g class=\"y4\"><path class=\"y4grid crisp\" transform=\"translate(0,347.1)\" d=\"M80,0h147.33333333333334\" style=\"stroke: rgb(255, 255, 255); stroke-opacity: 1; stroke-width: 1px;\"/><path class=\"y4grid crisp\" transform=\"translate(0,324.2)\" d=\"M80,0h147.33333333333334\" style=\"stroke: rgb(255, 255, 255); stroke-opacity: 1; stroke-width: 1px;\"/><path class=\"y4grid crisp\" transform=\"translate(0,301.29)\" d=\"M80,0h147.33333333333334\" style=\"stroke: rgb(255, 255, 255); stroke-opacity: 1; stroke-width: 1px;\"/><path class=\"y4grid crisp\" transform=\"translate(0,278.39)\" d=\"M80,0h147.33333333333334\" style=\"stroke: rgb(255, 255, 255); stroke-opacity: 1; stroke-width: 1px;\"/></g></g><g class=\"zerolinelayer\"><path class=\"y4zl zl crisp\" transform=\"translate(0,370)\" d=\"M80,0h147.33333333333334\" style=\"stroke: rgb(255, 255, 255); stroke-opacity: 1; stroke-width: 2px;\"/></g><path class=\"xlines-below\"/><path class=\"ylines-below\"/><g class=\"overlines-below\"/><g class=\"xaxislayer-below\"/><g class=\"yaxislayer-below\"/><g class=\"overaxes-below\"/><g class=\"plot\" transform=\"translate(80, 268.75)\" clip-path=\"url('#clip8cb63bx4y4plot')\"><g class=\"barlayer mlayer\"><g class=\"trace bars\" shape-rendering=\"crispEdges\" style=\"opacity: 1;\"><g class=\"points\"><g class=\"point\"><path d=\"M0,101.25V5.06H9.21V101.25Z\" style=\"vector-effect: non-scaling-stroke; opacity: 1; stroke-width: 0px; fill: rgb(218, 112, 214); fill-opacity: 1;\"/></g><g class=\"point\"><path d=\"M9.21,101.25V96.67H18.42V101.25Z\" style=\"vector-effect: non-scaling-stroke; opacity: 1; stroke-width: 0px; fill: rgb(218, 112, 214); fill-opacity: 1;\"/></g><g class=\"point\"><path d=\"M18.42,101.25V97.81H27.63V101.25Z\" style=\"vector-effect: non-scaling-stroke; opacity: 1; stroke-width: 0px; fill: rgb(218, 112, 214); fill-opacity: 1;\"/></g><g class=\"point\"><path d=\"M27.63,101.25V96.67H36.83V101.25Z\" style=\"vector-effect: non-scaling-stroke; opacity: 1; stroke-width: 0px; fill: rgb(218, 112, 214); fill-opacity: 1;\"/></g><g class=\"point\"><path d=\"M36.83,101.25V101.25H46.04V101.25Z\" style=\"vector-effect: non-scaling-stroke; opacity: 1; stroke-width: 0px; fill: rgb(218, 112, 214); fill-opacity: 1;\"/></g><g class=\"point\"><path d=\"M46.04,101.25V101.25H55.25V101.25Z\" style=\"vector-effect: non-scaling-stroke; opacity: 1; stroke-width: 0px; fill: rgb(218, 112, 214); fill-opacity: 1;\"/></g><g class=\"point\"><path d=\"M55.25,101.25V100.1H64.46V101.25Z\" style=\"vector-effect: non-scaling-stroke; opacity: 1; stroke-width: 0px; fill: rgb(218, 112, 214); fill-opacity: 1;\"/></g><g class=\"point\"><path d=\"M64.46,101.25V101.25H73.67V101.25Z\" style=\"vector-effect: non-scaling-stroke; opacity: 1; stroke-width: 0px; fill: rgb(218, 112, 214); fill-opacity: 1;\"/></g><g class=\"point\"><path d=\"M73.67,101.25V101.25H82.88V101.25Z\" style=\"vector-effect: non-scaling-stroke; opacity: 1; stroke-width: 0px; fill: rgb(218, 112, 214); fill-opacity: 1;\"/></g><g class=\"point\"><path d=\"M82.88,101.25V101.25H92.08V101.25Z\" style=\"vector-effect: non-scaling-stroke; opacity: 1; stroke-width: 0px; fill: rgb(218, 112, 214); fill-opacity: 1;\"/></g><g class=\"point\"><path d=\"M92.08,101.25V101.25H101.29V101.25Z\" style=\"vector-effect: non-scaling-stroke; opacity: 1; stroke-width: 0px; fill: rgb(218, 112, 214); fill-opacity: 1;\"/></g><g class=\"point\"><path d=\"M101.29,101.25V101.25H110.5V101.25Z\" style=\"vector-effect: non-scaling-stroke; opacity: 1; stroke-width: 0px; fill: rgb(218, 112, 214); fill-opacity: 1;\"/></g><g class=\"point\"><path d=\"M110.5,101.25V101.25H119.71V101.25Z\" style=\"vector-effect: non-scaling-stroke; opacity: 1; stroke-width: 0px; fill: rgb(218, 112, 214); fill-opacity: 1;\"/></g><g class=\"point\"><path d=\"M119.71,101.25V101.25H128.92V101.25Z\" style=\"vector-effect: non-scaling-stroke; opacity: 1; stroke-width: 0px; fill: rgb(218, 112, 214); fill-opacity: 1;\"/></g><g class=\"point\"><path d=\"M128.92,101.25V101.25H138.13V101.25Z\" style=\"vector-effect: non-scaling-stroke; opacity: 1; stroke-width: 0px; fill: rgb(218, 112, 214); fill-opacity: 1;\"/></g><g class=\"point\"><path d=\"M138.13,101.25V100.1H147.33V101.25Z\" style=\"vector-effect: non-scaling-stroke; opacity: 1; stroke-width: 0px; fill: rgb(218, 112, 214); fill-opacity: 1;\"/></g></g></g></g></g><g class=\"overplot\"/><path class=\"xlines-above crisp\" style=\"fill: none;\" d=\"M0,0\"/><path class=\"ylines-above crisp\" style=\"fill: none;\" d=\"M0,0\"/><g class=\"overlines-above\"/><g class=\"xaxislayer-above\"><g class=\"x4tick\"><text text-anchor=\"middle\" x=\"0\" y=\"383\" transform=\"translate(84.6,0)\" style=\"font-family: 'Open Sans', verdana, arial, sans-serif; font-size: 12px; fill: rgb(42, 63, 95); fill-opacity: 1; white-space: pre;\">0</text></g><g class=\"x4tick\"><text text-anchor=\"middle\" x=\"0\" y=\"383\" transform=\"translate(130.65,0)\" style=\"font-family: 'Open Sans', verdana, arial, sans-serif; font-size: 12px; fill: rgb(42, 63, 95); fill-opacity: 1; white-space: pre;\">5</text></g><g class=\"x4tick\"><text text-anchor=\"middle\" x=\"0\" y=\"383\" transform=\"translate(176.69,0)\" style=\"font-family: 'Open Sans', verdana, arial, sans-serif; font-size: 12px; fill: rgb(42, 63, 95); fill-opacity: 1; white-space: pre;\">10</text></g><g class=\"x4tick\"><text text-anchor=\"middle\" x=\"0\" y=\"383\" transform=\"translate(222.73,0)\" style=\"font-family: 'Open Sans', verdana, arial, sans-serif; font-size: 12px; fill: rgb(42, 63, 95); fill-opacity: 1; white-space: pre;\">15</text></g></g><g class=\"yaxislayer-above\"><g class=\"y4tick\"><text text-anchor=\"end\" x=\"79\" y=\"4.199999999999999\" transform=\"translate(0,370)\" style=\"font-family: 'Open Sans', verdana, arial, sans-serif; font-size: 12px; fill: rgb(42, 63, 95); fill-opacity: 1; white-space: pre;\">0</text></g><g class=\"y4tick\"><text text-anchor=\"end\" x=\"79\" y=\"4.199999999999999\" transform=\"translate(0,347.1)\" style=\"font-family: 'Open Sans', verdana, arial, sans-serif; font-size: 12px; fill: rgb(42, 63, 95); fill-opacity: 1; white-space: pre;\">20</text></g><g class=\"y4tick\"><text text-anchor=\"end\" x=\"79\" y=\"4.199999999999999\" transform=\"translate(0,324.2)\" style=\"font-family: 'Open Sans', verdana, arial, sans-serif; font-size: 12px; fill: rgb(42, 63, 95); fill-opacity: 1; white-space: pre;\">40</text></g><g class=\"y4tick\"><text text-anchor=\"end\" x=\"79\" y=\"4.199999999999999\" transform=\"translate(0,301.29)\" style=\"font-family: 'Open Sans', verdana, arial, sans-serif; font-size: 12px; fill: rgb(42, 63, 95); fill-opacity: 1; white-space: pre;\">60</text></g><g class=\"y4tick\"><text text-anchor=\"end\" x=\"79\" y=\"4.199999999999999\" transform=\"translate(0,278.39)\" style=\"font-family: 'Open Sans', verdana, arial, sans-serif; font-size: 12px; fill: rgb(42, 63, 95); fill-opacity: 1; white-space: pre;\">80</text></g></g><g class=\"overaxes-above\"/></g><g class=\"subplot x5y5\"><g class=\"layer-subplot\"><g class=\"shapelayer\"/><g class=\"imagelayer\"/></g><g class=\"gridlayer\"><g class=\"x5\"/><g class=\"y5\"><path class=\"y5grid crisp\" transform=\"translate(0,340.85)\" d=\"M261.33333333333337,0h147.33333333333334\" style=\"stroke: rgb(255, 255, 255); stroke-opacity: 1; stroke-width: 1px;\"/><path class=\"y5grid crisp\" transform=\"translate(0,311.7)\" d=\"M261.33333333333337,0h147.33333333333334\" style=\"stroke: rgb(255, 255, 255); stroke-opacity: 1; stroke-width: 1px;\"/><path class=\"y5grid crisp\" transform=\"translate(0,282.56)\" d=\"M261.33333333333337,0h147.33333333333334\" style=\"stroke: rgb(255, 255, 255); stroke-opacity: 1; stroke-width: 1px;\"/></g></g><g class=\"zerolinelayer\"><path class=\"y5zl zl crisp\" transform=\"translate(0,370)\" d=\"M261.33333333333337,0h147.33333333333334\" style=\"stroke: rgb(255, 255, 255); stroke-opacity: 1; stroke-width: 2px;\"/></g><path class=\"xlines-below\"/><path class=\"ylines-below\"/><g class=\"overlines-below\"/><g class=\"xaxislayer-below\"/><g class=\"yaxislayer-below\"/><g class=\"overaxes-below\"/><g class=\"plot\" transform=\"translate(261.33333333333337, 268.75)\" clip-path=\"url('#clip8cb63bx5y5plot')\"><g class=\"barlayer mlayer\"><g class=\"trace bars\" shape-rendering=\"crispEdges\" style=\"opacity: 1;\"><g class=\"points\"><g class=\"point\"><path d=\"M0,101.25V5.06H13.39V101.25Z\" style=\"vector-effect: non-scaling-stroke; opacity: 1; stroke-width: 0px; fill: rgb(72, 209, 204); fill-opacity: 1;\"/></g><g class=\"point\"><path d=\"M13.39,101.25V89.59H26.79V101.25Z\" style=\"vector-effect: non-scaling-stroke; opacity: 1; stroke-width: 0px; fill: rgb(72, 209, 204); fill-opacity: 1;\"/></g><g class=\"point\"><path d=\"M26.79,101.25V96.88H40.18V101.25Z\" style=\"vector-effect: non-scaling-stroke; opacity: 1; stroke-width: 0px; fill: rgb(72, 209, 204); fill-opacity: 1;\"/></g><g class=\"point\"><path d=\"M40.18,101.25V95.42H53.58V101.25Z\" style=\"vector-effect: non-scaling-stroke; opacity: 1; stroke-width: 0px; fill: rgb(72, 209, 204); fill-opacity: 1;\"/></g><g class=\"point\"><path d=\"M53.58,101.25V95.42H66.97V101.25Z\" style=\"vector-effect: non-scaling-stroke; opacity: 1; stroke-width: 0px; fill: rgb(72, 209, 204); fill-opacity: 1;\"/></g><g class=\"point\"><path d=\"M66.97,101.25V96.88H80.36V101.25Z\" style=\"vector-effect: non-scaling-stroke; opacity: 1; stroke-width: 0px; fill: rgb(72, 209, 204); fill-opacity: 1;\"/></g><g class=\"point\"><path d=\"M80.36,101.25V98.34H93.76V101.25Z\" style=\"vector-effect: non-scaling-stroke; opacity: 1; stroke-width: 0px; fill: rgb(72, 209, 204); fill-opacity: 1;\"/></g><g class=\"point\"><path d=\"M93.76,101.25V96.88H107.15V101.25Z\" style=\"vector-effect: non-scaling-stroke; opacity: 1; stroke-width: 0px; fill: rgb(72, 209, 204); fill-opacity: 1;\"/></g><g class=\"point\"><path d=\"M107.15,101.25V98.34H120.55V101.25Z\" style=\"vector-effect: non-scaling-stroke; opacity: 1; stroke-width: 0px; fill: rgb(72, 209, 204); fill-opacity: 1;\"/></g><g class=\"point\"><path d=\"M120.55,101.25V99.79H133.94V101.25Z\" style=\"vector-effect: non-scaling-stroke; opacity: 1; stroke-width: 0px; fill: rgb(72, 209, 204); fill-opacity: 1;\"/></g><g class=\"point\"><path d=\"M133.94,101.25V99.79H147.33V101.25Z\" style=\"vector-effect: non-scaling-stroke; opacity: 1; stroke-width: 0px; fill: rgb(72, 209, 204); fill-opacity: 1;\"/></g></g></g></g></g><g class=\"overplot\"/><path class=\"xlines-above crisp\" style=\"fill: none;\" d=\"M0,0\"/><path class=\"ylines-above crisp\" style=\"fill: none;\" d=\"M0,0\"/><g class=\"overlines-above\"/><g class=\"xaxislayer-above\"><g class=\"x5tick\"><text text-anchor=\"middle\" x=\"0\" y=\"383\" transform=\"translate(264.6833333333334,0)\" style=\"font-family: 'Open Sans', verdana, arial, sans-serif; font-size: 12px; fill: rgb(42, 63, 95); fill-opacity: 1; white-space: pre;\">0</text></g><g class=\"x5tick\"><text text-anchor=\"middle\" x=\"0\" y=\"383\" transform=\"translate(298.16333333333336,0)\" style=\"font-family: 'Open Sans', verdana, arial, sans-serif; font-size: 12px; fill: rgb(42, 63, 95); fill-opacity: 1; white-space: pre;\">5</text></g><g class=\"x5tick\"><text text-anchor=\"middle\" x=\"0\" y=\"383\" transform=\"translate(331.65333333333336,0)\" style=\"font-family: 'Open Sans', verdana, arial, sans-serif; font-size: 12px; fill: rgb(42, 63, 95); fill-opacity: 1; white-space: pre;\">10</text></g><g class=\"x5tick\"><text text-anchor=\"middle\" x=\"0\" y=\"383\" transform=\"translate(365.1333333333334,0)\" style=\"font-family: 'Open Sans', verdana, arial, sans-serif; font-size: 12px; fill: rgb(42, 63, 95); fill-opacity: 1; white-space: pre;\">15</text></g><g class=\"x5tick\"><text text-anchor=\"middle\" x=\"0\" y=\"383\" transform=\"translate(398.62333333333333,0)\" style=\"font-family: 'Open Sans', verdana, arial, sans-serif; font-size: 12px; fill: rgb(42, 63, 95); fill-opacity: 1; white-space: pre;\">20</text></g></g><g class=\"yaxislayer-above\"><g class=\"y5tick\"><text text-anchor=\"end\" x=\"260.33333333333337\" y=\"4.199999999999999\" transform=\"translate(0,370)\" style=\"font-family: 'Open Sans', verdana, arial, sans-serif; font-size: 12px; fill: rgb(42, 63, 95); fill-opacity: 1; white-space: pre;\">0</text></g><g class=\"y5tick\"><text text-anchor=\"end\" x=\"260.33333333333337\" y=\"4.199999999999999\" transform=\"translate(0,340.85)\" style=\"font-family: 'Open Sans', verdana, arial, sans-serif; font-size: 12px; fill: rgb(42, 63, 95); fill-opacity: 1; white-space: pre;\">20</text></g><g class=\"y5tick\"><text text-anchor=\"end\" x=\"260.33333333333337\" y=\"4.199999999999999\" transform=\"translate(0,311.7)\" style=\"font-family: 'Open Sans', verdana, arial, sans-serif; font-size: 12px; fill: rgb(42, 63, 95); fill-opacity: 1; white-space: pre;\">40</text></g><g class=\"y5tick\"><text text-anchor=\"end\" x=\"260.33333333333337\" y=\"4.199999999999999\" transform=\"translate(0,282.56)\" style=\"font-family: 'Open Sans', verdana, arial, sans-serif; font-size: 12px; fill: rgb(42, 63, 95); fill-opacity: 1; white-space: pre;\">60</text></g></g><g class=\"overaxes-above\"/></g><g class=\"subplot x6y6\"><g class=\"layer-subplot\"><g class=\"shapelayer\"/><g class=\"imagelayer\"/></g><g class=\"gridlayer\"><g class=\"x6\"/><g class=\"y6\"><path class=\"y6grid crisp\" transform=\"translate(0,346.25)\" d=\"M442.6666666666667,0h147.33333333333331\" style=\"stroke: rgb(255, 255, 255); stroke-opacity: 1; stroke-width: 1px;\"/><path class=\"y6grid crisp\" transform=\"translate(0,322.5)\" d=\"M442.6666666666667,0h147.33333333333331\" style=\"stroke: rgb(255, 255, 255); stroke-opacity: 1; stroke-width: 1px;\"/><path class=\"y6grid crisp\" transform=\"translate(0,298.75)\" d=\"M442.6666666666667,0h147.33333333333331\" style=\"stroke: rgb(255, 255, 255); stroke-opacity: 1; stroke-width: 1px;\"/><path class=\"y6grid crisp\" transform=\"translate(0,275)\" d=\"M442.6666666666667,0h147.33333333333331\" style=\"stroke: rgb(255, 255, 255); stroke-opacity: 1; stroke-width: 1px;\"/></g></g><g class=\"zerolinelayer\"><path class=\"y6zl zl crisp\" transform=\"translate(0,370)\" d=\"M442.6666666666667,0h147.33333333333331\" style=\"stroke: rgb(255, 255, 255); stroke-opacity: 1; stroke-width: 2px;\"/></g><path class=\"xlines-below\"/><path class=\"ylines-below\"/><g class=\"overlines-below\"/><g class=\"xaxislayer-below\"/><g class=\"yaxislayer-below\"/><g class=\"overaxes-below\"/><g class=\"plot\" transform=\"translate(442.6666666666667, 268.75)\" clip-path=\"url('#clip8cb63bx6y6plot')\"><g class=\"barlayer mlayer\"><g class=\"trace bars\" shape-rendering=\"crispEdges\" style=\"opacity: 1;\"><g class=\"points\"><g class=\"point\"><path d=\"M0,101.25V5.06H7.37V101.25Z\" style=\"vector-effect: non-scaling-stroke; opacity: 1; stroke-width: 0px; fill: rgb(186, 85, 211); fill-opacity: 1;\"/></g><g class=\"point\"><path d=\"M7.37,101.25V100.06H14.73V101.25Z\" style=\"vector-effect: non-scaling-stroke; opacity: 1; stroke-width: 0px; fill: rgb(186, 85, 211); fill-opacity: 1;\"/></g><g class=\"point\"><path d=\"M14.73,101.25V98.87H22.1V101.25Z\" style=\"vector-effect: non-scaling-stroke; opacity: 1; stroke-width: 0px; fill: rgb(186, 85, 211); fill-opacity: 1;\"/></g><g class=\"point\"><path d=\"M22.1,101.25V94.12H29.47V101.25Z\" style=\"vector-effect: non-scaling-stroke; opacity: 1; stroke-width: 0px; fill: rgb(186, 85, 211); fill-opacity: 1;\"/></g><g class=\"point\"><path d=\"M29.47,101.25V101.25H36.83V101.25Z\" style=\"vector-effect: non-scaling-stroke; opacity: 1; stroke-width: 0px; fill: rgb(186, 85, 211); fill-opacity: 1;\"/></g><g class=\"point\"><path d=\"M36.83,101.25V101.25H44.2V101.25Z\" style=\"vector-effect: non-scaling-stroke; opacity: 1; stroke-width: 0px; fill: rgb(186, 85, 211); fill-opacity: 1;\"/></g><g class=\"point\"><path d=\"M44.2,101.25V98.87H51.57V101.25Z\" style=\"vector-effect: non-scaling-stroke; opacity: 1; stroke-width: 0px; fill: rgb(186, 85, 211); fill-opacity: 1;\"/></g><g class=\"point\"><path d=\"M51.57,101.25V98.87H58.93V101.25Z\" style=\"vector-effect: non-scaling-stroke; opacity: 1; stroke-width: 0px; fill: rgb(186, 85, 211); fill-opacity: 1;\"/></g><g class=\"point\"><path d=\"M58.93,101.25V100.06H66.3V101.25Z\" style=\"vector-effect: non-scaling-stroke; opacity: 1; stroke-width: 0px; fill: rgb(186, 85, 211); fill-opacity: 1;\"/></g><g class=\"point\"><path d=\"M66.3,101.25V101.25H73.67V101.25Z\" style=\"vector-effect: non-scaling-stroke; opacity: 1; stroke-width: 0px; fill: rgb(186, 85, 211); fill-opacity: 1;\"/></g><g class=\"point\"><path d=\"M73.67,101.25V101.25H81.03V101.25Z\" style=\"vector-effect: non-scaling-stroke; opacity: 1; stroke-width: 0px; fill: rgb(186, 85, 211); fill-opacity: 1;\"/></g><g class=\"point\"><path d=\"M81.03,101.25V100.06H88.4V101.25Z\" style=\"vector-effect: non-scaling-stroke; opacity: 1; stroke-width: 0px; fill: rgb(186, 85, 211); fill-opacity: 1;\"/></g><g class=\"point\"><path d=\"M88.4,101.25V101.25H95.77V101.25Z\" style=\"vector-effect: non-scaling-stroke; opacity: 1; stroke-width: 0px; fill: rgb(186, 85, 211); fill-opacity: 1;\"/></g><g class=\"point\"><path d=\"M95.77,101.25V101.25H103.13V101.25Z\" style=\"vector-effect: non-scaling-stroke; opacity: 1; stroke-width: 0px; fill: rgb(186, 85, 211); fill-opacity: 1;\"/></g><g class=\"point\"><path d=\"M103.13,101.25V101.25H110.5V101.25Z\" style=\"vector-effect: non-scaling-stroke; opacity: 1; stroke-width: 0px; fill: rgb(186, 85, 211); fill-opacity: 1;\"/></g><g class=\"point\"><path d=\"M110.5,101.25V101.25H117.87V101.25Z\" style=\"vector-effect: non-scaling-stroke; opacity: 1; stroke-width: 0px; fill: rgb(186, 85, 211); fill-opacity: 1;\"/></g><g class=\"point\"><path d=\"M117.87,101.25V101.25H125.23V101.25Z\" style=\"vector-effect: non-scaling-stroke; opacity: 1; stroke-width: 0px; fill: rgb(186, 85, 211); fill-opacity: 1;\"/></g><g class=\"point\"><path d=\"M125.23,101.25V101.25H132.6V101.25Z\" style=\"vector-effect: non-scaling-stroke; opacity: 1; stroke-width: 0px; fill: rgb(186, 85, 211); fill-opacity: 1;\"/></g><g class=\"point\"><path d=\"M132.6,101.25V101.25H139.97V101.25Z\" style=\"vector-effect: non-scaling-stroke; opacity: 1; stroke-width: 0px; fill: rgb(186, 85, 211); fill-opacity: 1;\"/></g><g class=\"point\"><path d=\"M139.97,101.25V100.06H147.33V101.25Z\" style=\"vector-effect: non-scaling-stroke; opacity: 1; stroke-width: 0px; fill: rgb(186, 85, 211); fill-opacity: 1;\"/></g></g></g></g></g><g class=\"overplot\"/><path class=\"xlines-above crisp\" style=\"fill: none;\" d=\"M0,0\"/><path class=\"ylines-above crisp\" style=\"fill: none;\" d=\"M0,0\"/><g class=\"overlines-above\"/><g class=\"xaxislayer-above\"><g class=\"x6tick\"><text text-anchor=\"middle\" x=\"0\" y=\"383\" transform=\"translate(446.3466666666667,0)\" style=\"font-family: 'Open Sans', verdana, arial, sans-serif; font-size: 12px; fill: rgb(42, 63, 95); fill-opacity: 1; white-space: pre;\">0</text></g><g class=\"x6tick\"><text text-anchor=\"middle\" x=\"0\" y=\"383\" transform=\"translate(483.18666666666667,0)\" style=\"font-family: 'Open Sans', verdana, arial, sans-serif; font-size: 12px; fill: rgb(42, 63, 95); fill-opacity: 1; white-space: pre;\">5</text></g><g class=\"x6tick\"><text text-anchor=\"middle\" x=\"0\" y=\"383\" transform=\"translate(520.0166666666667,0)\" style=\"font-family: 'Open Sans', verdana, arial, sans-serif; font-size: 12px; fill: rgb(42, 63, 95); fill-opacity: 1; white-space: pre;\">10</text></g><g class=\"x6tick\"><text text-anchor=\"middle\" x=\"0\" y=\"383\" transform=\"translate(556.8466666666667,0)\" style=\"font-family: 'Open Sans', verdana, arial, sans-serif; font-size: 12px; fill: rgb(42, 63, 95); fill-opacity: 1; white-space: pre;\">15</text></g></g><g class=\"yaxislayer-above\"><g class=\"y6tick\"><text text-anchor=\"end\" x=\"441.6666666666667\" y=\"4.199999999999999\" transform=\"translate(0,370)\" style=\"font-family: 'Open Sans', verdana, arial, sans-serif; font-size: 12px; fill: rgb(42, 63, 95); fill-opacity: 1; white-space: pre;\">0</text></g><g class=\"y6tick\"><text text-anchor=\"end\" x=\"441.6666666666667\" y=\"4.199999999999999\" transform=\"translate(0,346.25)\" style=\"font-family: 'Open Sans', verdana, arial, sans-serif; font-size: 12px; fill: rgb(42, 63, 95); fill-opacity: 1; white-space: pre;\">20</text></g><g class=\"y6tick\"><text text-anchor=\"end\" x=\"441.6666666666667\" y=\"4.199999999999999\" transform=\"translate(0,322.5)\" style=\"font-family: 'Open Sans', verdana, arial, sans-serif; font-size: 12px; fill: rgb(42, 63, 95); fill-opacity: 1; white-space: pre;\">40</text></g><g class=\"y6tick\"><text text-anchor=\"end\" x=\"441.6666666666667\" y=\"4.199999999999999\" transform=\"translate(0,298.75)\" style=\"font-family: 'Open Sans', verdana, arial, sans-serif; font-size: 12px; fill: rgb(42, 63, 95); fill-opacity: 1; white-space: pre;\">60</text></g><g class=\"y6tick\"><text text-anchor=\"end\" x=\"441.6666666666667\" y=\"4.199999999999999\" transform=\"translate(0,275)\" style=\"font-family: 'Open Sans', verdana, arial, sans-serif; font-size: 12px; fill: rgb(42, 63, 95); fill-opacity: 1; white-space: pre;\">80</text></g></g><g class=\"overaxes-above\"/></g></g><g class=\"polarlayer\"/><g class=\"ternarylayer\"/><g class=\"geolayer\"/><g class=\"funnelarealayer\"/><g class=\"pielayer\"/><g class=\"treemaplayer\"/><g class=\"sunburstlayer\"/><g class=\"glimages\"/><defs id=\"topdefs-8cb63b\"><g class=\"clips\"/><clipPath id=\"legend8cb63b\"><rect width=\"88\" height=\"124\" x=\"0\" y=\"0\"/></clipPath></defs><g class=\"layer-above\"><g class=\"imagelayer\"/><g class=\"shapelayer\"/></g><g class=\"infolayer\"><g class=\"legend\" pointer-events=\"all\" transform=\"translate(600.2, 100)\"><rect class=\"bg\" shape-rendering=\"crispEdges\" style=\"stroke: rgb(68, 68, 68); stroke-opacity: 1; fill: rgb(255, 255, 255); fill-opacity: 1; stroke-width: 0px;\" width=\"88\" height=\"124\" x=\"0\" y=\"0\"/><g class=\"scrollbox\" transform=\"translate(0, 0)\" clip-path=\"url('#legend8cb63b')\"><g class=\"groups\"><g class=\"traces\" style=\"opacity: 1;\" transform=\"translate(0, 14.5)\"><text class=\"legendtext user-select-none\" text-anchor=\"start\" x=\"40\" y=\"4.680000000000001\" style=\"font-family: 'Open Sans', verdana, arial, sans-serif; font-size: 12px; fill: rgb(42, 63, 95); fill-opacity: 1; white-space: pre;\">trace 0</text><g class=\"layers\" style=\"opacity: 1;\"><g class=\"legendfill\"/><g class=\"legendlines\"/><g class=\"legendsymbols\"><g class=\"legendpoints\"><path class=\"legendundefined\" d=\"M6,6H-6V-6H6Z\" transform=\"translate(20,0)\" style=\"stroke-width: 0px; fill: rgb(135, 206, 250); fill-opacity: 1;\"/></g></g></g><rect class=\"legendtoggle\" pointer-events=\"all\" x=\"0\" y=\"-9.5\" width=\"82.3125\" height=\"19\" style=\"cursor: pointer; fill: rgb(0, 0, 0); fill-opacity: 0;\"/></g><g class=\"traces\" style=\"opacity: 1;\" transform=\"translate(0, 33.5)\"><text class=\"legendtext user-select-none\" text-anchor=\"start\" x=\"40\" y=\"4.680000000000001\" style=\"font-family: 'Open Sans', verdana, arial, sans-serif; font-size: 12px; fill: rgb(42, 63, 95); fill-opacity: 1; white-space: pre;\">trace 1</text><g class=\"layers\" style=\"opacity: 1;\"><g class=\"legendfill\"/><g class=\"legendlines\"/><g class=\"legendsymbols\"><g class=\"legendpoints\"><path class=\"legendundefined\" d=\"M6,6H-6V-6H6Z\" transform=\"translate(20,0)\" style=\"stroke-width: 0px; fill: rgb(216, 191, 216); fill-opacity: 1;\"/></g></g></g><rect class=\"legendtoggle\" pointer-events=\"all\" x=\"0\" y=\"-9.5\" width=\"82.3125\" height=\"19\" style=\"cursor: pointer; fill: rgb(0, 0, 0); fill-opacity: 0;\"/></g><g class=\"traces\" style=\"opacity: 1;\" transform=\"translate(0, 52.5)\"><text class=\"legendtext user-select-none\" text-anchor=\"start\" x=\"40\" y=\"4.680000000000001\" style=\"font-family: 'Open Sans', verdana, arial, sans-serif; font-size: 12px; fill: rgb(42, 63, 95); fill-opacity: 1; white-space: pre;\">trace 2</text><g class=\"layers\" style=\"opacity: 1;\"><g class=\"legendfill\"/><g class=\"legendlines\"/><g class=\"legendsymbols\"><g class=\"legendpoints\"><path class=\"legendundefined\" d=\"M6,6H-6V-6H6Z\" transform=\"translate(20,0)\" style=\"stroke-width: 0px; fill: rgb(30, 144, 255); fill-opacity: 1;\"/></g></g></g><rect class=\"legendtoggle\" pointer-events=\"all\" x=\"0\" y=\"-9.5\" width=\"82.3125\" height=\"19\" style=\"cursor: pointer; fill: rgb(0, 0, 0); fill-opacity: 0;\"/></g><g class=\"traces\" style=\"opacity: 1;\" transform=\"translate(0, 71.5)\"><text class=\"legendtext user-select-none\" text-anchor=\"start\" x=\"40\" y=\"4.680000000000001\" style=\"font-family: 'Open Sans', verdana, arial, sans-serif; font-size: 12px; fill: rgb(42, 63, 95); fill-opacity: 1; white-space: pre;\">trace 3</text><g class=\"layers\" style=\"opacity: 1;\"><g class=\"legendfill\"/><g class=\"legendlines\"/><g class=\"legendsymbols\"><g class=\"legendpoints\"><path class=\"legendundefined\" d=\"M6,6H-6V-6H6Z\" transform=\"translate(20,0)\" style=\"stroke-width: 0px; fill: rgb(218, 112, 214); fill-opacity: 1;\"/></g></g></g><rect class=\"legendtoggle\" pointer-events=\"all\" x=\"0\" y=\"-9.5\" width=\"82.3125\" height=\"19\" style=\"cursor: pointer; fill: rgb(0, 0, 0); fill-opacity: 0;\"/></g><g class=\"traces\" style=\"opacity: 1;\" transform=\"translate(0, 90.5)\"><text class=\"legendtext user-select-none\" text-anchor=\"start\" x=\"40\" y=\"4.680000000000001\" style=\"font-family: 'Open Sans', verdana, arial, sans-serif; font-size: 12px; fill: rgb(42, 63, 95); fill-opacity: 1; white-space: pre;\">trace 4</text><g class=\"layers\" style=\"opacity: 1;\"><g class=\"legendfill\"/><g class=\"legendlines\"/><g class=\"legendsymbols\"><g class=\"legendpoints\"><path class=\"legendundefined\" d=\"M6,6H-6V-6H6Z\" transform=\"translate(20,0)\" style=\"stroke-width: 0px; fill: rgb(72, 209, 204); fill-opacity: 1;\"/></g></g></g><rect class=\"legendtoggle\" pointer-events=\"all\" x=\"0\" y=\"-9.5\" width=\"82.3125\" height=\"19\" style=\"cursor: pointer; fill: rgb(0, 0, 0); fill-opacity: 0;\"/></g><g class=\"traces\" style=\"opacity: 1;\" transform=\"translate(0, 109.5)\"><text class=\"legendtext user-select-none\" text-anchor=\"start\" x=\"40\" y=\"4.680000000000001\" style=\"font-family: 'Open Sans', verdana, arial, sans-serif; font-size: 12px; fill: rgb(42, 63, 95); fill-opacity: 1; white-space: pre;\">trace 5</text><g class=\"layers\" style=\"opacity: 1;\"><g class=\"legendfill\"/><g class=\"legendlines\"/><g class=\"legendsymbols\"><g class=\"legendpoints\"><path class=\"legendundefined\" d=\"M6,6H-6V-6H6Z\" transform=\"translate(20,0)\" style=\"stroke-width: 0px; fill: rgb(186, 85, 211); fill-opacity: 1;\"/></g></g></g><rect class=\"legendtoggle\" pointer-events=\"all\" x=\"0\" y=\"-9.5\" width=\"82.3125\" height=\"19\" style=\"cursor: pointer; fill: rgb(0, 0, 0); fill-opacity: 0;\"/></g></g></g><rect class=\"scrollbar\" rx=\"20\" ry=\"3\" width=\"0\" height=\"0\" style=\"fill: rgb(128, 139, 164); fill-opacity: 1;\" x=\"0\" y=\"0\"/></g><g class=\"g-gtitle\"/><g class=\"g-xtitle\"/><g class=\"g-x2title\"/><g class=\"g-x3title\"/><g class=\"g-x4title\"/><g class=\"g-x5title\"/><g class=\"g-x6title\"/><g class=\"g-ytitle\"/><g class=\"g-y2title\"/><g class=\"g-y3title\"/><g class=\"g-y4title\"/><g class=\"g-y5title\"/><g class=\"g-y6title\"/><g class=\"annotation\" data-index=\"0\" style=\"opacity: 1;\"><g class=\"annotation-text-g\" transform=\"rotate(0,153.66666666666669,88)\"><g class=\"cursor-pointer\" transform=\"translate(137, 76)\"><rect class=\"bg\" x=\"0.5\" y=\"0.5\" width=\"33\" height=\"23\" style=\"stroke-width: 1px; stroke: rgb(0, 0, 0); stroke-opacity: 0; fill: rgb(0, 0, 0); fill-opacity: 0;\"/><text class=\"annotation-text\" text-anchor=\"middle\" x=\"17.21875\" y=\"18\" style=\"font-family: 'Open Sans', verdana, arial, sans-serif; font-size: 16px; fill: rgb(42, 63, 95); fill-opacity: 1; white-space: pre;\">Age</text></g></g></g><g class=\"annotation\" data-index=\"1\" style=\"opacity: 1;\"><g class=\"annotation-text-g\" transform=\"rotate(0,335,88)\"><g class=\"cursor-pointer\" transform=\"translate(239, 76)\"><rect class=\"bg\" x=\"0.5\" y=\"0.5\" width=\"191\" height=\"23\" style=\"stroke-width: 1px; stroke: rgb(0, 0, 0); stroke-opacity: 0; fill: rgb(0, 0, 0); fill-opacity: 0;\"/><text class=\"annotation-text\" text-anchor=\"middle\" x=\"95.90625\" y=\"18\" style=\"font-family: 'Open Sans', verdana, arial, sans-serif; font-size: 16px; fill: rgb(42, 63, 95); fill-opacity: 1; white-space: pre;\">First sexual intercourse</text></g></g></g><g class=\"annotation\" data-index=\"2\" style=\"opacity: 1;\"><g class=\"annotation-text-g\" transform=\"rotate(0,516.3333333333334,88)\"><g class=\"cursor-pointer\" transform=\"translate(450, 76)\"><rect class=\"bg\" x=\"0.5\" y=\"0.5\" width=\"131\" height=\"23\" style=\"stroke-width: 1px; stroke: rgb(0, 0, 0); stroke-opacity: 0; fill: rgb(0, 0, 0); fill-opacity: 0;\"/><text class=\"annotation-text\" text-anchor=\"middle\" x=\"65.75\" y=\"18\" style=\"font-family: 'Open Sans', verdana, arial, sans-serif; font-size: 16px; fill: rgb(42, 63, 95); fill-opacity: 1; white-space: pre;\">Smokes (years)</text></g></g></g><g class=\"annotation\" data-index=\"3\" style=\"opacity: 1;\"><g class=\"annotation-text-g\" transform=\"rotate(0,153.66666666666669,256.75)\"><g class=\"cursor-pointer\" transform=\"translate(70, 245)\"><rect class=\"bg\" x=\"0.5\" y=\"0.5\" width=\"167\" height=\"23\" style=\"stroke-width: 1px; stroke: rgb(0, 0, 0); stroke-opacity: 0; fill: rgb(0, 0, 0); fill-opacity: 0;\"/><text class=\"annotation-text\" text-anchor=\"middle\" x=\"83.90625\" y=\"18\" style=\"font-family: 'Open Sans', verdana, arial, sans-serif; font-size: 16px; fill: rgb(42, 63, 95); fill-opacity: 1; white-space: pre;\">Smokes (pack/year)</text></g></g></g><g class=\"annotation\" data-index=\"4\" style=\"opacity: 1;\"><g class=\"annotation-text-g\" transform=\"rotate(0,335,256.75)\"><g class=\"cursor-pointer\" transform=\"translate(200, 245)\"><rect class=\"bg\" x=\"0.5\" y=\"0.5\" width=\"270\" height=\"23\" style=\"stroke-width: 1px; stroke: rgb(0, 0, 0); stroke-opacity: 0; fill: rgb(0, 0, 0); fill-opacity: 0;\"/><text class=\"annotation-text\" text-anchor=\"middle\" x=\"135.578125\" y=\"18\" style=\"font-family: 'Open Sans', verdana, arial, sans-serif; font-size: 16px; fill: rgb(42, 63, 95); fill-opacity: 1; white-space: pre;\">Hormonal Contraceptives (years)</text></g></g></g><g class=\"annotation\" data-index=\"5\" style=\"opacity: 1;\"><g class=\"annotation-text-g\" transform=\"rotate(0,516.3333333333334,256.75)\"><g class=\"cursor-pointer\" transform=\"translate(467, 245)\"><rect class=\"bg\" x=\"0.5\" y=\"0.5\" width=\"98\" height=\"23\" style=\"stroke-width: 1px; stroke: rgb(0, 0, 0); stroke-opacity: 0; fill: rgb(0, 0, 0); fill-opacity: 0;\"/><text class=\"annotation-text\" text-anchor=\"middle\" x=\"49.359375\" y=\"18\" style=\"font-family: 'Open Sans', verdana, arial, sans-serif; font-size: 16px; fill: rgb(42, 63, 95); fill-opacity: 1; white-space: pre;\">IUD (years)</text></g></g></g></g></svg>"
      ]
     },
     "metadata": {},
     "output_type": "display_data"
    }
   ],
   "source": [
    "fig = make_subplots(\n",
    "                    rows=2, cols=3,\n",
    "                    subplot_titles=('Age',\n",
    "                                    'First sexual intercourse',\n",
    "                                    'Smokes (years)',\n",
    "                                   'Smokes (pack/year)',\n",
    "                                   'Hormonal Contraceptives (years)',\n",
    "                                   'IUD (years)'))\n",
    "add_hist('Age',1,1,'lightskyblue')\n",
    "add_hist('First sexual intercourse',1,2,'thistle')\n",
    "add_hist('Smokes (years)',1,3,'dodgerblue')\n",
    "add_hist('Smokes (packs/year)',2,1,'orchid')\n",
    "add_hist('Hormonal Contraceptives (years)',2,2,'mediumturquoise')\n",
    "add_hist('IUD (years)',2,3,'mediumorchid')\n",
    "fig.update_layout(height=700, width=1000, title_text=\"\")\n",
    "fig.show(renderer='svg')"
   ]
  },
  {
   "cell_type": "markdown",
   "metadata": {},
   "source": [
    "The distribution is highly left skewed. sexual partners is 2, number of pregnancies is 2, age between 20-24, first intercourse happens in 17, smokes year is 0, taking HC year is 1, taking IUD year is 0 has the most number of people with cervical cancer. It might be a case the number of smoking, partners, pregnancies, taking birth controls can have effects on cervical cancer."
   ]
  },
  {
   "cell_type": "markdown",
   "metadata": {},
   "source": [
    "## III. Model Designing/training"
   ]
  },
  {
   "cell_type": "markdown",
   "metadata": {},
   "source": [
    "### 1. Feature Correlation"
   ]
  },
  {
   "cell_type": "code",
   "execution_count": 37,
   "metadata": {},
   "outputs": [
    {
     "data": {
      "application/vnd.plotly.v1+json": {
       "config": {
        "plotlyServerURL": "https://plot.ly"
       },
       "data": [
        {
         "colorscale": [
          [
           0,
           "#440154"
          ],
          [
           0.1111111111111111,
           "#482878"
          ],
          [
           0.2222222222222222,
           "#3e4989"
          ],
          [
           0.3333333333333333,
           "#31688e"
          ],
          [
           0.4444444444444444,
           "#26828e"
          ],
          [
           0.5555555555555556,
           "#1f9e89"
          ],
          [
           0.6666666666666666,
           "#35b779"
          ],
          [
           0.7777777777777778,
           "#6ece58"
          ],
          [
           0.8888888888888888,
           "#b5de2b"
          ],
          [
           1,
           "#fde725"
          ]
         ],
         "type": "heatmap",
         "x": [
          "Age",
          "Number of sexual partners",
          "First sexual intercourse",
          "Num of pregnancies",
          "Smokes",
          "Smokes (years)",
          "Smokes (packs/year)",
          "Hormonal Contraceptives",
          "Hormonal Contraceptives (years)",
          "IUD",
          "IUD (years)",
          "STDs",
          "STDs (number)",
          "STDs:condylomatosis",
          "STDs:cervical condylomatosis",
          "STDs:vaginal condylomatosis",
          "STDs:vulvo-perineal condylomatosis",
          "STDs:syphilis",
          "STDs:pelvic inflammatory disease",
          "STDs:genital herpes",
          "STDs:molluscum contagiosum",
          "STDs:AIDS",
          "STDs:HIV",
          "STDs:Hepatitis B",
          "STDs:HPV",
          "STDs: Number of diagnosis",
          "Dx",
          "Smokes (year/age)",
          "Hormonal Contraceptives (year/after first intercourse)",
          "IUD (year/after first intercourse)",
          "Smokes (packs)"
         ],
         "y": [
          "Age",
          "Number of sexual partners",
          "First sexual intercourse",
          "Num of pregnancies",
          "Smokes",
          "Smokes (years)",
          "Smokes (packs/year)",
          "Hormonal Contraceptives",
          "Hormonal Contraceptives (years)",
          "IUD",
          "IUD (years)",
          "STDs",
          "STDs (number)",
          "STDs:condylomatosis",
          "STDs:cervical condylomatosis",
          "STDs:vaginal condylomatosis",
          "STDs:vulvo-perineal condylomatosis",
          "STDs:syphilis",
          "STDs:pelvic inflammatory disease",
          "STDs:genital herpes",
          "STDs:molluscum contagiosum",
          "STDs:AIDS",
          "STDs:HIV",
          "STDs:Hepatitis B",
          "STDs:HPV",
          "STDs: Number of diagnosis",
          "Dx",
          "Smokes (year/age)",
          "Hormonal Contraceptives (year/after first intercourse)",
          "IUD (year/after first intercourse)",
          "Smokes (packs)"
         ],
         "z": [
          [
           1,
           0.08764854399783954,
           0.35709319598007616,
           0.524069359181729,
           0.05680487156580523,
           0.21389318836162563,
           0.11756147514867898,
           0.06346084345739086,
           0.2892603697552538,
           0.2681699906339756,
           0.21082928811984292,
           0.010468074960973446,
           -0.01618555008429497,
           -0.026138696293867246,
           null,
           0.006499741142733382,
           -0.023632670111020236,
           0.010912187155510969,
           0.02426116454642687,
           -0.030385071013852006,
           -0.0009601749429327157,
           null,
           -0.0021161577725652956,
           -0.030385071013851975,
           0.04028198681420705,
           -0.016283539723740297,
           0.091404349844254,
           0.11552793275499265,
           -0.04373752340341304,
           0.12785401932918106,
           0.14803682521639477
          ],
          [
           0.08764854399783954,
           1,
           -0.14160608786166123,
           0.09193966320883697,
           0.23570910018388125,
           0.15997963395891754,
           0.167005458603918,
           0.007018957422276995,
           0.02935638685958466,
           0.03712601765294991,
           0.005051864144100624,
           0.05706335448001926,
           0.04241276462871675,
           0.03782937868365719,
           null,
           -0.04462418166303361,
           0.04002016328714797,
           0.02944601452913492,
           0.032349587040589836,
           -0.03319096643447162,
           0.0323495870405896,
           null,
           0.0190288902912029,
           -0.011344115276117187,
           0.01486299712612945,
           0.05468750181723408,
           0.0280051251714224,
           0.1962450388169429,
           -0.058469880044343905,
           0.0007145711293514995,
           0.10031983383869848
          ],
          [
           0.35709319598007616,
           -0.14160608786166123,
           1,
           -0.06911189557808492,
           -0.11223151243089821,
           -0.049016311818381814,
           -0.046928703805160295,
           0.01777821689590608,
           0.007194708925748538,
           -0.028894017655354636,
           -0.025444262282490058,
           -0.013824072739556065,
           0.006821843762776112,
           0.02817322930164646,
           null,
           0.0751560764773059,
           0.03270263079995325,
           -0.10627854949403708,
           -0.001146305418939244,
           0.024619902953039365,
           -0.014029409604928062,
           null,
           -0.01413376219523568,
           0.011736798767049663,
           0.034840973908094215,
           -0.02437918229332192,
           0.0380441466627643,
           -0.087162545120306,
           0.0046886633026019,
           -0.04297484244587898,
           -0.022635748900252568
          ],
          [
           0.524069359181729,
           0.09193966320883697,
           -0.06911189557808492,
           1,
           0.0778520349488674,
           0.18967429013183898,
           0.09495934342427334,
           0.1336873542344769,
           0.20794745204941842,
           0.18955556047060593,
           0.14881342235952494,
           0.047131524151998436,
           0.0023819652194416413,
           -0.04008109518125207,
           null,
           -0.002434512686961194,
           -0.03932128853173327,
           0.15034817384959887,
           -0.05878737820727193,
           -0.03319957717254654,
           0.04356382593163168,
           null,
           0.010037794342044158,
           -0.033199577172546485,
           -0.028877191322660815,
           0.028138418797906715,
           0.01168624337052621,
           0.12046507780502706,
           -0.017475066507226588,
           0.10986956349746974,
           0.10576479777205222
          ],
          [
           0.05680487156580523,
           0.23570910018388125,
           -0.11223151243089821,
           0.0778520349488674,
           1,
           0.719573140671315,
           0.4528609088141826,
           -0.0027656079212745356,
           0.050760226023462106,
           -0.05431224738480941,
           -0.03664228505114476,
           0.12131825992854518,
           0.10904370332515154,
           0.060771423000914246,
           null,
           0.07490998472214289,
           0.0637599285468346,
           0.08571304566183108,
           -0.014841121124324147,
           -0.014841121124324662,
           -0.01484112112432433,
           null,
           0.06081261225775761,
           0.08960153501227322,
           0.052898779385864916,
           0.09889122095020429,
           -0.07224006328995515,
           0.8019638309895384,
           0.015089129016725735,
           -0.04122104334893071,
           0.2984704933194242
          ],
          [
           0.21389318836162563,
           0.15997963395891754,
           -0.049016311818381814,
           0.18967429013183898,
           0.719573140671315,
           1,
           0.6944298463557012,
           -0.014365584731054442,
           0.05233275223136774,
           0.014613609604310147,
           0.04068375430098833,
           0.09360939083425032,
           0.09302039240758515,
           0.045427645095816344,
           null,
           0.12073906010106766,
           0.04759651585283329,
           0.013356350352132838,
           -0.010679272138513348,
           -0.010679272138513178,
           -0.010679272138513288,
           null,
           0.09367972340297763,
           0.10457915670813184,
           0.053894627149921104,
           0.08217179943751582,
           -0.051982009223847325,
           0.9512127265864315,
           -0.014087886498732738,
           0.014575592255135432,
           0.6285587466475732
          ],
          [
           0.11756147514867898,
           0.167005458603918,
           -0.046928703805160295,
           0.09495934342427334,
           0.4528609088141826,
           0.6944298463557012,
           1,
           0.0009560055213221205,
           0.03765683373856358,
           0.0024841716079546314,
           0.017085270973575484,
           0.02282069808551516,
           0.023297483854656315,
           0.0014807712615049176,
           null,
           0.03482652040445991,
           0.0025516522055692714,
           -0.009690472819509143,
           -0.006720963600182962,
           -0.006720963600183076,
           -0.006720963600183001,
           null,
           0.055426452410168976,
           0.1057431606428797,
           -0.009511203918142287,
           0.024845356075013755,
           -0.03271470071428443,
           0.6619738609956856,
           -0.007702762057121774,
           0.013077040332534873,
           0.9108302979461117
          ],
          [
           0.06346084345739086,
           0.007018957422276995,
           0.01777821689590608,
           0.1336873542344769,
           -0.0027656079212745356,
           -0.014365584731054442,
           0.0009560055213221205,
           1,
           0.4346387589148825,
           0.03332895086861231,
           -0.034160788497460313,
           -0.04026873884200881,
           -0.03917216968917697,
           -0.0012522283763016972,
           null,
           -0.05914649319722791,
           -0.005569577751942143,
           -0.027112663709342403,
           0.027422244171178604,
           0.027422244171178847,
           -0.04849301267035702,
           null,
           -0.08141009927618785,
           -0.048493012670357966,
           0.0388067205419872,
           -0.050906515404545334,
           0.004950005102616473,
           -0.0014846305944142327,
           0.4346515921549019,
           -0.03855409076182912,
           0.010653144422622293
          ],
          [
           0.2892603697552538,
           0.02935638685958466,
           0.007194708925748538,
           0.20794745204941842,
           0.050760226023462106,
           0.05233275223136774,
           0.03765683373856358,
           0.4346387589148825,
           1,
           0.06820251180497748,
           -0.0003881343915730913,
           -0.009981296103370516,
           -0.01306225237567877,
           0.005166521295527897,
           null,
           -0.03722476312523416,
           0.006959950640254836,
           -0.004562426962368241,
           -0.021076942843087327,
           -0.021076942843087507,
           -0.021076942843087393,
           null,
           -0.04273473254751806,
           -0.02107694284308749,
           0.05514070956404591,
           -0.04312165942011848,
           -0.011528317408116216,
           0.05106060627993827,
           0.6412458932754931,
           -0.026941276643269427,
           0.024419308340351296
          ],
          [
           0.2681699906339756,
           0.03712601765294991,
           -0.028894017655354636,
           0.18955556047060593,
           -0.05431224738480941,
           0.014613609604310147,
           0.0024841716079546314,
           0.03332895086861231,
           0.06820251180497748,
           1,
           0.6754087523884487,
           0.10120634526050824,
           0.08376607878560342,
           0.09011525313062425,
           null,
           0.026435295725635567,
           0.07620944780935687,
           0.017680708180663387,
           -0.014022486389579012,
           -0.014022486389579387,
           -0.014022486389579149,
           null,
           0.0436330927031563,
           -0.01402248638957934,
           -0.019843988961200404,
           0.06595629031446294,
           0.1851551449773276,
           -0.005067540885017417,
           -0.06276086395782082,
           0.6823632724712944,
           0.009222982001323257
          ],
          [
           0.21082928811984292,
           0.005051864144100624,
           -0.025444262282490058,
           0.14881342235952494,
           -0.03664228505114476,
           0.04068375430098833,
           0.017085270973575484,
           -0.034160788497460313,
           -0.0003881343915730913,
           0.6754087523884487,
           1,
           0.012246484680654018,
           0.011544749843290675,
           0.026347243122727796,
           null,
           -0.009502444211655853,
           0.02515060760249315,
           -0.031623743725603684,
           -0.009470910037769582,
           -0.009470910037769236,
           -0.009470910037769457,
           null,
           0.013476027155797305,
           -0.00947091003776929,
           -0.013402803826694612,
           0.0031135072008853797,
           0.09802214211077336,
           0.020848177839367276,
           -0.07338463100224883,
           0.893137669987017,
           0.022239374326142636
          ],
          [
           0.010468074960973446,
           0.05706335448001926,
           -0.013824072739556065,
           0.047131524151998436,
           0.12131825992854518,
           0.09360939083425032,
           0.02282069808551516,
           -0.04026873884200881,
           -0.009981296103370516,
           0.10120634526050824,
           0.012246484680654018,
           1,
           0.918609338815656,
           0.7276451236978863,
           null,
           0.2134545857668251,
           0.7188221581597953,
           0.4570976469506766,
           0.10651419325074309,
           0.1065141932507431,
           0.10651419325074309,
           null,
           0.45709764695067806,
           0.1065141932507431,
           0.1507340721435619,
           0.9066624315595837,
           -0.01040139398761586,
           0.11877272112726414,
           -0.016062323028546804,
           0.020615458150717293,
           -0.0018609256102658416
          ],
          [
           -0.01618555008429497,
           0.04241276462871675,
           0.006821843762776112,
           0.0023819652194416413,
           0.10904370332515154,
           0.09302039240758515,
           0.023297483854656315,
           -0.03917216968917697,
           -0.01306225237567877,
           0.08376607878560342,
           0.011544749843290675,
           0.918609338815656,
           1,
           0.8995214711172945,
           null,
           0.33484949248820317,
           0.8906988566084632,
           0.30682958337855004,
           0.053462046814418594,
           0.05346204681441782,
           0.05346204681441831,
           null,
           0.38423081496450207,
           0.11839256496161019,
           0.07565707231614271,
           0.8972332758371656,
           -0.0283405921592382,
           0.11571183253942204,
           -0.010316344462344423,
           0.01623046922890987,
           0.0011228341590096913
          ],
          [
           -0.026138696293867246,
           0.03782937868365719,
           0.02817322930164646,
           -0.04008109518125207,
           0.060771423000914246,
           0.045427645095816344,
           0.0014807712615049176,
           -0.0012522283763016972,
           0.005166521295527897,
           0.09011525313062425,
           0.026347243122727796,
           0.7276451236978863,
           0.8995214711172945,
           1,
           null,
           0.29334984708212236,
           0.9878746311206567,
           0.035145427784525535,
           -0.009084359247118519,
           -0.009084359247118349,
           -0.009084359247118454,
           null,
           0.10927569983424194,
           -0.009084359247118373,
           -0.012855774618784385,
           0.6990381358085037,
           -0.04421867333761911,
           0.05727085932838863,
           0.01880629704992203,
           0.026784230090387134,
           -0.008233733922965789
          ],
          [
           null,
           null,
           null,
           null,
           null,
           null,
           null,
           null,
           null,
           null,
           null,
           null,
           null,
           null,
           null,
           null,
           null,
           null,
           null,
           null,
           null,
           null,
           null,
           null,
           null,
           null,
           null,
           null,
           null,
           null,
           null
          ],
          [
           0.006499741142733382,
           -0.04462418166303361,
           0.0751560764773059,
           -0.002434512686961194,
           0.07490998472214289,
           0.12073906010106766,
           0.03482652040445991,
           -0.05914649319722791,
           -0.03722476312523416,
           0.026435295725635567,
           -0.009502444211655853,
           0.2134545857668251,
           0.33484949248820317,
           0.29334984708212236,
           null,
           1,
           0.21821677967471048,
           -0.011436198103713581,
           -0.002664895395981296,
           -0.002664895395981332,
           -0.0026648953959813155,
           null,
           -0.011436198103713614,
           -0.00266489539598133,
           -0.0037712395185426463,
           0.20506273024399266,
           -0.012971541061764996,
           0.10864404612498364,
           -0.036475850507048206,
           -0.0013052388931504223,
           0.025899346456681575
          ],
          [
           -0.023632670111020236,
           0.04002016328714797,
           0.03270263079995325,
           -0.03932128853173327,
           0.0637599285468346,
           0.04759651585283329,
           0.0025516522055692714,
           -0.005569577751942143,
           0.006959950640254836,
           0.07620944780935687,
           0.02515060760249315,
           0.7188221581597953,
           0.8906988566084632,
           0.9878746311206567,
           null,
           0.21821677967471048,
           1,
           0.03642233267463516,
           -0.008974208040214858,
           -0.008974208040214923,
           -0.008974208040214881,
           null,
           0.11135680399704175,
           -0.008974208040214914,
           -0.012699893609302092,
           0.6905620405511078,
           -0.04368250561204592,
           0.05976011752081044,
           0.02051279819404959,
           0.022978548075554342,
           -0.007627851062830688
          ],
          [
           0.010912187155510969,
           0.02944601452913492,
           -0.10627854949403708,
           0.15034817384959887,
           0.08571304566183108,
           0.013356350352132838,
           -0.009690472819509143,
           -0.027112663709342403,
           -0.004562426962368241,
           0.017680708180663387,
           -0.031623743725603684,
           0.4570976469506766,
           0.30682958337855004,
           0.035145427784525535,
           null,
           -0.011436198103713581,
           0.03642233267463516,
           1,
           -0.005706681870978318,
           -0.005706681870978334,
           -0.005706681870978324,
           null,
           0.0324263038548746,
           -0.005706681870978333,
           -0.008075838257681229,
           0.41203247523825465,
           -0.027777622464077254,
           0.02013982782708006,
           -0.030507245467119363,
           -0.025959439126258185,
           -0.012476905375632771
          ],
          [
           0.02426116454642687,
           0.032349587040589836,
           -0.001146305418939244,
           -0.05878737820727193,
           -0.014841121124324147,
           -0.010679272138513348,
           -0.006720963600182962,
           0.027422244171178604,
           -0.021076942843087327,
           -0.014022486389579012,
           -0.009470910037769582,
           0.10651419325074309,
           0.053462046814418594,
           -0.009084359247118519,
           null,
           -0.002664895395981296,
           -0.008974208040214858,
           -0.005706681870978318,
           1,
           -0.0013297872340425647,
           -0.0013297872340425662,
           null,
           -0.005706681870978338,
           -0.001329787234042564,
           -0.0018818547909375675,
           0.10232664339005501,
           -0.006472820560163875,
           -0.011902042353042838,
           -0.016751978284719957,
           -0.00956842970097704,
           -0.004429636743390453
          ],
          [
           -0.030385071013852006,
           -0.03319096643447162,
           0.024619902953039365,
           -0.03319957717254654,
           -0.014841121124324662,
           -0.010679272138513178,
           -0.006720963600183076,
           0.027422244171178847,
           -0.021076942843087507,
           -0.014022486389579387,
           -0.009470910037769236,
           0.1065141932507431,
           0.05346204681441782,
           -0.009084359247118349,
           null,
           -0.002664895395981332,
           -0.008974208040214923,
           -0.005706681870978334,
           -0.0013297872340425647,
           1,
           -0.0013297872340425744,
           null,
           -0.005706681870978354,
           -0.0013297872340425818,
           -0.0018818547909375568,
           0.1023266433900529,
           -0.006472820560164049,
           -0.011902042353043015,
           0.0019308756899629332,
           -0.00956842970097685,
           -0.0044296367433905364
          ],
          [
           -0.0009601749429327157,
           0.0323495870405896,
           -0.014029409604928062,
           0.04356382593163168,
           -0.01484112112432433,
           -0.010679272138513288,
           -0.006720963600183001,
           -0.04849301267035702,
           -0.021076942843087393,
           -0.014022486389579149,
           -0.009470910037769457,
           0.10651419325074309,
           0.05346204681441831,
           -0.009084359247118454,
           null,
           -0.0026648953959813155,
           -0.008974208040214881,
           -0.005706681870978324,
           -0.0013297872340425662,
           -0.0013297872340425744,
           1,
           null,
           -0.0057066818709783414,
           -0.0013297872340425738,
           -0.001881854790937559,
           0.10232664339005422,
           -0.006472820560163935,
           -0.011902042353042904,
           -0.02107756516555782,
           -0.00956842970097697,
           -0.004429636743390487
          ],
          [
           null,
           null,
           null,
           null,
           null,
           null,
           null,
           null,
           null,
           null,
           null,
           null,
           null,
           null,
           null,
           null,
           null,
           null,
           null,
           null,
           null,
           null,
           null,
           null,
           null,
           null,
           null,
           null,
           null,
           null,
           null
          ],
          [
           -0.0021161577725652956,
           0.0190288902912029,
           -0.01413376219523568,
           0.010037794342044158,
           0.06081261225775761,
           0.09367972340297763,
           0.055426452410168976,
           -0.08141009927618785,
           -0.04273473254751806,
           0.0436330927031563,
           0.013476027155797305,
           0.45709764695067806,
           0.38423081496450207,
           0.10927569983424194,
           null,
           -0.011436198103713614,
           0.11135680399704175,
           0.0324263038548746,
           -0.005706681870978338,
           -0.005706681870978354,
           -0.0057066818709783414,
           null,
           1,
           0.2330228430649526,
           -0.008075838257681258,
           0.5475055578748742,
           0.0227454444814534,
           0.12131986740923097,
           -0.044111284493978144,
           0.02390687139146444,
           0.02149234138339053
          ],
          [
           -0.030385071013851975,
           -0.011344115276117187,
           0.011736798767049663,
           -0.033199577172546485,
           0.08960153501227322,
           0.10457915670813184,
           0.1057431606428797,
           -0.048493012670357966,
           -0.02107694284308749,
           -0.01402248638957934,
           -0.00947091003776929,
           0.1065141932507431,
           0.11839256496161019,
           -0.009084359247118373,
           null,
           -0.00266489539598133,
           -0.008974208040214914,
           -0.005706681870978333,
           -0.001329787234042564,
           -0.0013297872340425818,
           -0.0013297872340425738,
           null,
           0.2330228430649526,
           1,
           -0.0018818547909375555,
           0.10232664339005318,
           -0.006472820560164027,
           0.18167967531209028,
           -0.02107756516555777,
           -0.009568429700976872,
           0.05097963645254609
          ],
          [
           0.04028198681420705,
           0.01486299712612945,
           0.034840973908094215,
           -0.028877191322660815,
           0.052898779385864916,
           0.053894627149921104,
           -0.009511203918142287,
           0.0388067205419872,
           0.05514070956404591,
           -0.019843988961200404,
           -0.013402803826694612,
           0.1507340721435619,
           0.07565707231614271,
           -0.012855774618784385,
           null,
           -0.0037712395185426463,
           -0.012699893609302092,
           -0.008075838257681229,
           -0.0018818547909375675,
           -0.0018818547909375568,
           -0.001881854790937559,
           null,
           -0.008075838257681258,
           -0.0018818547909375555,
           1,
           0.06439472612855719,
           0.1407858798700022,
           0.055647648781836236,
           0.02252927539965348,
           -0.013540809246448621,
           -0.0058377827060566555
          ],
          [
           -0.016283539723740297,
           0.05468750181723408,
           -0.02437918229332192,
           0.028138418797906715,
           0.09889122095020429,
           0.08217179943751582,
           0.024845356075013755,
           -0.050906515404545334,
           -0.04312165942011848,
           0.06595629031446294,
           0.0031135072008853797,
           0.9066624315595837,
           0.8972332758371656,
           0.6990381358085037,
           null,
           0.20506273024399266,
           0.6905620405511078,
           0.41203247523825465,
           0.10232664339005501,
           0.1023266433900529,
           0.10232664339005422,
           null,
           0.5475055578748742,
           0.10232664339005318,
           0.06439472612855719,
           1,
           -0.006994983935590965,
           0.10605662099619069,
           -0.03558210916960811,
           0.0146078138050088,
           0.00016464380667271633
          ],
          [
           0.091404349844254,
           0.0280051251714224,
           0.0380441466627643,
           0.01168624337052621,
           -0.07224006328995515,
           -0.051982009223847325,
           -0.03271470071428443,
           0.004950005102616473,
           -0.011528317408116216,
           0.1851551449773276,
           0.09802214211077336,
           -0.01040139398761586,
           -0.0283405921592382,
           -0.04421867333761911,
           null,
           -0.012971541061764996,
           -0.04368250561204592,
           -0.027777622464077254,
           -0.006472820560163875,
           -0.006472820560164049,
           -0.006472820560163935,
           null,
           0.0227454444814534,
           -0.006472820560164027,
           0.1407858798700022,
           -0.006994983935590965,
           1,
           -0.05793391790693865,
           -0.010117689159144471,
           0.1467302724525213,
           -0.02156152732757997
          ],
          [
           0.11552793275499265,
           0.1962450388169429,
           -0.087162545120306,
           0.12046507780502706,
           0.8019638309895384,
           0.9512127265864315,
           0.6619738609956856,
           -0.0014846305944142327,
           0.05106060627993827,
           -0.005067540885017417,
           0.020848177839367276,
           0.11877272112726414,
           0.11571183253942204,
           0.05727085932838863,
           null,
           0.10864404612498364,
           0.05976011752081044,
           0.02013982782708006,
           -0.011902042353042838,
           -0.011902042353043015,
           -0.011902042353042904,
           null,
           0.12131986740923097,
           0.18167967531209028,
           0.055647648781836236,
           0.10605662099619069,
           -0.05793391790693865,
           1,
           0.0019302431052944382,
           0.005208855315380978,
           0.5270078250898278
          ],
          [
           -0.04373752340341304,
           -0.058469880044343905,
           0.0046886633026019,
           -0.017475066507226588,
           0.015089129016725735,
           -0.014087886498732738,
           -0.007702762057121774,
           0.4346515921549019,
           0.6412458932754931,
           -0.06276086395782082,
           -0.07338463100224883,
           -0.016062323028546804,
           -0.010316344462344423,
           0.01880629704992203,
           null,
           -0.036475850507048206,
           0.02051279819404959,
           -0.030507245467119363,
           -0.016751978284719957,
           0.0019308756899629332,
           -0.02107756516555782,
           null,
           -0.044111284493978144,
           -0.02107756516555777,
           0.02252927539965348,
           -0.03558210916960811,
           -0.010117689159144471,
           0.0019302431052944382,
           1,
           -0.08001833403778762,
           -0.021051595471163302
          ],
          [
           0.12785401932918106,
           0.0007145711293514995,
           -0.04297484244587898,
           0.10986956349746974,
           -0.04122104334893071,
           0.014575592255135432,
           0.013077040332534873,
           -0.03855409076182912,
           -0.026941276643269427,
           0.6823632724712944,
           0.893137669987017,
           0.020615458150717293,
           0.01623046922890987,
           0.026784230090387134,
           null,
           -0.0013052388931504223,
           0.022978548075554342,
           -0.025959439126258185,
           -0.00956842970097704,
           -0.00956842970097685,
           -0.00956842970097697,
           null,
           0.02390687139146444,
           -0.009568429700976872,
           -0.013540809246448621,
           0.0146078138050088,
           0.1467302724525213,
           0.005208855315380978,
           -0.08001833403778762,
           1,
           0.012417246475316624
          ],
          [
           0.14803682521639477,
           0.10031983383869848,
           -0.022635748900252568,
           0.10576479777205222,
           0.2984704933194242,
           0.6285587466475732,
           0.9108302979461117,
           0.010653144422622293,
           0.024419308340351296,
           0.009222982001323257,
           0.022239374326142636,
           -0.0018609256102658416,
           0.0011228341590096913,
           -0.008233733922965789,
           null,
           0.025899346456681575,
           -0.007627851062830688,
           -0.012476905375632771,
           -0.004429636743390453,
           -0.0044296367433905364,
           -0.004429636743390487,
           null,
           0.02149234138339053,
           0.05097963645254609,
           -0.0058377827060566555,
           0.00016464380667271633,
           -0.02156152732757997,
           0.5270078250898278,
           -0.021051595471163302,
           0.012417246475316624,
           1
          ]
         ]
        }
       ],
       "layout": {
        "template": {
         "data": {
          "bar": [
           {
            "error_x": {
             "color": "#2a3f5f"
            },
            "error_y": {
             "color": "#2a3f5f"
            },
            "marker": {
             "line": {
              "color": "#E5ECF6",
              "width": 0.5
             }
            },
            "type": "bar"
           }
          ],
          "barpolar": [
           {
            "marker": {
             "line": {
              "color": "#E5ECF6",
              "width": 0.5
             }
            },
            "type": "barpolar"
           }
          ],
          "carpet": [
           {
            "aaxis": {
             "endlinecolor": "#2a3f5f",
             "gridcolor": "white",
             "linecolor": "white",
             "minorgridcolor": "white",
             "startlinecolor": "#2a3f5f"
            },
            "baxis": {
             "endlinecolor": "#2a3f5f",
             "gridcolor": "white",
             "linecolor": "white",
             "minorgridcolor": "white",
             "startlinecolor": "#2a3f5f"
            },
            "type": "carpet"
           }
          ],
          "choropleth": [
           {
            "colorbar": {
             "outlinewidth": 0,
             "ticks": ""
            },
            "type": "choropleth"
           }
          ],
          "contour": [
           {
            "colorbar": {
             "outlinewidth": 0,
             "ticks": ""
            },
            "colorscale": [
             [
              0,
              "#0d0887"
             ],
             [
              0.1111111111111111,
              "#46039f"
             ],
             [
              0.2222222222222222,
              "#7201a8"
             ],
             [
              0.3333333333333333,
              "#9c179e"
             ],
             [
              0.4444444444444444,
              "#bd3786"
             ],
             [
              0.5555555555555556,
              "#d8576b"
             ],
             [
              0.6666666666666666,
              "#ed7953"
             ],
             [
              0.7777777777777778,
              "#fb9f3a"
             ],
             [
              0.8888888888888888,
              "#fdca26"
             ],
             [
              1,
              "#f0f921"
             ]
            ],
            "type": "contour"
           }
          ],
          "contourcarpet": [
           {
            "colorbar": {
             "outlinewidth": 0,
             "ticks": ""
            },
            "type": "contourcarpet"
           }
          ],
          "heatmap": [
           {
            "colorbar": {
             "outlinewidth": 0,
             "ticks": ""
            },
            "colorscale": [
             [
              0,
              "#0d0887"
             ],
             [
              0.1111111111111111,
              "#46039f"
             ],
             [
              0.2222222222222222,
              "#7201a8"
             ],
             [
              0.3333333333333333,
              "#9c179e"
             ],
             [
              0.4444444444444444,
              "#bd3786"
             ],
             [
              0.5555555555555556,
              "#d8576b"
             ],
             [
              0.6666666666666666,
              "#ed7953"
             ],
             [
              0.7777777777777778,
              "#fb9f3a"
             ],
             [
              0.8888888888888888,
              "#fdca26"
             ],
             [
              1,
              "#f0f921"
             ]
            ],
            "type": "heatmap"
           }
          ],
          "heatmapgl": [
           {
            "colorbar": {
             "outlinewidth": 0,
             "ticks": ""
            },
            "colorscale": [
             [
              0,
              "#0d0887"
             ],
             [
              0.1111111111111111,
              "#46039f"
             ],
             [
              0.2222222222222222,
              "#7201a8"
             ],
             [
              0.3333333333333333,
              "#9c179e"
             ],
             [
              0.4444444444444444,
              "#bd3786"
             ],
             [
              0.5555555555555556,
              "#d8576b"
             ],
             [
              0.6666666666666666,
              "#ed7953"
             ],
             [
              0.7777777777777778,
              "#fb9f3a"
             ],
             [
              0.8888888888888888,
              "#fdca26"
             ],
             [
              1,
              "#f0f921"
             ]
            ],
            "type": "heatmapgl"
           }
          ],
          "histogram": [
           {
            "marker": {
             "colorbar": {
              "outlinewidth": 0,
              "ticks": ""
             }
            },
            "type": "histogram"
           }
          ],
          "histogram2d": [
           {
            "colorbar": {
             "outlinewidth": 0,
             "ticks": ""
            },
            "colorscale": [
             [
              0,
              "#0d0887"
             ],
             [
              0.1111111111111111,
              "#46039f"
             ],
             [
              0.2222222222222222,
              "#7201a8"
             ],
             [
              0.3333333333333333,
              "#9c179e"
             ],
             [
              0.4444444444444444,
              "#bd3786"
             ],
             [
              0.5555555555555556,
              "#d8576b"
             ],
             [
              0.6666666666666666,
              "#ed7953"
             ],
             [
              0.7777777777777778,
              "#fb9f3a"
             ],
             [
              0.8888888888888888,
              "#fdca26"
             ],
             [
              1,
              "#f0f921"
             ]
            ],
            "type": "histogram2d"
           }
          ],
          "histogram2dcontour": [
           {
            "colorbar": {
             "outlinewidth": 0,
             "ticks": ""
            },
            "colorscale": [
             [
              0,
              "#0d0887"
             ],
             [
              0.1111111111111111,
              "#46039f"
             ],
             [
              0.2222222222222222,
              "#7201a8"
             ],
             [
              0.3333333333333333,
              "#9c179e"
             ],
             [
              0.4444444444444444,
              "#bd3786"
             ],
             [
              0.5555555555555556,
              "#d8576b"
             ],
             [
              0.6666666666666666,
              "#ed7953"
             ],
             [
              0.7777777777777778,
              "#fb9f3a"
             ],
             [
              0.8888888888888888,
              "#fdca26"
             ],
             [
              1,
              "#f0f921"
             ]
            ],
            "type": "histogram2dcontour"
           }
          ],
          "mesh3d": [
           {
            "colorbar": {
             "outlinewidth": 0,
             "ticks": ""
            },
            "type": "mesh3d"
           }
          ],
          "parcoords": [
           {
            "line": {
             "colorbar": {
              "outlinewidth": 0,
              "ticks": ""
             }
            },
            "type": "parcoords"
           }
          ],
          "pie": [
           {
            "automargin": true,
            "type": "pie"
           }
          ],
          "scatter": [
           {
            "marker": {
             "colorbar": {
              "outlinewidth": 0,
              "ticks": ""
             }
            },
            "type": "scatter"
           }
          ],
          "scatter3d": [
           {
            "line": {
             "colorbar": {
              "outlinewidth": 0,
              "ticks": ""
             }
            },
            "marker": {
             "colorbar": {
              "outlinewidth": 0,
              "ticks": ""
             }
            },
            "type": "scatter3d"
           }
          ],
          "scattercarpet": [
           {
            "marker": {
             "colorbar": {
              "outlinewidth": 0,
              "ticks": ""
             }
            },
            "type": "scattercarpet"
           }
          ],
          "scattergeo": [
           {
            "marker": {
             "colorbar": {
              "outlinewidth": 0,
              "ticks": ""
             }
            },
            "type": "scattergeo"
           }
          ],
          "scattergl": [
           {
            "marker": {
             "colorbar": {
              "outlinewidth": 0,
              "ticks": ""
             }
            },
            "type": "scattergl"
           }
          ],
          "scattermapbox": [
           {
            "marker": {
             "colorbar": {
              "outlinewidth": 0,
              "ticks": ""
             }
            },
            "type": "scattermapbox"
           }
          ],
          "scatterpolar": [
           {
            "marker": {
             "colorbar": {
              "outlinewidth": 0,
              "ticks": ""
             }
            },
            "type": "scatterpolar"
           }
          ],
          "scatterpolargl": [
           {
            "marker": {
             "colorbar": {
              "outlinewidth": 0,
              "ticks": ""
             }
            },
            "type": "scatterpolargl"
           }
          ],
          "scatterternary": [
           {
            "marker": {
             "colorbar": {
              "outlinewidth": 0,
              "ticks": ""
             }
            },
            "type": "scatterternary"
           }
          ],
          "surface": [
           {
            "colorbar": {
             "outlinewidth": 0,
             "ticks": ""
            },
            "colorscale": [
             [
              0,
              "#0d0887"
             ],
             [
              0.1111111111111111,
              "#46039f"
             ],
             [
              0.2222222222222222,
              "#7201a8"
             ],
             [
              0.3333333333333333,
              "#9c179e"
             ],
             [
              0.4444444444444444,
              "#bd3786"
             ],
             [
              0.5555555555555556,
              "#d8576b"
             ],
             [
              0.6666666666666666,
              "#ed7953"
             ],
             [
              0.7777777777777778,
              "#fb9f3a"
             ],
             [
              0.8888888888888888,
              "#fdca26"
             ],
             [
              1,
              "#f0f921"
             ]
            ],
            "type": "surface"
           }
          ],
          "table": [
           {
            "cells": {
             "fill": {
              "color": "#EBF0F8"
             },
             "line": {
              "color": "white"
             }
            },
            "header": {
             "fill": {
              "color": "#C8D4E3"
             },
             "line": {
              "color": "white"
             }
            },
            "type": "table"
           }
          ]
         },
         "layout": {
          "annotationdefaults": {
           "arrowcolor": "#2a3f5f",
           "arrowhead": 0,
           "arrowwidth": 1
          },
          "coloraxis": {
           "colorbar": {
            "outlinewidth": 0,
            "ticks": ""
           }
          },
          "colorscale": {
           "diverging": [
            [
             0,
             "#8e0152"
            ],
            [
             0.1,
             "#c51b7d"
            ],
            [
             0.2,
             "#de77ae"
            ],
            [
             0.3,
             "#f1b6da"
            ],
            [
             0.4,
             "#fde0ef"
            ],
            [
             0.5,
             "#f7f7f7"
            ],
            [
             0.6,
             "#e6f5d0"
            ],
            [
             0.7,
             "#b8e186"
            ],
            [
             0.8,
             "#7fbc41"
            ],
            [
             0.9,
             "#4d9221"
            ],
            [
             1,
             "#276419"
            ]
           ],
           "sequential": [
            [
             0,
             "#0d0887"
            ],
            [
             0.1111111111111111,
             "#46039f"
            ],
            [
             0.2222222222222222,
             "#7201a8"
            ],
            [
             0.3333333333333333,
             "#9c179e"
            ],
            [
             0.4444444444444444,
             "#bd3786"
            ],
            [
             0.5555555555555556,
             "#d8576b"
            ],
            [
             0.6666666666666666,
             "#ed7953"
            ],
            [
             0.7777777777777778,
             "#fb9f3a"
            ],
            [
             0.8888888888888888,
             "#fdca26"
            ],
            [
             1,
             "#f0f921"
            ]
           ],
           "sequentialminus": [
            [
             0,
             "#0d0887"
            ],
            [
             0.1111111111111111,
             "#46039f"
            ],
            [
             0.2222222222222222,
             "#7201a8"
            ],
            [
             0.3333333333333333,
             "#9c179e"
            ],
            [
             0.4444444444444444,
             "#bd3786"
            ],
            [
             0.5555555555555556,
             "#d8576b"
            ],
            [
             0.6666666666666666,
             "#ed7953"
            ],
            [
             0.7777777777777778,
             "#fb9f3a"
            ],
            [
             0.8888888888888888,
             "#fdca26"
            ],
            [
             1,
             "#f0f921"
            ]
           ]
          },
          "colorway": [
           "#636efa",
           "#EF553B",
           "#00cc96",
           "#ab63fa",
           "#FFA15A",
           "#19d3f3",
           "#FF6692",
           "#B6E880",
           "#FF97FF",
           "#FECB52"
          ],
          "font": {
           "color": "#2a3f5f"
          },
          "geo": {
           "bgcolor": "white",
           "lakecolor": "white",
           "landcolor": "#E5ECF6",
           "showlakes": true,
           "showland": true,
           "subunitcolor": "white"
          },
          "hoverlabel": {
           "align": "left"
          },
          "hovermode": "closest",
          "mapbox": {
           "style": "light"
          },
          "paper_bgcolor": "white",
          "plot_bgcolor": "#E5ECF6",
          "polar": {
           "angularaxis": {
            "gridcolor": "white",
            "linecolor": "white",
            "ticks": ""
           },
           "bgcolor": "#E5ECF6",
           "radialaxis": {
            "gridcolor": "white",
            "linecolor": "white",
            "ticks": ""
           }
          },
          "scene": {
           "xaxis": {
            "backgroundcolor": "#E5ECF6",
            "gridcolor": "white",
            "gridwidth": 2,
            "linecolor": "white",
            "showbackground": true,
            "ticks": "",
            "zerolinecolor": "white"
           },
           "yaxis": {
            "backgroundcolor": "#E5ECF6",
            "gridcolor": "white",
            "gridwidth": 2,
            "linecolor": "white",
            "showbackground": true,
            "ticks": "",
            "zerolinecolor": "white"
           },
           "zaxis": {
            "backgroundcolor": "#E5ECF6",
            "gridcolor": "white",
            "gridwidth": 2,
            "linecolor": "white",
            "showbackground": true,
            "ticks": "",
            "zerolinecolor": "white"
           }
          },
          "shapedefaults": {
           "line": {
            "color": "#2a3f5f"
           }
          },
          "ternary": {
           "aaxis": {
            "gridcolor": "white",
            "linecolor": "white",
            "ticks": ""
           },
           "baxis": {
            "gridcolor": "white",
            "linecolor": "white",
            "ticks": ""
           },
           "bgcolor": "#E5ECF6",
           "caxis": {
            "gridcolor": "white",
            "linecolor": "white",
            "ticks": ""
           }
          },
          "title": {
           "x": 0.05
          },
          "xaxis": {
           "automargin": true,
           "gridcolor": "white",
           "linecolor": "white",
           "ticks": "",
           "title": {
            "standoff": 15
           },
           "zerolinecolor": "white",
           "zerolinewidth": 2
          },
          "yaxis": {
           "automargin": true,
           "gridcolor": "white",
           "linecolor": "white",
           "ticks": "",
           "title": {
            "standoff": 15
           },
           "zerolinecolor": "white",
           "zerolinewidth": 2
          }
         }
        }
       }
      },
      "text/html": [
       "<div>\n",
       "        \n",
       "        \n",
       "            <div id=\"e34263e9-cc43-4b3a-b5ce-2cb174c1b7a5\" class=\"plotly-graph-div\" style=\"height:525px; width:100%;\"></div>\n",
       "            <script type=\"text/javascript\">\n",
       "                require([\"plotly\"], function(Plotly) {\n",
       "                    window.PLOTLYENV=window.PLOTLYENV || {};\n",
       "                    \n",
       "                if (document.getElementById(\"e34263e9-cc43-4b3a-b5ce-2cb174c1b7a5\")) {\n",
       "                    Plotly.newPlot(\n",
       "                        'e34263e9-cc43-4b3a-b5ce-2cb174c1b7a5',\n",
       "                        [{\"colorscale\": [[0.0, \"#440154\"], [0.1111111111111111, \"#482878\"], [0.2222222222222222, \"#3e4989\"], [0.3333333333333333, \"#31688e\"], [0.4444444444444444, \"#26828e\"], [0.5555555555555556, \"#1f9e89\"], [0.6666666666666666, \"#35b779\"], [0.7777777777777778, \"#6ece58\"], [0.8888888888888888, \"#b5de2b\"], [1.0, \"#fde725\"]], \"type\": \"heatmap\", \"x\": [\"Age\", \"Number of sexual partners\", \"First sexual intercourse\", \"Num of pregnancies\", \"Smokes\", \"Smokes (years)\", \"Smokes (packs/year)\", \"Hormonal Contraceptives\", \"Hormonal Contraceptives (years)\", \"IUD\", \"IUD (years)\", \"STDs\", \"STDs (number)\", \"STDs:condylomatosis\", \"STDs:cervical condylomatosis\", \"STDs:vaginal condylomatosis\", \"STDs:vulvo-perineal condylomatosis\", \"STDs:syphilis\", \"STDs:pelvic inflammatory disease\", \"STDs:genital herpes\", \"STDs:molluscum contagiosum\", \"STDs:AIDS\", \"STDs:HIV\", \"STDs:Hepatitis B\", \"STDs:HPV\", \"STDs: Number of diagnosis\", \"Dx\", \"Smokes (year/age)\", \"Hormonal Contraceptives (year/after first intercourse)\", \"IUD (year/after first intercourse)\", \"Smokes (packs)\"], \"y\": [\"Age\", \"Number of sexual partners\", \"First sexual intercourse\", \"Num of pregnancies\", \"Smokes\", \"Smokes (years)\", \"Smokes (packs/year)\", \"Hormonal Contraceptives\", \"Hormonal Contraceptives (years)\", \"IUD\", \"IUD (years)\", \"STDs\", \"STDs (number)\", \"STDs:condylomatosis\", \"STDs:cervical condylomatosis\", \"STDs:vaginal condylomatosis\", \"STDs:vulvo-perineal condylomatosis\", \"STDs:syphilis\", \"STDs:pelvic inflammatory disease\", \"STDs:genital herpes\", \"STDs:molluscum contagiosum\", \"STDs:AIDS\", \"STDs:HIV\", \"STDs:Hepatitis B\", \"STDs:HPV\", \"STDs: Number of diagnosis\", \"Dx\", \"Smokes (year/age)\", \"Hormonal Contraceptives (year/after first intercourse)\", \"IUD (year/after first intercourse)\", \"Smokes (packs)\"], \"z\": [[1.0, 0.08764854399783954, 0.35709319598007616, 0.524069359181729, 0.05680487156580523, 0.21389318836162563, 0.11756147514867898, 0.06346084345739086, 0.2892603697552538, 0.2681699906339756, 0.21082928811984292, 0.010468074960973446, -0.01618555008429497, -0.026138696293867246, null, 0.006499741142733382, -0.023632670111020236, 0.010912187155510969, 0.02426116454642687, -0.030385071013852006, -0.0009601749429327157, null, -0.0021161577725652956, -0.030385071013851975, 0.04028198681420705, -0.016283539723740297, 0.091404349844254, 0.11552793275499265, -0.04373752340341304, 0.12785401932918106, 0.14803682521639477], [0.08764854399783954, 1.0, -0.14160608786166123, 0.09193966320883697, 0.23570910018388125, 0.15997963395891754, 0.167005458603918, 0.007018957422276995, 0.02935638685958466, 0.03712601765294991, 0.005051864144100624, 0.05706335448001926, 0.04241276462871675, 0.03782937868365719, null, -0.04462418166303361, 0.04002016328714797, 0.02944601452913492, 0.032349587040589836, -0.03319096643447162, 0.0323495870405896, null, 0.0190288902912029, -0.011344115276117187, 0.01486299712612945, 0.05468750181723408, 0.0280051251714224, 0.1962450388169429, -0.058469880044343905, 0.0007145711293514995, 0.10031983383869848], [0.35709319598007616, -0.14160608786166123, 1.0, -0.06911189557808492, -0.11223151243089821, -0.049016311818381814, -0.046928703805160295, 0.01777821689590608, 0.007194708925748538, -0.028894017655354636, -0.025444262282490058, -0.013824072739556065, 0.006821843762776112, 0.02817322930164646, null, 0.0751560764773059, 0.03270263079995325, -0.10627854949403708, -0.001146305418939244, 0.024619902953039365, -0.014029409604928062, null, -0.01413376219523568, 0.011736798767049663, 0.034840973908094215, -0.02437918229332192, 0.0380441466627643, -0.087162545120306, 0.0046886633026019, -0.04297484244587898, -0.022635748900252568], [0.524069359181729, 0.09193966320883697, -0.06911189557808492, 1.0, 0.0778520349488674, 0.18967429013183898, 0.09495934342427334, 0.1336873542344769, 0.20794745204941842, 0.18955556047060593, 0.14881342235952494, 0.047131524151998436, 0.0023819652194416413, -0.04008109518125207, null, -0.002434512686961194, -0.03932128853173327, 0.15034817384959887, -0.05878737820727193, -0.03319957717254654, 0.04356382593163168, null, 0.010037794342044158, -0.033199577172546485, -0.028877191322660815, 0.028138418797906715, 0.01168624337052621, 0.12046507780502706, -0.017475066507226588, 0.10986956349746974, 0.10576479777205222], [0.05680487156580523, 0.23570910018388125, -0.11223151243089821, 0.0778520349488674, 1.0, 0.719573140671315, 0.4528609088141826, -0.0027656079212745356, 0.050760226023462106, -0.05431224738480941, -0.03664228505114476, 0.12131825992854518, 0.10904370332515154, 0.060771423000914246, null, 0.07490998472214289, 0.0637599285468346, 0.08571304566183108, -0.014841121124324147, -0.014841121124324662, -0.01484112112432433, null, 0.06081261225775761, 0.08960153501227322, 0.052898779385864916, 0.09889122095020429, -0.07224006328995515, 0.8019638309895384, 0.015089129016725735, -0.04122104334893071, 0.2984704933194242], [0.21389318836162563, 0.15997963395891754, -0.049016311818381814, 0.18967429013183898, 0.719573140671315, 1.0, 0.6944298463557012, -0.014365584731054442, 0.05233275223136774, 0.014613609604310147, 0.04068375430098833, 0.09360939083425032, 0.09302039240758515, 0.045427645095816344, null, 0.12073906010106766, 0.04759651585283329, 0.013356350352132838, -0.010679272138513348, -0.010679272138513178, -0.010679272138513288, null, 0.09367972340297763, 0.10457915670813184, 0.053894627149921104, 0.08217179943751582, -0.051982009223847325, 0.9512127265864315, -0.014087886498732738, 0.014575592255135432, 0.6285587466475732], [0.11756147514867898, 0.167005458603918, -0.046928703805160295, 0.09495934342427334, 0.4528609088141826, 0.6944298463557012, 1.0, 0.0009560055213221205, 0.03765683373856358, 0.0024841716079546314, 0.017085270973575484, 0.02282069808551516, 0.023297483854656315, 0.0014807712615049176, null, 0.03482652040445991, 0.0025516522055692714, -0.009690472819509143, -0.006720963600182962, -0.006720963600183076, -0.006720963600183001, null, 0.055426452410168976, 0.1057431606428797, -0.009511203918142287, 0.024845356075013755, -0.03271470071428443, 0.6619738609956856, -0.007702762057121774, 0.013077040332534873, 0.9108302979461117], [0.06346084345739086, 0.007018957422276995, 0.01777821689590608, 0.1336873542344769, -0.0027656079212745356, -0.014365584731054442, 0.0009560055213221205, 1.0, 0.4346387589148825, 0.03332895086861231, -0.034160788497460313, -0.04026873884200881, -0.03917216968917697, -0.0012522283763016972, null, -0.05914649319722791, -0.005569577751942143, -0.027112663709342403, 0.027422244171178604, 0.027422244171178847, -0.04849301267035702, null, -0.08141009927618785, -0.048493012670357966, 0.0388067205419872, -0.050906515404545334, 0.004950005102616473, -0.0014846305944142327, 0.4346515921549019, -0.03855409076182912, 0.010653144422622293], [0.2892603697552538, 0.02935638685958466, 0.007194708925748538, 0.20794745204941842, 0.050760226023462106, 0.05233275223136774, 0.03765683373856358, 0.4346387589148825, 1.0, 0.06820251180497748, -0.0003881343915730913, -0.009981296103370516, -0.01306225237567877, 0.005166521295527897, null, -0.03722476312523416, 0.006959950640254836, -0.004562426962368241, -0.021076942843087327, -0.021076942843087507, -0.021076942843087393, null, -0.04273473254751806, -0.02107694284308749, 0.05514070956404591, -0.04312165942011848, -0.011528317408116216, 0.05106060627993827, 0.6412458932754931, -0.026941276643269427, 0.024419308340351296], [0.2681699906339756, 0.03712601765294991, -0.028894017655354636, 0.18955556047060593, -0.05431224738480941, 0.014613609604310147, 0.0024841716079546314, 0.03332895086861231, 0.06820251180497748, 1.0, 0.6754087523884487, 0.10120634526050824, 0.08376607878560342, 0.09011525313062425, null, 0.026435295725635567, 0.07620944780935687, 0.017680708180663387, -0.014022486389579012, -0.014022486389579387, -0.014022486389579149, null, 0.0436330927031563, -0.01402248638957934, -0.019843988961200404, 0.06595629031446294, 0.1851551449773276, -0.005067540885017417, -0.06276086395782082, 0.6823632724712944, 0.009222982001323257], [0.21082928811984292, 0.005051864144100624, -0.025444262282490058, 0.14881342235952494, -0.03664228505114476, 0.04068375430098833, 0.017085270973575484, -0.034160788497460313, -0.0003881343915730913, 0.6754087523884487, 1.0, 0.012246484680654018, 0.011544749843290675, 0.026347243122727796, null, -0.009502444211655853, 0.02515060760249315, -0.031623743725603684, -0.009470910037769582, -0.009470910037769236, -0.009470910037769457, null, 0.013476027155797305, -0.00947091003776929, -0.013402803826694612, 0.0031135072008853797, 0.09802214211077336, 0.020848177839367276, -0.07338463100224883, 0.893137669987017, 0.022239374326142636], [0.010468074960973446, 0.05706335448001926, -0.013824072739556065, 0.047131524151998436, 0.12131825992854518, 0.09360939083425032, 0.02282069808551516, -0.04026873884200881, -0.009981296103370516, 0.10120634526050824, 0.012246484680654018, 1.0, 0.918609338815656, 0.7276451236978863, null, 0.2134545857668251, 0.7188221581597953, 0.4570976469506766, 0.10651419325074309, 0.1065141932507431, 0.10651419325074309, null, 0.45709764695067806, 0.1065141932507431, 0.1507340721435619, 0.9066624315595837, -0.01040139398761586, 0.11877272112726414, -0.016062323028546804, 0.020615458150717293, -0.0018609256102658416], [-0.01618555008429497, 0.04241276462871675, 0.006821843762776112, 0.0023819652194416413, 0.10904370332515154, 0.09302039240758515, 0.023297483854656315, -0.03917216968917697, -0.01306225237567877, 0.08376607878560342, 0.011544749843290675, 0.918609338815656, 1.0, 0.8995214711172945, null, 0.33484949248820317, 0.8906988566084632, 0.30682958337855004, 0.053462046814418594, 0.05346204681441782, 0.05346204681441831, null, 0.38423081496450207, 0.11839256496161019, 0.07565707231614271, 0.8972332758371656, -0.0283405921592382, 0.11571183253942204, -0.010316344462344423, 0.01623046922890987, 0.0011228341590096913], [-0.026138696293867246, 0.03782937868365719, 0.02817322930164646, -0.04008109518125207, 0.060771423000914246, 0.045427645095816344, 0.0014807712615049176, -0.0012522283763016972, 0.005166521295527897, 0.09011525313062425, 0.026347243122727796, 0.7276451236978863, 0.8995214711172945, 1.0, null, 0.29334984708212236, 0.9878746311206567, 0.035145427784525535, -0.009084359247118519, -0.009084359247118349, -0.009084359247118454, null, 0.10927569983424194, -0.009084359247118373, -0.012855774618784385, 0.6990381358085037, -0.04421867333761911, 0.05727085932838863, 0.01880629704992203, 0.026784230090387134, -0.008233733922965789], [null, null, null, null, null, null, null, null, null, null, null, null, null, null, null, null, null, null, null, null, null, null, null, null, null, null, null, null, null, null, null], [0.006499741142733382, -0.04462418166303361, 0.0751560764773059, -0.002434512686961194, 0.07490998472214289, 0.12073906010106766, 0.03482652040445991, -0.05914649319722791, -0.03722476312523416, 0.026435295725635567, -0.009502444211655853, 0.2134545857668251, 0.33484949248820317, 0.29334984708212236, null, 1.0, 0.21821677967471048, -0.011436198103713581, -0.002664895395981296, -0.002664895395981332, -0.0026648953959813155, null, -0.011436198103713614, -0.00266489539598133, -0.0037712395185426463, 0.20506273024399266, -0.012971541061764996, 0.10864404612498364, -0.036475850507048206, -0.0013052388931504223, 0.025899346456681575], [-0.023632670111020236, 0.04002016328714797, 0.03270263079995325, -0.03932128853173327, 0.0637599285468346, 0.04759651585283329, 0.0025516522055692714, -0.005569577751942143, 0.006959950640254836, 0.07620944780935687, 0.02515060760249315, 0.7188221581597953, 0.8906988566084632, 0.9878746311206567, null, 0.21821677967471048, 1.0, 0.03642233267463516, -0.008974208040214858, -0.008974208040214923, -0.008974208040214881, null, 0.11135680399704175, -0.008974208040214914, -0.012699893609302092, 0.6905620405511078, -0.04368250561204592, 0.05976011752081044, 0.02051279819404959, 0.022978548075554342, -0.007627851062830688], [0.010912187155510969, 0.02944601452913492, -0.10627854949403708, 0.15034817384959887, 0.08571304566183108, 0.013356350352132838, -0.009690472819509143, -0.027112663709342403, -0.004562426962368241, 0.017680708180663387, -0.031623743725603684, 0.4570976469506766, 0.30682958337855004, 0.035145427784525535, null, -0.011436198103713581, 0.03642233267463516, 1.0, -0.005706681870978318, -0.005706681870978334, -0.005706681870978324, null, 0.0324263038548746, -0.005706681870978333, -0.008075838257681229, 0.41203247523825465, -0.027777622464077254, 0.02013982782708006, -0.030507245467119363, -0.025959439126258185, -0.012476905375632771], [0.02426116454642687, 0.032349587040589836, -0.001146305418939244, -0.05878737820727193, -0.014841121124324147, -0.010679272138513348, -0.006720963600182962, 0.027422244171178604, -0.021076942843087327, -0.014022486389579012, -0.009470910037769582, 0.10651419325074309, 0.053462046814418594, -0.009084359247118519, null, -0.002664895395981296, -0.008974208040214858, -0.005706681870978318, 1.0, -0.0013297872340425647, -0.0013297872340425662, null, -0.005706681870978338, -0.001329787234042564, -0.0018818547909375675, 0.10232664339005501, -0.006472820560163875, -0.011902042353042838, -0.016751978284719957, -0.00956842970097704, -0.004429636743390453], [-0.030385071013852006, -0.03319096643447162, 0.024619902953039365, -0.03319957717254654, -0.014841121124324662, -0.010679272138513178, -0.006720963600183076, 0.027422244171178847, -0.021076942843087507, -0.014022486389579387, -0.009470910037769236, 0.1065141932507431, 0.05346204681441782, -0.009084359247118349, null, -0.002664895395981332, -0.008974208040214923, -0.005706681870978334, -0.0013297872340425647, 1.0, -0.0013297872340425744, null, -0.005706681870978354, -0.0013297872340425818, -0.0018818547909375568, 0.1023266433900529, -0.006472820560164049, -0.011902042353043015, 0.0019308756899629332, -0.00956842970097685, -0.0044296367433905364], [-0.0009601749429327157, 0.0323495870405896, -0.014029409604928062, 0.04356382593163168, -0.01484112112432433, -0.010679272138513288, -0.006720963600183001, -0.04849301267035702, -0.021076942843087393, -0.014022486389579149, -0.009470910037769457, 0.10651419325074309, 0.05346204681441831, -0.009084359247118454, null, -0.0026648953959813155, -0.008974208040214881, -0.005706681870978324, -0.0013297872340425662, -0.0013297872340425744, 1.0, null, -0.0057066818709783414, -0.0013297872340425738, -0.001881854790937559, 0.10232664339005422, -0.006472820560163935, -0.011902042353042904, -0.02107756516555782, -0.00956842970097697, -0.004429636743390487], [null, null, null, null, null, null, null, null, null, null, null, null, null, null, null, null, null, null, null, null, null, null, null, null, null, null, null, null, null, null, null], [-0.0021161577725652956, 0.0190288902912029, -0.01413376219523568, 0.010037794342044158, 0.06081261225775761, 0.09367972340297763, 0.055426452410168976, -0.08141009927618785, -0.04273473254751806, 0.0436330927031563, 0.013476027155797305, 0.45709764695067806, 0.38423081496450207, 0.10927569983424194, null, -0.011436198103713614, 0.11135680399704175, 0.0324263038548746, -0.005706681870978338, -0.005706681870978354, -0.0057066818709783414, null, 1.0, 0.2330228430649526, -0.008075838257681258, 0.5475055578748742, 0.0227454444814534, 0.12131986740923097, -0.044111284493978144, 0.02390687139146444, 0.02149234138339053], [-0.030385071013851975, -0.011344115276117187, 0.011736798767049663, -0.033199577172546485, 0.08960153501227322, 0.10457915670813184, 0.1057431606428797, -0.048493012670357966, -0.02107694284308749, -0.01402248638957934, -0.00947091003776929, 0.1065141932507431, 0.11839256496161019, -0.009084359247118373, null, -0.00266489539598133, -0.008974208040214914, -0.005706681870978333, -0.001329787234042564, -0.0013297872340425818, -0.0013297872340425738, null, 0.2330228430649526, 1.0, -0.0018818547909375555, 0.10232664339005318, -0.006472820560164027, 0.18167967531209028, -0.02107756516555777, -0.009568429700976872, 0.05097963645254609], [0.04028198681420705, 0.01486299712612945, 0.034840973908094215, -0.028877191322660815, 0.052898779385864916, 0.053894627149921104, -0.009511203918142287, 0.0388067205419872, 0.05514070956404591, -0.019843988961200404, -0.013402803826694612, 0.1507340721435619, 0.07565707231614271, -0.012855774618784385, null, -0.0037712395185426463, -0.012699893609302092, -0.008075838257681229, -0.0018818547909375675, -0.0018818547909375568, -0.001881854790937559, null, -0.008075838257681258, -0.0018818547909375555, 1.0, 0.06439472612855719, 0.1407858798700022, 0.055647648781836236, 0.02252927539965348, -0.013540809246448621, -0.0058377827060566555], [-0.016283539723740297, 0.05468750181723408, -0.02437918229332192, 0.028138418797906715, 0.09889122095020429, 0.08217179943751582, 0.024845356075013755, -0.050906515404545334, -0.04312165942011848, 0.06595629031446294, 0.0031135072008853797, 0.9066624315595837, 0.8972332758371656, 0.6990381358085037, null, 0.20506273024399266, 0.6905620405511078, 0.41203247523825465, 0.10232664339005501, 0.1023266433900529, 0.10232664339005422, null, 0.5475055578748742, 0.10232664339005318, 0.06439472612855719, 1.0, -0.006994983935590965, 0.10605662099619069, -0.03558210916960811, 0.0146078138050088, 0.00016464380667271633], [0.091404349844254, 0.0280051251714224, 0.0380441466627643, 0.01168624337052621, -0.07224006328995515, -0.051982009223847325, -0.03271470071428443, 0.004950005102616473, -0.011528317408116216, 0.1851551449773276, 0.09802214211077336, -0.01040139398761586, -0.0283405921592382, -0.04421867333761911, null, -0.012971541061764996, -0.04368250561204592, -0.027777622464077254, -0.006472820560163875, -0.006472820560164049, -0.006472820560163935, null, 0.0227454444814534, -0.006472820560164027, 0.1407858798700022, -0.006994983935590965, 1.0, -0.05793391790693865, -0.010117689159144471, 0.1467302724525213, -0.02156152732757997], [0.11552793275499265, 0.1962450388169429, -0.087162545120306, 0.12046507780502706, 0.8019638309895384, 0.9512127265864315, 0.6619738609956856, -0.0014846305944142327, 0.05106060627993827, -0.005067540885017417, 0.020848177839367276, 0.11877272112726414, 0.11571183253942204, 0.05727085932838863, null, 0.10864404612498364, 0.05976011752081044, 0.02013982782708006, -0.011902042353042838, -0.011902042353043015, -0.011902042353042904, null, 0.12131986740923097, 0.18167967531209028, 0.055647648781836236, 0.10605662099619069, -0.05793391790693865, 1.0, 0.0019302431052944382, 0.005208855315380978, 0.5270078250898278], [-0.04373752340341304, -0.058469880044343905, 0.0046886633026019, -0.017475066507226588, 0.015089129016725735, -0.014087886498732738, -0.007702762057121774, 0.4346515921549019, 0.6412458932754931, -0.06276086395782082, -0.07338463100224883, -0.016062323028546804, -0.010316344462344423, 0.01880629704992203, null, -0.036475850507048206, 0.02051279819404959, -0.030507245467119363, -0.016751978284719957, 0.0019308756899629332, -0.02107756516555782, null, -0.044111284493978144, -0.02107756516555777, 0.02252927539965348, -0.03558210916960811, -0.010117689159144471, 0.0019302431052944382, 1.0, -0.08001833403778762, -0.021051595471163302], [0.12785401932918106, 0.0007145711293514995, -0.04297484244587898, 0.10986956349746974, -0.04122104334893071, 0.014575592255135432, 0.013077040332534873, -0.03855409076182912, -0.026941276643269427, 0.6823632724712944, 0.893137669987017, 0.020615458150717293, 0.01623046922890987, 0.026784230090387134, null, -0.0013052388931504223, 0.022978548075554342, -0.025959439126258185, -0.00956842970097704, -0.00956842970097685, -0.00956842970097697, null, 0.02390687139146444, -0.009568429700976872, -0.013540809246448621, 0.0146078138050088, 0.1467302724525213, 0.005208855315380978, -0.08001833403778762, 1.0, 0.012417246475316624], [0.14803682521639477, 0.10031983383869848, -0.022635748900252568, 0.10576479777205222, 0.2984704933194242, 0.6285587466475732, 0.9108302979461117, 0.010653144422622293, 0.024419308340351296, 0.009222982001323257, 0.022239374326142636, -0.0018609256102658416, 0.0011228341590096913, -0.008233733922965789, null, 0.025899346456681575, -0.007627851062830688, -0.012476905375632771, -0.004429636743390453, -0.0044296367433905364, -0.004429636743390487, null, 0.02149234138339053, 0.05097963645254609, -0.0058377827060566555, 0.00016464380667271633, -0.02156152732757997, 0.5270078250898278, -0.021051595471163302, 0.012417246475316624, 1.0]]}],\n",
       "                        {\"template\": {\"data\": {\"bar\": [{\"error_x\": {\"color\": \"#2a3f5f\"}, \"error_y\": {\"color\": \"#2a3f5f\"}, \"marker\": {\"line\": {\"color\": \"#E5ECF6\", \"width\": 0.5}}, \"type\": \"bar\"}], \"barpolar\": [{\"marker\": {\"line\": {\"color\": \"#E5ECF6\", \"width\": 0.5}}, \"type\": \"barpolar\"}], \"carpet\": [{\"aaxis\": {\"endlinecolor\": \"#2a3f5f\", \"gridcolor\": \"white\", \"linecolor\": \"white\", \"minorgridcolor\": \"white\", \"startlinecolor\": \"#2a3f5f\"}, \"baxis\": {\"endlinecolor\": \"#2a3f5f\", \"gridcolor\": \"white\", \"linecolor\": \"white\", \"minorgridcolor\": \"white\", \"startlinecolor\": \"#2a3f5f\"}, \"type\": \"carpet\"}], \"choropleth\": [{\"colorbar\": {\"outlinewidth\": 0, \"ticks\": \"\"}, \"type\": \"choropleth\"}], \"contour\": [{\"colorbar\": {\"outlinewidth\": 0, \"ticks\": \"\"}, \"colorscale\": [[0.0, \"#0d0887\"], [0.1111111111111111, \"#46039f\"], [0.2222222222222222, \"#7201a8\"], [0.3333333333333333, \"#9c179e\"], [0.4444444444444444, \"#bd3786\"], [0.5555555555555556, \"#d8576b\"], [0.6666666666666666, \"#ed7953\"], [0.7777777777777778, \"#fb9f3a\"], [0.8888888888888888, \"#fdca26\"], [1.0, \"#f0f921\"]], \"type\": \"contour\"}], \"contourcarpet\": [{\"colorbar\": {\"outlinewidth\": 0, \"ticks\": \"\"}, \"type\": \"contourcarpet\"}], \"heatmap\": [{\"colorbar\": {\"outlinewidth\": 0, \"ticks\": \"\"}, \"colorscale\": [[0.0, \"#0d0887\"], [0.1111111111111111, \"#46039f\"], [0.2222222222222222, \"#7201a8\"], [0.3333333333333333, \"#9c179e\"], [0.4444444444444444, \"#bd3786\"], [0.5555555555555556, \"#d8576b\"], [0.6666666666666666, \"#ed7953\"], [0.7777777777777778, \"#fb9f3a\"], [0.8888888888888888, \"#fdca26\"], [1.0, \"#f0f921\"]], \"type\": \"heatmap\"}], \"heatmapgl\": [{\"colorbar\": {\"outlinewidth\": 0, \"ticks\": \"\"}, \"colorscale\": [[0.0, \"#0d0887\"], [0.1111111111111111, \"#46039f\"], [0.2222222222222222, \"#7201a8\"], [0.3333333333333333, \"#9c179e\"], [0.4444444444444444, \"#bd3786\"], [0.5555555555555556, \"#d8576b\"], [0.6666666666666666, \"#ed7953\"], [0.7777777777777778, \"#fb9f3a\"], [0.8888888888888888, \"#fdca26\"], [1.0, \"#f0f921\"]], \"type\": \"heatmapgl\"}], \"histogram\": [{\"marker\": {\"colorbar\": {\"outlinewidth\": 0, \"ticks\": \"\"}}, \"type\": \"histogram\"}], \"histogram2d\": [{\"colorbar\": {\"outlinewidth\": 0, \"ticks\": \"\"}, \"colorscale\": [[0.0, \"#0d0887\"], [0.1111111111111111, \"#46039f\"], [0.2222222222222222, \"#7201a8\"], [0.3333333333333333, \"#9c179e\"], [0.4444444444444444, \"#bd3786\"], [0.5555555555555556, \"#d8576b\"], [0.6666666666666666, \"#ed7953\"], [0.7777777777777778, \"#fb9f3a\"], [0.8888888888888888, \"#fdca26\"], [1.0, \"#f0f921\"]], \"type\": \"histogram2d\"}], \"histogram2dcontour\": [{\"colorbar\": {\"outlinewidth\": 0, \"ticks\": \"\"}, \"colorscale\": [[0.0, \"#0d0887\"], [0.1111111111111111, \"#46039f\"], [0.2222222222222222, \"#7201a8\"], [0.3333333333333333, \"#9c179e\"], [0.4444444444444444, \"#bd3786\"], [0.5555555555555556, \"#d8576b\"], [0.6666666666666666, \"#ed7953\"], [0.7777777777777778, \"#fb9f3a\"], [0.8888888888888888, \"#fdca26\"], [1.0, \"#f0f921\"]], \"type\": \"histogram2dcontour\"}], \"mesh3d\": [{\"colorbar\": {\"outlinewidth\": 0, \"ticks\": \"\"}, \"type\": \"mesh3d\"}], \"parcoords\": [{\"line\": {\"colorbar\": {\"outlinewidth\": 0, \"ticks\": \"\"}}, \"type\": \"parcoords\"}], \"pie\": [{\"automargin\": true, \"type\": \"pie\"}], \"scatter\": [{\"marker\": {\"colorbar\": {\"outlinewidth\": 0, \"ticks\": \"\"}}, \"type\": \"scatter\"}], \"scatter3d\": [{\"line\": {\"colorbar\": {\"outlinewidth\": 0, \"ticks\": \"\"}}, \"marker\": {\"colorbar\": {\"outlinewidth\": 0, \"ticks\": \"\"}}, \"type\": \"scatter3d\"}], \"scattercarpet\": [{\"marker\": {\"colorbar\": {\"outlinewidth\": 0, \"ticks\": \"\"}}, \"type\": \"scattercarpet\"}], \"scattergeo\": [{\"marker\": {\"colorbar\": {\"outlinewidth\": 0, \"ticks\": \"\"}}, \"type\": \"scattergeo\"}], \"scattergl\": [{\"marker\": {\"colorbar\": {\"outlinewidth\": 0, \"ticks\": \"\"}}, \"type\": \"scattergl\"}], \"scattermapbox\": [{\"marker\": {\"colorbar\": {\"outlinewidth\": 0, \"ticks\": \"\"}}, \"type\": \"scattermapbox\"}], \"scatterpolar\": [{\"marker\": {\"colorbar\": {\"outlinewidth\": 0, \"ticks\": \"\"}}, \"type\": \"scatterpolar\"}], \"scatterpolargl\": [{\"marker\": {\"colorbar\": {\"outlinewidth\": 0, \"ticks\": \"\"}}, \"type\": \"scatterpolargl\"}], \"scatterternary\": [{\"marker\": {\"colorbar\": {\"outlinewidth\": 0, \"ticks\": \"\"}}, \"type\": \"scatterternary\"}], \"surface\": [{\"colorbar\": {\"outlinewidth\": 0, \"ticks\": \"\"}, \"colorscale\": [[0.0, \"#0d0887\"], [0.1111111111111111, \"#46039f\"], [0.2222222222222222, \"#7201a8\"], [0.3333333333333333, \"#9c179e\"], [0.4444444444444444, \"#bd3786\"], [0.5555555555555556, \"#d8576b\"], [0.6666666666666666, \"#ed7953\"], [0.7777777777777778, \"#fb9f3a\"], [0.8888888888888888, \"#fdca26\"], [1.0, \"#f0f921\"]], \"type\": \"surface\"}], \"table\": [{\"cells\": {\"fill\": {\"color\": \"#EBF0F8\"}, \"line\": {\"color\": \"white\"}}, \"header\": {\"fill\": {\"color\": \"#C8D4E3\"}, \"line\": {\"color\": \"white\"}}, \"type\": \"table\"}]}, \"layout\": {\"annotationdefaults\": {\"arrowcolor\": \"#2a3f5f\", \"arrowhead\": 0, \"arrowwidth\": 1}, \"coloraxis\": {\"colorbar\": {\"outlinewidth\": 0, \"ticks\": \"\"}}, \"colorscale\": {\"diverging\": [[0, \"#8e0152\"], [0.1, \"#c51b7d\"], [0.2, \"#de77ae\"], [0.3, \"#f1b6da\"], [0.4, \"#fde0ef\"], [0.5, \"#f7f7f7\"], [0.6, \"#e6f5d0\"], [0.7, \"#b8e186\"], [0.8, \"#7fbc41\"], [0.9, \"#4d9221\"], [1, \"#276419\"]], \"sequential\": [[0.0, \"#0d0887\"], [0.1111111111111111, \"#46039f\"], [0.2222222222222222, \"#7201a8\"], [0.3333333333333333, \"#9c179e\"], [0.4444444444444444, \"#bd3786\"], [0.5555555555555556, \"#d8576b\"], [0.6666666666666666, \"#ed7953\"], [0.7777777777777778, \"#fb9f3a\"], [0.8888888888888888, \"#fdca26\"], [1.0, \"#f0f921\"]], \"sequentialminus\": [[0.0, \"#0d0887\"], [0.1111111111111111, \"#46039f\"], [0.2222222222222222, \"#7201a8\"], [0.3333333333333333, \"#9c179e\"], [0.4444444444444444, \"#bd3786\"], [0.5555555555555556, \"#d8576b\"], [0.6666666666666666, \"#ed7953\"], [0.7777777777777778, \"#fb9f3a\"], [0.8888888888888888, \"#fdca26\"], [1.0, \"#f0f921\"]]}, \"colorway\": [\"#636efa\", \"#EF553B\", \"#00cc96\", \"#ab63fa\", \"#FFA15A\", \"#19d3f3\", \"#FF6692\", \"#B6E880\", \"#FF97FF\", \"#FECB52\"], \"font\": {\"color\": \"#2a3f5f\"}, \"geo\": {\"bgcolor\": \"white\", \"lakecolor\": \"white\", \"landcolor\": \"#E5ECF6\", \"showlakes\": true, \"showland\": true, \"subunitcolor\": \"white\"}, \"hoverlabel\": {\"align\": \"left\"}, \"hovermode\": \"closest\", \"mapbox\": {\"style\": \"light\"}, \"paper_bgcolor\": \"white\", \"plot_bgcolor\": \"#E5ECF6\", \"polar\": {\"angularaxis\": {\"gridcolor\": \"white\", \"linecolor\": \"white\", \"ticks\": \"\"}, \"bgcolor\": \"#E5ECF6\", \"radialaxis\": {\"gridcolor\": \"white\", \"linecolor\": \"white\", \"ticks\": \"\"}}, \"scene\": {\"xaxis\": {\"backgroundcolor\": \"#E5ECF6\", \"gridcolor\": \"white\", \"gridwidth\": 2, \"linecolor\": \"white\", \"showbackground\": true, \"ticks\": \"\", \"zerolinecolor\": \"white\"}, \"yaxis\": {\"backgroundcolor\": \"#E5ECF6\", \"gridcolor\": \"white\", \"gridwidth\": 2, \"linecolor\": \"white\", \"showbackground\": true, \"ticks\": \"\", \"zerolinecolor\": \"white\"}, \"zaxis\": {\"backgroundcolor\": \"#E5ECF6\", \"gridcolor\": \"white\", \"gridwidth\": 2, \"linecolor\": \"white\", \"showbackground\": true, \"ticks\": \"\", \"zerolinecolor\": \"white\"}}, \"shapedefaults\": {\"line\": {\"color\": \"#2a3f5f\"}}, \"ternary\": {\"aaxis\": {\"gridcolor\": \"white\", \"linecolor\": \"white\", \"ticks\": \"\"}, \"baxis\": {\"gridcolor\": \"white\", \"linecolor\": \"white\", \"ticks\": \"\"}, \"bgcolor\": \"#E5ECF6\", \"caxis\": {\"gridcolor\": \"white\", \"linecolor\": \"white\", \"ticks\": \"\"}}, \"title\": {\"x\": 0.05}, \"xaxis\": {\"automargin\": true, \"gridcolor\": \"white\", \"linecolor\": \"white\", \"ticks\": \"\", \"title\": {\"standoff\": 15}, \"zerolinecolor\": \"white\", \"zerolinewidth\": 2}, \"yaxis\": {\"automargin\": true, \"gridcolor\": \"white\", \"linecolor\": \"white\", \"ticks\": \"\", \"title\": {\"standoff\": 15}, \"zerolinecolor\": \"white\", \"zerolinewidth\": 2}}}},\n",
       "                        {\"responsive\": true}\n",
       "                    ).then(function(){\n",
       "                            \n",
       "var gd = document.getElementById('e34263e9-cc43-4b3a-b5ce-2cb174c1b7a5');\n",
       "var x = new MutationObserver(function (mutations, observer) {{\n",
       "        var display = window.getComputedStyle(gd).display;\n",
       "        if (!display || display === 'none') {{\n",
       "            console.log([gd, 'removed!']);\n",
       "            Plotly.purge(gd);\n",
       "            observer.disconnect();\n",
       "        }}\n",
       "}});\n",
       "\n",
       "// Listen for the removal of the full notebook cells\n",
       "var notebookContainer = gd.closest('#notebook-container');\n",
       "if (notebookContainer) {{\n",
       "    x.observe(notebookContainer, {childList: true});\n",
       "}}\n",
       "\n",
       "// Listen for the clearing of the current output cell\n",
       "var outputEl = gd.closest('.output');\n",
       "if (outputEl) {{\n",
       "    x.observe(outputEl, {childList: true});\n",
       "}}\n",
       "\n",
       "                        })\n",
       "                };\n",
       "                });\n",
       "            </script>\n",
       "        </div>"
      ]
     },
     "metadata": {},
     "output_type": "display_data"
    }
   ],
   "source": [
    "# Feature correlations within them\n",
    "df_feature = df.drop(['target'],axis=1)\n",
    "df_corr1 = df_feature.corr()\n",
    "corr = go.Heatmap(x=df_corr1.columns,y=df_corr1.columns,z=df_corr1,type='heatmap',colorscale='Viridis')\n",
    "data = [corr]\n",
    "fig = go.Figure(data=data)\n",
    "fig.show()"
   ]
  },
  {
   "cell_type": "code",
   "execution_count": 38,
   "metadata": {},
   "outputs": [
    {
     "data": {
      "image/png": "[encoded data removed]",
      "text/plain": [
       "<Figure size 864x864 with 2 Axes>"
      ]
     },
     "metadata": {
      "needs_background": "light"
     },
     "output_type": "display_data"
    }
   ],
   "source": [
    "# Feature correlation between features and target\n",
    "corrmat = df.corr()\n",
    "k = 25 #number of variables for heatmap\n",
    "cols = corrmat.nlargest(k,'target')['target'].index\n",
    "\n",
    "cm = df[cols].corr()\n",
    "\n",
    "plt.figure(figsize=(12,12))\n",
    "\n",
    "sns.set(font_scale=1.25)\n",
    "hm = sns.heatmap(cm,cmap = 'Set2', cbar=True, annot=True,vmin=0,vmax =1, square=True, fmt='.2f', annot_kws={'size': 10},\n",
    "                 yticklabels = cols.values, xticklabels = cols.values)\n",
    "plt.show()"
   ]
  },
  {
   "cell_type": "code",
   "execution_count": 39,
   "metadata": {},
   "outputs": [],
   "source": [
    "# create another data set for feature selections. Drop correlated features based on above correlation heatmap\n",
    "df2 = df.drop(['Dx','STDs','Smokes','IUD','Hormonal Contraceptives','STDs: Number of diagnosis',\n",
    "               'Smokes (packs)','Hormonal Contraceptives (year/after first intercourse)'],axis=1)\n",
    "# drop not quite understandable variables\n",
    "df.drop(['Dx'],axis=1,inplace=True)\n",
    "df2_target = df2['target']\n",
    "df2_feature = df2.drop(['target'],axis=1)"
   ]
  },
  {
   "cell_type": "markdown",
   "metadata": {},
   "source": [
    "### 2. Feature Importance"
   ]
  },
  {
   "cell_type": "code",
   "execution_count": 40,
   "metadata": {},
   "outputs": [],
   "source": [
    "from sklearn.preprocessing import StandardScaler\n",
    "from sklearn.feature_selection import RFE\n",
    "from sklearn.linear_model import LogisticRegression\n",
    "from sklearn import metrics\n",
    "from sklearn.ensemble import RandomForestClassifier"
   ]
  },
  {
   "cell_type": "code",
   "execution_count": 41,
   "metadata": {},
   "outputs": [],
   "source": [
    "# Split train and test dataset\n",
    "df_target = df['target']\n",
    "X_train,X_test,y_train,y_test = train_test_split(df_feature,df_target,test_size=0.3)\n",
    "df_train = pd.DataFrame(X_train)\n",
    "df_test = pd.DataFrame(X_test)\n",
    "df_y_train = pd.DataFrame(y_train)\n",
    "df_y_test = pd.DataFrame(y_test)"
   ]
  },
  {
   "cell_type": "code",
   "execution_count": 42,
   "metadata": {},
   "outputs": [
    {
     "name": "stdout",
     "output_type": "stream",
     "text": [
      "['Smokes', 'Hormonal Contraceptives', 'IUD', 'STDs', 'STDs:condylomatosis', 'STDs:cervical condylomatosis', 'STDs:vaginal condylomatosis', 'STDs:vulvo-perineal condylomatosis', 'STDs:syphilis', 'STDs:pelvic inflammatory disease', 'STDs:genital herpes', 'STDs:molluscum contagiosum', 'STDs:AIDS', 'STDs:HIV', 'STDs:Hepatitis B', 'STDs:HPV', 'Dx']\n"
     ]
    }
   ],
   "source": [
    "# Categorical variables and numerical variables\n",
    "num_val = ['Age', 'Number of sexual partners', 'First sexual intercourse', 'Num of pregnancies', 'Smokes (years)', \n",
    "           'Smokes (packs/year)', 'Hormonal Contraceptives (years)', 'IUD (years)', 'STDs (number)',\n",
    "           'STDs: Number of diagnosis', 'Smokes (year/age)','Hormonal Contraceptives (year/after first intercourse)',\n",
    "           'IUD (year/after first intercourse)', 'Smokes (packs)']\n",
    "cal_val = [col for col in df_feature if col not in num_val]\n",
    "print(cal_val)"
   ]
  },
  {
   "cell_type": "code",
   "execution_count": 43,
   "metadata": {},
   "outputs": [],
   "source": [
    "# Standardize data\n",
    "scaler = StandardScaler()\n",
    "df_train[num_val] = scaler.fit_transform(df_train[num_val])"
   ]
  },
  {
   "cell_type": "markdown",
   "metadata": {},
   "source": [
    "### 2.1. Logistic Regression - L2 Regularization"
   ]
  },
  {
   "cell_type": "markdown",
   "metadata": {},
   "source": [
    "#### Feature selection"
   ]
  },
  {
   "cell_type": "code",
   "execution_count": 44,
   "metadata": {},
   "outputs": [
    {
     "name": "stderr",
     "output_type": "stream",
     "text": [
      "/opt/anaconda3/lib/python3.7/site-packages/sklearn/linear_model/logistic.py:432: FutureWarning:\n",
      "\n",
      "Default solver will be changed to 'lbfgs' in 0.22. Specify a solver to silence this warning.\n",
      "\n",
      "/opt/anaconda3/lib/python3.7/site-packages/sklearn/linear_model/logistic.py:432: FutureWarning:\n",
      "\n",
      "Default solver will be changed to 'lbfgs' in 0.22. Specify a solver to silence this warning.\n",
      "\n",
      "/opt/anaconda3/lib/python3.7/site-packages/sklearn/linear_model/logistic.py:432: FutureWarning:\n",
      "\n",
      "Default solver will be changed to 'lbfgs' in 0.22. Specify a solver to silence this warning.\n",
      "\n",
      "/opt/anaconda3/lib/python3.7/site-packages/sklearn/linear_model/logistic.py:432: FutureWarning:\n",
      "\n",
      "Default solver will be changed to 'lbfgs' in 0.22. Specify a solver to silence this warning.\n",
      "\n",
      "/opt/anaconda3/lib/python3.7/site-packages/sklearn/linear_model/logistic.py:432: FutureWarning:\n",
      "\n",
      "Default solver will be changed to 'lbfgs' in 0.22. Specify a solver to silence this warning.\n",
      "\n",
      "/opt/anaconda3/lib/python3.7/site-packages/sklearn/linear_model/logistic.py:432: FutureWarning:\n",
      "\n",
      "Default solver will be changed to 'lbfgs' in 0.22. Specify a solver to silence this warning.\n",
      "\n",
      "/opt/anaconda3/lib/python3.7/site-packages/sklearn/linear_model/logistic.py:432: FutureWarning:\n",
      "\n",
      "Default solver will be changed to 'lbfgs' in 0.22. Specify a solver to silence this warning.\n",
      "\n",
      "/opt/anaconda3/lib/python3.7/site-packages/sklearn/linear_model/logistic.py:432: FutureWarning:\n",
      "\n",
      "Default solver will be changed to 'lbfgs' in 0.22. Specify a solver to silence this warning.\n",
      "\n",
      "/opt/anaconda3/lib/python3.7/site-packages/sklearn/linear_model/logistic.py:432: FutureWarning:\n",
      "\n",
      "Default solver will be changed to 'lbfgs' in 0.22. Specify a solver to silence this warning.\n",
      "\n",
      "/opt/anaconda3/lib/python3.7/site-packages/sklearn/linear_model/logistic.py:432: FutureWarning:\n",
      "\n",
      "Default solver will be changed to 'lbfgs' in 0.22. Specify a solver to silence this warning.\n",
      "\n",
      "/opt/anaconda3/lib/python3.7/site-packages/sklearn/linear_model/logistic.py:432: FutureWarning:\n",
      "\n",
      "Default solver will be changed to 'lbfgs' in 0.22. Specify a solver to silence this warning.\n",
      "\n",
      "/opt/anaconda3/lib/python3.7/site-packages/sklearn/linear_model/logistic.py:432: FutureWarning:\n",
      "\n",
      "Default solver will be changed to 'lbfgs' in 0.22. Specify a solver to silence this warning.\n",
      "\n",
      "/opt/anaconda3/lib/python3.7/site-packages/sklearn/linear_model/logistic.py:432: FutureWarning:\n",
      "\n",
      "Default solver will be changed to 'lbfgs' in 0.22. Specify a solver to silence this warning.\n",
      "\n",
      "/opt/anaconda3/lib/python3.7/site-packages/sklearn/linear_model/logistic.py:432: FutureWarning:\n",
      "\n",
      "Default solver will be changed to 'lbfgs' in 0.22. Specify a solver to silence this warning.\n",
      "\n"
     ]
    },
    {
     "data": {
      "image/png": "[encoded data removed]",
      "text/plain": [
       "<Figure size 720x720 with 1 Axes>"
      ]
     },
     "metadata": {},
     "output_type": "display_data"
    }
   ],
   "source": [
    "model = LogisticRegression('l2')\n",
    "# create the RFE model and select 3 attributes\n",
    "rfe = RFE(model, 10)\n",
    "rfe = rfe.fit(df2_feature, df2_target)\n",
    "\n",
    "result_lg = pd.DataFrame()\n",
    "result_lg['Features'] = df2_feature.columns\n",
    "result_lg ['Ranking'] = rfe.ranking_\n",
    "result_lg.sort_values('Ranking', inplace=True ,ascending = False)\n",
    "\n",
    "plt.figure(figsize=(10,10))\n",
    "sns.set_color_codes(\"pastel\")\n",
    "sns.barplot(x = 'Ranking',y = 'Features', data=result_lg, color=\"tomato\")\n",
    "plt.show()"
   ]
  },
  {
   "cell_type": "markdown",
   "metadata": {},
   "source": [
    "After RFE, there are 10 selected features (i.e., rank=1)"
   ]
  },
  {
   "cell_type": "markdown",
   "metadata": {},
   "source": [
    "#### Logistic Regression Prediction"
   ]
  },
  {
   "cell_type": "code",
   "execution_count": 45,
   "metadata": {},
   "outputs": [
    {
     "name": "stdout",
     "output_type": "stream",
     "text": [
      "Accuracy:  0.8805309734513275\n",
      "F1-Score: 0.18181818181818182\n",
      "Sensitivity: 0.10344827586206896\n"
     ]
    },
    {
     "name": "stderr",
     "output_type": "stream",
     "text": [
      "/opt/anaconda3/lib/python3.7/site-packages/sklearn/linear_model/logistic.py:432: FutureWarning:\n",
      "\n",
      "Default solver will be changed to 'lbfgs' in 0.22. Specify a solver to silence this warning.\n",
      "\n",
      "/opt/anaconda3/lib/python3.7/site-packages/sklearn/utils/validation.py:724: DataConversionWarning:\n",
      "\n",
      "A column-vector y was passed when a 1d array was expected. Please change the shape of y to (n_samples, ), for example using ravel().\n",
      "\n"
     ]
    },
    {
     "data": {
      "image/png": "[encoded data removed]",
      "text/plain": [
       "<Figure size 504x504 with 2 Axes>"
      ]
     },
     "metadata": {},
     "output_type": "display_data"
    }
   ],
   "source": [
    "# performance of Logistic Regression\n",
    "# Standardize data\n",
    "scaler = StandardScaler()\n",
    "df_test[num_val] = scaler.fit_transform(df_test[num_val])\n",
    "\n",
    "model.fit(df_test,df_y_test)\n",
    "prediction = model.predict(df_test)\n",
    "score = model.score(df_test, df_y_test)\n",
    "print('Accuracy: ', score)\n",
    "cm = metrics.confusion_matrix(df_y_test, prediction)\n",
    "f1_score = metrics.f1_score(df_y_test,prediction)\n",
    "print('F1-Score:', f1_score)\n",
    "recall = (cm[1][1])/(cm[1][0]+cm[1][1])\n",
    "print('Sensitivity:', recall)\n",
    "\n",
    "plt.figure(figsize=(7,7))\n",
    "sns.heatmap(cm, annot=True, fmt=\".2f\", linewidths=.5, square = True, cmap = 'Blues_r');\n",
    "plt.ylabel('Actual label');\n",
    "plt.xlabel('Predicted label');\n",
    "all_sample_title = 'Accuracy Score: {0}'.format(score)"
   ]
  },
  {
   "cell_type": "markdown",
   "metadata": {},
   "source": [
    "### 2.2. Logistic Regression - L1-Regularization"
   ]
  },
  {
   "cell_type": "markdown",
   "metadata": {},
   "source": [
    "#### 2.2.1. Feature Selection"
   ]
  },
  {
   "cell_type": "code",
   "execution_count": 46,
   "metadata": {},
   "outputs": [
    {
     "name": "stderr",
     "output_type": "stream",
     "text": [
      "/opt/anaconda3/lib/python3.7/site-packages/sklearn/linear_model/logistic.py:432: FutureWarning:\n",
      "\n",
      "Default solver will be changed to 'lbfgs' in 0.22. Specify a solver to silence this warning.\n",
      "\n",
      "/opt/anaconda3/lib/python3.7/site-packages/sklearn/linear_model/logistic.py:432: FutureWarning:\n",
      "\n",
      "Default solver will be changed to 'lbfgs' in 0.22. Specify a solver to silence this warning.\n",
      "\n",
      "/opt/anaconda3/lib/python3.7/site-packages/sklearn/linear_model/logistic.py:432: FutureWarning:\n",
      "\n",
      "Default solver will be changed to 'lbfgs' in 0.22. Specify a solver to silence this warning.\n",
      "\n",
      "/opt/anaconda3/lib/python3.7/site-packages/sklearn/linear_model/logistic.py:432: FutureWarning:\n",
      "\n",
      "Default solver will be changed to 'lbfgs' in 0.22. Specify a solver to silence this warning.\n",
      "\n",
      "/opt/anaconda3/lib/python3.7/site-packages/sklearn/linear_model/logistic.py:432: FutureWarning:\n",
      "\n",
      "Default solver will be changed to 'lbfgs' in 0.22. Specify a solver to silence this warning.\n",
      "\n",
      "/opt/anaconda3/lib/python3.7/site-packages/sklearn/linear_model/logistic.py:432: FutureWarning:\n",
      "\n",
      "Default solver will be changed to 'lbfgs' in 0.22. Specify a solver to silence this warning.\n",
      "\n",
      "/opt/anaconda3/lib/python3.7/site-packages/sklearn/linear_model/logistic.py:432: FutureWarning:\n",
      "\n",
      "Default solver will be changed to 'lbfgs' in 0.22. Specify a solver to silence this warning.\n",
      "\n",
      "/opt/anaconda3/lib/python3.7/site-packages/sklearn/linear_model/logistic.py:432: FutureWarning:\n",
      "\n",
      "Default solver will be changed to 'lbfgs' in 0.22. Specify a solver to silence this warning.\n",
      "\n",
      "/opt/anaconda3/lib/python3.7/site-packages/sklearn/linear_model/logistic.py:432: FutureWarning:\n",
      "\n",
      "Default solver will be changed to 'lbfgs' in 0.22. Specify a solver to silence this warning.\n",
      "\n",
      "/opt/anaconda3/lib/python3.7/site-packages/sklearn/linear_model/logistic.py:432: FutureWarning:\n",
      "\n",
      "Default solver will be changed to 'lbfgs' in 0.22. Specify a solver to silence this warning.\n",
      "\n",
      "/opt/anaconda3/lib/python3.7/site-packages/sklearn/linear_model/logistic.py:432: FutureWarning:\n",
      "\n",
      "Default solver will be changed to 'lbfgs' in 0.22. Specify a solver to silence this warning.\n",
      "\n",
      "/opt/anaconda3/lib/python3.7/site-packages/sklearn/linear_model/logistic.py:432: FutureWarning:\n",
      "\n",
      "Default solver will be changed to 'lbfgs' in 0.22. Specify a solver to silence this warning.\n",
      "\n",
      "/opt/anaconda3/lib/python3.7/site-packages/sklearn/linear_model/logistic.py:432: FutureWarning:\n",
      "\n",
      "Default solver will be changed to 'lbfgs' in 0.22. Specify a solver to silence this warning.\n",
      "\n",
      "/opt/anaconda3/lib/python3.7/site-packages/sklearn/linear_model/logistic.py:432: FutureWarning:\n",
      "\n",
      "Default solver will be changed to 'lbfgs' in 0.22. Specify a solver to silence this warning.\n",
      "\n"
     ]
    },
    {
     "data": {
      "image/png": "[encoded data removed]",
      "text/plain": [
       "<Figure size 792x792 with 1 Axes>"
      ]
     },
     "metadata": {},
     "output_type": "display_data"
    }
   ],
   "source": [
    "model = LogisticRegression('l1')\n",
    "# create the RFE model and select 3 attributes\n",
    "rfe = RFE(model, 10)\n",
    "rfe = rfe.fit(df2_feature, df2_target)\n",
    "\n",
    "result_lg = pd.DataFrame()\n",
    "result_lg['Features'] = df2_feature.columns\n",
    "result_lg ['Ranking'] = rfe.ranking_\n",
    "result_lg.sort_values('Ranking', inplace=True ,ascending = False)\n",
    "\n",
    "plt.figure(figsize=(11,11))\n",
    "sns.set_color_codes(\"pastel\")\n",
    "sns.barplot(x = 'Ranking',y = 'Features', data=result_lg, color=\"indianred\")\n",
    "plt.show()"
   ]
  },
  {
   "cell_type": "markdown",
   "metadata": {},
   "source": [
    "#### 2.2.2. Logistic Regression Prediction"
   ]
  },
  {
   "cell_type": "code",
   "execution_count": 47,
   "metadata": {},
   "outputs": [
    {
     "name": "stdout",
     "output_type": "stream",
     "text": [
      "Accuracy:  0.8805309734513275\n",
      "F1-Score: 0.12903225806451613\n",
      "Sensitivity: 0.06896551724137931\n"
     ]
    },
    {
     "name": "stderr",
     "output_type": "stream",
     "text": [
      "/opt/anaconda3/lib/python3.7/site-packages/sklearn/linear_model/logistic.py:432: FutureWarning:\n",
      "\n",
      "Default solver will be changed to 'lbfgs' in 0.22. Specify a solver to silence this warning.\n",
      "\n",
      "/opt/anaconda3/lib/python3.7/site-packages/sklearn/utils/validation.py:724: DataConversionWarning:\n",
      "\n",
      "A column-vector y was passed when a 1d array was expected. Please change the shape of y to (n_samples, ), for example using ravel().\n",
      "\n"
     ]
    },
    {
     "data": {
      "image/png": "[encoded data removed]",
      "text/plain": [
       "<Figure size 504x504 with 2 Axes>"
      ]
     },
     "metadata": {},
     "output_type": "display_data"
    }
   ],
   "source": [
    "# performance of Logistic Regression\n",
    "# Standardize data\n",
    "scaler = StandardScaler()\n",
    "df_test[num_val] = scaler.fit_transform(df_test[num_val])\n",
    "\n",
    "model.fit(df_test,df_y_test)\n",
    "prediction = model.predict(df_test)\n",
    "score = model.score(df_test, df_y_test)\n",
    "print('Accuracy: ', score)\n",
    "cm = metrics.confusion_matrix(df_y_test, prediction)\n",
    "f1_score = metrics.f1_score(df_y_test,prediction)\n",
    "print('F1-Score:', f1_score)\n",
    "recall = (cm[1][1])/(cm[1][0]+cm[1][1])\n",
    "print('Sensitivity:', recall)\n",
    "\n",
    "plt.figure(figsize=(7,7))\n",
    "sns.heatmap(cm, annot=True, fmt=\".2f\", linewidths=.5, square = True, cmap = 'Blues_r');\n",
    "plt.ylabel('Actual label');\n",
    "plt.xlabel('Predicted label');\n",
    "all_sample_title = 'Accuracy Score: {0}'.format(score)"
   ]
  },
  {
   "cell_type": "markdown",
   "metadata": {},
   "source": [
    "It is slightly better than the first model, but still has a very terrible F1-score"
   ]
  },
  {
   "cell_type": "markdown",
   "metadata": {},
   "source": [
    "### 2.3. Random Forest Classification"
   ]
  },
  {
   "cell_type": "markdown",
   "metadata": {},
   "source": [
    "#### 2.3.1 Feature Selection"
   ]
  },
  {
   "cell_type": "code",
   "execution_count": 48,
   "metadata": {},
   "outputs": [
    {
     "name": "stderr",
     "output_type": "stream",
     "text": [
      "/opt/anaconda3/lib/python3.7/site-packages/sklearn/ensemble/forest.py:245: FutureWarning:\n",
      "\n",
      "The default value of n_estimators will change from 10 in version 0.20 to 100 in 0.22.\n",
      "\n"
     ]
    },
    {
     "data": {
      "image/png": "[encoded data removed]",
      "text/plain": [
       "<Figure size 792x792 with 1 Axes>"
      ]
     },
     "metadata": {},
     "output_type": "display_data"
    }
   ],
   "source": [
    "rf2 = RandomForestClassifier()\n",
    "rf2.fit(df2_feature,df2_target)\n",
    "result_rf = pd.DataFrame()\n",
    "result_rf['Features'] = df2_feature.columns\n",
    "result_rf ['Importance'] = rf2.feature_importances_\n",
    "result_rf.sort_values('Importance',inplace=True, ascending = False)\n",
    "\n",
    "plt.figure(figsize=(11,11))\n",
    "sns.set_color_codes(\"pastel\")\n",
    "sns.barplot(x = 'Importance',y = 'Features', data=result_rf, color=\"salmon\")\n",
    "plt.show()"
   ]
  },
  {
   "cell_type": "markdown",
   "metadata": {},
   "source": [
    "The above graph shows the feature importance for cervical cancer. Top 10 features include Age, first sexual intercourse, hormonal contraceptives (years), Number of sexual partners, number of pregnancies, IUD (year/after first intercourse), Smokes (years), Smokes(year/age), IUD (years), Smokes (packs/year)"
   ]
  },
  {
   "cell_type": "markdown",
   "metadata": {},
   "source": [
    "#### 2.3.2. RandomForest Classification Prediction"
   ]
  },
  {
   "cell_type": "code",
   "execution_count": 51,
   "metadata": {},
   "outputs": [
    {
     "name": "stderr",
     "output_type": "stream",
     "text": [
      "/opt/anaconda3/lib/python3.7/site-packages/sklearn/ensemble/forest.py:245: FutureWarning:\n",
      "\n",
      "The default value of n_estimators will change from 10 in version 0.20 to 100 in 0.22.\n",
      "\n",
      "/opt/anaconda3/lib/python3.7/site-packages/ipykernel_launcher.py:7: DataConversionWarning:\n",
      "\n",
      "A column-vector y was passed when a 1d array was expected. Please change the shape of y to (n_samples,), for example using ravel().\n",
      "\n",
      "/opt/anaconda3/lib/python3.7/site-packages/ipykernel_launcher.py:9: DataConversionWarning:\n",
      "\n",
      "A column-vector y was passed when a 1d array was expected. Please change the shape of y to (n_samples,), for example using ravel().\n",
      "\n"
     ]
    },
    {
     "name": "stdout",
     "output_type": "stream",
     "text": [
      "Accuracy:  0.9734513274336283\n",
      "F1-Score: 0.888888888888889\n",
      "Sensitivity: 0.8275862068965517\n"
     ]
    },
    {
     "data": {
      "image/png": "[encoded data removed]",
      "text/plain": [
       "<Figure size 504x504 with 2 Axes>"
      ]
     },
     "metadata": {},
     "output_type": "display_data"
    }
   ],
   "source": [
    "# performance of Logistic Regression\n",
    "# Standardize data\n",
    "scaler = StandardScaler()\n",
    "df_test[num_val] = scaler.fit_transform(df_test[num_val])\n",
    "\n",
    "rf = RandomForestClassifier()\n",
    "rf.fit(df_train, df_y_train)\n",
    "\n",
    "rf.fit(df_test,df_y_test)\n",
    "prediction = rf.predict(df_test)\n",
    "score = rf.score(df_test, df_y_test)\n",
    "print('Accuracy: ', score)\n",
    "cm = metrics.confusion_matrix(df_y_test, prediction)\n",
    "f1_score = metrics.f1_score(df_y_test,prediction)\n",
    "print('F1-Score:', f1_score)\n",
    "recall = (cm[1][1])/(cm[1][0]+cm[1][1])\n",
    "print('Sensitivity:', recall)\n",
    "\n",
    "plt.figure(figsize=(7,7))\n",
    "sns.heatmap(cm, annot=True, fmt=\".2f\", linewidths=.5, square = True, cmap = 'Blues_r');\n",
    "plt.ylabel('Actual label');\n",
    "plt.xlabel('Predicted label');\n",
    "all_sample_title = 'Accuracy Score: {0}'.format(score)"
   ]
  },
  {
   "cell_type": "markdown",
   "metadata": {},
   "source": [
    "The RandomForest classification model has a accuracy of 0.973 and f1-score 0.889, and sensitivity 0.828, which is way much better than our first two models"
   ]
  },
  {
   "cell_type": "code",
   "execution_count": null,
   "metadata": {},
   "outputs": [],
   "source": []
  }
 ],
 "metadata": {
  "kernelspec": {
   "display_name": "Python 3",
   "language": "python",
   "name": "python3"
  },
  "language_info": {
   "codemirror_mode": {
    "name": "ipython",
    "version": 3
   },
   "file_extension": ".py",
   "mimetype": "text/x-python",
   "name": "python",
   "nbconvert_exporter": "python",
   "pygments_lexer": "ipython3",
   "version": "3.7.4"
  }
 },
 "nbformat": 4,
 "nbformat_minor": 2
}
